{
 "cells": [
  {
   "cell_type": "markdown",
   "metadata": {},
   "source": [
    "# NATURAL LANGUAGE PROCESSING \n",
    "\n",
    "- This is a project that contains the news of the year 2020 with heading , summary , keywords , hashtags , publish_time,\tbody_polarity , body_polarity_score , title_polarity , title_polarity_score , country_origin ,\tstate_origin , city_origin.\n",
    "\n",
    "- The main aim of the project is to analysis the whole dataset and find the most frequent and least frequent words in them \n",
    "\n",
    "- We have used Word2vec for converting the words into vectors and joing the columns [heading , summary , hashtags and keywords] to cleaned them and converted them to the list of lists. "
   ]
  },
  {
   "cell_type": "code",
   "execution_count": 1,
   "metadata": {},
   "outputs": [
    {
     "name": "stderr",
     "output_type": "stream",
     "text": [
      "[nltk_data] Downloading package stopwords to\n",
      "[nltk_data]     C:\\Users\\DELL\\AppData\\Roaming\\nltk_data...\n",
      "[nltk_data]   Package stopwords is already up-to-date!\n"
     ]
    },
    {
     "data": {
      "text/plain": [
       "True"
      ]
     },
     "execution_count": 1,
     "metadata": {},
     "output_type": "execute_result"
    }
   ],
   "source": [
    "import pandas as pd\n",
    "from gensim.models import Word2Vec \n",
    "import numpy as np\n",
    "import warnings\n",
    "warnings.filterwarnings(\"ignore\")\n",
    "warnings.warn(\"deprecated\", DeprecationWarning)\n",
    "import nltk\n",
    "import re\n",
    "nltk.download('stopwords')\n"
   ]
  },
  {
   "cell_type": "code",
   "execution_count": 2,
   "metadata": {},
   "outputs": [
    {
     "data": {
      "text/html": [
       "<div>\n",
       "<style scoped>\n",
       "    .dataframe tbody tr th:only-of-type {\n",
       "        vertical-align: middle;\n",
       "    }\n",
       "\n",
       "    .dataframe tbody tr th {\n",
       "        vertical-align: top;\n",
       "    }\n",
       "\n",
       "    .dataframe thead th {\n",
       "        text-align: right;\n",
       "    }\n",
       "</style>\n",
       "<table border=\"1\" class=\"dataframe\">\n",
       "  <thead>\n",
       "    <tr style=\"text-align: right;\">\n",
       "      <th></th>\n",
       "      <th>summary</th>\n",
       "      <th>heading</th>\n",
       "      <th>words_count</th>\n",
       "      <th>hashtags</th>\n",
       "      <th>keywords</th>\n",
       "      <th>publish_time</th>\n",
       "      <th>body_polarity</th>\n",
       "      <th>body_polarity_score</th>\n",
       "      <th>title_polarity</th>\n",
       "      <th>title_polarity_score</th>\n",
       "      <th>country_origin</th>\n",
       "      <th>state_origin</th>\n",
       "      <th>city_origin</th>\n",
       "    </tr>\n",
       "  </thead>\n",
       "  <tbody>\n",
       "    <tr>\n",
       "      <th>0</th>\n",
       "      <td>However, this restriction will not apply to in...</td>\n",
       "      <td>Ban on international passenger flights extende...</td>\n",
       "      <td>223</td>\n",
       "      <td>[#DGCA, #DirectorateGeneralOfCivilAviation, #C...</td>\n",
       "      <td>[flights, passenger, international, passenger ...</td>\n",
       "      <td>2020-03-26 14:30:18</td>\n",
       "      <td>negative</td>\n",
       "      <td>0.988144</td>\n",
       "      <td>neutral</td>\n",
       "      <td>0.890838</td>\n",
       "      <td>IN</td>\n",
       "      <td>None</td>\n",
       "      <td>None</td>\n",
       "    </tr>\n",
       "    <tr>\n",
       "      <th>1</th>\n",
       "      <td>But leg-spinner Yuzvendra Chahal is utilising ...</td>\n",
       "      <td>Yuzvendra Chahal's</td>\n",
       "      <td>292</td>\n",
       "      <td>[#India, #Coronavirus, #OneDayInternational, #...</td>\n",
       "      <td>[Yuzvendra Chahal, Chahal, Yuzvendra, TikTok v...</td>\n",
       "      <td>2020-03-26 14:29:28</td>\n",
       "      <td>positive</td>\n",
       "      <td>0.885754</td>\n",
       "      <td>neutral</td>\n",
       "      <td>0.407149</td>\n",
       "      <td>IN</td>\n",
       "      <td>None</td>\n",
       "      <td>None</td>\n",
       "    </tr>\n",
       "    <tr>\n",
       "      <th>2</th>\n",
       "      <td>So the math was simple and the step logical: L...</td>\n",
       "      <td>Opinion: COVID-19 Lockdown Is Needed But May N...</td>\n",
       "      <td>812</td>\n",
       "      <td>[#Lockdown, #ListsOfTransformersCharacters, #I...</td>\n",
       "      <td>[Lockdown, COVID-19, Needed, Opinion, Problem,...</td>\n",
       "      <td>2020-03-26 14:29:28</td>\n",
       "      <td>negative</td>\n",
       "      <td>0.606026</td>\n",
       "      <td>negative</td>\n",
       "      <td>0.863666</td>\n",
       "      <td>IN</td>\n",
       "      <td>None</td>\n",
       "      <td>None</td>\n",
       "    </tr>\n",
       "    <tr>\n",
       "      <th>3</th>\n",
       "      <td>Chief Ministers of three states - Bengal, Biha...</td>\n",
       "      <td>Amid Lockdown, Chief Ministers Seek Help For M...</td>\n",
       "      <td>401</td>\n",
       "      <td>[#ChiefMinister, #Bengal, #Odisha, #Bihar, #Li...</td>\n",
       "      <td>[Chief, Migrant, Ministers, Labourers, Lockdow...</td>\n",
       "      <td>2020-03-26 14:29:28</td>\n",
       "      <td>negative</td>\n",
       "      <td>0.842977</td>\n",
       "      <td>neutral</td>\n",
       "      <td>0.734383</td>\n",
       "      <td>IN</td>\n",
       "      <td>None</td>\n",
       "      <td>None</td>\n",
       "    </tr>\n",
       "    <tr>\n",
       "      <th>4</th>\n",
       "      <td>Finance Minister, Nirmala Sitharaman, today an...</td>\n",
       "      <td>Coronavirus Pandemic: Auto Industry Welcomes F...</td>\n",
       "      <td>604</td>\n",
       "      <td>[#Crore, #Coronavirus, #FinanceMinister, #Lakh...</td>\n",
       "      <td>[Auto, Industry, Announcement, Crisis, Situati...</td>\n",
       "      <td>2020-03-26 14:29:28</td>\n",
       "      <td>negative</td>\n",
       "      <td>0.849670</td>\n",
       "      <td>negative</td>\n",
       "      <td>0.470863</td>\n",
       "      <td>IN</td>\n",
       "      <td>None</td>\n",
       "      <td>None</td>\n",
       "    </tr>\n",
       "  </tbody>\n",
       "</table>\n",
       "</div>"
      ],
      "text/plain": [
       "                                             summary  \\\n",
       "0  However, this restriction will not apply to in...   \n",
       "1  But leg-spinner Yuzvendra Chahal is utilising ...   \n",
       "2  So the math was simple and the step logical: L...   \n",
       "3  Chief Ministers of three states - Bengal, Biha...   \n",
       "4  Finance Minister, Nirmala Sitharaman, today an...   \n",
       "\n",
       "                                             heading  words_count  \\\n",
       "0  Ban on international passenger flights extende...          223   \n",
       "1                                 Yuzvendra Chahal's          292   \n",
       "2  Opinion: COVID-19 Lockdown Is Needed But May N...          812   \n",
       "3  Amid Lockdown, Chief Ministers Seek Help For M...          401   \n",
       "4  Coronavirus Pandemic: Auto Industry Welcomes F...          604   \n",
       "\n",
       "                                            hashtags  \\\n",
       "0  [#DGCA, #DirectorateGeneralOfCivilAviation, #C...   \n",
       "1  [#India, #Coronavirus, #OneDayInternational, #...   \n",
       "2  [#Lockdown, #ListsOfTransformersCharacters, #I...   \n",
       "3  [#ChiefMinister, #Bengal, #Odisha, #Bihar, #Li...   \n",
       "4  [#Crore, #Coronavirus, #FinanceMinister, #Lakh...   \n",
       "\n",
       "                                            keywords        publish_time  \\\n",
       "0  [flights, passenger, international, passenger ... 2020-03-26 14:30:18   \n",
       "1  [Yuzvendra Chahal, Chahal, Yuzvendra, TikTok v... 2020-03-26 14:29:28   \n",
       "2  [Lockdown, COVID-19, Needed, Opinion, Problem,... 2020-03-26 14:29:28   \n",
       "3  [Chief, Migrant, Ministers, Labourers, Lockdow... 2020-03-26 14:29:28   \n",
       "4  [Auto, Industry, Announcement, Crisis, Situati... 2020-03-26 14:29:28   \n",
       "\n",
       "  body_polarity  body_polarity_score title_polarity  title_polarity_score  \\\n",
       "0      negative             0.988144        neutral              0.890838   \n",
       "1      positive             0.885754        neutral              0.407149   \n",
       "2      negative             0.606026       negative              0.863666   \n",
       "3      negative             0.842977        neutral              0.734383   \n",
       "4      negative             0.849670       negative              0.470863   \n",
       "\n",
       "  country_origin state_origin city_origin  \n",
       "0             IN         None        None  \n",
       "1             IN         None        None  \n",
       "2             IN         None        None  \n",
       "3             IN         None        None  \n",
       "4             IN         None        None  "
      ]
     },
     "execution_count": 2,
     "metadata": {},
     "output_type": "execute_result"
    }
   ],
   "source": [
    "df = pd.read_json('aylien_cleaned_1_Aug_44.json')  ## uploading the json file\n",
    "df.head()"
   ]
  },
  {
   "cell_type": "code",
   "execution_count": 3,
   "metadata": {},
   "outputs": [],
   "source": [
    "df2 = df.copy()"
   ]
  },
  {
   "cell_type": "code",
   "execution_count": 4,
   "metadata": {},
   "outputs": [],
   "source": [
    "df = df[:537]"
   ]
  },
  {
   "cell_type": "code",
   "execution_count": 5,
   "metadata": {},
   "outputs": [],
   "source": [
    "df1 = df.hashtags.copy()"
   ]
  },
  {
   "cell_type": "code",
   "execution_count": 6,
   "metadata": {},
   "outputs": [
    {
     "data": {
      "text/plain": [
       "(537,)"
      ]
     },
     "execution_count": 6,
     "metadata": {},
     "output_type": "execute_result"
    }
   ],
   "source": [
    "df1.shape"
   ]
  },
  {
   "cell_type": "code",
   "execution_count": 7,
   "metadata": {},
   "outputs": [
    {
     "data": {
      "text/plain": [
       "summary                   0\n",
       "heading                   0\n",
       "words_count               0\n",
       "hashtags                  0\n",
       "keywords                  0\n",
       "publish_time              0\n",
       "body_polarity             1\n",
       "body_polarity_score       1\n",
       "title_polarity            0\n",
       "title_polarity_score      0\n",
       "country_origin            0\n",
       "state_origin            380\n",
       "city_origin             380\n",
       "dtype: int64"
      ]
     },
     "execution_count": 7,
     "metadata": {},
     "output_type": "execute_result"
    }
   ],
   "source": [
    "df.isnull().sum()    ## checking null values"
   ]
  },
  {
   "cell_type": "code",
   "execution_count": 8,
   "metadata": {},
   "outputs": [
    {
     "data": {
      "text/plain": [
       "['#India',\n",
       " '#Coronavirus',\n",
       " '#OneDayInternational',\n",
       " '#IndianPremierLeague',\n",
       " '#Pandemic',\n",
       " '#GovernmentOfIndia',\n",
       " '#Lockdown',\n",
       " '#LegSpin',\n",
       " '#Twitter',\n",
       " '#DanceMove',\n",
       " '#SocialMedia',\n",
       " '#Virus',\n",
       " '#Twenty20International',\n",
       " '#ODI',\n",
       " '#NewZealand',\n",
       " '#Whitewash',\n",
       " '#ViratKohli',\n",
       " '#RoyalChallengersBangalore',\n",
       " '#Cricket',\n",
       " '#IPL',\n",
       " '#BCCI',\n",
       " '#BoardOfControlForCricketInIndia']"
      ]
     },
     "execution_count": 8,
     "metadata": {},
     "output_type": "execute_result"
    }
   ],
   "source": [
    "df1[1]"
   ]
  },
  {
   "cell_type": "code",
   "execution_count": 9,
   "metadata": {},
   "outputs": [],
   "source": [
    "for i in range(len(df1)):                                 #### Unlisting the listed hashtags\n",
    "    df1[i] = ','.join(map(str, df1[i]))         "
   ]
  },
  {
   "cell_type": "code",
   "execution_count": 10,
   "metadata": {},
   "outputs": [
    {
     "data": {
      "text/plain": [
       "0    #DGCA,#DirectorateGeneralOfCivilAviation,#Coro...\n",
       "1    #India,#Coronavirus,#OneDayInternational,#Indi...\n",
       "2    #Lockdown,#ListsOfTransformersCharacters,#Indi...\n",
       "3    #ChiefMinister,#Bengal,#Odisha,#Bihar,#ListsOf...\n",
       "4    #Crore,#Coronavirus,#FinanceMinister,#Lakh,#FM...\n",
       "Name: hashtags, dtype: object"
      ]
     },
     "execution_count": 10,
     "metadata": {},
     "output_type": "execute_result"
    }
   ],
   "source": [
    "df1.head()"
   ]
  },
  {
   "cell_type": "code",
   "execution_count": 11,
   "metadata": {},
   "outputs": [],
   "source": [
    "df3 = df1.to_frame()"
   ]
  },
  {
   "cell_type": "code",
   "execution_count": 12,
   "metadata": {},
   "outputs": [],
   "source": [
    "df3.columns = ['Unlisted_hashtags']"
   ]
  },
  {
   "cell_type": "code",
   "execution_count": 13,
   "metadata": {},
   "outputs": [
    {
     "data": {
      "text/html": [
       "<div>\n",
       "<style scoped>\n",
       "    .dataframe tbody tr th:only-of-type {\n",
       "        vertical-align: middle;\n",
       "    }\n",
       "\n",
       "    .dataframe tbody tr th {\n",
       "        vertical-align: top;\n",
       "    }\n",
       "\n",
       "    .dataframe thead th {\n",
       "        text-align: right;\n",
       "    }\n",
       "</style>\n",
       "<table border=\"1\" class=\"dataframe\">\n",
       "  <thead>\n",
       "    <tr style=\"text-align: right;\">\n",
       "      <th></th>\n",
       "      <th>Unlisted_hashtags</th>\n",
       "    </tr>\n",
       "  </thead>\n",
       "  <tbody>\n",
       "    <tr>\n",
       "      <th>0</th>\n",
       "      <td>#DGCA,#DirectorateGeneralOfCivilAviation,#Coro...</td>\n",
       "    </tr>\n",
       "    <tr>\n",
       "      <th>1</th>\n",
       "      <td>#India,#Coronavirus,#OneDayInternational,#Indi...</td>\n",
       "    </tr>\n",
       "    <tr>\n",
       "      <th>2</th>\n",
       "      <td>#Lockdown,#ListsOfTransformersCharacters,#Indi...</td>\n",
       "    </tr>\n",
       "    <tr>\n",
       "      <th>3</th>\n",
       "      <td>#ChiefMinister,#Bengal,#Odisha,#Bihar,#ListsOf...</td>\n",
       "    </tr>\n",
       "    <tr>\n",
       "      <th>4</th>\n",
       "      <td>#Crore,#Coronavirus,#FinanceMinister,#Lakh,#FM...</td>\n",
       "    </tr>\n",
       "  </tbody>\n",
       "</table>\n",
       "</div>"
      ],
      "text/plain": [
       "                                   Unlisted_hashtags\n",
       "0  #DGCA,#DirectorateGeneralOfCivilAviation,#Coro...\n",
       "1  #India,#Coronavirus,#OneDayInternational,#Indi...\n",
       "2  #Lockdown,#ListsOfTransformersCharacters,#Indi...\n",
       "3  #ChiefMinister,#Bengal,#Odisha,#Bihar,#ListsOf...\n",
       "4  #Crore,#Coronavirus,#FinanceMinister,#Lakh,#FM..."
      ]
     },
     "execution_count": 13,
     "metadata": {},
     "output_type": "execute_result"
    }
   ],
   "source": [
    "df3.head()"
   ]
  },
  {
   "cell_type": "code",
   "execution_count": 14,
   "metadata": {},
   "outputs": [],
   "source": [
    "df4 = pd.concat([df3,df2],axis=1)    #### concatenating the unlisted hashtags"
   ]
  },
  {
   "cell_type": "code",
   "execution_count": 15,
   "metadata": {},
   "outputs": [
    {
     "data": {
      "text/html": [
       "<div>\n",
       "<style scoped>\n",
       "    .dataframe tbody tr th:only-of-type {\n",
       "        vertical-align: middle;\n",
       "    }\n",
       "\n",
       "    .dataframe tbody tr th {\n",
       "        vertical-align: top;\n",
       "    }\n",
       "\n",
       "    .dataframe thead th {\n",
       "        text-align: right;\n",
       "    }\n",
       "</style>\n",
       "<table border=\"1\" class=\"dataframe\">\n",
       "  <thead>\n",
       "    <tr style=\"text-align: right;\">\n",
       "      <th></th>\n",
       "      <th>Unlisted_hashtags</th>\n",
       "      <th>summary</th>\n",
       "      <th>heading</th>\n",
       "      <th>words_count</th>\n",
       "      <th>hashtags</th>\n",
       "      <th>keywords</th>\n",
       "      <th>publish_time</th>\n",
       "      <th>body_polarity</th>\n",
       "      <th>body_polarity_score</th>\n",
       "      <th>title_polarity</th>\n",
       "      <th>title_polarity_score</th>\n",
       "      <th>country_origin</th>\n",
       "      <th>state_origin</th>\n",
       "      <th>city_origin</th>\n",
       "    </tr>\n",
       "  </thead>\n",
       "  <tbody>\n",
       "    <tr>\n",
       "      <th>0</th>\n",
       "      <td>#DGCA,#DirectorateGeneralOfCivilAviation,#Coro...</td>\n",
       "      <td>However, this restriction will not apply to in...</td>\n",
       "      <td>Ban on international passenger flights extende...</td>\n",
       "      <td>223</td>\n",
       "      <td>[#DGCA, #DirectorateGeneralOfCivilAviation, #C...</td>\n",
       "      <td>[flights, passenger, international, passenger ...</td>\n",
       "      <td>2020-03-26 14:30:18</td>\n",
       "      <td>negative</td>\n",
       "      <td>0.988144</td>\n",
       "      <td>neutral</td>\n",
       "      <td>0.890838</td>\n",
       "      <td>IN</td>\n",
       "      <td>None</td>\n",
       "      <td>None</td>\n",
       "    </tr>\n",
       "    <tr>\n",
       "      <th>1</th>\n",
       "      <td>#India,#Coronavirus,#OneDayInternational,#Indi...</td>\n",
       "      <td>But leg-spinner Yuzvendra Chahal is utilising ...</td>\n",
       "      <td>Yuzvendra Chahal's</td>\n",
       "      <td>292</td>\n",
       "      <td>[#India, #Coronavirus, #OneDayInternational, #...</td>\n",
       "      <td>[Yuzvendra Chahal, Chahal, Yuzvendra, TikTok v...</td>\n",
       "      <td>2020-03-26 14:29:28</td>\n",
       "      <td>positive</td>\n",
       "      <td>0.885754</td>\n",
       "      <td>neutral</td>\n",
       "      <td>0.407149</td>\n",
       "      <td>IN</td>\n",
       "      <td>None</td>\n",
       "      <td>None</td>\n",
       "    </tr>\n",
       "    <tr>\n",
       "      <th>2</th>\n",
       "      <td>#Lockdown,#ListsOfTransformersCharacters,#Indi...</td>\n",
       "      <td>So the math was simple and the step logical: L...</td>\n",
       "      <td>Opinion: COVID-19 Lockdown Is Needed But May N...</td>\n",
       "      <td>812</td>\n",
       "      <td>[#Lockdown, #ListsOfTransformersCharacters, #I...</td>\n",
       "      <td>[Lockdown, COVID-19, Needed, Opinion, Problem,...</td>\n",
       "      <td>2020-03-26 14:29:28</td>\n",
       "      <td>negative</td>\n",
       "      <td>0.606026</td>\n",
       "      <td>negative</td>\n",
       "      <td>0.863666</td>\n",
       "      <td>IN</td>\n",
       "      <td>None</td>\n",
       "      <td>None</td>\n",
       "    </tr>\n",
       "    <tr>\n",
       "      <th>3</th>\n",
       "      <td>#ChiefMinister,#Bengal,#Odisha,#Bihar,#ListsOf...</td>\n",
       "      <td>Chief Ministers of three states - Bengal, Biha...</td>\n",
       "      <td>Amid Lockdown, Chief Ministers Seek Help For M...</td>\n",
       "      <td>401</td>\n",
       "      <td>[#ChiefMinister, #Bengal, #Odisha, #Bihar, #Li...</td>\n",
       "      <td>[Chief, Migrant, Ministers, Labourers, Lockdow...</td>\n",
       "      <td>2020-03-26 14:29:28</td>\n",
       "      <td>negative</td>\n",
       "      <td>0.842977</td>\n",
       "      <td>neutral</td>\n",
       "      <td>0.734383</td>\n",
       "      <td>IN</td>\n",
       "      <td>None</td>\n",
       "      <td>None</td>\n",
       "    </tr>\n",
       "    <tr>\n",
       "      <th>4</th>\n",
       "      <td>#Crore,#Coronavirus,#FinanceMinister,#Lakh,#FM...</td>\n",
       "      <td>Finance Minister, Nirmala Sitharaman, today an...</td>\n",
       "      <td>Coronavirus Pandemic: Auto Industry Welcomes F...</td>\n",
       "      <td>604</td>\n",
       "      <td>[#Crore, #Coronavirus, #FinanceMinister, #Lakh...</td>\n",
       "      <td>[Auto, Industry, Announcement, Crisis, Situati...</td>\n",
       "      <td>2020-03-26 14:29:28</td>\n",
       "      <td>negative</td>\n",
       "      <td>0.849670</td>\n",
       "      <td>negative</td>\n",
       "      <td>0.470863</td>\n",
       "      <td>IN</td>\n",
       "      <td>None</td>\n",
       "      <td>None</td>\n",
       "    </tr>\n",
       "  </tbody>\n",
       "</table>\n",
       "</div>"
      ],
      "text/plain": [
       "                                   Unlisted_hashtags  \\\n",
       "0  #DGCA,#DirectorateGeneralOfCivilAviation,#Coro...   \n",
       "1  #India,#Coronavirus,#OneDayInternational,#Indi...   \n",
       "2  #Lockdown,#ListsOfTransformersCharacters,#Indi...   \n",
       "3  #ChiefMinister,#Bengal,#Odisha,#Bihar,#ListsOf...   \n",
       "4  #Crore,#Coronavirus,#FinanceMinister,#Lakh,#FM...   \n",
       "\n",
       "                                             summary  \\\n",
       "0  However, this restriction will not apply to in...   \n",
       "1  But leg-spinner Yuzvendra Chahal is utilising ...   \n",
       "2  So the math was simple and the step logical: L...   \n",
       "3  Chief Ministers of three states - Bengal, Biha...   \n",
       "4  Finance Minister, Nirmala Sitharaman, today an...   \n",
       "\n",
       "                                             heading  words_count  \\\n",
       "0  Ban on international passenger flights extende...          223   \n",
       "1                                 Yuzvendra Chahal's          292   \n",
       "2  Opinion: COVID-19 Lockdown Is Needed But May N...          812   \n",
       "3  Amid Lockdown, Chief Ministers Seek Help For M...          401   \n",
       "4  Coronavirus Pandemic: Auto Industry Welcomes F...          604   \n",
       "\n",
       "                                            hashtags  \\\n",
       "0  [#DGCA, #DirectorateGeneralOfCivilAviation, #C...   \n",
       "1  [#India, #Coronavirus, #OneDayInternational, #...   \n",
       "2  [#Lockdown, #ListsOfTransformersCharacters, #I...   \n",
       "3  [#ChiefMinister, #Bengal, #Odisha, #Bihar, #Li...   \n",
       "4  [#Crore, #Coronavirus, #FinanceMinister, #Lakh...   \n",
       "\n",
       "                                            keywords        publish_time  \\\n",
       "0  [flights, passenger, international, passenger ... 2020-03-26 14:30:18   \n",
       "1  [Yuzvendra Chahal, Chahal, Yuzvendra, TikTok v... 2020-03-26 14:29:28   \n",
       "2  [Lockdown, COVID-19, Needed, Opinion, Problem,... 2020-03-26 14:29:28   \n",
       "3  [Chief, Migrant, Ministers, Labourers, Lockdow... 2020-03-26 14:29:28   \n",
       "4  [Auto, Industry, Announcement, Crisis, Situati... 2020-03-26 14:29:28   \n",
       "\n",
       "  body_polarity  body_polarity_score title_polarity  title_polarity_score  \\\n",
       "0      negative             0.988144        neutral              0.890838   \n",
       "1      positive             0.885754        neutral              0.407149   \n",
       "2      negative             0.606026       negative              0.863666   \n",
       "3      negative             0.842977        neutral              0.734383   \n",
       "4      negative             0.849670       negative              0.470863   \n",
       "\n",
       "  country_origin state_origin city_origin  \n",
       "0             IN         None        None  \n",
       "1             IN         None        None  \n",
       "2             IN         None        None  \n",
       "3             IN         None        None  \n",
       "4             IN         None        None  "
      ]
     },
     "execution_count": 15,
     "metadata": {},
     "output_type": "execute_result"
    }
   ],
   "source": [
    "df4.head()"
   ]
  },
  {
   "cell_type": "code",
   "execution_count": 16,
   "metadata": {},
   "outputs": [],
   "source": [
    "df2 = df2.keywords.copy()"
   ]
  },
  {
   "cell_type": "code",
   "execution_count": 17,
   "metadata": {},
   "outputs": [
    {
     "data": {
      "text/plain": [
       "0    [flights, passenger, international, passenger ...\n",
       "1    [Yuzvendra Chahal, Chahal, Yuzvendra, TikTok v...\n",
       "2    [Lockdown, COVID-19, Needed, Opinion, Problem,...\n",
       "3    [Chief, Migrant, Ministers, Labourers, Lockdow...\n",
       "4    [Auto, Industry, Announcement, Crisis, Situati...\n",
       "Name: keywords, dtype: object"
      ]
     },
     "execution_count": 17,
     "metadata": {},
     "output_type": "execute_result"
    }
   ],
   "source": [
    "df2.head()"
   ]
  },
  {
   "cell_type": "code",
   "execution_count": 18,
   "metadata": {},
   "outputs": [],
   "source": [
    "for i in range(len(df1)):                              ## unlistng the listed Keywords\n",
    "    df2[i] = ','.join(map(str, df2[i]))"
   ]
  },
  {
   "cell_type": "code",
   "execution_count": 19,
   "metadata": {},
   "outputs": [
    {
     "data": {
      "text/plain": [
       "0    flights,passenger,international,passenger flig...\n",
       "1    Yuzvendra Chahal,Chahal,Yuzvendra,TikTok video...\n",
       "2    Lockdown,COVID-19,Needed,Opinion,Problem,lockd...\n",
       "3    Chief,Migrant,Ministers,Labourers,Lockdown,Chi...\n",
       "4    Auto,Industry,Announcement,Crisis,Situation,Ex...\n",
       "Name: keywords, dtype: object"
      ]
     },
     "execution_count": 19,
     "metadata": {},
     "output_type": "execute_result"
    }
   ],
   "source": [
    "df2.head()"
   ]
  },
  {
   "cell_type": "code",
   "execution_count": 20,
   "metadata": {},
   "outputs": [],
   "source": [
    "df3 = df2.to_frame()"
   ]
  },
  {
   "cell_type": "code",
   "execution_count": 21,
   "metadata": {},
   "outputs": [
    {
     "data": {
      "text/html": [
       "<div>\n",
       "<style scoped>\n",
       "    .dataframe tbody tr th:only-of-type {\n",
       "        vertical-align: middle;\n",
       "    }\n",
       "\n",
       "    .dataframe tbody tr th {\n",
       "        vertical-align: top;\n",
       "    }\n",
       "\n",
       "    .dataframe thead th {\n",
       "        text-align: right;\n",
       "    }\n",
       "</style>\n",
       "<table border=\"1\" class=\"dataframe\">\n",
       "  <thead>\n",
       "    <tr style=\"text-align: right;\">\n",
       "      <th></th>\n",
       "      <th>keywords</th>\n",
       "    </tr>\n",
       "  </thead>\n",
       "  <tbody>\n",
       "    <tr>\n",
       "      <th>0</th>\n",
       "      <td>flights,passenger,international,passenger flig...</td>\n",
       "    </tr>\n",
       "    <tr>\n",
       "      <th>1</th>\n",
       "      <td>Yuzvendra Chahal,Chahal,Yuzvendra,TikTok video...</td>\n",
       "    </tr>\n",
       "    <tr>\n",
       "      <th>2</th>\n",
       "      <td>Lockdown,COVID-19,Needed,Opinion,Problem,lockd...</td>\n",
       "    </tr>\n",
       "    <tr>\n",
       "      <th>3</th>\n",
       "      <td>Chief,Migrant,Ministers,Labourers,Lockdown,Chi...</td>\n",
       "    </tr>\n",
       "    <tr>\n",
       "      <th>4</th>\n",
       "      <td>Auto,Industry,Announcement,Crisis,Situation,Ex...</td>\n",
       "    </tr>\n",
       "  </tbody>\n",
       "</table>\n",
       "</div>"
      ],
      "text/plain": [
       "                                            keywords\n",
       "0  flights,passenger,international,passenger flig...\n",
       "1  Yuzvendra Chahal,Chahal,Yuzvendra,TikTok video...\n",
       "2  Lockdown,COVID-19,Needed,Opinion,Problem,lockd...\n",
       "3  Chief,Migrant,Ministers,Labourers,Lockdown,Chi...\n",
       "4  Auto,Industry,Announcement,Crisis,Situation,Ex..."
      ]
     },
     "execution_count": 21,
     "metadata": {},
     "output_type": "execute_result"
    }
   ],
   "source": [
    "df3.head()"
   ]
  },
  {
   "cell_type": "code",
   "execution_count": 22,
   "metadata": {},
   "outputs": [],
   "source": [
    "df3.columns = ['Unlist_keywords']"
   ]
  },
  {
   "cell_type": "code",
   "execution_count": 23,
   "metadata": {},
   "outputs": [],
   "source": [
    "df4 = pd.concat([df3,df4],axis=1)            ### Concatenating the Unlisted Keywords"
   ]
  },
  {
   "cell_type": "code",
   "execution_count": 24,
   "metadata": {},
   "outputs": [
    {
     "data": {
      "text/html": [
       "<div>\n",
       "<style scoped>\n",
       "    .dataframe tbody tr th:only-of-type {\n",
       "        vertical-align: middle;\n",
       "    }\n",
       "\n",
       "    .dataframe tbody tr th {\n",
       "        vertical-align: top;\n",
       "    }\n",
       "\n",
       "    .dataframe thead th {\n",
       "        text-align: right;\n",
       "    }\n",
       "</style>\n",
       "<table border=\"1\" class=\"dataframe\">\n",
       "  <thead>\n",
       "    <tr style=\"text-align: right;\">\n",
       "      <th></th>\n",
       "      <th>Unlist_keywords</th>\n",
       "      <th>Unlisted_hashtags</th>\n",
       "      <th>summary</th>\n",
       "      <th>heading</th>\n",
       "      <th>words_count</th>\n",
       "      <th>hashtags</th>\n",
       "      <th>keywords</th>\n",
       "      <th>publish_time</th>\n",
       "      <th>body_polarity</th>\n",
       "      <th>body_polarity_score</th>\n",
       "      <th>title_polarity</th>\n",
       "      <th>title_polarity_score</th>\n",
       "      <th>country_origin</th>\n",
       "      <th>state_origin</th>\n",
       "      <th>city_origin</th>\n",
       "    </tr>\n",
       "  </thead>\n",
       "  <tbody>\n",
       "    <tr>\n",
       "      <th>0</th>\n",
       "      <td>flights,passenger,international,passenger flig...</td>\n",
       "      <td>#DGCA,#DirectorateGeneralOfCivilAviation,#Coro...</td>\n",
       "      <td>However, this restriction will not apply to in...</td>\n",
       "      <td>Ban on international passenger flights extende...</td>\n",
       "      <td>223</td>\n",
       "      <td>[#DGCA, #DirectorateGeneralOfCivilAviation, #C...</td>\n",
       "      <td>[flights, passenger, international, passenger ...</td>\n",
       "      <td>2020-03-26 14:30:18</td>\n",
       "      <td>negative</td>\n",
       "      <td>0.988144</td>\n",
       "      <td>neutral</td>\n",
       "      <td>0.890838</td>\n",
       "      <td>IN</td>\n",
       "      <td>None</td>\n",
       "      <td>None</td>\n",
       "    </tr>\n",
       "    <tr>\n",
       "      <th>1</th>\n",
       "      <td>Yuzvendra Chahal,Chahal,Yuzvendra,TikTok video...</td>\n",
       "      <td>#India,#Coronavirus,#OneDayInternational,#Indi...</td>\n",
       "      <td>But leg-spinner Yuzvendra Chahal is utilising ...</td>\n",
       "      <td>Yuzvendra Chahal's</td>\n",
       "      <td>292</td>\n",
       "      <td>[#India, #Coronavirus, #OneDayInternational, #...</td>\n",
       "      <td>[Yuzvendra Chahal, Chahal, Yuzvendra, TikTok v...</td>\n",
       "      <td>2020-03-26 14:29:28</td>\n",
       "      <td>positive</td>\n",
       "      <td>0.885754</td>\n",
       "      <td>neutral</td>\n",
       "      <td>0.407149</td>\n",
       "      <td>IN</td>\n",
       "      <td>None</td>\n",
       "      <td>None</td>\n",
       "    </tr>\n",
       "    <tr>\n",
       "      <th>2</th>\n",
       "      <td>Lockdown,COVID-19,Needed,Opinion,Problem,lockd...</td>\n",
       "      <td>#Lockdown,#ListsOfTransformersCharacters,#Indi...</td>\n",
       "      <td>So the math was simple and the step logical: L...</td>\n",
       "      <td>Opinion: COVID-19 Lockdown Is Needed But May N...</td>\n",
       "      <td>812</td>\n",
       "      <td>[#Lockdown, #ListsOfTransformersCharacters, #I...</td>\n",
       "      <td>[Lockdown, COVID-19, Needed, Opinion, Problem,...</td>\n",
       "      <td>2020-03-26 14:29:28</td>\n",
       "      <td>negative</td>\n",
       "      <td>0.606026</td>\n",
       "      <td>negative</td>\n",
       "      <td>0.863666</td>\n",
       "      <td>IN</td>\n",
       "      <td>None</td>\n",
       "      <td>None</td>\n",
       "    </tr>\n",
       "    <tr>\n",
       "      <th>3</th>\n",
       "      <td>Chief,Migrant,Ministers,Labourers,Lockdown,Chi...</td>\n",
       "      <td>#ChiefMinister,#Bengal,#Odisha,#Bihar,#ListsOf...</td>\n",
       "      <td>Chief Ministers of three states - Bengal, Biha...</td>\n",
       "      <td>Amid Lockdown, Chief Ministers Seek Help For M...</td>\n",
       "      <td>401</td>\n",
       "      <td>[#ChiefMinister, #Bengal, #Odisha, #Bihar, #Li...</td>\n",
       "      <td>[Chief, Migrant, Ministers, Labourers, Lockdow...</td>\n",
       "      <td>2020-03-26 14:29:28</td>\n",
       "      <td>negative</td>\n",
       "      <td>0.842977</td>\n",
       "      <td>neutral</td>\n",
       "      <td>0.734383</td>\n",
       "      <td>IN</td>\n",
       "      <td>None</td>\n",
       "      <td>None</td>\n",
       "    </tr>\n",
       "    <tr>\n",
       "      <th>4</th>\n",
       "      <td>Auto,Industry,Announcement,Crisis,Situation,Ex...</td>\n",
       "      <td>#Crore,#Coronavirus,#FinanceMinister,#Lakh,#FM...</td>\n",
       "      <td>Finance Minister, Nirmala Sitharaman, today an...</td>\n",
       "      <td>Coronavirus Pandemic: Auto Industry Welcomes F...</td>\n",
       "      <td>604</td>\n",
       "      <td>[#Crore, #Coronavirus, #FinanceMinister, #Lakh...</td>\n",
       "      <td>[Auto, Industry, Announcement, Crisis, Situati...</td>\n",
       "      <td>2020-03-26 14:29:28</td>\n",
       "      <td>negative</td>\n",
       "      <td>0.849670</td>\n",
       "      <td>negative</td>\n",
       "      <td>0.470863</td>\n",
       "      <td>IN</td>\n",
       "      <td>None</td>\n",
       "      <td>None</td>\n",
       "    </tr>\n",
       "  </tbody>\n",
       "</table>\n",
       "</div>"
      ],
      "text/plain": [
       "                                     Unlist_keywords  \\\n",
       "0  flights,passenger,international,passenger flig...   \n",
       "1  Yuzvendra Chahal,Chahal,Yuzvendra,TikTok video...   \n",
       "2  Lockdown,COVID-19,Needed,Opinion,Problem,lockd...   \n",
       "3  Chief,Migrant,Ministers,Labourers,Lockdown,Chi...   \n",
       "4  Auto,Industry,Announcement,Crisis,Situation,Ex...   \n",
       "\n",
       "                                   Unlisted_hashtags  \\\n",
       "0  #DGCA,#DirectorateGeneralOfCivilAviation,#Coro...   \n",
       "1  #India,#Coronavirus,#OneDayInternational,#Indi...   \n",
       "2  #Lockdown,#ListsOfTransformersCharacters,#Indi...   \n",
       "3  #ChiefMinister,#Bengal,#Odisha,#Bihar,#ListsOf...   \n",
       "4  #Crore,#Coronavirus,#FinanceMinister,#Lakh,#FM...   \n",
       "\n",
       "                                             summary  \\\n",
       "0  However, this restriction will not apply to in...   \n",
       "1  But leg-spinner Yuzvendra Chahal is utilising ...   \n",
       "2  So the math was simple and the step logical: L...   \n",
       "3  Chief Ministers of three states - Bengal, Biha...   \n",
       "4  Finance Minister, Nirmala Sitharaman, today an...   \n",
       "\n",
       "                                             heading  words_count  \\\n",
       "0  Ban on international passenger flights extende...          223   \n",
       "1                                 Yuzvendra Chahal's          292   \n",
       "2  Opinion: COVID-19 Lockdown Is Needed But May N...          812   \n",
       "3  Amid Lockdown, Chief Ministers Seek Help For M...          401   \n",
       "4  Coronavirus Pandemic: Auto Industry Welcomes F...          604   \n",
       "\n",
       "                                            hashtags  \\\n",
       "0  [#DGCA, #DirectorateGeneralOfCivilAviation, #C...   \n",
       "1  [#India, #Coronavirus, #OneDayInternational, #...   \n",
       "2  [#Lockdown, #ListsOfTransformersCharacters, #I...   \n",
       "3  [#ChiefMinister, #Bengal, #Odisha, #Bihar, #Li...   \n",
       "4  [#Crore, #Coronavirus, #FinanceMinister, #Lakh...   \n",
       "\n",
       "                                            keywords        publish_time  \\\n",
       "0  [flights, passenger, international, passenger ... 2020-03-26 14:30:18   \n",
       "1  [Yuzvendra Chahal, Chahal, Yuzvendra, TikTok v... 2020-03-26 14:29:28   \n",
       "2  [Lockdown, COVID-19, Needed, Opinion, Problem,... 2020-03-26 14:29:28   \n",
       "3  [Chief, Migrant, Ministers, Labourers, Lockdow... 2020-03-26 14:29:28   \n",
       "4  [Auto, Industry, Announcement, Crisis, Situati... 2020-03-26 14:29:28   \n",
       "\n",
       "  body_polarity  body_polarity_score title_polarity  title_polarity_score  \\\n",
       "0      negative             0.988144        neutral              0.890838   \n",
       "1      positive             0.885754        neutral              0.407149   \n",
       "2      negative             0.606026       negative              0.863666   \n",
       "3      negative             0.842977        neutral              0.734383   \n",
       "4      negative             0.849670       negative              0.470863   \n",
       "\n",
       "  country_origin state_origin city_origin  \n",
       "0             IN         None        None  \n",
       "1             IN         None        None  \n",
       "2             IN         None        None  \n",
       "3             IN         None        None  \n",
       "4             IN         None        None  "
      ]
     },
     "execution_count": 24,
     "metadata": {},
     "output_type": "execute_result"
    }
   ],
   "source": [
    "df4.head()"
   ]
  },
  {
   "cell_type": "code",
   "execution_count": 25,
   "metadata": {},
   "outputs": [],
   "source": [
    "df5 = df4[['summary','heading']]"
   ]
  },
  {
   "cell_type": "code",
   "execution_count": 26,
   "metadata": {},
   "outputs": [
    {
     "data": {
      "text/plain": [
       "'However, this restriction will not apply to international all-cargo operations and flights specifically approved by the DGCA. All international commercial passenger flights will remain suspended till April 14, aviation regulator DGCA announced on Thursday, amid a nationwide lockdown to prevent the spread of the novel coronavirus. The Directorate General of Civil Aviation (DGCA) on March 19 had announced that no international commercial passenger flight operations will take place in India from 1.30 am on March 23 to 5.30 am on March 29. “In continuation of circular-II dated 19.3.2020 issued on the subject cited-above, it has been decided that all scheduled international commercial passenger services shall remain closed till 1830 hrs GMT (0000 hrs of Indian Standard Time) of April 14, 2020,\" the aviation regulator said. \"However, this restriction will not apply to international all-cargo operations and flights specifically approved by the DGCA,\" it said.,Ban on international passenger flights extended till Apr 14'"
      ]
     },
     "execution_count": 26,
     "metadata": {},
     "output_type": "execute_result"
    }
   ],
   "source": [
    "df5 = df5.apply(lambda x: ','.join(x.astype(str)), axis=1)     ###  Store them in a pandas dataframe\n",
    "df5[0]"
   ]
  },
  {
   "cell_type": "code",
   "execution_count": 27,
   "metadata": {},
   "outputs": [
    {
     "data": {
      "text/html": [
       "<div>\n",
       "<style scoped>\n",
       "    .dataframe tbody tr th:only-of-type {\n",
       "        vertical-align: middle;\n",
       "    }\n",
       "\n",
       "    .dataframe tbody tr th {\n",
       "        vertical-align: top;\n",
       "    }\n",
       "\n",
       "    .dataframe thead th {\n",
       "        text-align: right;\n",
       "    }\n",
       "</style>\n",
       "<table border=\"1\" class=\"dataframe\">\n",
       "  <thead>\n",
       "    <tr style=\"text-align: right;\">\n",
       "      <th></th>\n",
       "      <th>sum_head</th>\n",
       "    </tr>\n",
       "  </thead>\n",
       "  <tbody>\n",
       "    <tr>\n",
       "      <th>0</th>\n",
       "      <td>However, this restriction will not apply to in...</td>\n",
       "    </tr>\n",
       "    <tr>\n",
       "      <th>1</th>\n",
       "      <td>But leg-spinner Yuzvendra Chahal is utilising ...</td>\n",
       "    </tr>\n",
       "    <tr>\n",
       "      <th>2</th>\n",
       "      <td>So the math was simple and the step logical: L...</td>\n",
       "    </tr>\n",
       "    <tr>\n",
       "      <th>3</th>\n",
       "      <td>Chief Ministers of three states - Bengal, Biha...</td>\n",
       "    </tr>\n",
       "    <tr>\n",
       "      <th>4</th>\n",
       "      <td>Finance Minister, Nirmala Sitharaman, today an...</td>\n",
       "    </tr>\n",
       "  </tbody>\n",
       "</table>\n",
       "</div>"
      ],
      "text/plain": [
       "                                            sum_head\n",
       "0  However, this restriction will not apply to in...\n",
       "1  But leg-spinner Yuzvendra Chahal is utilising ...\n",
       "2  So the math was simple and the step logical: L...\n",
       "3  Chief Ministers of three states - Bengal, Biha...\n",
       "4  Finance Minister, Nirmala Sitharaman, today an..."
      ]
     },
     "execution_count": 27,
     "metadata": {},
     "output_type": "execute_result"
    }
   ],
   "source": [
    "sum_head = pd.DataFrame({'sum_head': df5})\n",
    "sum_head.head()"
   ]
  },
  {
   "cell_type": "code",
   "execution_count": 28,
   "metadata": {},
   "outputs": [],
   "source": [
    "df4 = pd.concat([sum_head,df4],axis=1)"
   ]
  },
  {
   "cell_type": "code",
   "execution_count": 29,
   "metadata": {},
   "outputs": [
    {
     "data": {
      "text/html": [
       "<div>\n",
       "<style scoped>\n",
       "    .dataframe tbody tr th:only-of-type {\n",
       "        vertical-align: middle;\n",
       "    }\n",
       "\n",
       "    .dataframe tbody tr th {\n",
       "        vertical-align: top;\n",
       "    }\n",
       "\n",
       "    .dataframe thead th {\n",
       "        text-align: right;\n",
       "    }\n",
       "</style>\n",
       "<table border=\"1\" class=\"dataframe\">\n",
       "  <thead>\n",
       "    <tr style=\"text-align: right;\">\n",
       "      <th></th>\n",
       "      <th>sum_head</th>\n",
       "      <th>Unlist_keywords</th>\n",
       "      <th>Unlisted_hashtags</th>\n",
       "      <th>summary</th>\n",
       "      <th>heading</th>\n",
       "      <th>words_count</th>\n",
       "      <th>hashtags</th>\n",
       "      <th>keywords</th>\n",
       "      <th>publish_time</th>\n",
       "      <th>body_polarity</th>\n",
       "      <th>body_polarity_score</th>\n",
       "      <th>title_polarity</th>\n",
       "      <th>title_polarity_score</th>\n",
       "      <th>country_origin</th>\n",
       "      <th>state_origin</th>\n",
       "      <th>city_origin</th>\n",
       "    </tr>\n",
       "  </thead>\n",
       "  <tbody>\n",
       "    <tr>\n",
       "      <th>0</th>\n",
       "      <td>However, this restriction will not apply to in...</td>\n",
       "      <td>flights,passenger,international,passenger flig...</td>\n",
       "      <td>#DGCA,#DirectorateGeneralOfCivilAviation,#Coro...</td>\n",
       "      <td>However, this restriction will not apply to in...</td>\n",
       "      <td>Ban on international passenger flights extende...</td>\n",
       "      <td>223</td>\n",
       "      <td>[#DGCA, #DirectorateGeneralOfCivilAviation, #C...</td>\n",
       "      <td>[flights, passenger, international, passenger ...</td>\n",
       "      <td>2020-03-26 14:30:18</td>\n",
       "      <td>negative</td>\n",
       "      <td>0.988144</td>\n",
       "      <td>neutral</td>\n",
       "      <td>0.890838</td>\n",
       "      <td>IN</td>\n",
       "      <td>None</td>\n",
       "      <td>None</td>\n",
       "    </tr>\n",
       "    <tr>\n",
       "      <th>1</th>\n",
       "      <td>But leg-spinner Yuzvendra Chahal is utilising ...</td>\n",
       "      <td>Yuzvendra Chahal,Chahal,Yuzvendra,TikTok video...</td>\n",
       "      <td>#India,#Coronavirus,#OneDayInternational,#Indi...</td>\n",
       "      <td>But leg-spinner Yuzvendra Chahal is utilising ...</td>\n",
       "      <td>Yuzvendra Chahal's</td>\n",
       "      <td>292</td>\n",
       "      <td>[#India, #Coronavirus, #OneDayInternational, #...</td>\n",
       "      <td>[Yuzvendra Chahal, Chahal, Yuzvendra, TikTok v...</td>\n",
       "      <td>2020-03-26 14:29:28</td>\n",
       "      <td>positive</td>\n",
       "      <td>0.885754</td>\n",
       "      <td>neutral</td>\n",
       "      <td>0.407149</td>\n",
       "      <td>IN</td>\n",
       "      <td>None</td>\n",
       "      <td>None</td>\n",
       "    </tr>\n",
       "    <tr>\n",
       "      <th>2</th>\n",
       "      <td>So the math was simple and the step logical: L...</td>\n",
       "      <td>Lockdown,COVID-19,Needed,Opinion,Problem,lockd...</td>\n",
       "      <td>#Lockdown,#ListsOfTransformersCharacters,#Indi...</td>\n",
       "      <td>So the math was simple and the step logical: L...</td>\n",
       "      <td>Opinion: COVID-19 Lockdown Is Needed But May N...</td>\n",
       "      <td>812</td>\n",
       "      <td>[#Lockdown, #ListsOfTransformersCharacters, #I...</td>\n",
       "      <td>[Lockdown, COVID-19, Needed, Opinion, Problem,...</td>\n",
       "      <td>2020-03-26 14:29:28</td>\n",
       "      <td>negative</td>\n",
       "      <td>0.606026</td>\n",
       "      <td>negative</td>\n",
       "      <td>0.863666</td>\n",
       "      <td>IN</td>\n",
       "      <td>None</td>\n",
       "      <td>None</td>\n",
       "    </tr>\n",
       "    <tr>\n",
       "      <th>3</th>\n",
       "      <td>Chief Ministers of three states - Bengal, Biha...</td>\n",
       "      <td>Chief,Migrant,Ministers,Labourers,Lockdown,Chi...</td>\n",
       "      <td>#ChiefMinister,#Bengal,#Odisha,#Bihar,#ListsOf...</td>\n",
       "      <td>Chief Ministers of three states - Bengal, Biha...</td>\n",
       "      <td>Amid Lockdown, Chief Ministers Seek Help For M...</td>\n",
       "      <td>401</td>\n",
       "      <td>[#ChiefMinister, #Bengal, #Odisha, #Bihar, #Li...</td>\n",
       "      <td>[Chief, Migrant, Ministers, Labourers, Lockdow...</td>\n",
       "      <td>2020-03-26 14:29:28</td>\n",
       "      <td>negative</td>\n",
       "      <td>0.842977</td>\n",
       "      <td>neutral</td>\n",
       "      <td>0.734383</td>\n",
       "      <td>IN</td>\n",
       "      <td>None</td>\n",
       "      <td>None</td>\n",
       "    </tr>\n",
       "    <tr>\n",
       "      <th>4</th>\n",
       "      <td>Finance Minister, Nirmala Sitharaman, today an...</td>\n",
       "      <td>Auto,Industry,Announcement,Crisis,Situation,Ex...</td>\n",
       "      <td>#Crore,#Coronavirus,#FinanceMinister,#Lakh,#FM...</td>\n",
       "      <td>Finance Minister, Nirmala Sitharaman, today an...</td>\n",
       "      <td>Coronavirus Pandemic: Auto Industry Welcomes F...</td>\n",
       "      <td>604</td>\n",
       "      <td>[#Crore, #Coronavirus, #FinanceMinister, #Lakh...</td>\n",
       "      <td>[Auto, Industry, Announcement, Crisis, Situati...</td>\n",
       "      <td>2020-03-26 14:29:28</td>\n",
       "      <td>negative</td>\n",
       "      <td>0.849670</td>\n",
       "      <td>negative</td>\n",
       "      <td>0.470863</td>\n",
       "      <td>IN</td>\n",
       "      <td>None</td>\n",
       "      <td>None</td>\n",
       "    </tr>\n",
       "  </tbody>\n",
       "</table>\n",
       "</div>"
      ],
      "text/plain": [
       "                                            sum_head  \\\n",
       "0  However, this restriction will not apply to in...   \n",
       "1  But leg-spinner Yuzvendra Chahal is utilising ...   \n",
       "2  So the math was simple and the step logical: L...   \n",
       "3  Chief Ministers of three states - Bengal, Biha...   \n",
       "4  Finance Minister, Nirmala Sitharaman, today an...   \n",
       "\n",
       "                                     Unlist_keywords  \\\n",
       "0  flights,passenger,international,passenger flig...   \n",
       "1  Yuzvendra Chahal,Chahal,Yuzvendra,TikTok video...   \n",
       "2  Lockdown,COVID-19,Needed,Opinion,Problem,lockd...   \n",
       "3  Chief,Migrant,Ministers,Labourers,Lockdown,Chi...   \n",
       "4  Auto,Industry,Announcement,Crisis,Situation,Ex...   \n",
       "\n",
       "                                   Unlisted_hashtags  \\\n",
       "0  #DGCA,#DirectorateGeneralOfCivilAviation,#Coro...   \n",
       "1  #India,#Coronavirus,#OneDayInternational,#Indi...   \n",
       "2  #Lockdown,#ListsOfTransformersCharacters,#Indi...   \n",
       "3  #ChiefMinister,#Bengal,#Odisha,#Bihar,#ListsOf...   \n",
       "4  #Crore,#Coronavirus,#FinanceMinister,#Lakh,#FM...   \n",
       "\n",
       "                                             summary  \\\n",
       "0  However, this restriction will not apply to in...   \n",
       "1  But leg-spinner Yuzvendra Chahal is utilising ...   \n",
       "2  So the math was simple and the step logical: L...   \n",
       "3  Chief Ministers of three states - Bengal, Biha...   \n",
       "4  Finance Minister, Nirmala Sitharaman, today an...   \n",
       "\n",
       "                                             heading  words_count  \\\n",
       "0  Ban on international passenger flights extende...          223   \n",
       "1                                 Yuzvendra Chahal's          292   \n",
       "2  Opinion: COVID-19 Lockdown Is Needed But May N...          812   \n",
       "3  Amid Lockdown, Chief Ministers Seek Help For M...          401   \n",
       "4  Coronavirus Pandemic: Auto Industry Welcomes F...          604   \n",
       "\n",
       "                                            hashtags  \\\n",
       "0  [#DGCA, #DirectorateGeneralOfCivilAviation, #C...   \n",
       "1  [#India, #Coronavirus, #OneDayInternational, #...   \n",
       "2  [#Lockdown, #ListsOfTransformersCharacters, #I...   \n",
       "3  [#ChiefMinister, #Bengal, #Odisha, #Bihar, #Li...   \n",
       "4  [#Crore, #Coronavirus, #FinanceMinister, #Lakh...   \n",
       "\n",
       "                                            keywords        publish_time  \\\n",
       "0  [flights, passenger, international, passenger ... 2020-03-26 14:30:18   \n",
       "1  [Yuzvendra Chahal, Chahal, Yuzvendra, TikTok v... 2020-03-26 14:29:28   \n",
       "2  [Lockdown, COVID-19, Needed, Opinion, Problem,... 2020-03-26 14:29:28   \n",
       "3  [Chief, Migrant, Ministers, Labourers, Lockdow... 2020-03-26 14:29:28   \n",
       "4  [Auto, Industry, Announcement, Crisis, Situati... 2020-03-26 14:29:28   \n",
       "\n",
       "  body_polarity  body_polarity_score title_polarity  title_polarity_score  \\\n",
       "0      negative             0.988144        neutral              0.890838   \n",
       "1      positive             0.885754        neutral              0.407149   \n",
       "2      negative             0.606026       negative              0.863666   \n",
       "3      negative             0.842977        neutral              0.734383   \n",
       "4      negative             0.849670       negative              0.470863   \n",
       "\n",
       "  country_origin state_origin city_origin  \n",
       "0             IN         None        None  \n",
       "1             IN         None        None  \n",
       "2             IN         None        None  \n",
       "3             IN         None        None  \n",
       "4             IN         None        None  "
      ]
     },
     "execution_count": 29,
     "metadata": {},
     "output_type": "execute_result"
    }
   ],
   "source": [
    "df4.head()"
   ]
  },
  {
   "cell_type": "code",
   "execution_count": 30,
   "metadata": {},
   "outputs": [],
   "source": [
    "df4.drop(['keywords','hashtags','summary','heading'],axis=1,inplace=True)    ### Dropping the unwanted columns "
   ]
  },
  {
   "cell_type": "code",
   "execution_count": 31,
   "metadata": {},
   "outputs": [
    {
     "data": {
      "text/html": [
       "<div>\n",
       "<style scoped>\n",
       "    .dataframe tbody tr th:only-of-type {\n",
       "        vertical-align: middle;\n",
       "    }\n",
       "\n",
       "    .dataframe tbody tr th {\n",
       "        vertical-align: top;\n",
       "    }\n",
       "\n",
       "    .dataframe thead th {\n",
       "        text-align: right;\n",
       "    }\n",
       "</style>\n",
       "<table border=\"1\" class=\"dataframe\">\n",
       "  <thead>\n",
       "    <tr style=\"text-align: right;\">\n",
       "      <th></th>\n",
       "      <th>sum_head</th>\n",
       "      <th>Unlist_keywords</th>\n",
       "      <th>Unlisted_hashtags</th>\n",
       "      <th>words_count</th>\n",
       "      <th>publish_time</th>\n",
       "      <th>body_polarity</th>\n",
       "      <th>body_polarity_score</th>\n",
       "      <th>title_polarity</th>\n",
       "      <th>title_polarity_score</th>\n",
       "      <th>country_origin</th>\n",
       "      <th>state_origin</th>\n",
       "      <th>city_origin</th>\n",
       "    </tr>\n",
       "  </thead>\n",
       "  <tbody>\n",
       "    <tr>\n",
       "      <th>0</th>\n",
       "      <td>However, this restriction will not apply to in...</td>\n",
       "      <td>flights,passenger,international,passenger flig...</td>\n",
       "      <td>#DGCA,#DirectorateGeneralOfCivilAviation,#Coro...</td>\n",
       "      <td>223</td>\n",
       "      <td>2020-03-26 14:30:18</td>\n",
       "      <td>negative</td>\n",
       "      <td>0.988144</td>\n",
       "      <td>neutral</td>\n",
       "      <td>0.890838</td>\n",
       "      <td>IN</td>\n",
       "      <td>None</td>\n",
       "      <td>None</td>\n",
       "    </tr>\n",
       "    <tr>\n",
       "      <th>1</th>\n",
       "      <td>But leg-spinner Yuzvendra Chahal is utilising ...</td>\n",
       "      <td>Yuzvendra Chahal,Chahal,Yuzvendra,TikTok video...</td>\n",
       "      <td>#India,#Coronavirus,#OneDayInternational,#Indi...</td>\n",
       "      <td>292</td>\n",
       "      <td>2020-03-26 14:29:28</td>\n",
       "      <td>positive</td>\n",
       "      <td>0.885754</td>\n",
       "      <td>neutral</td>\n",
       "      <td>0.407149</td>\n",
       "      <td>IN</td>\n",
       "      <td>None</td>\n",
       "      <td>None</td>\n",
       "    </tr>\n",
       "    <tr>\n",
       "      <th>2</th>\n",
       "      <td>So the math was simple and the step logical: L...</td>\n",
       "      <td>Lockdown,COVID-19,Needed,Opinion,Problem,lockd...</td>\n",
       "      <td>#Lockdown,#ListsOfTransformersCharacters,#Indi...</td>\n",
       "      <td>812</td>\n",
       "      <td>2020-03-26 14:29:28</td>\n",
       "      <td>negative</td>\n",
       "      <td>0.606026</td>\n",
       "      <td>negative</td>\n",
       "      <td>0.863666</td>\n",
       "      <td>IN</td>\n",
       "      <td>None</td>\n",
       "      <td>None</td>\n",
       "    </tr>\n",
       "    <tr>\n",
       "      <th>3</th>\n",
       "      <td>Chief Ministers of three states - Bengal, Biha...</td>\n",
       "      <td>Chief,Migrant,Ministers,Labourers,Lockdown,Chi...</td>\n",
       "      <td>#ChiefMinister,#Bengal,#Odisha,#Bihar,#ListsOf...</td>\n",
       "      <td>401</td>\n",
       "      <td>2020-03-26 14:29:28</td>\n",
       "      <td>negative</td>\n",
       "      <td>0.842977</td>\n",
       "      <td>neutral</td>\n",
       "      <td>0.734383</td>\n",
       "      <td>IN</td>\n",
       "      <td>None</td>\n",
       "      <td>None</td>\n",
       "    </tr>\n",
       "    <tr>\n",
       "      <th>4</th>\n",
       "      <td>Finance Minister, Nirmala Sitharaman, today an...</td>\n",
       "      <td>Auto,Industry,Announcement,Crisis,Situation,Ex...</td>\n",
       "      <td>#Crore,#Coronavirus,#FinanceMinister,#Lakh,#FM...</td>\n",
       "      <td>604</td>\n",
       "      <td>2020-03-26 14:29:28</td>\n",
       "      <td>negative</td>\n",
       "      <td>0.849670</td>\n",
       "      <td>negative</td>\n",
       "      <td>0.470863</td>\n",
       "      <td>IN</td>\n",
       "      <td>None</td>\n",
       "      <td>None</td>\n",
       "    </tr>\n",
       "  </tbody>\n",
       "</table>\n",
       "</div>"
      ],
      "text/plain": [
       "                                            sum_head  \\\n",
       "0  However, this restriction will not apply to in...   \n",
       "1  But leg-spinner Yuzvendra Chahal is utilising ...   \n",
       "2  So the math was simple and the step logical: L...   \n",
       "3  Chief Ministers of three states - Bengal, Biha...   \n",
       "4  Finance Minister, Nirmala Sitharaman, today an...   \n",
       "\n",
       "                                     Unlist_keywords  \\\n",
       "0  flights,passenger,international,passenger flig...   \n",
       "1  Yuzvendra Chahal,Chahal,Yuzvendra,TikTok video...   \n",
       "2  Lockdown,COVID-19,Needed,Opinion,Problem,lockd...   \n",
       "3  Chief,Migrant,Ministers,Labourers,Lockdown,Chi...   \n",
       "4  Auto,Industry,Announcement,Crisis,Situation,Ex...   \n",
       "\n",
       "                                   Unlisted_hashtags  words_count  \\\n",
       "0  #DGCA,#DirectorateGeneralOfCivilAviation,#Coro...          223   \n",
       "1  #India,#Coronavirus,#OneDayInternational,#Indi...          292   \n",
       "2  #Lockdown,#ListsOfTransformersCharacters,#Indi...          812   \n",
       "3  #ChiefMinister,#Bengal,#Odisha,#Bihar,#ListsOf...          401   \n",
       "4  #Crore,#Coronavirus,#FinanceMinister,#Lakh,#FM...          604   \n",
       "\n",
       "         publish_time body_polarity  body_polarity_score title_polarity  \\\n",
       "0 2020-03-26 14:30:18      negative             0.988144        neutral   \n",
       "1 2020-03-26 14:29:28      positive             0.885754        neutral   \n",
       "2 2020-03-26 14:29:28      negative             0.606026       negative   \n",
       "3 2020-03-26 14:29:28      negative             0.842977        neutral   \n",
       "4 2020-03-26 14:29:28      negative             0.849670       negative   \n",
       "\n",
       "   title_polarity_score country_origin state_origin city_origin  \n",
       "0              0.890838             IN         None        None  \n",
       "1              0.407149             IN         None        None  \n",
       "2              0.863666             IN         None        None  \n",
       "3              0.734383             IN         None        None  \n",
       "4              0.470863             IN         None        None  "
      ]
     },
     "execution_count": 31,
     "metadata": {},
     "output_type": "execute_result"
    }
   ],
   "source": [
    "df4.head()"
   ]
  },
  {
   "cell_type": "code",
   "execution_count": 32,
   "metadata": {},
   "outputs": [],
   "source": [
    "df_new = df4[['sum_head','Unlisted_hashtags','Unlist_keywords']]"
   ]
  },
  {
   "cell_type": "code",
   "execution_count": 33,
   "metadata": {},
   "outputs": [
    {
     "data": {
      "text/plain": [
       "'However, this restriction will not apply to international all-cargo operations and flights specifically approved by the DGCA. All international commercial passenger flights will remain suspended till April 14, aviation regulator DGCA announced on Thursday, amid a nationwide lockdown to prevent the spread of the novel coronavirus. The Directorate General of Civil Aviation (DGCA) on March 19 had announced that no international commercial passenger flight operations will take place in India from 1.30 am on March 23 to 5.30 am on March 29. “In continuation of circular-II dated 19.3.2020 issued on the subject cited-above, it has been decided that all scheduled international commercial passenger services shall remain closed till 1830 hrs GMT (0000 hrs of Indian Standard Time) of April 14, 2020,\" the aviation regulator said. \"However, this restriction will not apply to international all-cargo operations and flights specifically approved by the DGCA,\" it said.,Ban on international passenger flights extended till Apr 14,#DGCA,#DirectorateGeneralOfCivilAviation,#Coronavirus,#Lockdown,#India,#GMT,#GreenwichMeanTime,#Time,#MinistryOfHealthAndFamilyWelfare,#PrimeMinisterOfTheUnitedKingdom,#NarendraModi,#Reuters,flights,passenger,international,passenger flights,passenger flight,coronavirus,country,March,lockdown,DGCA,midnight,aviation,health,ministry,Prime,operations,Narendra,Minister,Narendra Modi,Reuters,Union health ministry,India,GMT,Time,Prime Minister'"
      ]
     },
     "execution_count": 33,
     "metadata": {},
     "output_type": "execute_result"
    }
   ],
   "source": [
    "df_new = df_new.apply(lambda x: ','.join(x.astype(str)), axis=1)      ### Store them in a pandas dataframe\n",
    "df_new[0]"
   ]
  },
  {
   "cell_type": "code",
   "execution_count": 34,
   "metadata": {},
   "outputs": [
    {
     "data": {
      "text/html": [
       "<div>\n",
       "<style scoped>\n",
       "    .dataframe tbody tr th:only-of-type {\n",
       "        vertical-align: middle;\n",
       "    }\n",
       "\n",
       "    .dataframe tbody tr th {\n",
       "        vertical-align: top;\n",
       "    }\n",
       "\n",
       "    .dataframe thead th {\n",
       "        text-align: right;\n",
       "    }\n",
       "</style>\n",
       "<table border=\"1\" class=\"dataframe\">\n",
       "  <thead>\n",
       "    <tr style=\"text-align: right;\">\n",
       "      <th></th>\n",
       "      <th>allwords</th>\n",
       "    </tr>\n",
       "  </thead>\n",
       "  <tbody>\n",
       "    <tr>\n",
       "      <th>0</th>\n",
       "      <td>However, this restriction will not apply to in...</td>\n",
       "    </tr>\n",
       "    <tr>\n",
       "      <th>1</th>\n",
       "      <td>But leg-spinner Yuzvendra Chahal is utilising ...</td>\n",
       "    </tr>\n",
       "    <tr>\n",
       "      <th>2</th>\n",
       "      <td>So the math was simple and the step logical: L...</td>\n",
       "    </tr>\n",
       "    <tr>\n",
       "      <th>3</th>\n",
       "      <td>Chief Ministers of three states - Bengal, Biha...</td>\n",
       "    </tr>\n",
       "    <tr>\n",
       "      <th>4</th>\n",
       "      <td>Finance Minister, Nirmala Sitharaman, today an...</td>\n",
       "    </tr>\n",
       "  </tbody>\n",
       "</table>\n",
       "</div>"
      ],
      "text/plain": [
       "                                            allwords\n",
       "0  However, this restriction will not apply to in...\n",
       "1  But leg-spinner Yuzvendra Chahal is utilising ...\n",
       "2  So the math was simple and the step logical: L...\n",
       "3  Chief Ministers of three states - Bengal, Biha...\n",
       "4  Finance Minister, Nirmala Sitharaman, today an..."
      ]
     },
     "execution_count": 34,
     "metadata": {},
     "output_type": "execute_result"
    }
   ],
   "source": [
    "df_new = df_new.to_frame()\n",
    "df_new.columns = ['allwords']\n",
    "df_new.head()"
   ]
  },
  {
   "cell_type": "markdown",
   "metadata": {},
   "source": [
    "## Cleaning the dataset by :\n",
    "\n",
    "- removing the unwanted words by using stopwords and custom words\n",
    "- using lemmetization\n",
    "- lowering them\n",
    "- only keeping the alphabets "
   ]
  },
  {
   "cell_type": "code",
   "execution_count": 76,
   "metadata": {},
   "outputs": [
    {
     "name": "stderr",
     "output_type": "stream",
     "text": [
      "[nltk_data] Downloading package stopwords to\n",
      "[nltk_data]     C:\\Users\\DELL\\AppData\\Roaming\\nltk_data...\n",
      "[nltk_data]   Package stopwords is already up-to-date!\n"
     ]
    }
   ],
   "source": [
    "stopwords = nltk.corpus.stopwords.words('english')\n",
    "newStopWords = ['per','due','daily','one','also','day','time','new','r' ,'home','year','month','social']\n",
    "stopwords.extend(newStopWords)\n",
    "stop_words = set(stopwords)\n",
    "\n",
    "\n",
    "\n",
    "import re\n",
    "import nltk\n",
    "nltk.download('stopwords')\n",
    "\n",
    "from nltk.corpus import stopwords\n",
    "from nltk.stem import WordNetLemmatizer \n",
    "lemmatizer = WordNetLemmatizer() \n",
    "corpus = []\n",
    "\n",
    "newStopWords = ['per','due','daily','one','also','day','time','new','r' ,'home','year','month','social','nan']\n",
    "\n",
    "for i in range(0, len(df_new)):\n",
    "    review = re.sub('[^a-zA-Z]', ' ', df_new['allwords'][i])\n",
    "    review = review.lower()\n",
    "    review = review.split()\n",
    "    \n",
    "    review = [lemmatizer.lemmatize(word) for word in review if not word in stop_words]\n",
    "    review = ' '.join(review)\n",
    "    corpus.append(review)"
   ]
  },
  {
   "cell_type": "code",
   "execution_count": 77,
   "metadata": {},
   "outputs": [
    {
     "data": {
      "text/plain": [
       "'however restriction apply international cargo operation flight specifically approved dgca international commercial passenger flight remain suspended till april aviation regulator dgca announced thursday amid nationwide lockdown prevent spread novel coronavirus directorate general civil aviation dgca march announced international commercial passenger flight operation take place india march march continuation circular ii dated issued subject cited decided scheduled international commercial passenger service shall remain closed till hr gmt hr indian standard april aviation regulator said however restriction apply international cargo operation flight specifically approved dgca said ban international passenger flight extended till apr dgca directorategeneralofcivilaviation coronavirus lockdown india gmt greenwichmeantime ministryofhealthandfamilywelfare primeministeroftheunitedkingdom narendramodi reuters flight passenger international passenger flight passenger flight coronavirus country march lockdown dgca midnight aviation health ministry prime operation narendra minister narendra modi reuters union health ministry india gmt prime minister'"
      ]
     },
     "execution_count": 77,
     "metadata": {},
     "output_type": "execute_result"
    }
   ],
   "source": [
    "corpus[0]"
   ]
  },
  {
   "cell_type": "code",
   "execution_count": 78,
   "metadata": {},
   "outputs": [],
   "source": [
    "df_clean = pd.DataFrame(corpus,columns = ['text'])    #### Froming  the dataset"
   ]
  },
  {
   "cell_type": "code",
   "execution_count": 79,
   "metadata": {},
   "outputs": [
    {
     "data": {
      "text/html": [
       "<div>\n",
       "<style scoped>\n",
       "    .dataframe tbody tr th:only-of-type {\n",
       "        vertical-align: middle;\n",
       "    }\n",
       "\n",
       "    .dataframe tbody tr th {\n",
       "        vertical-align: top;\n",
       "    }\n",
       "\n",
       "    .dataframe thead th {\n",
       "        text-align: right;\n",
       "    }\n",
       "</style>\n",
       "<table border=\"1\" class=\"dataframe\">\n",
       "  <thead>\n",
       "    <tr style=\"text-align: right;\">\n",
       "      <th></th>\n",
       "      <th>text</th>\n",
       "    </tr>\n",
       "  </thead>\n",
       "  <tbody>\n",
       "    <tr>\n",
       "      <th>0</th>\n",
       "      <td>however restriction apply international cargo ...</td>\n",
       "    </tr>\n",
       "    <tr>\n",
       "      <th>1</th>\n",
       "      <td>leg spinner yuzvendra chahal utilising self qu...</td>\n",
       "    </tr>\n",
       "    <tr>\n",
       "      <th>2</th>\n",
       "      <td>math simple step logical lockdown three week i...</td>\n",
       "    </tr>\n",
       "    <tr>\n",
       "      <th>3</th>\n",
       "      <td>chief minister three state bengal bihar odisha...</td>\n",
       "    </tr>\n",
       "    <tr>\n",
       "      <th>4</th>\n",
       "      <td>finance minister nirmala sitharaman today anno...</td>\n",
       "    </tr>\n",
       "  </tbody>\n",
       "</table>\n",
       "</div>"
      ],
      "text/plain": [
       "                                                text\n",
       "0  however restriction apply international cargo ...\n",
       "1  leg spinner yuzvendra chahal utilising self qu...\n",
       "2  math simple step logical lockdown three week i...\n",
       "3  chief minister three state bengal bihar odisha...\n",
       "4  finance minister nirmala sitharaman today anno..."
      ]
     },
     "execution_count": 79,
     "metadata": {},
     "output_type": "execute_result"
    }
   ],
   "source": [
    "df_clean.head()"
   ]
  },
  {
   "cell_type": "code",
   "execution_count": 80,
   "metadata": {},
   "outputs": [],
   "source": [
    "sent = [row.split(' ') for row in df_clean['text']]"
   ]
  },
  {
   "cell_type": "markdown",
   "metadata": {},
   "source": [
    "### Using gensim library to form vectors"
   ]
  },
  {
   "cell_type": "code",
   "execution_count": 81,
   "metadata": {},
   "outputs": [],
   "source": [
    "from gensim.models import Word2Vec                        \n",
    "model = Word2Vec(sent, min_count=300,size= 100,workers=3, window =20, sg = 1)"
   ]
  },
  {
   "cell_type": "code",
   "execution_count": 82,
   "metadata": {},
   "outputs": [
    {
     "data": {
      "text/plain": [
       "[('outbreak', 0.9275741577148438),\n",
       " ('india', 0.9064366817474365),\n",
       " ('virus', 0.9045682549476624),\n",
       " ('country', 0.9034973382949829),\n",
       " ('pandemic', 0.9021573066711426)]"
      ]
     },
     "execution_count": 82,
     "metadata": {},
     "output_type": "execute_result"
    }
   ],
   "source": [
    "model.most_similar('coronavirus')[:5]"
   ]
  },
  {
   "cell_type": "code",
   "execution_count": 83,
   "metadata": {},
   "outputs": [
    {
     "data": {
      "text/plain": [
       "['coronavirus',\n",
       " 'lockdown',\n",
       " 'covid',\n",
       " 'india',\n",
       " 'said',\n",
       " 'pandemic',\n",
       " 'minister',\n",
       " 'people',\n",
       " 'government',\n",
       " 'health',\n",
       " 'virus',\n",
       " 'case',\n",
       " 'hospital',\n",
       " 'police',\n",
       " 'state',\n",
       " 'country',\n",
       " 'indian',\n",
       " 'lakh',\n",
       " 'delhi',\n",
       " 'worker']"
      ]
     },
     "execution_count": 83,
     "metadata": {},
     "output_type": "execute_result"
    }
   ],
   "source": [
    "model.wv.index2entity[:20]  ## top 20 most frequent words"
   ]
  },
  {
   "cell_type": "code",
   "execution_count": 84,
   "metadata": {},
   "outputs": [
    {
     "data": {
      "text/plain": [
       "array([ 0.16514578,  0.0073456 ,  0.07434019,  0.19050552,  0.19351593,\n",
       "       -0.03212956,  0.09231572,  0.14322868, -0.13179152, -0.01544337,\n",
       "        0.02234902, -0.07300682,  0.04026813,  0.171305  , -0.01006414,\n",
       "       -0.01339736, -0.04310865,  0.21025245, -0.01499864, -0.01782703,\n",
       "       -0.029887  , -0.04443618, -0.15331465,  0.02659725,  0.17350848,\n",
       "        0.226718  , -0.09115005,  0.00793371,  0.1573395 , -0.15274778,\n",
       "        0.19469447, -0.0056581 ,  0.01914197,  0.00289973, -0.00736499,\n",
       "       -0.07007601,  0.00808943, -0.1583097 , -0.08376941, -0.02225698,\n",
       "       -0.00443645, -0.0727285 ,  0.17102256, -0.00453701,  0.06144467,\n",
       "        0.1435199 , -0.07383431, -0.12613434, -0.2510284 , -0.04416769,\n",
       "       -0.09330729,  0.20019573,  0.09858319,  0.0738968 , -0.16137505,\n",
       "       -0.09636613, -0.12683286,  0.07401557, -0.01413241, -0.07157232,\n",
       "       -0.05042567,  0.05461641, -0.06722184,  0.13201103,  0.07770651,\n",
       "        0.03976421, -0.10673813, -0.15913916, -0.20225221, -0.01577211,\n",
       "        0.09683076, -0.08703639, -0.01315241, -0.0007557 , -0.09658285,\n",
       "        0.01677875,  0.105046  , -0.13727096,  0.11506753, -0.00747534,\n",
       "        0.11613792, -0.15364346, -0.07033482, -0.14112306, -0.11616036,\n",
       "       -0.13928287,  0.30316776, -0.16681929,  0.05475657,  0.11345694,\n",
       "       -0.00445849, -0.01214663,  0.09801271,  0.00608609, -0.04008054,\n",
       "        0.03245249, -0.11429756,  0.02019274,  0.00752496,  0.07917269],\n",
       "      dtype=float32)"
      ]
     },
     "execution_count": 84,
     "metadata": {},
     "output_type": "execute_result"
    }
   ],
   "source": [
    "model['coronavirus']"
   ]
  },
  {
   "cell_type": "code",
   "execution_count": 85,
   "metadata": {},
   "outputs": [
    {
     "name": "stdout",
     "output_type": "stream",
     "text": [
      "['thursday', 'lockdown', 'coronavirus', 'march', 'india', 'service', 'indian', 'said', 'country', 'health', 'prime', 'minister', 'quarantine', 'video', 'pandemic', 'twitter', 'virus', 'government', 'people', 'worker', 'covid', 'hospital', 'infection', 'case', 'chief', 'state', 'medical', 'crore', 'lakh', 'outbreak', 'police', 'district', 'essential', 'official', 'instagram', 'delhi', 'world', 'positive', 'wednesday', 'r', 'nan']\n"
     ]
    }
   ],
   "source": [
    "words=list(model.wv.vocab)                  ### Words learned by our model\n",
    "print(words)"
   ]
  },
  {
   "cell_type": "code",
   "execution_count": 86,
   "metadata": {},
   "outputs": [
    {
     "data": {
      "text/html": [
       "<div>\n",
       "<style scoped>\n",
       "    .dataframe tbody tr th:only-of-type {\n",
       "        vertical-align: middle;\n",
       "    }\n",
       "\n",
       "    .dataframe tbody tr th {\n",
       "        vertical-align: top;\n",
       "    }\n",
       "\n",
       "    .dataframe thead th {\n",
       "        text-align: right;\n",
       "    }\n",
       "</style>\n",
       "<table border=\"1\" class=\"dataframe\">\n",
       "  <thead>\n",
       "    <tr style=\"text-align: right;\">\n",
       "      <th></th>\n",
       "      <th>0</th>\n",
       "      <th>1</th>\n",
       "      <th>2</th>\n",
       "      <th>3</th>\n",
       "      <th>4</th>\n",
       "      <th>5</th>\n",
       "      <th>6</th>\n",
       "      <th>7</th>\n",
       "      <th>8</th>\n",
       "      <th>9</th>\n",
       "      <th>...</th>\n",
       "      <th>90</th>\n",
       "      <th>91</th>\n",
       "      <th>92</th>\n",
       "      <th>93</th>\n",
       "      <th>94</th>\n",
       "      <th>95</th>\n",
       "      <th>96</th>\n",
       "      <th>97</th>\n",
       "      <th>98</th>\n",
       "      <th>99</th>\n",
       "    </tr>\n",
       "  </thead>\n",
       "  <tbody>\n",
       "    <tr>\n",
       "      <th>0</th>\n",
       "      <td>0.186551</td>\n",
       "      <td>0.011875</td>\n",
       "      <td>0.046046</td>\n",
       "      <td>0.099199</td>\n",
       "      <td>0.120487</td>\n",
       "      <td>-0.010148</td>\n",
       "      <td>0.083114</td>\n",
       "      <td>0.114215</td>\n",
       "      <td>-0.105236</td>\n",
       "      <td>-0.008650</td>\n",
       "      <td>...</td>\n",
       "      <td>0.015612</td>\n",
       "      <td>-0.016259</td>\n",
       "      <td>0.002527</td>\n",
       "      <td>-0.028181</td>\n",
       "      <td>-0.022651</td>\n",
       "      <td>-0.053839</td>\n",
       "      <td>-0.056142</td>\n",
       "      <td>-0.092663</td>\n",
       "      <td>-0.096586</td>\n",
       "      <td>-0.016810</td>\n",
       "    </tr>\n",
       "    <tr>\n",
       "      <th>1</th>\n",
       "      <td>0.177017</td>\n",
       "      <td>-0.048458</td>\n",
       "      <td>-0.029944</td>\n",
       "      <td>0.299712</td>\n",
       "      <td>0.125508</td>\n",
       "      <td>0.058073</td>\n",
       "      <td>0.113061</td>\n",
       "      <td>0.087689</td>\n",
       "      <td>-0.082358</td>\n",
       "      <td>0.047613</td>\n",
       "      <td>...</td>\n",
       "      <td>-0.107944</td>\n",
       "      <td>0.014412</td>\n",
       "      <td>0.000533</td>\n",
       "      <td>-0.052353</td>\n",
       "      <td>-0.075229</td>\n",
       "      <td>0.106950</td>\n",
       "      <td>-0.158156</td>\n",
       "      <td>-0.085706</td>\n",
       "      <td>-0.180474</td>\n",
       "      <td>0.053257</td>\n",
       "    </tr>\n",
       "    <tr>\n",
       "      <th>2</th>\n",
       "      <td>0.165146</td>\n",
       "      <td>0.007346</td>\n",
       "      <td>0.074340</td>\n",
       "      <td>0.190506</td>\n",
       "      <td>0.193516</td>\n",
       "      <td>-0.032130</td>\n",
       "      <td>0.092316</td>\n",
       "      <td>0.143229</td>\n",
       "      <td>-0.131792</td>\n",
       "      <td>-0.015443</td>\n",
       "      <td>...</td>\n",
       "      <td>-0.004458</td>\n",
       "      <td>-0.012147</td>\n",
       "      <td>0.098013</td>\n",
       "      <td>0.006086</td>\n",
       "      <td>-0.040081</td>\n",
       "      <td>0.032452</td>\n",
       "      <td>-0.114298</td>\n",
       "      <td>0.020193</td>\n",
       "      <td>0.007525</td>\n",
       "      <td>0.079173</td>\n",
       "    </tr>\n",
       "    <tr>\n",
       "      <th>3</th>\n",
       "      <td>0.238184</td>\n",
       "      <td>0.030137</td>\n",
       "      <td>0.170049</td>\n",
       "      <td>-0.028889</td>\n",
       "      <td>0.054495</td>\n",
       "      <td>0.085967</td>\n",
       "      <td>0.050610</td>\n",
       "      <td>0.125254</td>\n",
       "      <td>-0.157268</td>\n",
       "      <td>-0.002893</td>\n",
       "      <td>...</td>\n",
       "      <td>0.053670</td>\n",
       "      <td>0.061073</td>\n",
       "      <td>0.223797</td>\n",
       "      <td>0.043509</td>\n",
       "      <td>-0.088270</td>\n",
       "      <td>-0.052472</td>\n",
       "      <td>-0.089461</td>\n",
       "      <td>0.027364</td>\n",
       "      <td>0.058433</td>\n",
       "      <td>0.112937</td>\n",
       "    </tr>\n",
       "    <tr>\n",
       "      <th>4</th>\n",
       "      <td>0.208987</td>\n",
       "      <td>-0.055867</td>\n",
       "      <td>0.010377</td>\n",
       "      <td>0.070223</td>\n",
       "      <td>0.189384</td>\n",
       "      <td>-0.049639</td>\n",
       "      <td>0.149066</td>\n",
       "      <td>0.129112</td>\n",
       "      <td>-0.169944</td>\n",
       "      <td>0.038776</td>\n",
       "      <td>...</td>\n",
       "      <td>-0.005372</td>\n",
       "      <td>0.101545</td>\n",
       "      <td>0.051600</td>\n",
       "      <td>-0.002732</td>\n",
       "      <td>0.024942</td>\n",
       "      <td>0.001684</td>\n",
       "      <td>-0.099964</td>\n",
       "      <td>-0.037188</td>\n",
       "      <td>-0.052457</td>\n",
       "      <td>0.070469</td>\n",
       "    </tr>\n",
       "  </tbody>\n",
       "</table>\n",
       "<p>5 rows × 100 columns</p>\n",
       "</div>"
      ],
      "text/plain": [
       "         0         1         2         3         4         5         6   \\\n",
       "0  0.186551  0.011875  0.046046  0.099199  0.120487 -0.010148  0.083114   \n",
       "1  0.177017 -0.048458 -0.029944  0.299712  0.125508  0.058073  0.113061   \n",
       "2  0.165146  0.007346  0.074340  0.190506  0.193516 -0.032130  0.092316   \n",
       "3  0.238184  0.030137  0.170049 -0.028889  0.054495  0.085967  0.050610   \n",
       "4  0.208987 -0.055867  0.010377  0.070223  0.189384 -0.049639  0.149066   \n",
       "\n",
       "         7         8         9   ...        90        91        92        93  \\\n",
       "0  0.114215 -0.105236 -0.008650  ...  0.015612 -0.016259  0.002527 -0.028181   \n",
       "1  0.087689 -0.082358  0.047613  ... -0.107944  0.014412  0.000533 -0.052353   \n",
       "2  0.143229 -0.131792 -0.015443  ... -0.004458 -0.012147  0.098013  0.006086   \n",
       "3  0.125254 -0.157268 -0.002893  ...  0.053670  0.061073  0.223797  0.043509   \n",
       "4  0.129112 -0.169944  0.038776  ... -0.005372  0.101545  0.051600 -0.002732   \n",
       "\n",
       "         94        95        96        97        98        99  \n",
       "0 -0.022651 -0.053839 -0.056142 -0.092663 -0.096586 -0.016810  \n",
       "1 -0.075229  0.106950 -0.158156 -0.085706 -0.180474  0.053257  \n",
       "2 -0.040081  0.032452 -0.114298  0.020193  0.007525  0.079173  \n",
       "3 -0.088270 -0.052472 -0.089461  0.027364  0.058433  0.112937  \n",
       "4  0.024942  0.001684 -0.099964 -0.037188 -0.052457  0.070469  \n",
       "\n",
       "[5 rows x 100 columns]"
      ]
     },
     "execution_count": 86,
     "metadata": {},
     "output_type": "execute_result"
    }
   ],
   "source": [
    "X=model[model.wv.vocab]               ### froming the dataset of the vectors by comparing them\n",
    "df=pd.DataFrame(X)  \n",
    "df.shape\n",
    "df.head()"
   ]
  },
  {
   "cell_type": "markdown",
   "metadata": {},
   "source": [
    "### In order to visualize the relation we need the convert the vectors into 2 Dimensional form ,this can be achieved by using PCA(Principal Component Analysis) "
   ]
  },
  {
   "cell_type": "code",
   "execution_count": 87,
   "metadata": {},
   "outputs": [],
   "source": [
    "#Computing the correlation matrix\n",
    "X_corr=df.corr()\n",
    "\n",
    "#Computing eigen values and eigen vectors\n",
    "values,vectors=np.linalg.eig(X_corr)\n",
    "\n",
    "#Sorting the eigen vectors coresponding to eigen values in descending order\n",
    "args = (-values).argsort()\n",
    "values = vectors[args]\n",
    "vectors = vectors[:, args]\n",
    "\n",
    "#Taking first 2 components which explain maximum variance for projecting\n",
    "new_vectors=vectors[:,:2]\n",
    "\n",
    "#Projecting it onto new dimesion with 2 axis\n",
    "neww_X=np.dot(X,new_vectors)"
   ]
  },
  {
   "cell_type": "code",
   "execution_count": 88,
   "metadata": {},
   "outputs": [
    {
     "data": {
      "text/plain": [
       "41"
      ]
     },
     "execution_count": 88,
     "metadata": {},
     "output_type": "execute_result"
    }
   ],
   "source": [
    "len(model.wv.index2entity[:])     ### Total words learned"
   ]
  },
  {
   "cell_type": "markdown",
   "metadata": {},
   "source": [
    "## Graphical representation"
   ]
  },
  {
   "cell_type": "code",
   "execution_count": 89,
   "metadata": {},
   "outputs": [
    {
     "data": {
      "image/png": "[encoded data removed]",
      "text/plain": [
       "<Figure size 1440x720 with 1 Axes>"
      ]
     },
     "metadata": {},
     "output_type": "display_data"
    }
   ],
   "source": [
    "import seaborn as sns\n",
    "sns.set_style('darkgrid')\n",
    "\n",
    "import matplotlib.pyplot as plt\n",
    "plt.figure(figsize=(20,10))\n",
    "plt.scatter(neww_X[20:,0],neww_X[20:,1],linewidths=10,color='red',label='least frequent')\n",
    "plt.scatter(neww_X[:20,0],neww_X[:20,1],linewidths=10,color='blue',label = 'most frequent')\n",
    "plt.xlabel(\"PC1\",size=15)\n",
    "plt.ylabel(\"PC2\",size=15)\n",
    "plt.legend(fancybox=True, framealpha=1, shadow=True, borderpad=1,fontsize='xx-large')\n",
    "plt.title(\"Word Embedding Space with 40 most frequent words \",size=20)\n",
    "vocab=list(model.wv.vocab)\n",
    "for i, word in enumerate(vocab):\n",
    "  plt.annotate(word,xy=(neww_X[i,0],neww_X[i,1]))\n",
    "# plt.savefig('most_least_words_new_stopwords_top_20.png', dpi=400, bbox_inches='tight')\n"
   ]
  },
  {
   "cell_type": "markdown",
   "metadata": {},
   "source": [
    "### Words with least frequency"
   ]
  },
  {
   "cell_type": "code",
   "execution_count": null,
   "metadata": {},
   "outputs": [],
   "source": [
    "for word in model.wv.vocab:\n",
    "    if(model.wv.vocab[word].count <180):\n",
    "        print((word, model.wv.vocab[word].count))"
   ]
  },
  {
   "cell_type": "code",
   "execution_count": null,
   "metadata": {},
   "outputs": [],
   "source": [
    "vocab1 = model.wv.index2entity[-20:]  #### Least 20 words\n",
    "vocab1"
   ]
  },
  {
   "cell_type": "code",
   "execution_count": null,
   "metadata": {},
   "outputs": [],
   "source": []
  }
 ],
 "metadata": {
  "kernelspec": {
   "display_name": "Python 3",
   "language": "python",
   "name": "python3"
  },
  "language_info": {
   "codemirror_mode": {
    "name": "ipython",
    "version": 3
   },
   "file_extension": ".py",
   "mimetype": "text/x-python",
   "name": "python",
   "nbconvert_exporter": "python",
   "pygments_lexer": "ipython3",
   "version": "3.8.3"
  }
 },
 "nbformat": 4,
 "nbformat_minor": 4
}
