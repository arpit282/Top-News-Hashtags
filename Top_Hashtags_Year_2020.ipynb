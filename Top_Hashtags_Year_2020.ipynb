{
 "cells": [
  {
   "cell_type": "markdown",
   "metadata": {},
   "source": [
    "# NATURAL LANGUAGE PROCESSING \n",
    "\n",
    "- This is a project that contains the news of the year 2020 with heading , summary , keywords , hashtags , publish_time,\tbody_polarity , body_polarity_score , title_polarity , title_polarity_score , country_origin ,\tstate_origin , city_origin.\n",
    "\n",
    "- The main aim of the project is to analysis the whole dataset and find the most frequent and least frequent words in them \n",
    "\n",
    "- We have used Word2vec for converting the words into vectors and joing the columns [heading , summary , hashtags and keywords] to cleaned them and converted them to the list of lists. "
   ]
  },
  {
   "cell_type": "code",
   "execution_count": 1,
   "metadata": {},
   "outputs": [
    {
     "name": "stderr",
     "output_type": "stream",
     "text": [
      "[nltk_data] Downloading package stopwords to\n",
      "[nltk_data]     C:\\Users\\DELL\\AppData\\Roaming\\nltk_data...\n",
      "[nltk_data]   Package stopwords is already up-to-date!\n"
     ]
    },
    {
     "data": {
      "text/plain": [
       "True"
      ]
     },
     "execution_count": 1,
     "metadata": {},
     "output_type": "execute_result"
    }
   ],
   "source": [
    "import pandas as pd\n",
    "from gensim.models import Word2Vec \n",
    "import numpy as np\n",
    "import warnings\n",
    "warnings.filterwarnings(\"ignore\")\n",
    "warnings.warn(\"deprecated\", DeprecationWarning)\n",
    "import nltk\n",
    "import re\n",
    "nltk.download('stopwords')\n"
   ]
  },
  {
   "cell_type": "code",
   "execution_count": 2,
   "metadata": {},
   "outputs": [
    {
     "data": {
      "text/html": [
       "<div>\n",
       "<style scoped>\n",
       "    .dataframe tbody tr th:only-of-type {\n",
       "        vertical-align: middle;\n",
       "    }\n",
       "\n",
       "    .dataframe tbody tr th {\n",
       "        vertical-align: top;\n",
       "    }\n",
       "\n",
       "    .dataframe thead th {\n",
       "        text-align: right;\n",
       "    }\n",
       "</style>\n",
       "<table border=\"1\" class=\"dataframe\">\n",
       "  <thead>\n",
       "    <tr style=\"text-align: right;\">\n",
       "      <th></th>\n",
       "      <th>summary</th>\n",
       "      <th>heading</th>\n",
       "      <th>words_count</th>\n",
       "      <th>hashtags</th>\n",
       "      <th>keywords</th>\n",
       "      <th>publish_time</th>\n",
       "      <th>body_polarity</th>\n",
       "      <th>body_polarity_score</th>\n",
       "      <th>title_polarity</th>\n",
       "      <th>title_polarity_score</th>\n",
       "      <th>country_origin</th>\n",
       "      <th>state_origin</th>\n",
       "      <th>city_origin</th>\n",
       "    </tr>\n",
       "  </thead>\n",
       "  <tbody>\n",
       "    <tr>\n",
       "      <th>0</th>\n",
       "      <td>However, this restriction will not apply to in...</td>\n",
       "      <td>Ban on international passenger flights extende...</td>\n",
       "      <td>223</td>\n",
       "      <td>[#DGCA, #DirectorateGeneralOfCivilAviation, #C...</td>\n",
       "      <td>[flights, passenger, international, passenger ...</td>\n",
       "      <td>2020-03-26 14:30:18</td>\n",
       "      <td>negative</td>\n",
       "      <td>0.988144</td>\n",
       "      <td>neutral</td>\n",
       "      <td>0.890838</td>\n",
       "      <td>IN</td>\n",
       "      <td>None</td>\n",
       "      <td>None</td>\n",
       "    </tr>\n",
       "    <tr>\n",
       "      <th>1</th>\n",
       "      <td>But leg-spinner Yuzvendra Chahal is utilising ...</td>\n",
       "      <td>Yuzvendra Chahal's</td>\n",
       "      <td>292</td>\n",
       "      <td>[#India, #Coronavirus, #OneDayInternational, #...</td>\n",
       "      <td>[Yuzvendra Chahal, Chahal, Yuzvendra, TikTok v...</td>\n",
       "      <td>2020-03-26 14:29:28</td>\n",
       "      <td>positive</td>\n",
       "      <td>0.885754</td>\n",
       "      <td>neutral</td>\n",
       "      <td>0.407149</td>\n",
       "      <td>IN</td>\n",
       "      <td>None</td>\n",
       "      <td>None</td>\n",
       "    </tr>\n",
       "    <tr>\n",
       "      <th>2</th>\n",
       "      <td>So the math was simple and the step logical: L...</td>\n",
       "      <td>Opinion: COVID-19 Lockdown Is Needed But May N...</td>\n",
       "      <td>812</td>\n",
       "      <td>[#Lockdown, #ListsOfTransformersCharacters, #I...</td>\n",
       "      <td>[Lockdown, COVID-19, Needed, Opinion, Problem,...</td>\n",
       "      <td>2020-03-26 14:29:28</td>\n",
       "      <td>negative</td>\n",
       "      <td>0.606026</td>\n",
       "      <td>negative</td>\n",
       "      <td>0.863666</td>\n",
       "      <td>IN</td>\n",
       "      <td>None</td>\n",
       "      <td>None</td>\n",
       "    </tr>\n",
       "    <tr>\n",
       "      <th>3</th>\n",
       "      <td>Chief Ministers of three states - Bengal, Biha...</td>\n",
       "      <td>Amid Lockdown, Chief Ministers Seek Help For M...</td>\n",
       "      <td>401</td>\n",
       "      <td>[#ChiefMinister, #Bengal, #Odisha, #Bihar, #Li...</td>\n",
       "      <td>[Chief, Migrant, Ministers, Labourers, Lockdow...</td>\n",
       "      <td>2020-03-26 14:29:28</td>\n",
       "      <td>negative</td>\n",
       "      <td>0.842977</td>\n",
       "      <td>neutral</td>\n",
       "      <td>0.734383</td>\n",
       "      <td>IN</td>\n",
       "      <td>None</td>\n",
       "      <td>None</td>\n",
       "    </tr>\n",
       "    <tr>\n",
       "      <th>4</th>\n",
       "      <td>Finance Minister, Nirmala Sitharaman, today an...</td>\n",
       "      <td>Coronavirus Pandemic: Auto Industry Welcomes F...</td>\n",
       "      <td>604</td>\n",
       "      <td>[#Crore, #Coronavirus, #FinanceMinister, #Lakh...</td>\n",
       "      <td>[Auto, Industry, Announcement, Crisis, Situati...</td>\n",
       "      <td>2020-03-26 14:29:28</td>\n",
       "      <td>negative</td>\n",
       "      <td>0.849670</td>\n",
       "      <td>negative</td>\n",
       "      <td>0.470863</td>\n",
       "      <td>IN</td>\n",
       "      <td>None</td>\n",
       "      <td>None</td>\n",
       "    </tr>\n",
       "  </tbody>\n",
       "</table>\n",
       "</div>"
      ],
      "text/plain": [
       "                                             summary  \\\n",
       "0  However, this restriction will not apply to in...   \n",
       "1  But leg-spinner Yuzvendra Chahal is utilising ...   \n",
       "2  So the math was simple and the step logical: L...   \n",
       "3  Chief Ministers of three states - Bengal, Biha...   \n",
       "4  Finance Minister, Nirmala Sitharaman, today an...   \n",
       "\n",
       "                                             heading  words_count  \\\n",
       "0  Ban on international passenger flights extende...          223   \n",
       "1                                 Yuzvendra Chahal's          292   \n",
       "2  Opinion: COVID-19 Lockdown Is Needed But May N...          812   \n",
       "3  Amid Lockdown, Chief Ministers Seek Help For M...          401   \n",
       "4  Coronavirus Pandemic: Auto Industry Welcomes F...          604   \n",
       "\n",
       "                                            hashtags  \\\n",
       "0  [#DGCA, #DirectorateGeneralOfCivilAviation, #C...   \n",
       "1  [#India, #Coronavirus, #OneDayInternational, #...   \n",
       "2  [#Lockdown, #ListsOfTransformersCharacters, #I...   \n",
       "3  [#ChiefMinister, #Bengal, #Odisha, #Bihar, #Li...   \n",
       "4  [#Crore, #Coronavirus, #FinanceMinister, #Lakh...   \n",
       "\n",
       "                                            keywords        publish_time  \\\n",
       "0  [flights, passenger, international, passenger ... 2020-03-26 14:30:18   \n",
       "1  [Yuzvendra Chahal, Chahal, Yuzvendra, TikTok v... 2020-03-26 14:29:28   \n",
       "2  [Lockdown, COVID-19, Needed, Opinion, Problem,... 2020-03-26 14:29:28   \n",
       "3  [Chief, Migrant, Ministers, Labourers, Lockdow... 2020-03-26 14:29:28   \n",
       "4  [Auto, Industry, Announcement, Crisis, Situati... 2020-03-26 14:29:28   \n",
       "\n",
       "  body_polarity  body_polarity_score title_polarity  title_polarity_score  \\\n",
       "0      negative             0.988144        neutral              0.890838   \n",
       "1      positive             0.885754        neutral              0.407149   \n",
       "2      negative             0.606026       negative              0.863666   \n",
       "3      negative             0.842977        neutral              0.734383   \n",
       "4      negative             0.849670       negative              0.470863   \n",
       "\n",
       "  country_origin state_origin city_origin  \n",
       "0             IN         None        None  \n",
       "1             IN         None        None  \n",
       "2             IN         None        None  \n",
       "3             IN         None        None  \n",
       "4             IN         None        None  "
      ]
     },
     "execution_count": 2,
     "metadata": {},
     "output_type": "execute_result"
    }
   ],
   "source": [
    "df = pd.read_json('aylien_cleaned_1_Aug_44.json')  ## uploading the json file\n",
    "df.head()"
   ]
  },
  {
   "cell_type": "code",
   "execution_count": 3,
   "metadata": {},
   "outputs": [],
   "source": [
    "df2 = df.copy()"
   ]
  },
  {
   "cell_type": "code",
   "execution_count": 4,
   "metadata": {},
   "outputs": [],
   "source": [
    "df = df[:537]"
   ]
  },
  {
   "cell_type": "code",
   "execution_count": 5,
   "metadata": {},
   "outputs": [],
   "source": [
    "df1 = df.hashtags.copy()"
   ]
  },
  {
   "cell_type": "code",
   "execution_count": 6,
   "metadata": {},
   "outputs": [
    {
     "data": {
      "text/plain": [
       "(537,)"
      ]
     },
     "execution_count": 6,
     "metadata": {},
     "output_type": "execute_result"
    }
   ],
   "source": [
    "df1.shape"
   ]
  },
  {
   "cell_type": "code",
   "execution_count": 7,
   "metadata": {},
   "outputs": [
    {
     "data": {
      "text/plain": [
       "summary                   0\n",
       "heading                   0\n",
       "words_count               0\n",
       "hashtags                  0\n",
       "keywords                  0\n",
       "publish_time              0\n",
       "body_polarity             1\n",
       "body_polarity_score       1\n",
       "title_polarity            0\n",
       "title_polarity_score      0\n",
       "country_origin            0\n",
       "state_origin            380\n",
       "city_origin             380\n",
       "dtype: int64"
      ]
     },
     "execution_count": 7,
     "metadata": {},
     "output_type": "execute_result"
    }
   ],
   "source": [
    "df.isnull().sum()    ## checking null values"
   ]
  },
  {
   "cell_type": "code",
   "execution_count": 8,
   "metadata": {},
   "outputs": [
    {
     "data": {
      "text/plain": [
       "['#India',\n",
       " '#Coronavirus',\n",
       " '#OneDayInternational',\n",
       " '#IndianPremierLeague',\n",
       " '#Pandemic',\n",
       " '#GovernmentOfIndia',\n",
       " '#Lockdown',\n",
       " '#LegSpin',\n",
       " '#Twitter',\n",
       " '#DanceMove',\n",
       " '#SocialMedia',\n",
       " '#Virus',\n",
       " '#Twenty20International',\n",
       " '#ODI',\n",
       " '#NewZealand',\n",
       " '#Whitewash',\n",
       " '#ViratKohli',\n",
       " '#RoyalChallengersBangalore',\n",
       " '#Cricket',\n",
       " '#IPL',\n",
       " '#BCCI',\n",
       " '#BoardOfControlForCricketInIndia']"
      ]
     },
     "execution_count": 8,
     "metadata": {},
     "output_type": "execute_result"
    }
   ],
   "source": [
    "df1[1]"
   ]
  },
  {
   "cell_type": "code",
   "execution_count": 9,
   "metadata": {},
   "outputs": [],
   "source": [
    "for i in range(len(df1)):                                 #### Unlisting the listed hashtags\n",
    "    df1[i] = ','.join(map(str, df1[i]))         "
   ]
  },
  {
   "cell_type": "code",
   "execution_count": 10,
   "metadata": {},
   "outputs": [
    {
     "data": {
      "text/plain": [
       "0    #DGCA,#DirectorateGeneralOfCivilAviation,#Coro...\n",
       "1    #India,#Coronavirus,#OneDayInternational,#Indi...\n",
       "2    #Lockdown,#ListsOfTransformersCharacters,#Indi...\n",
       "3    #ChiefMinister,#Bengal,#Odisha,#Bihar,#ListsOf...\n",
       "4    #Crore,#Coronavirus,#FinanceMinister,#Lakh,#FM...\n",
       "Name: hashtags, dtype: object"
      ]
     },
     "execution_count": 10,
     "metadata": {},
     "output_type": "execute_result"
    }
   ],
   "source": [
    "df1.head()"
   ]
  },
  {
   "cell_type": "code",
   "execution_count": 11,
   "metadata": {},
   "outputs": [],
   "source": [
    "df3 = df1.to_frame()"
   ]
  },
  {
   "cell_type": "code",
   "execution_count": 12,
   "metadata": {},
   "outputs": [],
   "source": [
    "df3.columns = ['Unlisted_hashtags']"
   ]
  },
  {
   "cell_type": "code",
   "execution_count": 13,
   "metadata": {},
   "outputs": [
    {
     "data": {
      "text/html": [
       "<div>\n",
       "<style scoped>\n",
       "    .dataframe tbody tr th:only-of-type {\n",
       "        vertical-align: middle;\n",
       "    }\n",
       "\n",
       "    .dataframe tbody tr th {\n",
       "        vertical-align: top;\n",
       "    }\n",
       "\n",
       "    .dataframe thead th {\n",
       "        text-align: right;\n",
       "    }\n",
       "</style>\n",
       "<table border=\"1\" class=\"dataframe\">\n",
       "  <thead>\n",
       "    <tr style=\"text-align: right;\">\n",
       "      <th></th>\n",
       "      <th>Unlisted_hashtags</th>\n",
       "    </tr>\n",
       "  </thead>\n",
       "  <tbody>\n",
       "    <tr>\n",
       "      <th>0</th>\n",
       "      <td>#DGCA,#DirectorateGeneralOfCivilAviation,#Coro...</td>\n",
       "    </tr>\n",
       "    <tr>\n",
       "      <th>1</th>\n",
       "      <td>#India,#Coronavirus,#OneDayInternational,#Indi...</td>\n",
       "    </tr>\n",
       "    <tr>\n",
       "      <th>2</th>\n",
       "      <td>#Lockdown,#ListsOfTransformersCharacters,#Indi...</td>\n",
       "    </tr>\n",
       "    <tr>\n",
       "      <th>3</th>\n",
       "      <td>#ChiefMinister,#Bengal,#Odisha,#Bihar,#ListsOf...</td>\n",
       "    </tr>\n",
       "    <tr>\n",
       "      <th>4</th>\n",
       "      <td>#Crore,#Coronavirus,#FinanceMinister,#Lakh,#FM...</td>\n",
       "    </tr>\n",
       "  </tbody>\n",
       "</table>\n",
       "</div>"
      ],
      "text/plain": [
       "                                   Unlisted_hashtags\n",
       "0  #DGCA,#DirectorateGeneralOfCivilAviation,#Coro...\n",
       "1  #India,#Coronavirus,#OneDayInternational,#Indi...\n",
       "2  #Lockdown,#ListsOfTransformersCharacters,#Indi...\n",
       "3  #ChiefMinister,#Bengal,#Odisha,#Bihar,#ListsOf...\n",
       "4  #Crore,#Coronavirus,#FinanceMinister,#Lakh,#FM..."
      ]
     },
     "execution_count": 13,
     "metadata": {},
     "output_type": "execute_result"
    }
   ],
   "source": [
    "df3.head()"
   ]
  },
  {
   "cell_type": "code",
   "execution_count": 14,
   "metadata": {},
   "outputs": [],
   "source": [
    "df4 = pd.concat([df3,df2],axis=1)    #### concatenating the unlisted hashtags"
   ]
  },
  {
   "cell_type": "code",
   "execution_count": 15,
   "metadata": {},
   "outputs": [
    {
     "data": {
      "text/html": [
       "<div>\n",
       "<style scoped>\n",
       "    .dataframe tbody tr th:only-of-type {\n",
       "        vertical-align: middle;\n",
       "    }\n",
       "\n",
       "    .dataframe tbody tr th {\n",
       "        vertical-align: top;\n",
       "    }\n",
       "\n",
       "    .dataframe thead th {\n",
       "        text-align: right;\n",
       "    }\n",
       "</style>\n",
       "<table border=\"1\" class=\"dataframe\">\n",
       "  <thead>\n",
       "    <tr style=\"text-align: right;\">\n",
       "      <th></th>\n",
       "      <th>Unlisted_hashtags</th>\n",
       "      <th>summary</th>\n",
       "      <th>heading</th>\n",
       "      <th>words_count</th>\n",
       "      <th>hashtags</th>\n",
       "      <th>keywords</th>\n",
       "      <th>publish_time</th>\n",
       "      <th>body_polarity</th>\n",
       "      <th>body_polarity_score</th>\n",
       "      <th>title_polarity</th>\n",
       "      <th>title_polarity_score</th>\n",
       "      <th>country_origin</th>\n",
       "      <th>state_origin</th>\n",
       "      <th>city_origin</th>\n",
       "    </tr>\n",
       "  </thead>\n",
       "  <tbody>\n",
       "    <tr>\n",
       "      <th>0</th>\n",
       "      <td>#DGCA,#DirectorateGeneralOfCivilAviation,#Coro...</td>\n",
       "      <td>However, this restriction will not apply to in...</td>\n",
       "      <td>Ban on international passenger flights extende...</td>\n",
       "      <td>223</td>\n",
       "      <td>[#DGCA, #DirectorateGeneralOfCivilAviation, #C...</td>\n",
       "      <td>[flights, passenger, international, passenger ...</td>\n",
       "      <td>2020-03-26 14:30:18</td>\n",
       "      <td>negative</td>\n",
       "      <td>0.988144</td>\n",
       "      <td>neutral</td>\n",
       "      <td>0.890838</td>\n",
       "      <td>IN</td>\n",
       "      <td>None</td>\n",
       "      <td>None</td>\n",
       "    </tr>\n",
       "    <tr>\n",
       "      <th>1</th>\n",
       "      <td>#India,#Coronavirus,#OneDayInternational,#Indi...</td>\n",
       "      <td>But leg-spinner Yuzvendra Chahal is utilising ...</td>\n",
       "      <td>Yuzvendra Chahal's</td>\n",
       "      <td>292</td>\n",
       "      <td>[#India, #Coronavirus, #OneDayInternational, #...</td>\n",
       "      <td>[Yuzvendra Chahal, Chahal, Yuzvendra, TikTok v...</td>\n",
       "      <td>2020-03-26 14:29:28</td>\n",
       "      <td>positive</td>\n",
       "      <td>0.885754</td>\n",
       "      <td>neutral</td>\n",
       "      <td>0.407149</td>\n",
       "      <td>IN</td>\n",
       "      <td>None</td>\n",
       "      <td>None</td>\n",
       "    </tr>\n",
       "    <tr>\n",
       "      <th>2</th>\n",
       "      <td>#Lockdown,#ListsOfTransformersCharacters,#Indi...</td>\n",
       "      <td>So the math was simple and the step logical: L...</td>\n",
       "      <td>Opinion: COVID-19 Lockdown Is Needed But May N...</td>\n",
       "      <td>812</td>\n",
       "      <td>[#Lockdown, #ListsOfTransformersCharacters, #I...</td>\n",
       "      <td>[Lockdown, COVID-19, Needed, Opinion, Problem,...</td>\n",
       "      <td>2020-03-26 14:29:28</td>\n",
       "      <td>negative</td>\n",
       "      <td>0.606026</td>\n",
       "      <td>negative</td>\n",
       "      <td>0.863666</td>\n",
       "      <td>IN</td>\n",
       "      <td>None</td>\n",
       "      <td>None</td>\n",
       "    </tr>\n",
       "    <tr>\n",
       "      <th>3</th>\n",
       "      <td>#ChiefMinister,#Bengal,#Odisha,#Bihar,#ListsOf...</td>\n",
       "      <td>Chief Ministers of three states - Bengal, Biha...</td>\n",
       "      <td>Amid Lockdown, Chief Ministers Seek Help For M...</td>\n",
       "      <td>401</td>\n",
       "      <td>[#ChiefMinister, #Bengal, #Odisha, #Bihar, #Li...</td>\n",
       "      <td>[Chief, Migrant, Ministers, Labourers, Lockdow...</td>\n",
       "      <td>2020-03-26 14:29:28</td>\n",
       "      <td>negative</td>\n",
       "      <td>0.842977</td>\n",
       "      <td>neutral</td>\n",
       "      <td>0.734383</td>\n",
       "      <td>IN</td>\n",
       "      <td>None</td>\n",
       "      <td>None</td>\n",
       "    </tr>\n",
       "    <tr>\n",
       "      <th>4</th>\n",
       "      <td>#Crore,#Coronavirus,#FinanceMinister,#Lakh,#FM...</td>\n",
       "      <td>Finance Minister, Nirmala Sitharaman, today an...</td>\n",
       "      <td>Coronavirus Pandemic: Auto Industry Welcomes F...</td>\n",
       "      <td>604</td>\n",
       "      <td>[#Crore, #Coronavirus, #FinanceMinister, #Lakh...</td>\n",
       "      <td>[Auto, Industry, Announcement, Crisis, Situati...</td>\n",
       "      <td>2020-03-26 14:29:28</td>\n",
       "      <td>negative</td>\n",
       "      <td>0.849670</td>\n",
       "      <td>negative</td>\n",
       "      <td>0.470863</td>\n",
       "      <td>IN</td>\n",
       "      <td>None</td>\n",
       "      <td>None</td>\n",
       "    </tr>\n",
       "  </tbody>\n",
       "</table>\n",
       "</div>"
      ],
      "text/plain": [
       "                                   Unlisted_hashtags  \\\n",
       "0  #DGCA,#DirectorateGeneralOfCivilAviation,#Coro...   \n",
       "1  #India,#Coronavirus,#OneDayInternational,#Indi...   \n",
       "2  #Lockdown,#ListsOfTransformersCharacters,#Indi...   \n",
       "3  #ChiefMinister,#Bengal,#Odisha,#Bihar,#ListsOf...   \n",
       "4  #Crore,#Coronavirus,#FinanceMinister,#Lakh,#FM...   \n",
       "\n",
       "                                             summary  \\\n",
       "0  However, this restriction will not apply to in...   \n",
       "1  But leg-spinner Yuzvendra Chahal is utilising ...   \n",
       "2  So the math was simple and the step logical: L...   \n",
       "3  Chief Ministers of three states - Bengal, Biha...   \n",
       "4  Finance Minister, Nirmala Sitharaman, today an...   \n",
       "\n",
       "                                             heading  words_count  \\\n",
       "0  Ban on international passenger flights extende...          223   \n",
       "1                                 Yuzvendra Chahal's          292   \n",
       "2  Opinion: COVID-19 Lockdown Is Needed But May N...          812   \n",
       "3  Amid Lockdown, Chief Ministers Seek Help For M...          401   \n",
       "4  Coronavirus Pandemic: Auto Industry Welcomes F...          604   \n",
       "\n",
       "                                            hashtags  \\\n",
       "0  [#DGCA, #DirectorateGeneralOfCivilAviation, #C...   \n",
       "1  [#India, #Coronavirus, #OneDayInternational, #...   \n",
       "2  [#Lockdown, #ListsOfTransformersCharacters, #I...   \n",
       "3  [#ChiefMinister, #Bengal, #Odisha, #Bihar, #Li...   \n",
       "4  [#Crore, #Coronavirus, #FinanceMinister, #Lakh...   \n",
       "\n",
       "                                            keywords        publish_time  \\\n",
       "0  [flights, passenger, international, passenger ... 2020-03-26 14:30:18   \n",
       "1  [Yuzvendra Chahal, Chahal, Yuzvendra, TikTok v... 2020-03-26 14:29:28   \n",
       "2  [Lockdown, COVID-19, Needed, Opinion, Problem,... 2020-03-26 14:29:28   \n",
       "3  [Chief, Migrant, Ministers, Labourers, Lockdow... 2020-03-26 14:29:28   \n",
       "4  [Auto, Industry, Announcement, Crisis, Situati... 2020-03-26 14:29:28   \n",
       "\n",
       "  body_polarity  body_polarity_score title_polarity  title_polarity_score  \\\n",
       "0      negative             0.988144        neutral              0.890838   \n",
       "1      positive             0.885754        neutral              0.407149   \n",
       "2      negative             0.606026       negative              0.863666   \n",
       "3      negative             0.842977        neutral              0.734383   \n",
       "4      negative             0.849670       negative              0.470863   \n",
       "\n",
       "  country_origin state_origin city_origin  \n",
       "0             IN         None        None  \n",
       "1             IN         None        None  \n",
       "2             IN         None        None  \n",
       "3             IN         None        None  \n",
       "4             IN         None        None  "
      ]
     },
     "execution_count": 15,
     "metadata": {},
     "output_type": "execute_result"
    }
   ],
   "source": [
    "df4.head()"
   ]
  },
  {
   "cell_type": "code",
   "execution_count": 16,
   "metadata": {},
   "outputs": [],
   "source": [
    "df2 = df2.keywords.copy()"
   ]
  },
  {
   "cell_type": "code",
   "execution_count": 17,
   "metadata": {},
   "outputs": [
    {
     "data": {
      "text/plain": [
       "0    [flights, passenger, international, passenger ...\n",
       "1    [Yuzvendra Chahal, Chahal, Yuzvendra, TikTok v...\n",
       "2    [Lockdown, COVID-19, Needed, Opinion, Problem,...\n",
       "3    [Chief, Migrant, Ministers, Labourers, Lockdow...\n",
       "4    [Auto, Industry, Announcement, Crisis, Situati...\n",
       "Name: keywords, dtype: object"
      ]
     },
     "execution_count": 17,
     "metadata": {},
     "output_type": "execute_result"
    }
   ],
   "source": [
    "df2.head()"
   ]
  },
  {
   "cell_type": "code",
   "execution_count": 18,
   "metadata": {},
   "outputs": [],
   "source": [
    "for i in range(len(df1)):                              ## unlistng the listed Keywords\n",
    "    df2[i] = ','.join(map(str, df2[i]))"
   ]
  },
  {
   "cell_type": "code",
   "execution_count": 19,
   "metadata": {},
   "outputs": [
    {
     "data": {
      "text/plain": [
       "0    flights,passenger,international,passenger flig...\n",
       "1    Yuzvendra Chahal,Chahal,Yuzvendra,TikTok video...\n",
       "2    Lockdown,COVID-19,Needed,Opinion,Problem,lockd...\n",
       "3    Chief,Migrant,Ministers,Labourers,Lockdown,Chi...\n",
       "4    Auto,Industry,Announcement,Crisis,Situation,Ex...\n",
       "Name: keywords, dtype: object"
      ]
     },
     "execution_count": 19,
     "metadata": {},
     "output_type": "execute_result"
    }
   ],
   "source": [
    "df2.head()"
   ]
  },
  {
   "cell_type": "code",
   "execution_count": 20,
   "metadata": {},
   "outputs": [],
   "source": [
    "df3 = df2.to_frame()"
   ]
  },
  {
   "cell_type": "code",
   "execution_count": 21,
   "metadata": {},
   "outputs": [
    {
     "data": {
      "text/html": [
       "<div>\n",
       "<style scoped>\n",
       "    .dataframe tbody tr th:only-of-type {\n",
       "        vertical-align: middle;\n",
       "    }\n",
       "\n",
       "    .dataframe tbody tr th {\n",
       "        vertical-align: top;\n",
       "    }\n",
       "\n",
       "    .dataframe thead th {\n",
       "        text-align: right;\n",
       "    }\n",
       "</style>\n",
       "<table border=\"1\" class=\"dataframe\">\n",
       "  <thead>\n",
       "    <tr style=\"text-align: right;\">\n",
       "      <th></th>\n",
       "      <th>keywords</th>\n",
       "    </tr>\n",
       "  </thead>\n",
       "  <tbody>\n",
       "    <tr>\n",
       "      <th>0</th>\n",
       "      <td>flights,passenger,international,passenger flig...</td>\n",
       "    </tr>\n",
       "    <tr>\n",
       "      <th>1</th>\n",
       "      <td>Yuzvendra Chahal,Chahal,Yuzvendra,TikTok video...</td>\n",
       "    </tr>\n",
       "    <tr>\n",
       "      <th>2</th>\n",
       "      <td>Lockdown,COVID-19,Needed,Opinion,Problem,lockd...</td>\n",
       "    </tr>\n",
       "    <tr>\n",
       "      <th>3</th>\n",
       "      <td>Chief,Migrant,Ministers,Labourers,Lockdown,Chi...</td>\n",
       "    </tr>\n",
       "    <tr>\n",
       "      <th>4</th>\n",
       "      <td>Auto,Industry,Announcement,Crisis,Situation,Ex...</td>\n",
       "    </tr>\n",
       "  </tbody>\n",
       "</table>\n",
       "</div>"
      ],
      "text/plain": [
       "                                            keywords\n",
       "0  flights,passenger,international,passenger flig...\n",
       "1  Yuzvendra Chahal,Chahal,Yuzvendra,TikTok video...\n",
       "2  Lockdown,COVID-19,Needed,Opinion,Problem,lockd...\n",
       "3  Chief,Migrant,Ministers,Labourers,Lockdown,Chi...\n",
       "4  Auto,Industry,Announcement,Crisis,Situation,Ex..."
      ]
     },
     "execution_count": 21,
     "metadata": {},
     "output_type": "execute_result"
    }
   ],
   "source": [
    "df3.head()"
   ]
  },
  {
   "cell_type": "code",
   "execution_count": 22,
   "metadata": {},
   "outputs": [],
   "source": [
    "df3.columns = ['Unlist_keywords']"
   ]
  },
  {
   "cell_type": "code",
   "execution_count": 23,
   "metadata": {},
   "outputs": [],
   "source": [
    "df4 = pd.concat([df3,df4],axis=1)            ### Concatenating the Unlisted Keywords"
   ]
  },
  {
   "cell_type": "code",
   "execution_count": 24,
   "metadata": {},
   "outputs": [
    {
     "data": {
      "text/html": [
       "<div>\n",
       "<style scoped>\n",
       "    .dataframe tbody tr th:only-of-type {\n",
       "        vertical-align: middle;\n",
       "    }\n",
       "\n",
       "    .dataframe tbody tr th {\n",
       "        vertical-align: top;\n",
       "    }\n",
       "\n",
       "    .dataframe thead th {\n",
       "        text-align: right;\n",
       "    }\n",
       "</style>\n",
       "<table border=\"1\" class=\"dataframe\">\n",
       "  <thead>\n",
       "    <tr style=\"text-align: right;\">\n",
       "      <th></th>\n",
       "      <th>Unlist_keywords</th>\n",
       "      <th>Unlisted_hashtags</th>\n",
       "      <th>summary</th>\n",
       "      <th>heading</th>\n",
       "      <th>words_count</th>\n",
       "      <th>hashtags</th>\n",
       "      <th>keywords</th>\n",
       "      <th>publish_time</th>\n",
       "      <th>body_polarity</th>\n",
       "      <th>body_polarity_score</th>\n",
       "      <th>title_polarity</th>\n",
       "      <th>title_polarity_score</th>\n",
       "      <th>country_origin</th>\n",
       "      <th>state_origin</th>\n",
       "      <th>city_origin</th>\n",
       "    </tr>\n",
       "  </thead>\n",
       "  <tbody>\n",
       "    <tr>\n",
       "      <th>0</th>\n",
       "      <td>flights,passenger,international,passenger flig...</td>\n",
       "      <td>#DGCA,#DirectorateGeneralOfCivilAviation,#Coro...</td>\n",
       "      <td>However, this restriction will not apply to in...</td>\n",
       "      <td>Ban on international passenger flights extende...</td>\n",
       "      <td>223</td>\n",
       "      <td>[#DGCA, #DirectorateGeneralOfCivilAviation, #C...</td>\n",
       "      <td>[flights, passenger, international, passenger ...</td>\n",
       "      <td>2020-03-26 14:30:18</td>\n",
       "      <td>negative</td>\n",
       "      <td>0.988144</td>\n",
       "      <td>neutral</td>\n",
       "      <td>0.890838</td>\n",
       "      <td>IN</td>\n",
       "      <td>None</td>\n",
       "      <td>None</td>\n",
       "    </tr>\n",
       "    <tr>\n",
       "      <th>1</th>\n",
       "      <td>Yuzvendra Chahal,Chahal,Yuzvendra,TikTok video...</td>\n",
       "      <td>#India,#Coronavirus,#OneDayInternational,#Indi...</td>\n",
       "      <td>But leg-spinner Yuzvendra Chahal is utilising ...</td>\n",
       "      <td>Yuzvendra Chahal's</td>\n",
       "      <td>292</td>\n",
       "      <td>[#India, #Coronavirus, #OneDayInternational, #...</td>\n",
       "      <td>[Yuzvendra Chahal, Chahal, Yuzvendra, TikTok v...</td>\n",
       "      <td>2020-03-26 14:29:28</td>\n",
       "      <td>positive</td>\n",
       "      <td>0.885754</td>\n",
       "      <td>neutral</td>\n",
       "      <td>0.407149</td>\n",
       "      <td>IN</td>\n",
       "      <td>None</td>\n",
       "      <td>None</td>\n",
       "    </tr>\n",
       "    <tr>\n",
       "      <th>2</th>\n",
       "      <td>Lockdown,COVID-19,Needed,Opinion,Problem,lockd...</td>\n",
       "      <td>#Lockdown,#ListsOfTransformersCharacters,#Indi...</td>\n",
       "      <td>So the math was simple and the step logical: L...</td>\n",
       "      <td>Opinion: COVID-19 Lockdown Is Needed But May N...</td>\n",
       "      <td>812</td>\n",
       "      <td>[#Lockdown, #ListsOfTransformersCharacters, #I...</td>\n",
       "      <td>[Lockdown, COVID-19, Needed, Opinion, Problem,...</td>\n",
       "      <td>2020-03-26 14:29:28</td>\n",
       "      <td>negative</td>\n",
       "      <td>0.606026</td>\n",
       "      <td>negative</td>\n",
       "      <td>0.863666</td>\n",
       "      <td>IN</td>\n",
       "      <td>None</td>\n",
       "      <td>None</td>\n",
       "    </tr>\n",
       "    <tr>\n",
       "      <th>3</th>\n",
       "      <td>Chief,Migrant,Ministers,Labourers,Lockdown,Chi...</td>\n",
       "      <td>#ChiefMinister,#Bengal,#Odisha,#Bihar,#ListsOf...</td>\n",
       "      <td>Chief Ministers of three states - Bengal, Biha...</td>\n",
       "      <td>Amid Lockdown, Chief Ministers Seek Help For M...</td>\n",
       "      <td>401</td>\n",
       "      <td>[#ChiefMinister, #Bengal, #Odisha, #Bihar, #Li...</td>\n",
       "      <td>[Chief, Migrant, Ministers, Labourers, Lockdow...</td>\n",
       "      <td>2020-03-26 14:29:28</td>\n",
       "      <td>negative</td>\n",
       "      <td>0.842977</td>\n",
       "      <td>neutral</td>\n",
       "      <td>0.734383</td>\n",
       "      <td>IN</td>\n",
       "      <td>None</td>\n",
       "      <td>None</td>\n",
       "    </tr>\n",
       "    <tr>\n",
       "      <th>4</th>\n",
       "      <td>Auto,Industry,Announcement,Crisis,Situation,Ex...</td>\n",
       "      <td>#Crore,#Coronavirus,#FinanceMinister,#Lakh,#FM...</td>\n",
       "      <td>Finance Minister, Nirmala Sitharaman, today an...</td>\n",
       "      <td>Coronavirus Pandemic: Auto Industry Welcomes F...</td>\n",
       "      <td>604</td>\n",
       "      <td>[#Crore, #Coronavirus, #FinanceMinister, #Lakh...</td>\n",
       "      <td>[Auto, Industry, Announcement, Crisis, Situati...</td>\n",
       "      <td>2020-03-26 14:29:28</td>\n",
       "      <td>negative</td>\n",
       "      <td>0.849670</td>\n",
       "      <td>negative</td>\n",
       "      <td>0.470863</td>\n",
       "      <td>IN</td>\n",
       "      <td>None</td>\n",
       "      <td>None</td>\n",
       "    </tr>\n",
       "  </tbody>\n",
       "</table>\n",
       "</div>"
      ],
      "text/plain": [
       "                                     Unlist_keywords  \\\n",
       "0  flights,passenger,international,passenger flig...   \n",
       "1  Yuzvendra Chahal,Chahal,Yuzvendra,TikTok video...   \n",
       "2  Lockdown,COVID-19,Needed,Opinion,Problem,lockd...   \n",
       "3  Chief,Migrant,Ministers,Labourers,Lockdown,Chi...   \n",
       "4  Auto,Industry,Announcement,Crisis,Situation,Ex...   \n",
       "\n",
       "                                   Unlisted_hashtags  \\\n",
       "0  #DGCA,#DirectorateGeneralOfCivilAviation,#Coro...   \n",
       "1  #India,#Coronavirus,#OneDayInternational,#Indi...   \n",
       "2  #Lockdown,#ListsOfTransformersCharacters,#Indi...   \n",
       "3  #ChiefMinister,#Bengal,#Odisha,#Bihar,#ListsOf...   \n",
       "4  #Crore,#Coronavirus,#FinanceMinister,#Lakh,#FM...   \n",
       "\n",
       "                                             summary  \\\n",
       "0  However, this restriction will not apply to in...   \n",
       "1  But leg-spinner Yuzvendra Chahal is utilising ...   \n",
       "2  So the math was simple and the step logical: L...   \n",
       "3  Chief Ministers of three states - Bengal, Biha...   \n",
       "4  Finance Minister, Nirmala Sitharaman, today an...   \n",
       "\n",
       "                                             heading  words_count  \\\n",
       "0  Ban on international passenger flights extende...          223   \n",
       "1                                 Yuzvendra Chahal's          292   \n",
       "2  Opinion: COVID-19 Lockdown Is Needed But May N...          812   \n",
       "3  Amid Lockdown, Chief Ministers Seek Help For M...          401   \n",
       "4  Coronavirus Pandemic: Auto Industry Welcomes F...          604   \n",
       "\n",
       "                                            hashtags  \\\n",
       "0  [#DGCA, #DirectorateGeneralOfCivilAviation, #C...   \n",
       "1  [#India, #Coronavirus, #OneDayInternational, #...   \n",
       "2  [#Lockdown, #ListsOfTransformersCharacters, #I...   \n",
       "3  [#ChiefMinister, #Bengal, #Odisha, #Bihar, #Li...   \n",
       "4  [#Crore, #Coronavirus, #FinanceMinister, #Lakh...   \n",
       "\n",
       "                                            keywords        publish_time  \\\n",
       "0  [flights, passenger, international, passenger ... 2020-03-26 14:30:18   \n",
       "1  [Yuzvendra Chahal, Chahal, Yuzvendra, TikTok v... 2020-03-26 14:29:28   \n",
       "2  [Lockdown, COVID-19, Needed, Opinion, Problem,... 2020-03-26 14:29:28   \n",
       "3  [Chief, Migrant, Ministers, Labourers, Lockdow... 2020-03-26 14:29:28   \n",
       "4  [Auto, Industry, Announcement, Crisis, Situati... 2020-03-26 14:29:28   \n",
       "\n",
       "  body_polarity  body_polarity_score title_polarity  title_polarity_score  \\\n",
       "0      negative             0.988144        neutral              0.890838   \n",
       "1      positive             0.885754        neutral              0.407149   \n",
       "2      negative             0.606026       negative              0.863666   \n",
       "3      negative             0.842977        neutral              0.734383   \n",
       "4      negative             0.849670       negative              0.470863   \n",
       "\n",
       "  country_origin state_origin city_origin  \n",
       "0             IN         None        None  \n",
       "1             IN         None        None  \n",
       "2             IN         None        None  \n",
       "3             IN         None        None  \n",
       "4             IN         None        None  "
      ]
     },
     "execution_count": 24,
     "metadata": {},
     "output_type": "execute_result"
    }
   ],
   "source": [
    "df4.head()"
   ]
  },
  {
   "cell_type": "code",
   "execution_count": 25,
   "metadata": {},
   "outputs": [],
   "source": [
    "df5 = df4[['summary','heading']]"
   ]
  },
  {
   "cell_type": "code",
   "execution_count": 26,
   "metadata": {},
   "outputs": [
    {
     "data": {
      "text/plain": [
       "'However, this restriction will not apply to international all-cargo operations and flights specifically approved by the DGCA. All international commercial passenger flights will remain suspended till April 14, aviation regulator DGCA announced on Thursday, amid a nationwide lockdown to prevent the spread of the novel coronavirus. The Directorate General of Civil Aviation (DGCA) on March 19 had announced that no international commercial passenger flight operations will take place in India from 1.30 am on March 23 to 5.30 am on March 29. “In continuation of circular-II dated 19.3.2020 issued on the subject cited-above, it has been decided that all scheduled international commercial passenger services shall remain closed till 1830 hrs GMT (0000 hrs of Indian Standard Time) of April 14, 2020,\" the aviation regulator said. \"However, this restriction will not apply to international all-cargo operations and flights specifically approved by the DGCA,\" it said.,Ban on international passenger flights extended till Apr 14'"
      ]
     },
     "execution_count": 26,
     "metadata": {},
     "output_type": "execute_result"
    }
   ],
   "source": [
    "df5 = df5.apply(lambda x: ','.join(x.astype(str)), axis=1)     ###  Store them in a pandas dataframe\n",
    "df5[0]"
   ]
  },
  {
   "cell_type": "code",
   "execution_count": 27,
   "metadata": {},
   "outputs": [
    {
     "data": {
      "text/html": [
       "<div>\n",
       "<style scoped>\n",
       "    .dataframe tbody tr th:only-of-type {\n",
       "        vertical-align: middle;\n",
       "    }\n",
       "\n",
       "    .dataframe tbody tr th {\n",
       "        vertical-align: top;\n",
       "    }\n",
       "\n",
       "    .dataframe thead th {\n",
       "        text-align: right;\n",
       "    }\n",
       "</style>\n",
       "<table border=\"1\" class=\"dataframe\">\n",
       "  <thead>\n",
       "    <tr style=\"text-align: right;\">\n",
       "      <th></th>\n",
       "      <th>sum_head</th>\n",
       "    </tr>\n",
       "  </thead>\n",
       "  <tbody>\n",
       "    <tr>\n",
       "      <th>0</th>\n",
       "      <td>However, this restriction will not apply to in...</td>\n",
       "    </tr>\n",
       "    <tr>\n",
       "      <th>1</th>\n",
       "      <td>But leg-spinner Yuzvendra Chahal is utilising ...</td>\n",
       "    </tr>\n",
       "    <tr>\n",
       "      <th>2</th>\n",
       "      <td>So the math was simple and the step logical: L...</td>\n",
       "    </tr>\n",
       "    <tr>\n",
       "      <th>3</th>\n",
       "      <td>Chief Ministers of three states - Bengal, Biha...</td>\n",
       "    </tr>\n",
       "    <tr>\n",
       "      <th>4</th>\n",
       "      <td>Finance Minister, Nirmala Sitharaman, today an...</td>\n",
       "    </tr>\n",
       "  </tbody>\n",
       "</table>\n",
       "</div>"
      ],
      "text/plain": [
       "                                            sum_head\n",
       "0  However, this restriction will not apply to in...\n",
       "1  But leg-spinner Yuzvendra Chahal is utilising ...\n",
       "2  So the math was simple and the step logical: L...\n",
       "3  Chief Ministers of three states - Bengal, Biha...\n",
       "4  Finance Minister, Nirmala Sitharaman, today an..."
      ]
     },
     "execution_count": 27,
     "metadata": {},
     "output_type": "execute_result"
    }
   ],
   "source": [
    "sum_head = pd.DataFrame({'sum_head': df5})\n",
    "sum_head.head()"
   ]
  },
  {
   "cell_type": "code",
   "execution_count": 28,
   "metadata": {},
   "outputs": [],
   "source": [
    "df4 = pd.concat([sum_head,df4],axis=1)"
   ]
  },
  {
   "cell_type": "code",
   "execution_count": 29,
   "metadata": {},
   "outputs": [
    {
     "data": {
      "text/html": [
       "<div>\n",
       "<style scoped>\n",
       "    .dataframe tbody tr th:only-of-type {\n",
       "        vertical-align: middle;\n",
       "    }\n",
       "\n",
       "    .dataframe tbody tr th {\n",
       "        vertical-align: top;\n",
       "    }\n",
       "\n",
       "    .dataframe thead th {\n",
       "        text-align: right;\n",
       "    }\n",
       "</style>\n",
       "<table border=\"1\" class=\"dataframe\">\n",
       "  <thead>\n",
       "    <tr style=\"text-align: right;\">\n",
       "      <th></th>\n",
       "      <th>sum_head</th>\n",
       "      <th>Unlist_keywords</th>\n",
       "      <th>Unlisted_hashtags</th>\n",
       "      <th>summary</th>\n",
       "      <th>heading</th>\n",
       "      <th>words_count</th>\n",
       "      <th>hashtags</th>\n",
       "      <th>keywords</th>\n",
       "      <th>publish_time</th>\n",
       "      <th>body_polarity</th>\n",
       "      <th>body_polarity_score</th>\n",
       "      <th>title_polarity</th>\n",
       "      <th>title_polarity_score</th>\n",
       "      <th>country_origin</th>\n",
       "      <th>state_origin</th>\n",
       "      <th>city_origin</th>\n",
       "    </tr>\n",
       "  </thead>\n",
       "  <tbody>\n",
       "    <tr>\n",
       "      <th>0</th>\n",
       "      <td>However, this restriction will not apply to in...</td>\n",
       "      <td>flights,passenger,international,passenger flig...</td>\n",
       "      <td>#DGCA,#DirectorateGeneralOfCivilAviation,#Coro...</td>\n",
       "      <td>However, this restriction will not apply to in...</td>\n",
       "      <td>Ban on international passenger flights extende...</td>\n",
       "      <td>223</td>\n",
       "      <td>[#DGCA, #DirectorateGeneralOfCivilAviation, #C...</td>\n",
       "      <td>[flights, passenger, international, passenger ...</td>\n",
       "      <td>2020-03-26 14:30:18</td>\n",
       "      <td>negative</td>\n",
       "      <td>0.988144</td>\n",
       "      <td>neutral</td>\n",
       "      <td>0.890838</td>\n",
       "      <td>IN</td>\n",
       "      <td>None</td>\n",
       "      <td>None</td>\n",
       "    </tr>\n",
       "    <tr>\n",
       "      <th>1</th>\n",
       "      <td>But leg-spinner Yuzvendra Chahal is utilising ...</td>\n",
       "      <td>Yuzvendra Chahal,Chahal,Yuzvendra,TikTok video...</td>\n",
       "      <td>#India,#Coronavirus,#OneDayInternational,#Indi...</td>\n",
       "      <td>But leg-spinner Yuzvendra Chahal is utilising ...</td>\n",
       "      <td>Yuzvendra Chahal's</td>\n",
       "      <td>292</td>\n",
       "      <td>[#India, #Coronavirus, #OneDayInternational, #...</td>\n",
       "      <td>[Yuzvendra Chahal, Chahal, Yuzvendra, TikTok v...</td>\n",
       "      <td>2020-03-26 14:29:28</td>\n",
       "      <td>positive</td>\n",
       "      <td>0.885754</td>\n",
       "      <td>neutral</td>\n",
       "      <td>0.407149</td>\n",
       "      <td>IN</td>\n",
       "      <td>None</td>\n",
       "      <td>None</td>\n",
       "    </tr>\n",
       "    <tr>\n",
       "      <th>2</th>\n",
       "      <td>So the math was simple and the step logical: L...</td>\n",
       "      <td>Lockdown,COVID-19,Needed,Opinion,Problem,lockd...</td>\n",
       "      <td>#Lockdown,#ListsOfTransformersCharacters,#Indi...</td>\n",
       "      <td>So the math was simple and the step logical: L...</td>\n",
       "      <td>Opinion: COVID-19 Lockdown Is Needed But May N...</td>\n",
       "      <td>812</td>\n",
       "      <td>[#Lockdown, #ListsOfTransformersCharacters, #I...</td>\n",
       "      <td>[Lockdown, COVID-19, Needed, Opinion, Problem,...</td>\n",
       "      <td>2020-03-26 14:29:28</td>\n",
       "      <td>negative</td>\n",
       "      <td>0.606026</td>\n",
       "      <td>negative</td>\n",
       "      <td>0.863666</td>\n",
       "      <td>IN</td>\n",
       "      <td>None</td>\n",
       "      <td>None</td>\n",
       "    </tr>\n",
       "    <tr>\n",
       "      <th>3</th>\n",
       "      <td>Chief Ministers of three states - Bengal, Biha...</td>\n",
       "      <td>Chief,Migrant,Ministers,Labourers,Lockdown,Chi...</td>\n",
       "      <td>#ChiefMinister,#Bengal,#Odisha,#Bihar,#ListsOf...</td>\n",
       "      <td>Chief Ministers of three states - Bengal, Biha...</td>\n",
       "      <td>Amid Lockdown, Chief Ministers Seek Help For M...</td>\n",
       "      <td>401</td>\n",
       "      <td>[#ChiefMinister, #Bengal, #Odisha, #Bihar, #Li...</td>\n",
       "      <td>[Chief, Migrant, Ministers, Labourers, Lockdow...</td>\n",
       "      <td>2020-03-26 14:29:28</td>\n",
       "      <td>negative</td>\n",
       "      <td>0.842977</td>\n",
       "      <td>neutral</td>\n",
       "      <td>0.734383</td>\n",
       "      <td>IN</td>\n",
       "      <td>None</td>\n",
       "      <td>None</td>\n",
       "    </tr>\n",
       "    <tr>\n",
       "      <th>4</th>\n",
       "      <td>Finance Minister, Nirmala Sitharaman, today an...</td>\n",
       "      <td>Auto,Industry,Announcement,Crisis,Situation,Ex...</td>\n",
       "      <td>#Crore,#Coronavirus,#FinanceMinister,#Lakh,#FM...</td>\n",
       "      <td>Finance Minister, Nirmala Sitharaman, today an...</td>\n",
       "      <td>Coronavirus Pandemic: Auto Industry Welcomes F...</td>\n",
       "      <td>604</td>\n",
       "      <td>[#Crore, #Coronavirus, #FinanceMinister, #Lakh...</td>\n",
       "      <td>[Auto, Industry, Announcement, Crisis, Situati...</td>\n",
       "      <td>2020-03-26 14:29:28</td>\n",
       "      <td>negative</td>\n",
       "      <td>0.849670</td>\n",
       "      <td>negative</td>\n",
       "      <td>0.470863</td>\n",
       "      <td>IN</td>\n",
       "      <td>None</td>\n",
       "      <td>None</td>\n",
       "    </tr>\n",
       "  </tbody>\n",
       "</table>\n",
       "</div>"
      ],
      "text/plain": [
       "                                            sum_head  \\\n",
       "0  However, this restriction will not apply to in...   \n",
       "1  But leg-spinner Yuzvendra Chahal is utilising ...   \n",
       "2  So the math was simple and the step logical: L...   \n",
       "3  Chief Ministers of three states - Bengal, Biha...   \n",
       "4  Finance Minister, Nirmala Sitharaman, today an...   \n",
       "\n",
       "                                     Unlist_keywords  \\\n",
       "0  flights,passenger,international,passenger flig...   \n",
       "1  Yuzvendra Chahal,Chahal,Yuzvendra,TikTok video...   \n",
       "2  Lockdown,COVID-19,Needed,Opinion,Problem,lockd...   \n",
       "3  Chief,Migrant,Ministers,Labourers,Lockdown,Chi...   \n",
       "4  Auto,Industry,Announcement,Crisis,Situation,Ex...   \n",
       "\n",
       "                                   Unlisted_hashtags  \\\n",
       "0  #DGCA,#DirectorateGeneralOfCivilAviation,#Coro...   \n",
       "1  #India,#Coronavirus,#OneDayInternational,#Indi...   \n",
       "2  #Lockdown,#ListsOfTransformersCharacters,#Indi...   \n",
       "3  #ChiefMinister,#Bengal,#Odisha,#Bihar,#ListsOf...   \n",
       "4  #Crore,#Coronavirus,#FinanceMinister,#Lakh,#FM...   \n",
       "\n",
       "                                             summary  \\\n",
       "0  However, this restriction will not apply to in...   \n",
       "1  But leg-spinner Yuzvendra Chahal is utilising ...   \n",
       "2  So the math was simple and the step logical: L...   \n",
       "3  Chief Ministers of three states - Bengal, Biha...   \n",
       "4  Finance Minister, Nirmala Sitharaman, today an...   \n",
       "\n",
       "                                             heading  words_count  \\\n",
       "0  Ban on international passenger flights extende...          223   \n",
       "1                                 Yuzvendra Chahal's          292   \n",
       "2  Opinion: COVID-19 Lockdown Is Needed But May N...          812   \n",
       "3  Amid Lockdown, Chief Ministers Seek Help For M...          401   \n",
       "4  Coronavirus Pandemic: Auto Industry Welcomes F...          604   \n",
       "\n",
       "                                            hashtags  \\\n",
       "0  [#DGCA, #DirectorateGeneralOfCivilAviation, #C...   \n",
       "1  [#India, #Coronavirus, #OneDayInternational, #...   \n",
       "2  [#Lockdown, #ListsOfTransformersCharacters, #I...   \n",
       "3  [#ChiefMinister, #Bengal, #Odisha, #Bihar, #Li...   \n",
       "4  [#Crore, #Coronavirus, #FinanceMinister, #Lakh...   \n",
       "\n",
       "                                            keywords        publish_time  \\\n",
       "0  [flights, passenger, international, passenger ... 2020-03-26 14:30:18   \n",
       "1  [Yuzvendra Chahal, Chahal, Yuzvendra, TikTok v... 2020-03-26 14:29:28   \n",
       "2  [Lockdown, COVID-19, Needed, Opinion, Problem,... 2020-03-26 14:29:28   \n",
       "3  [Chief, Migrant, Ministers, Labourers, Lockdow... 2020-03-26 14:29:28   \n",
       "4  [Auto, Industry, Announcement, Crisis, Situati... 2020-03-26 14:29:28   \n",
       "\n",
       "  body_polarity  body_polarity_score title_polarity  title_polarity_score  \\\n",
       "0      negative             0.988144        neutral              0.890838   \n",
       "1      positive             0.885754        neutral              0.407149   \n",
       "2      negative             0.606026       negative              0.863666   \n",
       "3      negative             0.842977        neutral              0.734383   \n",
       "4      negative             0.849670       negative              0.470863   \n",
       "\n",
       "  country_origin state_origin city_origin  \n",
       "0             IN         None        None  \n",
       "1             IN         None        None  \n",
       "2             IN         None        None  \n",
       "3             IN         None        None  \n",
       "4             IN         None        None  "
      ]
     },
     "execution_count": 29,
     "metadata": {},
     "output_type": "execute_result"
    }
   ],
   "source": [
    "df4.head()"
   ]
  },
  {
   "cell_type": "code",
   "execution_count": 30,
   "metadata": {},
   "outputs": [],
   "source": [
    "df4.drop(['keywords','hashtags','summary','heading'],axis=1,inplace=True)    ### Dropping the unwanted columns "
   ]
  },
  {
   "cell_type": "code",
   "execution_count": 31,
   "metadata": {},
   "outputs": [
    {
     "data": {
      "text/html": [
       "<div>\n",
       "<style scoped>\n",
       "    .dataframe tbody tr th:only-of-type {\n",
       "        vertical-align: middle;\n",
       "    }\n",
       "\n",
       "    .dataframe tbody tr th {\n",
       "        vertical-align: top;\n",
       "    }\n",
       "\n",
       "    .dataframe thead th {\n",
       "        text-align: right;\n",
       "    }\n",
       "</style>\n",
       "<table border=\"1\" class=\"dataframe\">\n",
       "  <thead>\n",
       "    <tr style=\"text-align: right;\">\n",
       "      <th></th>\n",
       "      <th>sum_head</th>\n",
       "      <th>Unlist_keywords</th>\n",
       "      <th>Unlisted_hashtags</th>\n",
       "      <th>words_count</th>\n",
       "      <th>publish_time</th>\n",
       "      <th>body_polarity</th>\n",
       "      <th>body_polarity_score</th>\n",
       "      <th>title_polarity</th>\n",
       "      <th>title_polarity_score</th>\n",
       "      <th>country_origin</th>\n",
       "      <th>state_origin</th>\n",
       "      <th>city_origin</th>\n",
       "    </tr>\n",
       "  </thead>\n",
       "  <tbody>\n",
       "    <tr>\n",
       "      <th>0</th>\n",
       "      <td>However, this restriction will not apply to in...</td>\n",
       "      <td>flights,passenger,international,passenger flig...</td>\n",
       "      <td>#DGCA,#DirectorateGeneralOfCivilAviation,#Coro...</td>\n",
       "      <td>223</td>\n",
       "      <td>2020-03-26 14:30:18</td>\n",
       "      <td>negative</td>\n",
       "      <td>0.988144</td>\n",
       "      <td>neutral</td>\n",
       "      <td>0.890838</td>\n",
       "      <td>IN</td>\n",
       "      <td>None</td>\n",
       "      <td>None</td>\n",
       "    </tr>\n",
       "    <tr>\n",
       "      <th>1</th>\n",
       "      <td>But leg-spinner Yuzvendra Chahal is utilising ...</td>\n",
       "      <td>Yuzvendra Chahal,Chahal,Yuzvendra,TikTok video...</td>\n",
       "      <td>#India,#Coronavirus,#OneDayInternational,#Indi...</td>\n",
       "      <td>292</td>\n",
       "      <td>2020-03-26 14:29:28</td>\n",
       "      <td>positive</td>\n",
       "      <td>0.885754</td>\n",
       "      <td>neutral</td>\n",
       "      <td>0.407149</td>\n",
       "      <td>IN</td>\n",
       "      <td>None</td>\n",
       "      <td>None</td>\n",
       "    </tr>\n",
       "    <tr>\n",
       "      <th>2</th>\n",
       "      <td>So the math was simple and the step logical: L...</td>\n",
       "      <td>Lockdown,COVID-19,Needed,Opinion,Problem,lockd...</td>\n",
       "      <td>#Lockdown,#ListsOfTransformersCharacters,#Indi...</td>\n",
       "      <td>812</td>\n",
       "      <td>2020-03-26 14:29:28</td>\n",
       "      <td>negative</td>\n",
       "      <td>0.606026</td>\n",
       "      <td>negative</td>\n",
       "      <td>0.863666</td>\n",
       "      <td>IN</td>\n",
       "      <td>None</td>\n",
       "      <td>None</td>\n",
       "    </tr>\n",
       "    <tr>\n",
       "      <th>3</th>\n",
       "      <td>Chief Ministers of three states - Bengal, Biha...</td>\n",
       "      <td>Chief,Migrant,Ministers,Labourers,Lockdown,Chi...</td>\n",
       "      <td>#ChiefMinister,#Bengal,#Odisha,#Bihar,#ListsOf...</td>\n",
       "      <td>401</td>\n",
       "      <td>2020-03-26 14:29:28</td>\n",
       "      <td>negative</td>\n",
       "      <td>0.842977</td>\n",
       "      <td>neutral</td>\n",
       "      <td>0.734383</td>\n",
       "      <td>IN</td>\n",
       "      <td>None</td>\n",
       "      <td>None</td>\n",
       "    </tr>\n",
       "    <tr>\n",
       "      <th>4</th>\n",
       "      <td>Finance Minister, Nirmala Sitharaman, today an...</td>\n",
       "      <td>Auto,Industry,Announcement,Crisis,Situation,Ex...</td>\n",
       "      <td>#Crore,#Coronavirus,#FinanceMinister,#Lakh,#FM...</td>\n",
       "      <td>604</td>\n",
       "      <td>2020-03-26 14:29:28</td>\n",
       "      <td>negative</td>\n",
       "      <td>0.849670</td>\n",
       "      <td>negative</td>\n",
       "      <td>0.470863</td>\n",
       "      <td>IN</td>\n",
       "      <td>None</td>\n",
       "      <td>None</td>\n",
       "    </tr>\n",
       "  </tbody>\n",
       "</table>\n",
       "</div>"
      ],
      "text/plain": [
       "                                            sum_head  \\\n",
       "0  However, this restriction will not apply to in...   \n",
       "1  But leg-spinner Yuzvendra Chahal is utilising ...   \n",
       "2  So the math was simple and the step logical: L...   \n",
       "3  Chief Ministers of three states - Bengal, Biha...   \n",
       "4  Finance Minister, Nirmala Sitharaman, today an...   \n",
       "\n",
       "                                     Unlist_keywords  \\\n",
       "0  flights,passenger,international,passenger flig...   \n",
       "1  Yuzvendra Chahal,Chahal,Yuzvendra,TikTok video...   \n",
       "2  Lockdown,COVID-19,Needed,Opinion,Problem,lockd...   \n",
       "3  Chief,Migrant,Ministers,Labourers,Lockdown,Chi...   \n",
       "4  Auto,Industry,Announcement,Crisis,Situation,Ex...   \n",
       "\n",
       "                                   Unlisted_hashtags  words_count  \\\n",
       "0  #DGCA,#DirectorateGeneralOfCivilAviation,#Coro...          223   \n",
       "1  #India,#Coronavirus,#OneDayInternational,#Indi...          292   \n",
       "2  #Lockdown,#ListsOfTransformersCharacters,#Indi...          812   \n",
       "3  #ChiefMinister,#Bengal,#Odisha,#Bihar,#ListsOf...          401   \n",
       "4  #Crore,#Coronavirus,#FinanceMinister,#Lakh,#FM...          604   \n",
       "\n",
       "         publish_time body_polarity  body_polarity_score title_polarity  \\\n",
       "0 2020-03-26 14:30:18      negative             0.988144        neutral   \n",
       "1 2020-03-26 14:29:28      positive             0.885754        neutral   \n",
       "2 2020-03-26 14:29:28      negative             0.606026       negative   \n",
       "3 2020-03-26 14:29:28      negative             0.842977        neutral   \n",
       "4 2020-03-26 14:29:28      negative             0.849670       negative   \n",
       "\n",
       "   title_polarity_score country_origin state_origin city_origin  \n",
       "0              0.890838             IN         None        None  \n",
       "1              0.407149             IN         None        None  \n",
       "2              0.863666             IN         None        None  \n",
       "3              0.734383             IN         None        None  \n",
       "4              0.470863             IN         None        None  "
      ]
     },
     "execution_count": 31,
     "metadata": {},
     "output_type": "execute_result"
    }
   ],
   "source": [
    "df4.head()"
   ]
  },
  {
   "cell_type": "code",
   "execution_count": 32,
   "metadata": {},
   "outputs": [],
   "source": [
    "df_new = df4[['sum_head','Unlisted_hashtags','Unlist_keywords']]"
   ]
  },
  {
   "cell_type": "code",
   "execution_count": 33,
   "metadata": {},
   "outputs": [
    {
     "data": {
      "text/plain": [
       "'However, this restriction will not apply to international all-cargo operations and flights specifically approved by the DGCA. All international commercial passenger flights will remain suspended till April 14, aviation regulator DGCA announced on Thursday, amid a nationwide lockdown to prevent the spread of the novel coronavirus. The Directorate General of Civil Aviation (DGCA) on March 19 had announced that no international commercial passenger flight operations will take place in India from 1.30 am on March 23 to 5.30 am on March 29. “In continuation of circular-II dated 19.3.2020 issued on the subject cited-above, it has been decided that all scheduled international commercial passenger services shall remain closed till 1830 hrs GMT (0000 hrs of Indian Standard Time) of April 14, 2020,\" the aviation regulator said. \"However, this restriction will not apply to international all-cargo operations and flights specifically approved by the DGCA,\" it said.,Ban on international passenger flights extended till Apr 14,#DGCA,#DirectorateGeneralOfCivilAviation,#Coronavirus,#Lockdown,#India,#GMT,#GreenwichMeanTime,#Time,#MinistryOfHealthAndFamilyWelfare,#PrimeMinisterOfTheUnitedKingdom,#NarendraModi,#Reuters,flights,passenger,international,passenger flights,passenger flight,coronavirus,country,March,lockdown,DGCA,midnight,aviation,health,ministry,Prime,operations,Narendra,Minister,Narendra Modi,Reuters,Union health ministry,India,GMT,Time,Prime Minister'"
      ]
     },
     "execution_count": 33,
     "metadata": {},
     "output_type": "execute_result"
    }
   ],
   "source": [
    "df_new = df_new.apply(lambda x: ','.join(x.astype(str)), axis=1)      ### Store them in a pandas dataframe\n",
    "df_new[0]"
   ]
  },
  {
   "cell_type": "code",
   "execution_count": 34,
   "metadata": {},
   "outputs": [
    {
     "data": {
      "text/html": [
       "<div>\n",
       "<style scoped>\n",
       "    .dataframe tbody tr th:only-of-type {\n",
       "        vertical-align: middle;\n",
       "    }\n",
       "\n",
       "    .dataframe tbody tr th {\n",
       "        vertical-align: top;\n",
       "    }\n",
       "\n",
       "    .dataframe thead th {\n",
       "        text-align: right;\n",
       "    }\n",
       "</style>\n",
       "<table border=\"1\" class=\"dataframe\">\n",
       "  <thead>\n",
       "    <tr style=\"text-align: right;\">\n",
       "      <th></th>\n",
       "      <th>allwords</th>\n",
       "    </tr>\n",
       "  </thead>\n",
       "  <tbody>\n",
       "    <tr>\n",
       "      <th>0</th>\n",
       "      <td>However, this restriction will not apply to in...</td>\n",
       "    </tr>\n",
       "    <tr>\n",
       "      <th>1</th>\n",
       "      <td>But leg-spinner Yuzvendra Chahal is utilising ...</td>\n",
       "    </tr>\n",
       "    <tr>\n",
       "      <th>2</th>\n",
       "      <td>So the math was simple and the step logical: L...</td>\n",
       "    </tr>\n",
       "    <tr>\n",
       "      <th>3</th>\n",
       "      <td>Chief Ministers of three states - Bengal, Biha...</td>\n",
       "    </tr>\n",
       "    <tr>\n",
       "      <th>4</th>\n",
       "      <td>Finance Minister, Nirmala Sitharaman, today an...</td>\n",
       "    </tr>\n",
       "  </tbody>\n",
       "</table>\n",
       "</div>"
      ],
      "text/plain": [
       "                                            allwords\n",
       "0  However, this restriction will not apply to in...\n",
       "1  But leg-spinner Yuzvendra Chahal is utilising ...\n",
       "2  So the math was simple and the step logical: L...\n",
       "3  Chief Ministers of three states - Bengal, Biha...\n",
       "4  Finance Minister, Nirmala Sitharaman, today an..."
      ]
     },
     "execution_count": 34,
     "metadata": {},
     "output_type": "execute_result"
    }
   ],
   "source": [
    "df_new = df_new.to_frame()\n",
    "df_new.columns = ['allwords']\n",
    "df_new.head()"
   ]
  },
  {
   "cell_type": "markdown",
   "metadata": {},
   "source": [
    "## Cleaning the dataset by :\n",
    "\n",
    "- removing the unwanted words by using stopwords and custom words\n",
    "- using lemmetization\n",
    "- lowering them\n",
    "- only keeping the alphabets "
   ]
  },
  {
   "cell_type": "code",
   "execution_count": 35,
   "metadata": {},
   "outputs": [
    {
     "name": "stderr",
     "output_type": "stream",
     "text": [
      "[nltk_data] Downloading package stopwords to\n",
      "[nltk_data]     C:\\Users\\DELL\\AppData\\Roaming\\nltk_data...\n",
      "[nltk_data]   Package stopwords is already up-to-date!\n"
     ]
    }
   ],
   "source": [
    "stopwords = nltk.corpus.stopwords.words('english')\n",
    "newStopWords = ['per','due','daily','one','also','day','time','new','r' ,'home','year','month','social']\n",
    "stopwords.extend(newStopWords)\n",
    "stop_words = set(stopwords)\n",
    "\n",
    "\n",
    "\n",
    "import re\n",
    "import nltk\n",
    "nltk.download('stopwords')\n",
    "\n",
    "from nltk.corpus import stopwords\n",
    "from nltk.stem import WordNetLemmatizer \n",
    "lemmatizer = WordNetLemmatizer() \n",
    "corpus = []\n",
    "\n",
    "newStopWords = ['per','due','daily','one','also','day','time','new','r' ,'home','year','month','social','nan']\n",
    "\n",
    "for i in range(0, len(df_new)):\n",
    "    review = re.sub('[^a-zA-Z]', ' ', df_new['allwords'][i])\n",
    "    review = review.lower()\n",
    "    review = review.split()\n",
    "    \n",
    "    review = [lemmatizer.lemmatize(word) for word in review if not word in stop_words]\n",
    "    review = ' '.join(review)\n",
    "    corpus.append(review)"
   ]
  },
  {
   "cell_type": "code",
   "execution_count": 36,
   "metadata": {},
   "outputs": [
    {
     "data": {
      "text/plain": [
       "'however restriction apply international cargo operation flight specifically approved dgca international commercial passenger flight remain suspended till april aviation regulator dgca announced thursday amid nationwide lockdown prevent spread novel coronavirus directorate general civil aviation dgca march announced international commercial passenger flight operation take place india march march continuation circular ii dated issued subject cited decided scheduled international commercial passenger service shall remain closed till hr gmt hr indian standard april aviation regulator said however restriction apply international cargo operation flight specifically approved dgca said ban international passenger flight extended till apr dgca directorategeneralofcivilaviation coronavirus lockdown india gmt greenwichmeantime ministryofhealthandfamilywelfare primeministeroftheunitedkingdom narendramodi reuters flight passenger international passenger flight passenger flight coronavirus country march lockdown dgca midnight aviation health ministry prime operation narendra minister narendra modi reuters union health ministry india gmt prime minister'"
      ]
     },
     "execution_count": 36,
     "metadata": {},
     "output_type": "execute_result"
    }
   ],
   "source": [
    "corpus[0]"
   ]
  },
  {
   "cell_type": "code",
   "execution_count": 37,
   "metadata": {},
   "outputs": [],
   "source": [
    "df_clean = pd.DataFrame(corpus,columns = ['text'])    #### Froming  the dataset"
   ]
  },
  {
   "cell_type": "code",
   "execution_count": 38,
   "metadata": {},
   "outputs": [
    {
     "data": {
      "text/html": [
       "<div>\n",
       "<style scoped>\n",
       "    .dataframe tbody tr th:only-of-type {\n",
       "        vertical-align: middle;\n",
       "    }\n",
       "\n",
       "    .dataframe tbody tr th {\n",
       "        vertical-align: top;\n",
       "    }\n",
       "\n",
       "    .dataframe thead th {\n",
       "        text-align: right;\n",
       "    }\n",
       "</style>\n",
       "<table border=\"1\" class=\"dataframe\">\n",
       "  <thead>\n",
       "    <tr style=\"text-align: right;\">\n",
       "      <th></th>\n",
       "      <th>text</th>\n",
       "    </tr>\n",
       "  </thead>\n",
       "  <tbody>\n",
       "    <tr>\n",
       "      <th>0</th>\n",
       "      <td>however restriction apply international cargo ...</td>\n",
       "    </tr>\n",
       "    <tr>\n",
       "      <th>1</th>\n",
       "      <td>leg spinner yuzvendra chahal utilising self qu...</td>\n",
       "    </tr>\n",
       "    <tr>\n",
       "      <th>2</th>\n",
       "      <td>math simple step logical lockdown three week i...</td>\n",
       "    </tr>\n",
       "    <tr>\n",
       "      <th>3</th>\n",
       "      <td>chief minister three state bengal bihar odisha...</td>\n",
       "    </tr>\n",
       "    <tr>\n",
       "      <th>4</th>\n",
       "      <td>finance minister nirmala sitharaman today anno...</td>\n",
       "    </tr>\n",
       "  </tbody>\n",
       "</table>\n",
       "</div>"
      ],
      "text/plain": [
       "                                                text\n",
       "0  however restriction apply international cargo ...\n",
       "1  leg spinner yuzvendra chahal utilising self qu...\n",
       "2  math simple step logical lockdown three week i...\n",
       "3  chief minister three state bengal bihar odisha...\n",
       "4  finance minister nirmala sitharaman today anno..."
      ]
     },
     "execution_count": 38,
     "metadata": {},
     "output_type": "execute_result"
    }
   ],
   "source": [
    "df_clean.head()"
   ]
  },
  {
   "cell_type": "code",
   "execution_count": 39,
   "metadata": {},
   "outputs": [],
   "source": [
    "sent = [row.split(' ') for row in df_clean['text']]"
   ]
  },
  {
   "cell_type": "markdown",
   "metadata": {},
   "source": [
    "### Using gensim library to form vectors"
   ]
  },
  {
   "cell_type": "code",
   "execution_count": 40,
   "metadata": {},
   "outputs": [],
   "source": [
    "from gensim.models import Word2Vec                        \n",
    "model = Word2Vec(sent, min_count=300,size= 100,workers=3, window =20, sg = 1)"
   ]
  },
  {
   "cell_type": "code",
   "execution_count": 41,
   "metadata": {},
   "outputs": [
    {
     "data": {
      "text/plain": [
       "[('pandemic', 0.9334927797317505),\n",
       " ('thursday', 0.8930096626281738),\n",
       " ('india', 0.8915297985076904),\n",
       " ('outbreak', 0.8900421857833862),\n",
       " ('march', 0.8832701444625854)]"
      ]
     },
     "execution_count": 41,
     "metadata": {},
     "output_type": "execute_result"
    }
   ],
   "source": [
    "model.most_similar('coronavirus')[:5]"
   ]
  },
  {
   "cell_type": "code",
   "execution_count": 42,
   "metadata": {},
   "outputs": [
    {
     "data": {
      "text/plain": [
       "['coronavirus',\n",
       " 'lockdown',\n",
       " 'covid',\n",
       " 'india',\n",
       " 'said',\n",
       " 'pandemic',\n",
       " 'minister',\n",
       " 'people',\n",
       " 'government',\n",
       " 'health',\n",
       " 'virus',\n",
       " 'case',\n",
       " 'hospital',\n",
       " 'police',\n",
       " 'state',\n",
       " 'country',\n",
       " 'indian',\n",
       " 'lakh',\n",
       " 'delhi',\n",
       " 'worker']"
      ]
     },
     "execution_count": 42,
     "metadata": {},
     "output_type": "execute_result"
    }
   ],
   "source": [
    "model.wv.index2entity[:20]  ## top 20 most frequent words"
   ]
  },
  {
   "cell_type": "code",
   "execution_count": 43,
   "metadata": {},
   "outputs": [
    {
     "data": {
      "text/plain": [
       "array([ 0.03045725,  0.07387457,  0.07070177,  0.04173965, -0.00912009,\n",
       "        0.16703373, -0.09840372, -0.04865484, -0.08916379, -0.07411366,\n",
       "        0.07515476, -0.07722516, -0.00739616,  0.16158952,  0.07862559,\n",
       "       -0.14628807,  0.0942278 , -0.07017688,  0.03340527,  0.09235104,\n",
       "        0.13500474, -0.008874  ,  0.04770994,  0.06645291, -0.13768673,\n",
       "       -0.04627961,  0.30793852, -0.17157188,  0.10516788, -0.17363447,\n",
       "       -0.20402794, -0.10025732,  0.15467906, -0.07638655,  0.11116684,\n",
       "        0.05240809,  0.03261194, -0.00946939, -0.13593136, -0.08601759,\n",
       "       -0.12990674, -0.044187  ,  0.0078424 ,  0.18240154, -0.02167598,\n",
       "       -0.14950494, -0.06359649, -0.00848999, -0.07790652, -0.00139076,\n",
       "        0.1402243 , -0.06162556, -0.02931655, -0.24436934,  0.04138689,\n",
       "        0.00899541, -0.0937633 ,  0.15458941, -0.04454676,  0.01919465,\n",
       "       -0.12673147, -0.02480711,  0.04869464,  0.14149918,  0.07112852,\n",
       "       -0.19901331, -0.09244252, -0.053124  , -0.14751248,  0.01727803,\n",
       "       -0.01842896,  0.11187055,  0.10853254,  0.05098079, -0.05990174,\n",
       "        0.12864257,  0.03766332,  0.04626126,  0.1783492 , -0.02258262,\n",
       "       -0.044004  ,  0.06552401, -0.28925568,  0.00229455,  0.05385256,\n",
       "       -0.18136847,  0.190945  , -0.15172784, -0.03105176, -0.22097382,\n",
       "        0.18966277, -0.19596285,  0.03847151,  0.13880056, -0.02015208,\n",
       "       -0.05451649,  0.0363517 , -0.01485356, -0.06624011, -0.06746831],\n",
       "      dtype=float32)"
      ]
     },
     "execution_count": 43,
     "metadata": {},
     "output_type": "execute_result"
    }
   ],
   "source": [
    "model['coronavirus']"
   ]
  },
  {
   "cell_type": "code",
   "execution_count": 44,
   "metadata": {},
   "outputs": [
    {
     "name": "stdout",
     "output_type": "stream",
     "text": [
      "['thursday', 'lockdown', 'coronavirus', 'march', 'india', 'service', 'indian', 'said', 'country', 'health', 'prime', 'minister', 'quarantine', 'video', 'pandemic', 'twitter', 'virus', 'government', 'people', 'worker', 'covid', 'hospital', 'infection', 'case', 'chief', 'state', 'medical', 'crore', 'lakh', 'outbreak', 'police', 'district', 'essential', 'official', 'instagram', 'delhi', 'world', 'positive', 'wednesday', 'r', 'nan']\n"
     ]
    }
   ],
   "source": [
    "words=list(model.wv.vocab)                  ### Words learned by our model\n",
    "print(words)"
   ]
  },
  {
   "cell_type": "code",
   "execution_count": 45,
   "metadata": {},
   "outputs": [
    {
     "data": {
      "text/html": [
       "<div>\n",
       "<style scoped>\n",
       "    .dataframe tbody tr th:only-of-type {\n",
       "        vertical-align: middle;\n",
       "    }\n",
       "\n",
       "    .dataframe tbody tr th {\n",
       "        vertical-align: top;\n",
       "    }\n",
       "\n",
       "    .dataframe thead th {\n",
       "        text-align: right;\n",
       "    }\n",
       "</style>\n",
       "<table border=\"1\" class=\"dataframe\">\n",
       "  <thead>\n",
       "    <tr style=\"text-align: right;\">\n",
       "      <th></th>\n",
       "      <th>0</th>\n",
       "      <th>1</th>\n",
       "      <th>2</th>\n",
       "      <th>3</th>\n",
       "      <th>4</th>\n",
       "      <th>5</th>\n",
       "      <th>6</th>\n",
       "      <th>7</th>\n",
       "      <th>8</th>\n",
       "      <th>9</th>\n",
       "      <th>...</th>\n",
       "      <th>90</th>\n",
       "      <th>91</th>\n",
       "      <th>92</th>\n",
       "      <th>93</th>\n",
       "      <th>94</th>\n",
       "      <th>95</th>\n",
       "      <th>96</th>\n",
       "      <th>97</th>\n",
       "      <th>98</th>\n",
       "      <th>99</th>\n",
       "    </tr>\n",
       "  </thead>\n",
       "  <tbody>\n",
       "    <tr>\n",
       "      <th>0</th>\n",
       "      <td>0.078384</td>\n",
       "      <td>-0.003289</td>\n",
       "      <td>0.049009</td>\n",
       "      <td>0.129735</td>\n",
       "      <td>0.066936</td>\n",
       "      <td>0.138244</td>\n",
       "      <td>-0.129494</td>\n",
       "      <td>-0.089708</td>\n",
       "      <td>-0.079084</td>\n",
       "      <td>-0.123571</td>\n",
       "      <td>...</td>\n",
       "      <td>0.205162</td>\n",
       "      <td>-0.155166</td>\n",
       "      <td>0.055939</td>\n",
       "      <td>0.059792</td>\n",
       "      <td>0.017455</td>\n",
       "      <td>-0.022143</td>\n",
       "      <td>0.108995</td>\n",
       "      <td>-0.063151</td>\n",
       "      <td>-0.028862</td>\n",
       "      <td>-0.019142</td>\n",
       "    </tr>\n",
       "    <tr>\n",
       "      <th>1</th>\n",
       "      <td>0.047578</td>\n",
       "      <td>0.178929</td>\n",
       "      <td>-0.035319</td>\n",
       "      <td>0.194848</td>\n",
       "      <td>0.086997</td>\n",
       "      <td>0.134947</td>\n",
       "      <td>-0.123128</td>\n",
       "      <td>-0.057958</td>\n",
       "      <td>-0.120324</td>\n",
       "      <td>-0.091354</td>\n",
       "      <td>...</td>\n",
       "      <td>0.071108</td>\n",
       "      <td>0.030480</td>\n",
       "      <td>0.018212</td>\n",
       "      <td>0.100898</td>\n",
       "      <td>0.053899</td>\n",
       "      <td>0.017851</td>\n",
       "      <td>-0.034698</td>\n",
       "      <td>-0.107675</td>\n",
       "      <td>0.094733</td>\n",
       "      <td>-0.088995</td>\n",
       "    </tr>\n",
       "    <tr>\n",
       "      <th>2</th>\n",
       "      <td>0.030457</td>\n",
       "      <td>0.073875</td>\n",
       "      <td>0.070702</td>\n",
       "      <td>0.041740</td>\n",
       "      <td>-0.009120</td>\n",
       "      <td>0.167034</td>\n",
       "      <td>-0.098404</td>\n",
       "      <td>-0.048655</td>\n",
       "      <td>-0.089164</td>\n",
       "      <td>-0.074114</td>\n",
       "      <td>...</td>\n",
       "      <td>0.189663</td>\n",
       "      <td>-0.195963</td>\n",
       "      <td>0.038472</td>\n",
       "      <td>0.138801</td>\n",
       "      <td>-0.020152</td>\n",
       "      <td>-0.054516</td>\n",
       "      <td>0.036352</td>\n",
       "      <td>-0.014854</td>\n",
       "      <td>-0.066240</td>\n",
       "      <td>-0.067468</td>\n",
       "    </tr>\n",
       "    <tr>\n",
       "      <th>3</th>\n",
       "      <td>0.159919</td>\n",
       "      <td>0.078739</td>\n",
       "      <td>0.118199</td>\n",
       "      <td>0.119453</td>\n",
       "      <td>0.036903</td>\n",
       "      <td>0.141503</td>\n",
       "      <td>-0.234723</td>\n",
       "      <td>-0.028750</td>\n",
       "      <td>-0.089006</td>\n",
       "      <td>-0.013726</td>\n",
       "      <td>...</td>\n",
       "      <td>0.055288</td>\n",
       "      <td>-0.184926</td>\n",
       "      <td>0.047610</td>\n",
       "      <td>0.018991</td>\n",
       "      <td>-0.091952</td>\n",
       "      <td>-0.055441</td>\n",
       "      <td>0.111371</td>\n",
       "      <td>0.061546</td>\n",
       "      <td>-0.113178</td>\n",
       "      <td>-0.074496</td>\n",
       "    </tr>\n",
       "    <tr>\n",
       "      <th>4</th>\n",
       "      <td>0.009375</td>\n",
       "      <td>0.093724</td>\n",
       "      <td>0.069075</td>\n",
       "      <td>0.001912</td>\n",
       "      <td>0.078569</td>\n",
       "      <td>0.198488</td>\n",
       "      <td>-0.030970</td>\n",
       "      <td>0.003581</td>\n",
       "      <td>-0.052383</td>\n",
       "      <td>-0.010393</td>\n",
       "      <td>...</td>\n",
       "      <td>0.241556</td>\n",
       "      <td>-0.122292</td>\n",
       "      <td>0.047219</td>\n",
       "      <td>0.289220</td>\n",
       "      <td>0.097169</td>\n",
       "      <td>0.049065</td>\n",
       "      <td>0.002614</td>\n",
       "      <td>0.046896</td>\n",
       "      <td>-0.081539</td>\n",
       "      <td>-0.062960</td>\n",
       "    </tr>\n",
       "  </tbody>\n",
       "</table>\n",
       "<p>5 rows × 100 columns</p>\n",
       "</div>"
      ],
      "text/plain": [
       "         0         1         2         3         4         5         6   \\\n",
       "0  0.078384 -0.003289  0.049009  0.129735  0.066936  0.138244 -0.129494   \n",
       "1  0.047578  0.178929 -0.035319  0.194848  0.086997  0.134947 -0.123128   \n",
       "2  0.030457  0.073875  0.070702  0.041740 -0.009120  0.167034 -0.098404   \n",
       "3  0.159919  0.078739  0.118199  0.119453  0.036903  0.141503 -0.234723   \n",
       "4  0.009375  0.093724  0.069075  0.001912  0.078569  0.198488 -0.030970   \n",
       "\n",
       "         7         8         9   ...        90        91        92        93  \\\n",
       "0 -0.089708 -0.079084 -0.123571  ...  0.205162 -0.155166  0.055939  0.059792   \n",
       "1 -0.057958 -0.120324 -0.091354  ...  0.071108  0.030480  0.018212  0.100898   \n",
       "2 -0.048655 -0.089164 -0.074114  ...  0.189663 -0.195963  0.038472  0.138801   \n",
       "3 -0.028750 -0.089006 -0.013726  ...  0.055288 -0.184926  0.047610  0.018991   \n",
       "4  0.003581 -0.052383 -0.010393  ...  0.241556 -0.122292  0.047219  0.289220   \n",
       "\n",
       "         94        95        96        97        98        99  \n",
       "0  0.017455 -0.022143  0.108995 -0.063151 -0.028862 -0.019142  \n",
       "1  0.053899  0.017851 -0.034698 -0.107675  0.094733 -0.088995  \n",
       "2 -0.020152 -0.054516  0.036352 -0.014854 -0.066240 -0.067468  \n",
       "3 -0.091952 -0.055441  0.111371  0.061546 -0.113178 -0.074496  \n",
       "4  0.097169  0.049065  0.002614  0.046896 -0.081539 -0.062960  \n",
       "\n",
       "[5 rows x 100 columns]"
      ]
     },
     "execution_count": 45,
     "metadata": {},
     "output_type": "execute_result"
    }
   ],
   "source": [
    "X=model[model.wv.vocab]               ### froming the dataset of the vectors by comparing them\n",
    "df=pd.DataFrame(X)  \n",
    "df.shape\n",
    "df.head()"
   ]
  },
  {
   "cell_type": "markdown",
   "metadata": {},
   "source": [
    "### In order to visualize the relation we need the convert the vectors into 2 Dimensional form ,this can be achieved by using PCA(Principal Component Analysis) "
   ]
  },
  {
   "cell_type": "code",
   "execution_count": 46,
   "metadata": {},
   "outputs": [],
   "source": [
    "#Computing the correlation matrix\n",
    "X_corr=df.corr()\n",
    "\n",
    "#Computing eigen values and eigen vectors\n",
    "values,vectors=np.linalg.eig(X_corr)\n",
    "\n",
    "#Sorting the eigen vectors coresponding to eigen values in descending order\n",
    "args = (-values).argsort()\n",
    "values = vectors[args]\n",
    "vectors = vectors[:, args]\n",
    "\n",
    "#Taking first 2 components which explain maximum variance for projecting\n",
    "new_vectors=vectors[:,:2]\n",
    "\n",
    "#Projecting it onto new dimesion with 2 axis\n",
    "neww_X=np.dot(X,new_vectors)"
   ]
  },
  {
   "cell_type": "code",
   "execution_count": 47,
   "metadata": {},
   "outputs": [
    {
     "data": {
      "text/plain": [
       "41"
      ]
     },
     "execution_count": 47,
     "metadata": {},
     "output_type": "execute_result"
    }
   ],
   "source": [
    "len(model.wv.index2entity[:])     ### Total words learned"
   ]
  },
  {
   "cell_type": "markdown",
   "metadata": {},
   "source": [
    "## Graphical representation"
   ]
  },
  {
   "cell_type": "code",
   "execution_count": 48,
   "metadata": {},
   "outputs": [
    {
     "data": {
      "image/png": "[encoded data removed]",
      "text/plain": [
       "<Figure size 1440x720 with 1 Axes>"
      ]
     },
     "metadata": {},
     "output_type": "display_data"
    }
   ],
   "source": [
    "import seaborn as sns\n",
    "sns.set_style('darkgrid')\n",
    "\n",
    "import matplotlib.pyplot as plt\n",
    "plt.figure(figsize=(20,10))\n",
    "plt.scatter(neww_X[20:,0],neww_X[20:,1],linewidths=10,color='red',label='least frequent')\n",
    "plt.scatter(neww_X[:20,0],neww_X[:20,1],linewidths=10,color='blue',label = 'most frequent')\n",
    "plt.xlabel(\"PC1\",size=15)\n",
    "plt.ylabel(\"PC2\",size=15)\n",
    "plt.legend(fancybox=True, framealpha=1, shadow=True, borderpad=1,fontsize='xx-large')\n",
    "plt.title(\"Word Embedding Space with 40 most frequent words \",size=20)\n",
    "vocab=list(model.wv.vocab)\n",
    "for i, word in enumerate(vocab):\n",
    "  plt.annotate(word,xy=(neww_X[i,0],neww_X[i,1]))\n",
    "# plt.savefig('most_least_words_new_stopwords_top_20.png', dpi=400, bbox_inches='tight')\n"
   ]
  },
  {
   "cell_type": "markdown",
   "metadata": {},
   "source": [
    "### Words with least frequency"
   ]
  },
  {
   "cell_type": "code",
   "execution_count": 49,
   "metadata": {},
   "outputs": [],
   "source": [
    "for word in model.wv.vocab:\n",
    "    if(model.wv.vocab[word].count <180):\n",
    "        print((word, model.wv.vocab[word].count))"
   ]
  },
  {
   "cell_type": "code",
   "execution_count": 50,
   "metadata": {},
   "outputs": [
    {
     "data": {
      "text/plain": [
       "['positive',\n",
       " 'infection',\n",
       " 'district',\n",
       " 'chief',\n",
       " 'crore',\n",
       " 'twitter',\n",
       " 'wednesday',\n",
       " 'march',\n",
       " 'quarantine',\n",
       " 'outbreak',\n",
       " 'essential',\n",
       " 'service',\n",
       " 'official',\n",
       " 'thursday',\n",
       " 'instagram',\n",
       " 'r',\n",
       " 'medical',\n",
       " 'video',\n",
       " 'prime',\n",
       " 'world']"
      ]
     },
     "execution_count": 50,
     "metadata": {},
     "output_type": "execute_result"
    }
   ],
   "source": [
    "vocab1 = model.wv.index2entity[-20:]  #### Least 20 words\n",
    "vocab1"
   ]
  },
  {
   "cell_type": "code",
   "execution_count": null,
   "metadata": {},
   "outputs": [],
   "source": []
  }
 ],
 "metadata": {
  "kernelspec": {
   "display_name": "Python 3",
   "language": "python",
   "name": "python3"
  },
  "language_info": {
   "codemirror_mode": {
    "name": "ipython",
    "version": 3
   },
   "file_extension": ".py",
   "mimetype": "text/x-python",
   "name": "python",
   "nbconvert_exporter": "python",
   "pygments_lexer": "ipython3",
   "version": "3.8.3"
  }
 },
 "nbformat": 4,
 "nbformat_minor": 4
}
