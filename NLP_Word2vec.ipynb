{
 "cells": [
  {
   "cell_type": "markdown",
   "metadata": {},
   "source": [
    "# NATURAL LANGUAGE PROCESSING \n",
    "\n",
    "- This is a project that contains the news of the year 2020 with heading , summary , keywords , hashtags , publish_time,\tbody_polarity , body_polarity_score , title_polarity , title_polarity_score , country_origin ,\tstate_origin , city_origin.\n",
    "\n",
    "- The main aim of the project is to analysis the whole dataset and find the most frequent and least frequent words in them \n",
    "\n",
    "- I have used Word2vec for converting the words into vectors and joing the columns [heading , summary , hashtags and keywords] to cleaned them and converted them to the list of lists.\n",
    "\n",
    "- Also used LDA for model making and have used pyLDA for visulisation."
   ]
  },
  {
   "cell_type": "markdown",
   "metadata": {},
   "source": [
    "#### The general use of Word2vec along with data cleaning:"
   ]
  },
  {
   "cell_type": "code",
   "execution_count": 1,
   "metadata": {},
   "outputs": [],
   "source": [
    "import pandas as pd\n",
    "from gensim.models import Word2Vec \n",
    "import numpy as np\n",
    "import warnings\n",
    "warnings.filterwarnings(\"ignore\")\n",
    "warnings.warn(\"deprecated\", DeprecationWarning)"
   ]
  },
  {
   "cell_type": "code",
   "execution_count": 2,
   "metadata": {},
   "outputs": [],
   "source": [
    "df= pd.read_csv('data.csv')"
   ]
  },
  {
   "cell_type": "code",
   "execution_count": 3,
   "metadata": {
    "scrolled": false
   },
   "outputs": [
    {
     "data": {
      "text/html": [
       "<div>\n",
       "<style scoped>\n",
       "    .dataframe tbody tr th:only-of-type {\n",
       "        vertical-align: middle;\n",
       "    }\n",
       "\n",
       "    .dataframe tbody tr th {\n",
       "        vertical-align: top;\n",
       "    }\n",
       "\n",
       "    .dataframe thead th {\n",
       "        text-align: right;\n",
       "    }\n",
       "</style>\n",
       "<table border=\"1\" class=\"dataframe\">\n",
       "  <thead>\n",
       "    <tr style=\"text-align: right;\">\n",
       "      <th></th>\n",
       "      <th>Make</th>\n",
       "      <th>Model</th>\n",
       "      <th>Year</th>\n",
       "      <th>Engine Fuel Type</th>\n",
       "      <th>Engine HP</th>\n",
       "      <th>Engine Cylinders</th>\n",
       "      <th>Transmission Type</th>\n",
       "      <th>Driven_Wheels</th>\n",
       "      <th>Number of Doors</th>\n",
       "      <th>Market Category</th>\n",
       "      <th>Vehicle Size</th>\n",
       "      <th>Vehicle Style</th>\n",
       "      <th>highway MPG</th>\n",
       "      <th>city mpg</th>\n",
       "      <th>Popularity</th>\n",
       "      <th>MSRP</th>\n",
       "    </tr>\n",
       "  </thead>\n",
       "  <tbody>\n",
       "    <tr>\n",
       "      <th>0</th>\n",
       "      <td>BMW</td>\n",
       "      <td>1 Series M</td>\n",
       "      <td>2011</td>\n",
       "      <td>premium unleaded (required)</td>\n",
       "      <td>335.0</td>\n",
       "      <td>6.0</td>\n",
       "      <td>MANUAL</td>\n",
       "      <td>rear wheel drive</td>\n",
       "      <td>2.0</td>\n",
       "      <td>Factory Tuner,Luxury,High-Performance</td>\n",
       "      <td>Compact</td>\n",
       "      <td>Coupe</td>\n",
       "      <td>26</td>\n",
       "      <td>19</td>\n",
       "      <td>3916</td>\n",
       "      <td>46135</td>\n",
       "    </tr>\n",
       "    <tr>\n",
       "      <th>1</th>\n",
       "      <td>BMW</td>\n",
       "      <td>1 Series</td>\n",
       "      <td>2011</td>\n",
       "      <td>premium unleaded (required)</td>\n",
       "      <td>300.0</td>\n",
       "      <td>6.0</td>\n",
       "      <td>MANUAL</td>\n",
       "      <td>rear wheel drive</td>\n",
       "      <td>2.0</td>\n",
       "      <td>Luxury,Performance</td>\n",
       "      <td>Compact</td>\n",
       "      <td>Convertible</td>\n",
       "      <td>28</td>\n",
       "      <td>19</td>\n",
       "      <td>3916</td>\n",
       "      <td>40650</td>\n",
       "    </tr>\n",
       "    <tr>\n",
       "      <th>2</th>\n",
       "      <td>BMW</td>\n",
       "      <td>1 Series</td>\n",
       "      <td>2011</td>\n",
       "      <td>premium unleaded (required)</td>\n",
       "      <td>300.0</td>\n",
       "      <td>6.0</td>\n",
       "      <td>MANUAL</td>\n",
       "      <td>rear wheel drive</td>\n",
       "      <td>2.0</td>\n",
       "      <td>Luxury,High-Performance</td>\n",
       "      <td>Compact</td>\n",
       "      <td>Coupe</td>\n",
       "      <td>28</td>\n",
       "      <td>20</td>\n",
       "      <td>3916</td>\n",
       "      <td>36350</td>\n",
       "    </tr>\n",
       "    <tr>\n",
       "      <th>3</th>\n",
       "      <td>BMW</td>\n",
       "      <td>1 Series</td>\n",
       "      <td>2011</td>\n",
       "      <td>premium unleaded (required)</td>\n",
       "      <td>230.0</td>\n",
       "      <td>6.0</td>\n",
       "      <td>MANUAL</td>\n",
       "      <td>rear wheel drive</td>\n",
       "      <td>2.0</td>\n",
       "      <td>Luxury,Performance</td>\n",
       "      <td>Compact</td>\n",
       "      <td>Coupe</td>\n",
       "      <td>28</td>\n",
       "      <td>18</td>\n",
       "      <td>3916</td>\n",
       "      <td>29450</td>\n",
       "    </tr>\n",
       "    <tr>\n",
       "      <th>4</th>\n",
       "      <td>BMW</td>\n",
       "      <td>1 Series</td>\n",
       "      <td>2011</td>\n",
       "      <td>premium unleaded (required)</td>\n",
       "      <td>230.0</td>\n",
       "      <td>6.0</td>\n",
       "      <td>MANUAL</td>\n",
       "      <td>rear wheel drive</td>\n",
       "      <td>2.0</td>\n",
       "      <td>Luxury</td>\n",
       "      <td>Compact</td>\n",
       "      <td>Convertible</td>\n",
       "      <td>28</td>\n",
       "      <td>18</td>\n",
       "      <td>3916</td>\n",
       "      <td>34500</td>\n",
       "    </tr>\n",
       "  </tbody>\n",
       "</table>\n",
       "</div>"
      ],
      "text/plain": [
       "  Make       Model  Year             Engine Fuel Type  Engine HP  \\\n",
       "0  BMW  1 Series M  2011  premium unleaded (required)      335.0   \n",
       "1  BMW    1 Series  2011  premium unleaded (required)      300.0   \n",
       "2  BMW    1 Series  2011  premium unleaded (required)      300.0   \n",
       "3  BMW    1 Series  2011  premium unleaded (required)      230.0   \n",
       "4  BMW    1 Series  2011  premium unleaded (required)      230.0   \n",
       "\n",
       "   Engine Cylinders Transmission Type     Driven_Wheels  Number of Doors  \\\n",
       "0               6.0            MANUAL  rear wheel drive              2.0   \n",
       "1               6.0            MANUAL  rear wheel drive              2.0   \n",
       "2               6.0            MANUAL  rear wheel drive              2.0   \n",
       "3               6.0            MANUAL  rear wheel drive              2.0   \n",
       "4               6.0            MANUAL  rear wheel drive              2.0   \n",
       "\n",
       "                         Market Category Vehicle Size Vehicle Style  \\\n",
       "0  Factory Tuner,Luxury,High-Performance      Compact         Coupe   \n",
       "1                     Luxury,Performance      Compact   Convertible   \n",
       "2                Luxury,High-Performance      Compact         Coupe   \n",
       "3                     Luxury,Performance      Compact         Coupe   \n",
       "4                                 Luxury      Compact   Convertible   \n",
       "\n",
       "   highway MPG  city mpg  Popularity   MSRP  \n",
       "0           26        19        3916  46135  \n",
       "1           28        19        3916  40650  \n",
       "2           28        20        3916  36350  \n",
       "3           28        18        3916  29450  \n",
       "4           28        18        3916  34500  "
      ]
     },
     "execution_count": 3,
     "metadata": {},
     "output_type": "execute_result"
    }
   ],
   "source": [
    "df.head()"
   ]
  },
  {
   "cell_type": "code",
   "execution_count": 4,
   "metadata": {},
   "outputs": [],
   "source": [
    "df['Make Model'] = df['Make']+\" \"+df['Model']"
   ]
  },
  {
   "cell_type": "code",
   "execution_count": 5,
   "metadata": {},
   "outputs": [
    {
     "data": {
      "text/html": [
       "<div>\n",
       "<style scoped>\n",
       "    .dataframe tbody tr th:only-of-type {\n",
       "        vertical-align: middle;\n",
       "    }\n",
       "\n",
       "    .dataframe tbody tr th {\n",
       "        vertical-align: top;\n",
       "    }\n",
       "\n",
       "    .dataframe thead th {\n",
       "        text-align: right;\n",
       "    }\n",
       "</style>\n",
       "<table border=\"1\" class=\"dataframe\">\n",
       "  <thead>\n",
       "    <tr style=\"text-align: right;\">\n",
       "      <th></th>\n",
       "      <th>Make</th>\n",
       "      <th>Model</th>\n",
       "      <th>Year</th>\n",
       "      <th>Engine Fuel Type</th>\n",
       "      <th>Engine HP</th>\n",
       "      <th>Engine Cylinders</th>\n",
       "      <th>Transmission Type</th>\n",
       "      <th>Driven_Wheels</th>\n",
       "      <th>Number of Doors</th>\n",
       "      <th>Market Category</th>\n",
       "      <th>Vehicle Size</th>\n",
       "      <th>Vehicle Style</th>\n",
       "      <th>highway MPG</th>\n",
       "      <th>city mpg</th>\n",
       "      <th>Popularity</th>\n",
       "      <th>MSRP</th>\n",
       "      <th>Make Model</th>\n",
       "    </tr>\n",
       "  </thead>\n",
       "  <tbody>\n",
       "    <tr>\n",
       "      <th>0</th>\n",
       "      <td>BMW</td>\n",
       "      <td>1 Series M</td>\n",
       "      <td>2011</td>\n",
       "      <td>premium unleaded (required)</td>\n",
       "      <td>335.0</td>\n",
       "      <td>6.0</td>\n",
       "      <td>MANUAL</td>\n",
       "      <td>rear wheel drive</td>\n",
       "      <td>2.0</td>\n",
       "      <td>Factory Tuner,Luxury,High-Performance</td>\n",
       "      <td>Compact</td>\n",
       "      <td>Coupe</td>\n",
       "      <td>26</td>\n",
       "      <td>19</td>\n",
       "      <td>3916</td>\n",
       "      <td>46135</td>\n",
       "      <td>BMW 1 Series M</td>\n",
       "    </tr>\n",
       "    <tr>\n",
       "      <th>1</th>\n",
       "      <td>BMW</td>\n",
       "      <td>1 Series</td>\n",
       "      <td>2011</td>\n",
       "      <td>premium unleaded (required)</td>\n",
       "      <td>300.0</td>\n",
       "      <td>6.0</td>\n",
       "      <td>MANUAL</td>\n",
       "      <td>rear wheel drive</td>\n",
       "      <td>2.0</td>\n",
       "      <td>Luxury,Performance</td>\n",
       "      <td>Compact</td>\n",
       "      <td>Convertible</td>\n",
       "      <td>28</td>\n",
       "      <td>19</td>\n",
       "      <td>3916</td>\n",
       "      <td>40650</td>\n",
       "      <td>BMW 1 Series</td>\n",
       "    </tr>\n",
       "    <tr>\n",
       "      <th>2</th>\n",
       "      <td>BMW</td>\n",
       "      <td>1 Series</td>\n",
       "      <td>2011</td>\n",
       "      <td>premium unleaded (required)</td>\n",
       "      <td>300.0</td>\n",
       "      <td>6.0</td>\n",
       "      <td>MANUAL</td>\n",
       "      <td>rear wheel drive</td>\n",
       "      <td>2.0</td>\n",
       "      <td>Luxury,High-Performance</td>\n",
       "      <td>Compact</td>\n",
       "      <td>Coupe</td>\n",
       "      <td>28</td>\n",
       "      <td>20</td>\n",
       "      <td>3916</td>\n",
       "      <td>36350</td>\n",
       "      <td>BMW 1 Series</td>\n",
       "    </tr>\n",
       "    <tr>\n",
       "      <th>3</th>\n",
       "      <td>BMW</td>\n",
       "      <td>1 Series</td>\n",
       "      <td>2011</td>\n",
       "      <td>premium unleaded (required)</td>\n",
       "      <td>230.0</td>\n",
       "      <td>6.0</td>\n",
       "      <td>MANUAL</td>\n",
       "      <td>rear wheel drive</td>\n",
       "      <td>2.0</td>\n",
       "      <td>Luxury,Performance</td>\n",
       "      <td>Compact</td>\n",
       "      <td>Coupe</td>\n",
       "      <td>28</td>\n",
       "      <td>18</td>\n",
       "      <td>3916</td>\n",
       "      <td>29450</td>\n",
       "      <td>BMW 1 Series</td>\n",
       "    </tr>\n",
       "    <tr>\n",
       "      <th>4</th>\n",
       "      <td>BMW</td>\n",
       "      <td>1 Series</td>\n",
       "      <td>2011</td>\n",
       "      <td>premium unleaded (required)</td>\n",
       "      <td>230.0</td>\n",
       "      <td>6.0</td>\n",
       "      <td>MANUAL</td>\n",
       "      <td>rear wheel drive</td>\n",
       "      <td>2.0</td>\n",
       "      <td>Luxury</td>\n",
       "      <td>Compact</td>\n",
       "      <td>Convertible</td>\n",
       "      <td>28</td>\n",
       "      <td>18</td>\n",
       "      <td>3916</td>\n",
       "      <td>34500</td>\n",
       "      <td>BMW 1 Series</td>\n",
       "    </tr>\n",
       "  </tbody>\n",
       "</table>\n",
       "</div>"
      ],
      "text/plain": [
       "  Make       Model  Year             Engine Fuel Type  Engine HP  \\\n",
       "0  BMW  1 Series M  2011  premium unleaded (required)      335.0   \n",
       "1  BMW    1 Series  2011  premium unleaded (required)      300.0   \n",
       "2  BMW    1 Series  2011  premium unleaded (required)      300.0   \n",
       "3  BMW    1 Series  2011  premium unleaded (required)      230.0   \n",
       "4  BMW    1 Series  2011  premium unleaded (required)      230.0   \n",
       "\n",
       "   Engine Cylinders Transmission Type     Driven_Wheels  Number of Doors  \\\n",
       "0               6.0            MANUAL  rear wheel drive              2.0   \n",
       "1               6.0            MANUAL  rear wheel drive              2.0   \n",
       "2               6.0            MANUAL  rear wheel drive              2.0   \n",
       "3               6.0            MANUAL  rear wheel drive              2.0   \n",
       "4               6.0            MANUAL  rear wheel drive              2.0   \n",
       "\n",
       "                         Market Category Vehicle Size Vehicle Style  \\\n",
       "0  Factory Tuner,Luxury,High-Performance      Compact         Coupe   \n",
       "1                     Luxury,Performance      Compact   Convertible   \n",
       "2                Luxury,High-Performance      Compact         Coupe   \n",
       "3                     Luxury,Performance      Compact         Coupe   \n",
       "4                                 Luxury      Compact   Convertible   \n",
       "\n",
       "   highway MPG  city mpg  Popularity   MSRP      Make Model  \n",
       "0           26        19        3916  46135  BMW 1 Series M  \n",
       "1           28        19        3916  40650    BMW 1 Series  \n",
       "2           28        20        3916  36350    BMW 1 Series  \n",
       "3           28        18        3916  29450    BMW 1 Series  \n",
       "4           28        18        3916  34500    BMW 1 Series  "
      ]
     },
     "execution_count": 5,
     "metadata": {},
     "output_type": "execute_result"
    }
   ],
   "source": [
    "df.head()"
   ]
  },
  {
   "cell_type": "code",
   "execution_count": 6,
   "metadata": {},
   "outputs": [],
   "source": [
    "df1 = df[['Engine Fuel Type','Transmission Type','Driven_Wheels','Market Category','Vehicle Size', 'Vehicle Style', 'Make Model']]# For each row, combine all the columns into one column"
   ]
  },
  {
   "cell_type": "code",
   "execution_count": 7,
   "metadata": {},
   "outputs": [
    {
     "data": {
      "text/html": [
       "<div>\n",
       "<style scoped>\n",
       "    .dataframe tbody tr th:only-of-type {\n",
       "        vertical-align: middle;\n",
       "    }\n",
       "\n",
       "    .dataframe tbody tr th {\n",
       "        vertical-align: top;\n",
       "    }\n",
       "\n",
       "    .dataframe thead th {\n",
       "        text-align: right;\n",
       "    }\n",
       "</style>\n",
       "<table border=\"1\" class=\"dataframe\">\n",
       "  <thead>\n",
       "    <tr style=\"text-align: right;\">\n",
       "      <th></th>\n",
       "      <th>Engine Fuel Type</th>\n",
       "      <th>Transmission Type</th>\n",
       "      <th>Driven_Wheels</th>\n",
       "      <th>Market Category</th>\n",
       "      <th>Vehicle Size</th>\n",
       "      <th>Vehicle Style</th>\n",
       "      <th>Make Model</th>\n",
       "    </tr>\n",
       "  </thead>\n",
       "  <tbody>\n",
       "    <tr>\n",
       "      <th>0</th>\n",
       "      <td>premium unleaded (required)</td>\n",
       "      <td>MANUAL</td>\n",
       "      <td>rear wheel drive</td>\n",
       "      <td>Factory Tuner,Luxury,High-Performance</td>\n",
       "      <td>Compact</td>\n",
       "      <td>Coupe</td>\n",
       "      <td>BMW 1 Series M</td>\n",
       "    </tr>\n",
       "    <tr>\n",
       "      <th>1</th>\n",
       "      <td>premium unleaded (required)</td>\n",
       "      <td>MANUAL</td>\n",
       "      <td>rear wheel drive</td>\n",
       "      <td>Luxury,Performance</td>\n",
       "      <td>Compact</td>\n",
       "      <td>Convertible</td>\n",
       "      <td>BMW 1 Series</td>\n",
       "    </tr>\n",
       "    <tr>\n",
       "      <th>2</th>\n",
       "      <td>premium unleaded (required)</td>\n",
       "      <td>MANUAL</td>\n",
       "      <td>rear wheel drive</td>\n",
       "      <td>Luxury,High-Performance</td>\n",
       "      <td>Compact</td>\n",
       "      <td>Coupe</td>\n",
       "      <td>BMW 1 Series</td>\n",
       "    </tr>\n",
       "    <tr>\n",
       "      <th>3</th>\n",
       "      <td>premium unleaded (required)</td>\n",
       "      <td>MANUAL</td>\n",
       "      <td>rear wheel drive</td>\n",
       "      <td>Luxury,Performance</td>\n",
       "      <td>Compact</td>\n",
       "      <td>Coupe</td>\n",
       "      <td>BMW 1 Series</td>\n",
       "    </tr>\n",
       "    <tr>\n",
       "      <th>4</th>\n",
       "      <td>premium unleaded (required)</td>\n",
       "      <td>MANUAL</td>\n",
       "      <td>rear wheel drive</td>\n",
       "      <td>Luxury</td>\n",
       "      <td>Compact</td>\n",
       "      <td>Convertible</td>\n",
       "      <td>BMW 1 Series</td>\n",
       "    </tr>\n",
       "  </tbody>\n",
       "</table>\n",
       "</div>"
      ],
      "text/plain": [
       "              Engine Fuel Type Transmission Type     Driven_Wheels  \\\n",
       "0  premium unleaded (required)            MANUAL  rear wheel drive   \n",
       "1  premium unleaded (required)            MANUAL  rear wheel drive   \n",
       "2  premium unleaded (required)            MANUAL  rear wheel drive   \n",
       "3  premium unleaded (required)            MANUAL  rear wheel drive   \n",
       "4  premium unleaded (required)            MANUAL  rear wheel drive   \n",
       "\n",
       "                         Market Category Vehicle Size Vehicle Style  \\\n",
       "0  Factory Tuner,Luxury,High-Performance      Compact         Coupe   \n",
       "1                     Luxury,Performance      Compact   Convertible   \n",
       "2                Luxury,High-Performance      Compact         Coupe   \n",
       "3                     Luxury,Performance      Compact         Coupe   \n",
       "4                                 Luxury      Compact   Convertible   \n",
       "\n",
       "       Make Model  \n",
       "0  BMW 1 Series M  \n",
       "1    BMW 1 Series  \n",
       "2    BMW 1 Series  \n",
       "3    BMW 1 Series  \n",
       "4    BMW 1 Series  "
      ]
     },
     "execution_count": 7,
     "metadata": {},
     "output_type": "execute_result"
    }
   ],
   "source": [
    "df1.head()"
   ]
  },
  {
   "cell_type": "code",
   "execution_count": 8,
   "metadata": {},
   "outputs": [
    {
     "data": {
      "text/plain": [
       "0    premium unleaded (required),MANUAL,rear wheel ...\n",
       "1    premium unleaded (required),MANUAL,rear wheel ...\n",
       "2    premium unleaded (required),MANUAL,rear wheel ...\n",
       "3    premium unleaded (required),MANUAL,rear wheel ...\n",
       "4    premium unleaded (required),MANUAL,rear wheel ...\n",
       "dtype: object"
      ]
     },
     "execution_count": 8,
     "metadata": {},
     "output_type": "execute_result"
    }
   ],
   "source": [
    "df2 = df1.apply(lambda x: ','.join(x.astype(str)), axis=1)# Store them in a pandas dataframe\n",
    "df2.head()"
   ]
  },
  {
   "cell_type": "code",
   "execution_count": 9,
   "metadata": {},
   "outputs": [
    {
     "data": {
      "text/html": [
       "<div>\n",
       "<style scoped>\n",
       "    .dataframe tbody tr th:only-of-type {\n",
       "        vertical-align: middle;\n",
       "    }\n",
       "\n",
       "    .dataframe tbody tr th {\n",
       "        vertical-align: top;\n",
       "    }\n",
       "\n",
       "    .dataframe thead th {\n",
       "        text-align: right;\n",
       "    }\n",
       "</style>\n",
       "<table border=\"1\" class=\"dataframe\">\n",
       "  <thead>\n",
       "    <tr style=\"text-align: right;\">\n",
       "      <th></th>\n",
       "      <th>clean</th>\n",
       "    </tr>\n",
       "  </thead>\n",
       "  <tbody>\n",
       "    <tr>\n",
       "      <th>0</th>\n",
       "      <td>premium unleaded (required),MANUAL,rear wheel ...</td>\n",
       "    </tr>\n",
       "    <tr>\n",
       "      <th>1</th>\n",
       "      <td>premium unleaded (required),MANUAL,rear wheel ...</td>\n",
       "    </tr>\n",
       "    <tr>\n",
       "      <th>2</th>\n",
       "      <td>premium unleaded (required),MANUAL,rear wheel ...</td>\n",
       "    </tr>\n",
       "    <tr>\n",
       "      <th>3</th>\n",
       "      <td>premium unleaded (required),MANUAL,rear wheel ...</td>\n",
       "    </tr>\n",
       "    <tr>\n",
       "      <th>4</th>\n",
       "      <td>premium unleaded (required),MANUAL,rear wheel ...</td>\n",
       "    </tr>\n",
       "  </tbody>\n",
       "</table>\n",
       "</div>"
      ],
      "text/plain": [
       "                                               clean\n",
       "0  premium unleaded (required),MANUAL,rear wheel ...\n",
       "1  premium unleaded (required),MANUAL,rear wheel ...\n",
       "2  premium unleaded (required),MANUAL,rear wheel ...\n",
       "3  premium unleaded (required),MANUAL,rear wheel ...\n",
       "4  premium unleaded (required),MANUAL,rear wheel ..."
      ]
     },
     "execution_count": 9,
     "metadata": {},
     "output_type": "execute_result"
    }
   ],
   "source": [
    "df_clean = pd.DataFrame({'clean': df2})\n",
    "df_clean.head()"
   ]
  },
  {
   "cell_type": "code",
   "execution_count": 10,
   "metadata": {},
   "outputs": [],
   "source": [
    "sent = [row.split(',') for row in df_clean['clean']]"
   ]
  },
  {
   "cell_type": "markdown",
   "metadata": {},
   "source": [
    "### Word2vec contains parameters : \n",
    "\n",
    "##### window: The maximum distance between a target word and words around the target word. The default window is 5.\n",
    "\n",
    "##### min_count: The minimum count of words to consider when training the model; words with occurrence less than this count will be ignored. The default for min_count is 5.\n",
    "\n",
    "##### workers: The number of partitions during training and the default workers is 3.\n",
    "\n",
    "##### sg: The training algorithm, either CBOW(0) or skip gram(1). The default training algorithm is CBOW."
   ]
  },
  {
   "cell_type": "code",
   "execution_count": 11,
   "metadata": {},
   "outputs": [],
   "source": [
    "model = Word2Vec(sent, min_count=1,size= 50,workers=3, window =3, sg = 1)"
   ]
  },
  {
   "cell_type": "code",
   "execution_count": 12,
   "metadata": {},
   "outputs": [
    {
     "data": {
      "text/plain": [
       "array([ 0.04715483, -0.01261319,  0.04355657, -0.02391449, -0.04262092,\n",
       "       -0.01986457, -0.05299646,  0.04254357, -0.06859908,  0.00307956,\n",
       "       -0.02004026, -0.00160961, -0.0758438 , -0.03266215, -0.01230848,\n",
       "        0.05860493,  0.00318814,  0.00944483,  0.07613385, -0.04678341,\n",
       "        0.00892338, -0.02677902,  0.05730634,  0.02854625, -0.03390072,\n",
       "        0.0430381 ,  0.01183371, -0.04005957, -0.04163473, -0.02922104,\n",
       "       -0.04173954,  0.054854  , -0.00578617,  0.07043219, -0.0542073 ,\n",
       "        0.02241759, -0.04512401, -0.01362459,  0.04165599,  0.0483945 ,\n",
       "       -0.00494971,  0.03853117,  0.00201937, -0.01464026, -0.00398264,\n",
       "       -0.06179519, -0.04906065, -0.02229422, -0.04593555,  0.00279734],\n",
       "      dtype=float32)"
      ]
     },
     "execution_count": 12,
     "metadata": {},
     "output_type": "execute_result"
    }
   ],
   "source": [
    "model['BMW 1 Series M']"
   ]
  },
  {
   "cell_type": "code",
   "execution_count": 13,
   "metadata": {},
   "outputs": [
    {
     "data": {
      "text/plain": [
       "0.93160623"
      ]
     },
     "execution_count": 13,
     "metadata": {},
     "output_type": "execute_result"
    }
   ],
   "source": [
    "model.similarity('BMW 1 Series M', 'Nissan Van')"
   ]
  },
  {
   "cell_type": "code",
   "execution_count": 14,
   "metadata": {},
   "outputs": [
    {
     "data": {
      "text/plain": [
       "[('Lamborghini Murcielago', 0.9951092004776001),\n",
       " ('BMW Z4', 0.9946812391281128),\n",
       " ('Mercedes-Benz SL-Class', 0.9945781230926514),\n",
       " ('BMW M4', 0.9945276975631714),\n",
       " ('Ferrari 456M', 0.9939415454864502)]"
      ]
     },
     "execution_count": 14,
     "metadata": {},
     "output_type": "execute_result"
    }
   ],
   "source": [
    "model.most_similar('Mercedes-Benz SLK-Class')[:5]"
   ]
  },
  {
   "cell_type": "markdown",
   "metadata": {},
   "source": [
    "## Cosine Similarity"
   ]
  },
  {
   "cell_type": "code",
   "execution_count": 15,
   "metadata": {},
   "outputs": [],
   "source": [
    "from sklearn.metrics.pairwise import cosine_similarity"
   ]
  },
  {
   "cell_type": "code",
   "execution_count": 16,
   "metadata": {},
   "outputs": [],
   "source": [
    "from numpy import dot\n",
    "from numpy.linalg import norm"
   ]
  },
  {
   "cell_type": "code",
   "execution_count": 17,
   "metadata": {},
   "outputs": [],
   "source": [
    "def cosine_distance (model, word,target_list , num) :\n",
    "    cosine_dict ={}\n",
    "    word_list = []\n",
    "    a = model[word]\n",
    "    for item in target_list :\n",
    "        if item != word :\n",
    "            b = model [item]\n",
    "            cos_sim = dot(a, b)/(norm(a)*norm(b))\n",
    "            cosine_dict[item] = cos_sim\n",
    "    dist_sort=sorted(cosine_dict.items(), key=lambda dist: dist[1],reverse = True) ## in Descedning order \n",
    "    for item in dist_sort:\n",
    "        word_list.append((item[0], item[1]))\n",
    "    return word_list[0:num]# only get the unique Maker_Model"
   ]
  },
  {
   "cell_type": "code",
   "execution_count": 18,
   "metadata": {},
   "outputs": [],
   "source": [
    " Maker_Model = list(df1['Make Model'].unique())"
   ]
  },
  {
   "cell_type": "code",
   "execution_count": 19,
   "metadata": {},
   "outputs": [
    {
     "data": {
      "text/plain": [
       "[('Lamborghini Murcielago', 0.99510914),\n",
       " ('BMW Z4', 0.9946813),\n",
       " ('Mercedes-Benz SL-Class', 0.99457806),\n",
       " ('BMW M4', 0.99452764),\n",
       " ('Ferrari 456M', 0.99394166)]"
      ]
     },
     "execution_count": 19,
     "metadata": {},
     "output_type": "execute_result"
    }
   ],
   "source": [
    "cosine_distance (model,'Mercedes-Benz SLK-Class',Maker_Model,5)"
   ]
  },
  {
   "cell_type": "markdown",
   "metadata": {},
   "source": [
    "# Word2vec"
   ]
  },
  {
   "cell_type": "code",
   "execution_count": 20,
   "metadata": {},
   "outputs": [],
   "source": [
    "import pandas as pd\n",
    "from gensim.models import Word2Vec \n",
    "import numpy as np\n",
    "import warnings\n",
    "warnings.filterwarnings(\"ignore\")\n",
    "warnings.warn(\"deprecated\", DeprecationWarning)"
   ]
  },
  {
   "cell_type": "code",
   "execution_count": 21,
   "metadata": {},
   "outputs": [],
   "source": [
    "df= pd.read_csv('data.csv')"
   ]
  },
  {
   "cell_type": "code",
   "execution_count": 22,
   "metadata": {},
   "outputs": [],
   "source": [
    "df['Make Model'] = df['Make']+\" \"+df['Model']"
   ]
  },
  {
   "cell_type": "code",
   "execution_count": 23,
   "metadata": {},
   "outputs": [],
   "source": [
    "df1 = df[['Engine Fuel Type','Transmission Type','Driven_Wheels','Market Category','Vehicle Size', 'Vehicle Style', 'Make Model']]# For each row, combine all the columns into one column"
   ]
  },
  {
   "cell_type": "code",
   "execution_count": 24,
   "metadata": {},
   "outputs": [
    {
     "data": {
      "text/plain": [
       "0    premium unleaded (required),MANUAL,rear wheel ...\n",
       "1    premium unleaded (required),MANUAL,rear wheel ...\n",
       "2    premium unleaded (required),MANUAL,rear wheel ...\n",
       "3    premium unleaded (required),MANUAL,rear wheel ...\n",
       "4    premium unleaded (required),MANUAL,rear wheel ...\n",
       "dtype: object"
      ]
     },
     "execution_count": 24,
     "metadata": {},
     "output_type": "execute_result"
    }
   ],
   "source": [
    "df2 = df1.apply(lambda x: ','.join(x.astype(str)), axis=1)# Store them in a pandas dataframe\n",
    "df2.head()"
   ]
  },
  {
   "cell_type": "code",
   "execution_count": 25,
   "metadata": {},
   "outputs": [
    {
     "data": {
      "text/html": [
       "<div>\n",
       "<style scoped>\n",
       "    .dataframe tbody tr th:only-of-type {\n",
       "        vertical-align: middle;\n",
       "    }\n",
       "\n",
       "    .dataframe tbody tr th {\n",
       "        vertical-align: top;\n",
       "    }\n",
       "\n",
       "    .dataframe thead th {\n",
       "        text-align: right;\n",
       "    }\n",
       "</style>\n",
       "<table border=\"1\" class=\"dataframe\">\n",
       "  <thead>\n",
       "    <tr style=\"text-align: right;\">\n",
       "      <th></th>\n",
       "      <th>clean</th>\n",
       "    </tr>\n",
       "  </thead>\n",
       "  <tbody>\n",
       "    <tr>\n",
       "      <th>0</th>\n",
       "      <td>premium unleaded (required),MANUAL,rear wheel ...</td>\n",
       "    </tr>\n",
       "    <tr>\n",
       "      <th>1</th>\n",
       "      <td>premium unleaded (required),MANUAL,rear wheel ...</td>\n",
       "    </tr>\n",
       "    <tr>\n",
       "      <th>2</th>\n",
       "      <td>premium unleaded (required),MANUAL,rear wheel ...</td>\n",
       "    </tr>\n",
       "    <tr>\n",
       "      <th>3</th>\n",
       "      <td>premium unleaded (required),MANUAL,rear wheel ...</td>\n",
       "    </tr>\n",
       "    <tr>\n",
       "      <th>4</th>\n",
       "      <td>premium unleaded (required),MANUAL,rear wheel ...</td>\n",
       "    </tr>\n",
       "  </tbody>\n",
       "</table>\n",
       "</div>"
      ],
      "text/plain": [
       "                                               clean\n",
       "0  premium unleaded (required),MANUAL,rear wheel ...\n",
       "1  premium unleaded (required),MANUAL,rear wheel ...\n",
       "2  premium unleaded (required),MANUAL,rear wheel ...\n",
       "3  premium unleaded (required),MANUAL,rear wheel ...\n",
       "4  premium unleaded (required),MANUAL,rear wheel ..."
      ]
     },
     "execution_count": 25,
     "metadata": {},
     "output_type": "execute_result"
    }
   ],
   "source": [
    "df_clean = pd.DataFrame({'clean': df2})\n",
    "df_clean.head()"
   ]
  },
  {
   "cell_type": "code",
   "execution_count": 26,
   "metadata": {},
   "outputs": [],
   "source": [
    "sent = [row.split(',') for row in df_clean['clean']]"
   ]
  },
  {
   "cell_type": "code",
   "execution_count": 27,
   "metadata": {},
   "outputs": [],
   "source": [
    "model = Word2Vec(sent, min_count=1,size= 50,workers=3, window =3, sg = 1)"
   ]
  },
  {
   "cell_type": "code",
   "execution_count": 28,
   "metadata": {},
   "outputs": [
    {
     "data": {
      "text/plain": [
       "[('Audi RS 5', 0.9955652356147766),\n",
       " ('Ferrari 458 Italia', 0.9942469000816345),\n",
       " ('Aston Martin DB9', 0.9939287900924683),\n",
       " ('Ford Shelby GT500', 0.9939104914665222),\n",
       " ('Mercedes-Benz CLK-Class', 0.9933016896247864)]"
      ]
     },
     "execution_count": 28,
     "metadata": {},
     "output_type": "execute_result"
    }
   ],
   "source": [
    "model.most_similar('Mercedes-Benz SLK-Class')[:5]"
   ]
  },
  {
   "cell_type": "markdown",
   "metadata": {},
   "source": [
    "# Main Project : "
   ]
  },
  {
   "cell_type": "code",
   "execution_count": 29,
   "metadata": {},
   "outputs": [
    {
     "name": "stderr",
     "output_type": "stream",
     "text": [
      "[nltk_data] Downloading package stopwords to\n",
      "[nltk_data]     C:\\Users\\DELL\\AppData\\Roaming\\nltk_data...\n",
      "[nltk_data]   Package stopwords is already up-to-date!\n"
     ]
    },
    {
     "data": {
      "text/plain": [
       "True"
      ]
     },
     "execution_count": 29,
     "metadata": {},
     "output_type": "execute_result"
    }
   ],
   "source": [
    "import pandas as pd\n",
    "from gensim.models import Word2Vec \n",
    "import numpy as np\n",
    "import warnings\n",
    "warnings.filterwarnings(\"ignore\")\n",
    "warnings.warn(\"deprecated\", DeprecationWarning)\n",
    "import nltk\n",
    "import re\n",
    "nltk.download('stopwords')\n",
    "\n",
    "\n",
    "# pd.set_option('display.max_rows',None)"
   ]
  },
  {
   "cell_type": "code",
   "execution_count": 30,
   "metadata": {},
   "outputs": [],
   "source": [
    "pd.set_option('display.max_columns',None)"
   ]
  },
  {
   "cell_type": "code",
   "execution_count": 31,
   "metadata": {
    "scrolled": false
   },
   "outputs": [
    {
     "data": {
      "text/html": [
       "<div>\n",
       "<style scoped>\n",
       "    .dataframe tbody tr th:only-of-type {\n",
       "        vertical-align: middle;\n",
       "    }\n",
       "\n",
       "    .dataframe tbody tr th {\n",
       "        vertical-align: top;\n",
       "    }\n",
       "\n",
       "    .dataframe thead th {\n",
       "        text-align: right;\n",
       "    }\n",
       "</style>\n",
       "<table border=\"1\" class=\"dataframe\">\n",
       "  <thead>\n",
       "    <tr style=\"text-align: right;\">\n",
       "      <th></th>\n",
       "      <th>summary</th>\n",
       "      <th>heading</th>\n",
       "      <th>words_count</th>\n",
       "      <th>hashtags</th>\n",
       "      <th>keywords</th>\n",
       "      <th>publish_time</th>\n",
       "      <th>body_polarity</th>\n",
       "      <th>body_polarity_score</th>\n",
       "      <th>title_polarity</th>\n",
       "      <th>title_polarity_score</th>\n",
       "      <th>country_origin</th>\n",
       "      <th>state_origin</th>\n",
       "      <th>city_origin</th>\n",
       "    </tr>\n",
       "  </thead>\n",
       "  <tbody>\n",
       "    <tr>\n",
       "      <th>0</th>\n",
       "      <td>However, this restriction will not apply to in...</td>\n",
       "      <td>Ban on international passenger flights extende...</td>\n",
       "      <td>223</td>\n",
       "      <td>[#DGCA, #DirectorateGeneralOfCivilAviation, #C...</td>\n",
       "      <td>[flights, passenger, international, passenger ...</td>\n",
       "      <td>2020-03-26 14:30:18</td>\n",
       "      <td>negative</td>\n",
       "      <td>0.988144</td>\n",
       "      <td>neutral</td>\n",
       "      <td>0.890838</td>\n",
       "      <td>IN</td>\n",
       "      <td>None</td>\n",
       "      <td>None</td>\n",
       "    </tr>\n",
       "    <tr>\n",
       "      <th>1</th>\n",
       "      <td>But leg-spinner Yuzvendra Chahal is utilising ...</td>\n",
       "      <td>Yuzvendra Chahal's</td>\n",
       "      <td>292</td>\n",
       "      <td>[#India, #Coronavirus, #OneDayInternational, #...</td>\n",
       "      <td>[Yuzvendra Chahal, Chahal, Yuzvendra, TikTok v...</td>\n",
       "      <td>2020-03-26 14:29:28</td>\n",
       "      <td>positive</td>\n",
       "      <td>0.885754</td>\n",
       "      <td>neutral</td>\n",
       "      <td>0.407149</td>\n",
       "      <td>IN</td>\n",
       "      <td>None</td>\n",
       "      <td>None</td>\n",
       "    </tr>\n",
       "  </tbody>\n",
       "</table>\n",
       "</div>"
      ],
      "text/plain": [
       "                                             summary  \\\n",
       "0  However, this restriction will not apply to in...   \n",
       "1  But leg-spinner Yuzvendra Chahal is utilising ...   \n",
       "\n",
       "                                             heading  words_count  \\\n",
       "0  Ban on international passenger flights extende...          223   \n",
       "1                                 Yuzvendra Chahal's          292   \n",
       "\n",
       "                                            hashtags  \\\n",
       "0  [#DGCA, #DirectorateGeneralOfCivilAviation, #C...   \n",
       "1  [#India, #Coronavirus, #OneDayInternational, #...   \n",
       "\n",
       "                                            keywords        publish_time  \\\n",
       "0  [flights, passenger, international, passenger ... 2020-03-26 14:30:18   \n",
       "1  [Yuzvendra Chahal, Chahal, Yuzvendra, TikTok v... 2020-03-26 14:29:28   \n",
       "\n",
       "  body_polarity  body_polarity_score title_polarity  title_polarity_score  \\\n",
       "0      negative             0.988144        neutral              0.890838   \n",
       "1      positive             0.885754        neutral              0.407149   \n",
       "\n",
       "  country_origin state_origin city_origin  \n",
       "0             IN         None        None  \n",
       "1             IN         None        None  "
      ]
     },
     "execution_count": 31,
     "metadata": {},
     "output_type": "execute_result"
    }
   ],
   "source": [
    "df = pd.read_json('aylien_cleaned_1_Aug_44.json')\n",
    "df.head(2)"
   ]
  },
  {
   "cell_type": "code",
   "execution_count": 32,
   "metadata": {},
   "outputs": [
    {
     "data": {
      "text/plain": [
       "['summary',\n",
       " 'heading',\n",
       " 'words_count',\n",
       " 'hashtags',\n",
       " 'keywords',\n",
       " 'publish_time',\n",
       " 'body_polarity',\n",
       " 'body_polarity_score',\n",
       " 'title_polarity',\n",
       " 'title_polarity_score',\n",
       " 'country_origin',\n",
       " 'state_origin',\n",
       " 'city_origin']"
      ]
     },
     "execution_count": 32,
     "metadata": {},
     "output_type": "execute_result"
    }
   ],
   "source": [
    "list(df.columns.values)"
   ]
  },
  {
   "cell_type": "code",
   "execution_count": 33,
   "metadata": {},
   "outputs": [],
   "source": [
    "df = df[:537]"
   ]
  },
  {
   "cell_type": "code",
   "execution_count": 34,
   "metadata": {},
   "outputs": [],
   "source": [
    "df2 = df.copy()"
   ]
  },
  {
   "cell_type": "code",
   "execution_count": 35,
   "metadata": {},
   "outputs": [],
   "source": [
    "df1 = df.hashtags.copy()\n"
   ]
  },
  {
   "cell_type": "code",
   "execution_count": 36,
   "metadata": {},
   "outputs": [
    {
     "data": {
      "text/plain": [
       "(537,)"
      ]
     },
     "execution_count": 36,
     "metadata": {},
     "output_type": "execute_result"
    }
   ],
   "source": [
    "df1.shape"
   ]
  },
  {
   "cell_type": "code",
   "execution_count": 37,
   "metadata": {},
   "outputs": [
    {
     "data": {
      "text/plain": [
       "summary                   0\n",
       "heading                   0\n",
       "words_count               0\n",
       "hashtags                  0\n",
       "keywords                  0\n",
       "publish_time              0\n",
       "body_polarity             1\n",
       "body_polarity_score       1\n",
       "title_polarity            0\n",
       "title_polarity_score      0\n",
       "country_origin            0\n",
       "state_origin            380\n",
       "city_origin             380\n",
       "dtype: int64"
      ]
     },
     "execution_count": 37,
     "metadata": {},
     "output_type": "execute_result"
    }
   ],
   "source": [
    "df.isnull().sum()"
   ]
  },
  {
   "cell_type": "code",
   "execution_count": 38,
   "metadata": {},
   "outputs": [
    {
     "data": {
      "text/plain": [
       "['#India',\n",
       " '#Coronavirus',\n",
       " '#OneDayInternational',\n",
       " '#IndianPremierLeague',\n",
       " '#Pandemic',\n",
       " '#GovernmentOfIndia',\n",
       " '#Lockdown',\n",
       " '#LegSpin',\n",
       " '#Twitter',\n",
       " '#DanceMove',\n",
       " '#SocialMedia',\n",
       " '#Virus',\n",
       " '#Twenty20International',\n",
       " '#ODI',\n",
       " '#NewZealand',\n",
       " '#Whitewash',\n",
       " '#ViratKohli',\n",
       " '#RoyalChallengersBangalore',\n",
       " '#Cricket',\n",
       " '#IPL',\n",
       " '#BCCI',\n",
       " '#BoardOfControlForCricketInIndia']"
      ]
     },
     "execution_count": 38,
     "metadata": {},
     "output_type": "execute_result"
    }
   ],
   "source": [
    "df1[1]"
   ]
  },
  {
   "cell_type": "code",
   "execution_count": 39,
   "metadata": {},
   "outputs": [],
   "source": [
    "for i in range(len(df1)):\n",
    "    df1[i] = ','.join(map(str, df1[i]))"
   ]
  },
  {
   "cell_type": "code",
   "execution_count": 40,
   "metadata": {},
   "outputs": [
    {
     "data": {
      "text/plain": [
       "0    #DGCA,#DirectorateGeneralOfCivilAviation,#Coro...\n",
       "1    #India,#Coronavirus,#OneDayInternational,#Indi...\n",
       "2    #Lockdown,#ListsOfTransformersCharacters,#Indi...\n",
       "3    #ChiefMinister,#Bengal,#Odisha,#Bihar,#ListsOf...\n",
       "4    #Crore,#Coronavirus,#FinanceMinister,#Lakh,#FM...\n",
       "Name: hashtags, dtype: object"
      ]
     },
     "execution_count": 40,
     "metadata": {},
     "output_type": "execute_result"
    }
   ],
   "source": [
    "df1.head()"
   ]
  },
  {
   "cell_type": "code",
   "execution_count": 41,
   "metadata": {},
   "outputs": [],
   "source": [
    "df3 = df1.to_frame()"
   ]
  },
  {
   "cell_type": "code",
   "execution_count": 42,
   "metadata": {},
   "outputs": [],
   "source": [
    "df3.columns = ['Unlist']"
   ]
  },
  {
   "cell_type": "code",
   "execution_count": 43,
   "metadata": {},
   "outputs": [
    {
     "data": {
      "text/html": [
       "<div>\n",
       "<style scoped>\n",
       "    .dataframe tbody tr th:only-of-type {\n",
       "        vertical-align: middle;\n",
       "    }\n",
       "\n",
       "    .dataframe tbody tr th {\n",
       "        vertical-align: top;\n",
       "    }\n",
       "\n",
       "    .dataframe thead th {\n",
       "        text-align: right;\n",
       "    }\n",
       "</style>\n",
       "<table border=\"1\" class=\"dataframe\">\n",
       "  <thead>\n",
       "    <tr style=\"text-align: right;\">\n",
       "      <th></th>\n",
       "      <th>Unlist</th>\n",
       "    </tr>\n",
       "  </thead>\n",
       "  <tbody>\n",
       "    <tr>\n",
       "      <th>0</th>\n",
       "      <td>#DGCA,#DirectorateGeneralOfCivilAviation,#Coro...</td>\n",
       "    </tr>\n",
       "    <tr>\n",
       "      <th>1</th>\n",
       "      <td>#India,#Coronavirus,#OneDayInternational,#Indi...</td>\n",
       "    </tr>\n",
       "    <tr>\n",
       "      <th>2</th>\n",
       "      <td>#Lockdown,#ListsOfTransformersCharacters,#Indi...</td>\n",
       "    </tr>\n",
       "    <tr>\n",
       "      <th>3</th>\n",
       "      <td>#ChiefMinister,#Bengal,#Odisha,#Bihar,#ListsOf...</td>\n",
       "    </tr>\n",
       "    <tr>\n",
       "      <th>4</th>\n",
       "      <td>#Crore,#Coronavirus,#FinanceMinister,#Lakh,#FM...</td>\n",
       "    </tr>\n",
       "  </tbody>\n",
       "</table>\n",
       "</div>"
      ],
      "text/plain": [
       "                                              Unlist\n",
       "0  #DGCA,#DirectorateGeneralOfCivilAviation,#Coro...\n",
       "1  #India,#Coronavirus,#OneDayInternational,#Indi...\n",
       "2  #Lockdown,#ListsOfTransformersCharacters,#Indi...\n",
       "3  #ChiefMinister,#Bengal,#Odisha,#Bihar,#ListsOf...\n",
       "4  #Crore,#Coronavirus,#FinanceMinister,#Lakh,#FM..."
      ]
     },
     "execution_count": 43,
     "metadata": {},
     "output_type": "execute_result"
    }
   ],
   "source": [
    "df3.head()"
   ]
  },
  {
   "cell_type": "code",
   "execution_count": 44,
   "metadata": {},
   "outputs": [],
   "source": [
    "df4 = pd.concat([df3,df2],axis=1)"
   ]
  },
  {
   "cell_type": "code",
   "execution_count": 45,
   "metadata": {},
   "outputs": [
    {
     "data": {
      "text/html": [
       "<div>\n",
       "<style scoped>\n",
       "    .dataframe tbody tr th:only-of-type {\n",
       "        vertical-align: middle;\n",
       "    }\n",
       "\n",
       "    .dataframe tbody tr th {\n",
       "        vertical-align: top;\n",
       "    }\n",
       "\n",
       "    .dataframe thead th {\n",
       "        text-align: right;\n",
       "    }\n",
       "</style>\n",
       "<table border=\"1\" class=\"dataframe\">\n",
       "  <thead>\n",
       "    <tr style=\"text-align: right;\">\n",
       "      <th></th>\n",
       "      <th>Unlist</th>\n",
       "      <th>summary</th>\n",
       "      <th>heading</th>\n",
       "      <th>words_count</th>\n",
       "      <th>hashtags</th>\n",
       "      <th>keywords</th>\n",
       "      <th>publish_time</th>\n",
       "      <th>body_polarity</th>\n",
       "      <th>body_polarity_score</th>\n",
       "      <th>title_polarity</th>\n",
       "      <th>title_polarity_score</th>\n",
       "      <th>country_origin</th>\n",
       "      <th>state_origin</th>\n",
       "      <th>city_origin</th>\n",
       "    </tr>\n",
       "  </thead>\n",
       "  <tbody>\n",
       "    <tr>\n",
       "      <th>0</th>\n",
       "      <td>#DGCA,#DirectorateGeneralOfCivilAviation,#Coro...</td>\n",
       "      <td>However, this restriction will not apply to in...</td>\n",
       "      <td>Ban on international passenger flights extende...</td>\n",
       "      <td>223</td>\n",
       "      <td>[#DGCA, #DirectorateGeneralOfCivilAviation, #C...</td>\n",
       "      <td>[flights, passenger, international, passenger ...</td>\n",
       "      <td>2020-03-26 14:30:18</td>\n",
       "      <td>negative</td>\n",
       "      <td>0.988144</td>\n",
       "      <td>neutral</td>\n",
       "      <td>0.890838</td>\n",
       "      <td>IN</td>\n",
       "      <td>None</td>\n",
       "      <td>None</td>\n",
       "    </tr>\n",
       "    <tr>\n",
       "      <th>1</th>\n",
       "      <td>#India,#Coronavirus,#OneDayInternational,#Indi...</td>\n",
       "      <td>But leg-spinner Yuzvendra Chahal is utilising ...</td>\n",
       "      <td>Yuzvendra Chahal's</td>\n",
       "      <td>292</td>\n",
       "      <td>[#India, #Coronavirus, #OneDayInternational, #...</td>\n",
       "      <td>[Yuzvendra Chahal, Chahal, Yuzvendra, TikTok v...</td>\n",
       "      <td>2020-03-26 14:29:28</td>\n",
       "      <td>positive</td>\n",
       "      <td>0.885754</td>\n",
       "      <td>neutral</td>\n",
       "      <td>0.407149</td>\n",
       "      <td>IN</td>\n",
       "      <td>None</td>\n",
       "      <td>None</td>\n",
       "    </tr>\n",
       "    <tr>\n",
       "      <th>2</th>\n",
       "      <td>#Lockdown,#ListsOfTransformersCharacters,#Indi...</td>\n",
       "      <td>So the math was simple and the step logical: L...</td>\n",
       "      <td>Opinion: COVID-19 Lockdown Is Needed But May N...</td>\n",
       "      <td>812</td>\n",
       "      <td>[#Lockdown, #ListsOfTransformersCharacters, #I...</td>\n",
       "      <td>[Lockdown, COVID-19, Needed, Opinion, Problem,...</td>\n",
       "      <td>2020-03-26 14:29:28</td>\n",
       "      <td>negative</td>\n",
       "      <td>0.606026</td>\n",
       "      <td>negative</td>\n",
       "      <td>0.863666</td>\n",
       "      <td>IN</td>\n",
       "      <td>None</td>\n",
       "      <td>None</td>\n",
       "    </tr>\n",
       "    <tr>\n",
       "      <th>3</th>\n",
       "      <td>#ChiefMinister,#Bengal,#Odisha,#Bihar,#ListsOf...</td>\n",
       "      <td>Chief Ministers of three states - Bengal, Biha...</td>\n",
       "      <td>Amid Lockdown, Chief Ministers Seek Help For M...</td>\n",
       "      <td>401</td>\n",
       "      <td>[#ChiefMinister, #Bengal, #Odisha, #Bihar, #Li...</td>\n",
       "      <td>[Chief, Migrant, Ministers, Labourers, Lockdow...</td>\n",
       "      <td>2020-03-26 14:29:28</td>\n",
       "      <td>negative</td>\n",
       "      <td>0.842977</td>\n",
       "      <td>neutral</td>\n",
       "      <td>0.734383</td>\n",
       "      <td>IN</td>\n",
       "      <td>None</td>\n",
       "      <td>None</td>\n",
       "    </tr>\n",
       "    <tr>\n",
       "      <th>4</th>\n",
       "      <td>#Crore,#Coronavirus,#FinanceMinister,#Lakh,#FM...</td>\n",
       "      <td>Finance Minister, Nirmala Sitharaman, today an...</td>\n",
       "      <td>Coronavirus Pandemic: Auto Industry Welcomes F...</td>\n",
       "      <td>604</td>\n",
       "      <td>[#Crore, #Coronavirus, #FinanceMinister, #Lakh...</td>\n",
       "      <td>[Auto, Industry, Announcement, Crisis, Situati...</td>\n",
       "      <td>2020-03-26 14:29:28</td>\n",
       "      <td>negative</td>\n",
       "      <td>0.849670</td>\n",
       "      <td>negative</td>\n",
       "      <td>0.470863</td>\n",
       "      <td>IN</td>\n",
       "      <td>None</td>\n",
       "      <td>None</td>\n",
       "    </tr>\n",
       "  </tbody>\n",
       "</table>\n",
       "</div>"
      ],
      "text/plain": [
       "                                              Unlist  \\\n",
       "0  #DGCA,#DirectorateGeneralOfCivilAviation,#Coro...   \n",
       "1  #India,#Coronavirus,#OneDayInternational,#Indi...   \n",
       "2  #Lockdown,#ListsOfTransformersCharacters,#Indi...   \n",
       "3  #ChiefMinister,#Bengal,#Odisha,#Bihar,#ListsOf...   \n",
       "4  #Crore,#Coronavirus,#FinanceMinister,#Lakh,#FM...   \n",
       "\n",
       "                                             summary  \\\n",
       "0  However, this restriction will not apply to in...   \n",
       "1  But leg-spinner Yuzvendra Chahal is utilising ...   \n",
       "2  So the math was simple and the step logical: L...   \n",
       "3  Chief Ministers of three states - Bengal, Biha...   \n",
       "4  Finance Minister, Nirmala Sitharaman, today an...   \n",
       "\n",
       "                                             heading  words_count  \\\n",
       "0  Ban on international passenger flights extende...          223   \n",
       "1                                 Yuzvendra Chahal's          292   \n",
       "2  Opinion: COVID-19 Lockdown Is Needed But May N...          812   \n",
       "3  Amid Lockdown, Chief Ministers Seek Help For M...          401   \n",
       "4  Coronavirus Pandemic: Auto Industry Welcomes F...          604   \n",
       "\n",
       "                                            hashtags  \\\n",
       "0  [#DGCA, #DirectorateGeneralOfCivilAviation, #C...   \n",
       "1  [#India, #Coronavirus, #OneDayInternational, #...   \n",
       "2  [#Lockdown, #ListsOfTransformersCharacters, #I...   \n",
       "3  [#ChiefMinister, #Bengal, #Odisha, #Bihar, #Li...   \n",
       "4  [#Crore, #Coronavirus, #FinanceMinister, #Lakh...   \n",
       "\n",
       "                                            keywords        publish_time  \\\n",
       "0  [flights, passenger, international, passenger ... 2020-03-26 14:30:18   \n",
       "1  [Yuzvendra Chahal, Chahal, Yuzvendra, TikTok v... 2020-03-26 14:29:28   \n",
       "2  [Lockdown, COVID-19, Needed, Opinion, Problem,... 2020-03-26 14:29:28   \n",
       "3  [Chief, Migrant, Ministers, Labourers, Lockdow... 2020-03-26 14:29:28   \n",
       "4  [Auto, Industry, Announcement, Crisis, Situati... 2020-03-26 14:29:28   \n",
       "\n",
       "  body_polarity  body_polarity_score title_polarity  title_polarity_score  \\\n",
       "0      negative             0.988144        neutral              0.890838   \n",
       "1      positive             0.885754        neutral              0.407149   \n",
       "2      negative             0.606026       negative              0.863666   \n",
       "3      negative             0.842977        neutral              0.734383   \n",
       "4      negative             0.849670       negative              0.470863   \n",
       "\n",
       "  country_origin state_origin city_origin  \n",
       "0             IN         None        None  \n",
       "1             IN         None        None  \n",
       "2             IN         None        None  \n",
       "3             IN         None        None  \n",
       "4             IN         None        None  "
      ]
     },
     "execution_count": 45,
     "metadata": {},
     "output_type": "execute_result"
    }
   ],
   "source": [
    "df4.head()"
   ]
  },
  {
   "cell_type": "code",
   "execution_count": 46,
   "metadata": {},
   "outputs": [],
   "source": [
    "df2 = df2.keywords.copy()"
   ]
  },
  {
   "cell_type": "code",
   "execution_count": 47,
   "metadata": {},
   "outputs": [
    {
     "data": {
      "text/plain": [
       "0    [flights, passenger, international, passenger ...\n",
       "1    [Yuzvendra Chahal, Chahal, Yuzvendra, TikTok v...\n",
       "2    [Lockdown, COVID-19, Needed, Opinion, Problem,...\n",
       "3    [Chief, Migrant, Ministers, Labourers, Lockdow...\n",
       "4    [Auto, Industry, Announcement, Crisis, Situati...\n",
       "Name: keywords, dtype: object"
      ]
     },
     "execution_count": 47,
     "metadata": {},
     "output_type": "execute_result"
    }
   ],
   "source": [
    "df2.head()"
   ]
  },
  {
   "cell_type": "code",
   "execution_count": 48,
   "metadata": {},
   "outputs": [
    {
     "data": {
      "text/plain": [
       "['Yuzvendra Chahal',\n",
       " 'Chahal',\n",
       " 'Yuzvendra',\n",
       " 'TikTok videos',\n",
       " 'videos',\n",
       " 'India',\n",
       " 'time',\n",
       " 'TikTok',\n",
       " 'Indian',\n",
       " 'League',\n",
       " 'start',\n",
       " 'International',\n",
       " 'weeks',\n",
       " 'cricket',\n",
       " 'Coronavirus',\n",
       " 'funny',\n",
       " 'followers',\n",
       " 'April',\n",
       " 'government',\n",
       " 'Twenty20 International',\n",
       " 'tweeted',\n",
       " 'Indian government',\n",
       " 'Indian Premier League',\n",
       " 'IPL',\n",
       " 'dance move',\n",
       " 'Royal Challengers Bangalore',\n",
       " 'whitewash',\n",
       " 'BCCI',\n",
       " 'social media',\n",
       " 'Virat Kohli',\n",
       " 'lockdown',\n",
       " 'viral',\n",
       " 'One-day International',\n",
       " 'ODI',\n",
       " 'pandemic',\n",
       " 'New Zealand',\n",
       " 'leg-spinner',\n",
       " 'coronavirus']"
      ]
     },
     "execution_count": 48,
     "metadata": {},
     "output_type": "execute_result"
    }
   ],
   "source": [
    "df2[1]"
   ]
  },
  {
   "cell_type": "code",
   "execution_count": 49,
   "metadata": {},
   "outputs": [],
   "source": [
    "for i in range(len(df1)):\n",
    "    df2[i] = ','.join(map(str, df2[i]))"
   ]
  },
  {
   "cell_type": "code",
   "execution_count": 50,
   "metadata": {},
   "outputs": [
    {
     "data": {
      "text/plain": [
       "0    flights,passenger,international,passenger flig...\n",
       "1    Yuzvendra Chahal,Chahal,Yuzvendra,TikTok video...\n",
       "2    Lockdown,COVID-19,Needed,Opinion,Problem,lockd...\n",
       "3    Chief,Migrant,Ministers,Labourers,Lockdown,Chi...\n",
       "4    Auto,Industry,Announcement,Crisis,Situation,Ex...\n",
       "Name: keywords, dtype: object"
      ]
     },
     "execution_count": 50,
     "metadata": {},
     "output_type": "execute_result"
    }
   ],
   "source": [
    "df2.head()"
   ]
  },
  {
   "cell_type": "code",
   "execution_count": 51,
   "metadata": {},
   "outputs": [],
   "source": [
    "df3 = df2.to_frame()"
   ]
  },
  {
   "cell_type": "code",
   "execution_count": 52,
   "metadata": {},
   "outputs": [
    {
     "data": {
      "text/html": [
       "<div>\n",
       "<style scoped>\n",
       "    .dataframe tbody tr th:only-of-type {\n",
       "        vertical-align: middle;\n",
       "    }\n",
       "\n",
       "    .dataframe tbody tr th {\n",
       "        vertical-align: top;\n",
       "    }\n",
       "\n",
       "    .dataframe thead th {\n",
       "        text-align: right;\n",
       "    }\n",
       "</style>\n",
       "<table border=\"1\" class=\"dataframe\">\n",
       "  <thead>\n",
       "    <tr style=\"text-align: right;\">\n",
       "      <th></th>\n",
       "      <th>keywords</th>\n",
       "    </tr>\n",
       "  </thead>\n",
       "  <tbody>\n",
       "    <tr>\n",
       "      <th>0</th>\n",
       "      <td>flights,passenger,international,passenger flig...</td>\n",
       "    </tr>\n",
       "    <tr>\n",
       "      <th>1</th>\n",
       "      <td>Yuzvendra Chahal,Chahal,Yuzvendra,TikTok video...</td>\n",
       "    </tr>\n",
       "    <tr>\n",
       "      <th>2</th>\n",
       "      <td>Lockdown,COVID-19,Needed,Opinion,Problem,lockd...</td>\n",
       "    </tr>\n",
       "    <tr>\n",
       "      <th>3</th>\n",
       "      <td>Chief,Migrant,Ministers,Labourers,Lockdown,Chi...</td>\n",
       "    </tr>\n",
       "    <tr>\n",
       "      <th>4</th>\n",
       "      <td>Auto,Industry,Announcement,Crisis,Situation,Ex...</td>\n",
       "    </tr>\n",
       "  </tbody>\n",
       "</table>\n",
       "</div>"
      ],
      "text/plain": [
       "                                            keywords\n",
       "0  flights,passenger,international,passenger flig...\n",
       "1  Yuzvendra Chahal,Chahal,Yuzvendra,TikTok video...\n",
       "2  Lockdown,COVID-19,Needed,Opinion,Problem,lockd...\n",
       "3  Chief,Migrant,Ministers,Labourers,Lockdown,Chi...\n",
       "4  Auto,Industry,Announcement,Crisis,Situation,Ex..."
      ]
     },
     "execution_count": 52,
     "metadata": {},
     "output_type": "execute_result"
    }
   ],
   "source": [
    "df3.head()"
   ]
  },
  {
   "cell_type": "code",
   "execution_count": 53,
   "metadata": {},
   "outputs": [],
   "source": [
    "df3.columns = ['Unlist_keywords']"
   ]
  },
  {
   "cell_type": "code",
   "execution_count": 54,
   "metadata": {},
   "outputs": [],
   "source": [
    "df4 = pd.concat([df3,df4],axis=1)"
   ]
  },
  {
   "cell_type": "code",
   "execution_count": 55,
   "metadata": {},
   "outputs": [
    {
     "data": {
      "text/html": [
       "<div>\n",
       "<style scoped>\n",
       "    .dataframe tbody tr th:only-of-type {\n",
       "        vertical-align: middle;\n",
       "    }\n",
       "\n",
       "    .dataframe tbody tr th {\n",
       "        vertical-align: top;\n",
       "    }\n",
       "\n",
       "    .dataframe thead th {\n",
       "        text-align: right;\n",
       "    }\n",
       "</style>\n",
       "<table border=\"1\" class=\"dataframe\">\n",
       "  <thead>\n",
       "    <tr style=\"text-align: right;\">\n",
       "      <th></th>\n",
       "      <th>Unlist_keywords</th>\n",
       "      <th>Unlist</th>\n",
       "      <th>summary</th>\n",
       "      <th>heading</th>\n",
       "      <th>words_count</th>\n",
       "      <th>hashtags</th>\n",
       "      <th>keywords</th>\n",
       "      <th>publish_time</th>\n",
       "      <th>body_polarity</th>\n",
       "      <th>body_polarity_score</th>\n",
       "      <th>title_polarity</th>\n",
       "      <th>title_polarity_score</th>\n",
       "      <th>country_origin</th>\n",
       "      <th>state_origin</th>\n",
       "      <th>city_origin</th>\n",
       "    </tr>\n",
       "  </thead>\n",
       "  <tbody>\n",
       "    <tr>\n",
       "      <th>0</th>\n",
       "      <td>flights,passenger,international,passenger flig...</td>\n",
       "      <td>#DGCA,#DirectorateGeneralOfCivilAviation,#Coro...</td>\n",
       "      <td>However, this restriction will not apply to in...</td>\n",
       "      <td>Ban on international passenger flights extende...</td>\n",
       "      <td>223</td>\n",
       "      <td>[#DGCA, #DirectorateGeneralOfCivilAviation, #C...</td>\n",
       "      <td>[flights, passenger, international, passenger ...</td>\n",
       "      <td>2020-03-26 14:30:18</td>\n",
       "      <td>negative</td>\n",
       "      <td>0.988144</td>\n",
       "      <td>neutral</td>\n",
       "      <td>0.890838</td>\n",
       "      <td>IN</td>\n",
       "      <td>None</td>\n",
       "      <td>None</td>\n",
       "    </tr>\n",
       "    <tr>\n",
       "      <th>1</th>\n",
       "      <td>Yuzvendra Chahal,Chahal,Yuzvendra,TikTok video...</td>\n",
       "      <td>#India,#Coronavirus,#OneDayInternational,#Indi...</td>\n",
       "      <td>But leg-spinner Yuzvendra Chahal is utilising ...</td>\n",
       "      <td>Yuzvendra Chahal's</td>\n",
       "      <td>292</td>\n",
       "      <td>[#India, #Coronavirus, #OneDayInternational, #...</td>\n",
       "      <td>[Yuzvendra Chahal, Chahal, Yuzvendra, TikTok v...</td>\n",
       "      <td>2020-03-26 14:29:28</td>\n",
       "      <td>positive</td>\n",
       "      <td>0.885754</td>\n",
       "      <td>neutral</td>\n",
       "      <td>0.407149</td>\n",
       "      <td>IN</td>\n",
       "      <td>None</td>\n",
       "      <td>None</td>\n",
       "    </tr>\n",
       "    <tr>\n",
       "      <th>2</th>\n",
       "      <td>Lockdown,COVID-19,Needed,Opinion,Problem,lockd...</td>\n",
       "      <td>#Lockdown,#ListsOfTransformersCharacters,#Indi...</td>\n",
       "      <td>So the math was simple and the step logical: L...</td>\n",
       "      <td>Opinion: COVID-19 Lockdown Is Needed But May N...</td>\n",
       "      <td>812</td>\n",
       "      <td>[#Lockdown, #ListsOfTransformersCharacters, #I...</td>\n",
       "      <td>[Lockdown, COVID-19, Needed, Opinion, Problem,...</td>\n",
       "      <td>2020-03-26 14:29:28</td>\n",
       "      <td>negative</td>\n",
       "      <td>0.606026</td>\n",
       "      <td>negative</td>\n",
       "      <td>0.863666</td>\n",
       "      <td>IN</td>\n",
       "      <td>None</td>\n",
       "      <td>None</td>\n",
       "    </tr>\n",
       "    <tr>\n",
       "      <th>3</th>\n",
       "      <td>Chief,Migrant,Ministers,Labourers,Lockdown,Chi...</td>\n",
       "      <td>#ChiefMinister,#Bengal,#Odisha,#Bihar,#ListsOf...</td>\n",
       "      <td>Chief Ministers of three states - Bengal, Biha...</td>\n",
       "      <td>Amid Lockdown, Chief Ministers Seek Help For M...</td>\n",
       "      <td>401</td>\n",
       "      <td>[#ChiefMinister, #Bengal, #Odisha, #Bihar, #Li...</td>\n",
       "      <td>[Chief, Migrant, Ministers, Labourers, Lockdow...</td>\n",
       "      <td>2020-03-26 14:29:28</td>\n",
       "      <td>negative</td>\n",
       "      <td>0.842977</td>\n",
       "      <td>neutral</td>\n",
       "      <td>0.734383</td>\n",
       "      <td>IN</td>\n",
       "      <td>None</td>\n",
       "      <td>None</td>\n",
       "    </tr>\n",
       "    <tr>\n",
       "      <th>4</th>\n",
       "      <td>Auto,Industry,Announcement,Crisis,Situation,Ex...</td>\n",
       "      <td>#Crore,#Coronavirus,#FinanceMinister,#Lakh,#FM...</td>\n",
       "      <td>Finance Minister, Nirmala Sitharaman, today an...</td>\n",
       "      <td>Coronavirus Pandemic: Auto Industry Welcomes F...</td>\n",
       "      <td>604</td>\n",
       "      <td>[#Crore, #Coronavirus, #FinanceMinister, #Lakh...</td>\n",
       "      <td>[Auto, Industry, Announcement, Crisis, Situati...</td>\n",
       "      <td>2020-03-26 14:29:28</td>\n",
       "      <td>negative</td>\n",
       "      <td>0.849670</td>\n",
       "      <td>negative</td>\n",
       "      <td>0.470863</td>\n",
       "      <td>IN</td>\n",
       "      <td>None</td>\n",
       "      <td>None</td>\n",
       "    </tr>\n",
       "  </tbody>\n",
       "</table>\n",
       "</div>"
      ],
      "text/plain": [
       "                                     Unlist_keywords  \\\n",
       "0  flights,passenger,international,passenger flig...   \n",
       "1  Yuzvendra Chahal,Chahal,Yuzvendra,TikTok video...   \n",
       "2  Lockdown,COVID-19,Needed,Opinion,Problem,lockd...   \n",
       "3  Chief,Migrant,Ministers,Labourers,Lockdown,Chi...   \n",
       "4  Auto,Industry,Announcement,Crisis,Situation,Ex...   \n",
       "\n",
       "                                              Unlist  \\\n",
       "0  #DGCA,#DirectorateGeneralOfCivilAviation,#Coro...   \n",
       "1  #India,#Coronavirus,#OneDayInternational,#Indi...   \n",
       "2  #Lockdown,#ListsOfTransformersCharacters,#Indi...   \n",
       "3  #ChiefMinister,#Bengal,#Odisha,#Bihar,#ListsOf...   \n",
       "4  #Crore,#Coronavirus,#FinanceMinister,#Lakh,#FM...   \n",
       "\n",
       "                                             summary  \\\n",
       "0  However, this restriction will not apply to in...   \n",
       "1  But leg-spinner Yuzvendra Chahal is utilising ...   \n",
       "2  So the math was simple and the step logical: L...   \n",
       "3  Chief Ministers of three states - Bengal, Biha...   \n",
       "4  Finance Minister, Nirmala Sitharaman, today an...   \n",
       "\n",
       "                                             heading  words_count  \\\n",
       "0  Ban on international passenger flights extende...          223   \n",
       "1                                 Yuzvendra Chahal's          292   \n",
       "2  Opinion: COVID-19 Lockdown Is Needed But May N...          812   \n",
       "3  Amid Lockdown, Chief Ministers Seek Help For M...          401   \n",
       "4  Coronavirus Pandemic: Auto Industry Welcomes F...          604   \n",
       "\n",
       "                                            hashtags  \\\n",
       "0  [#DGCA, #DirectorateGeneralOfCivilAviation, #C...   \n",
       "1  [#India, #Coronavirus, #OneDayInternational, #...   \n",
       "2  [#Lockdown, #ListsOfTransformersCharacters, #I...   \n",
       "3  [#ChiefMinister, #Bengal, #Odisha, #Bihar, #Li...   \n",
       "4  [#Crore, #Coronavirus, #FinanceMinister, #Lakh...   \n",
       "\n",
       "                                            keywords        publish_time  \\\n",
       "0  [flights, passenger, international, passenger ... 2020-03-26 14:30:18   \n",
       "1  [Yuzvendra Chahal, Chahal, Yuzvendra, TikTok v... 2020-03-26 14:29:28   \n",
       "2  [Lockdown, COVID-19, Needed, Opinion, Problem,... 2020-03-26 14:29:28   \n",
       "3  [Chief, Migrant, Ministers, Labourers, Lockdow... 2020-03-26 14:29:28   \n",
       "4  [Auto, Industry, Announcement, Crisis, Situati... 2020-03-26 14:29:28   \n",
       "\n",
       "  body_polarity  body_polarity_score title_polarity  title_polarity_score  \\\n",
       "0      negative             0.988144        neutral              0.890838   \n",
       "1      positive             0.885754        neutral              0.407149   \n",
       "2      negative             0.606026       negative              0.863666   \n",
       "3      negative             0.842977        neutral              0.734383   \n",
       "4      negative             0.849670       negative              0.470863   \n",
       "\n",
       "  country_origin state_origin city_origin  \n",
       "0             IN         None        None  \n",
       "1             IN         None        None  \n",
       "2             IN         None        None  \n",
       "3             IN         None        None  \n",
       "4             IN         None        None  "
      ]
     },
     "execution_count": 55,
     "metadata": {},
     "output_type": "execute_result"
    }
   ],
   "source": [
    "df4.head()"
   ]
  },
  {
   "cell_type": "code",
   "execution_count": 56,
   "metadata": {},
   "outputs": [],
   "source": [
    "df5 = df4[['summary','heading']]"
   ]
  },
  {
   "cell_type": "code",
   "execution_count": 57,
   "metadata": {},
   "outputs": [
    {
     "data": {
      "text/plain": [
       "'However, this restriction will not apply to international all-cargo operations and flights specifically approved by the DGCA. All international commercial passenger flights will remain suspended till April 14, aviation regulator DGCA announced on Thursday, amid a nationwide lockdown to prevent the spread of the novel coronavirus. The Directorate General of Civil Aviation (DGCA) on March 19 had announced that no international commercial passenger flight operations will take place in India from 1.30 am on March 23 to 5.30 am on March 29. “In continuation of circular-II dated 19.3.2020 issued on the subject cited-above, it has been decided that all scheduled international commercial passenger services shall remain closed till 1830 hrs GMT (0000 hrs of Indian Standard Time) of April 14, 2020,\" the aviation regulator said. \"However, this restriction will not apply to international all-cargo operations and flights specifically approved by the DGCA,\" it said.,Ban on international passenger flights extended till Apr 14'"
      ]
     },
     "execution_count": 57,
     "metadata": {},
     "output_type": "execute_result"
    }
   ],
   "source": [
    "df5 = df5.apply(lambda x: ','.join(x.astype(str)), axis=1)# Store them in a pandas dataframe\n",
    "df5[0]"
   ]
  },
  {
   "cell_type": "code",
   "execution_count": 58,
   "metadata": {},
   "outputs": [
    {
     "data": {
      "text/html": [
       "<div>\n",
       "<style scoped>\n",
       "    .dataframe tbody tr th:only-of-type {\n",
       "        vertical-align: middle;\n",
       "    }\n",
       "\n",
       "    .dataframe tbody tr th {\n",
       "        vertical-align: top;\n",
       "    }\n",
       "\n",
       "    .dataframe thead th {\n",
       "        text-align: right;\n",
       "    }\n",
       "</style>\n",
       "<table border=\"1\" class=\"dataframe\">\n",
       "  <thead>\n",
       "    <tr style=\"text-align: right;\">\n",
       "      <th></th>\n",
       "      <th>sum_head</th>\n",
       "    </tr>\n",
       "  </thead>\n",
       "  <tbody>\n",
       "    <tr>\n",
       "      <th>0</th>\n",
       "      <td>However, this restriction will not apply to in...</td>\n",
       "    </tr>\n",
       "    <tr>\n",
       "      <th>1</th>\n",
       "      <td>But leg-spinner Yuzvendra Chahal is utilising ...</td>\n",
       "    </tr>\n",
       "    <tr>\n",
       "      <th>2</th>\n",
       "      <td>So the math was simple and the step logical: L...</td>\n",
       "    </tr>\n",
       "    <tr>\n",
       "      <th>3</th>\n",
       "      <td>Chief Ministers of three states - Bengal, Biha...</td>\n",
       "    </tr>\n",
       "    <tr>\n",
       "      <th>4</th>\n",
       "      <td>Finance Minister, Nirmala Sitharaman, today an...</td>\n",
       "    </tr>\n",
       "  </tbody>\n",
       "</table>\n",
       "</div>"
      ],
      "text/plain": [
       "                                            sum_head\n",
       "0  However, this restriction will not apply to in...\n",
       "1  But leg-spinner Yuzvendra Chahal is utilising ...\n",
       "2  So the math was simple and the step logical: L...\n",
       "3  Chief Ministers of three states - Bengal, Biha...\n",
       "4  Finance Minister, Nirmala Sitharaman, today an..."
      ]
     },
     "execution_count": 58,
     "metadata": {},
     "output_type": "execute_result"
    }
   ],
   "source": [
    "sum_head = pd.DataFrame({'sum_head': df5})\n",
    "sum_head.head()"
   ]
  },
  {
   "cell_type": "code",
   "execution_count": 59,
   "metadata": {},
   "outputs": [],
   "source": [
    "df4 = pd.concat([sum_head,df4],axis=1)"
   ]
  },
  {
   "cell_type": "code",
   "execution_count": 60,
   "metadata": {},
   "outputs": [
    {
     "data": {
      "text/html": [
       "<div>\n",
       "<style scoped>\n",
       "    .dataframe tbody tr th:only-of-type {\n",
       "        vertical-align: middle;\n",
       "    }\n",
       "\n",
       "    .dataframe tbody tr th {\n",
       "        vertical-align: top;\n",
       "    }\n",
       "\n",
       "    .dataframe thead th {\n",
       "        text-align: right;\n",
       "    }\n",
       "</style>\n",
       "<table border=\"1\" class=\"dataframe\">\n",
       "  <thead>\n",
       "    <tr style=\"text-align: right;\">\n",
       "      <th></th>\n",
       "      <th>sum_head</th>\n",
       "      <th>Unlist_keywords</th>\n",
       "      <th>Unlist</th>\n",
       "      <th>summary</th>\n",
       "      <th>heading</th>\n",
       "      <th>words_count</th>\n",
       "      <th>hashtags</th>\n",
       "      <th>keywords</th>\n",
       "      <th>publish_time</th>\n",
       "      <th>body_polarity</th>\n",
       "      <th>body_polarity_score</th>\n",
       "      <th>title_polarity</th>\n",
       "      <th>title_polarity_score</th>\n",
       "      <th>country_origin</th>\n",
       "      <th>state_origin</th>\n",
       "      <th>city_origin</th>\n",
       "    </tr>\n",
       "  </thead>\n",
       "  <tbody>\n",
       "    <tr>\n",
       "      <th>0</th>\n",
       "      <td>However, this restriction will not apply to in...</td>\n",
       "      <td>flights,passenger,international,passenger flig...</td>\n",
       "      <td>#DGCA,#DirectorateGeneralOfCivilAviation,#Coro...</td>\n",
       "      <td>However, this restriction will not apply to in...</td>\n",
       "      <td>Ban on international passenger flights extende...</td>\n",
       "      <td>223</td>\n",
       "      <td>[#DGCA, #DirectorateGeneralOfCivilAviation, #C...</td>\n",
       "      <td>[flights, passenger, international, passenger ...</td>\n",
       "      <td>2020-03-26 14:30:18</td>\n",
       "      <td>negative</td>\n",
       "      <td>0.988144</td>\n",
       "      <td>neutral</td>\n",
       "      <td>0.890838</td>\n",
       "      <td>IN</td>\n",
       "      <td>None</td>\n",
       "      <td>None</td>\n",
       "    </tr>\n",
       "    <tr>\n",
       "      <th>1</th>\n",
       "      <td>But leg-spinner Yuzvendra Chahal is utilising ...</td>\n",
       "      <td>Yuzvendra Chahal,Chahal,Yuzvendra,TikTok video...</td>\n",
       "      <td>#India,#Coronavirus,#OneDayInternational,#Indi...</td>\n",
       "      <td>But leg-spinner Yuzvendra Chahal is utilising ...</td>\n",
       "      <td>Yuzvendra Chahal's</td>\n",
       "      <td>292</td>\n",
       "      <td>[#India, #Coronavirus, #OneDayInternational, #...</td>\n",
       "      <td>[Yuzvendra Chahal, Chahal, Yuzvendra, TikTok v...</td>\n",
       "      <td>2020-03-26 14:29:28</td>\n",
       "      <td>positive</td>\n",
       "      <td>0.885754</td>\n",
       "      <td>neutral</td>\n",
       "      <td>0.407149</td>\n",
       "      <td>IN</td>\n",
       "      <td>None</td>\n",
       "      <td>None</td>\n",
       "    </tr>\n",
       "    <tr>\n",
       "      <th>2</th>\n",
       "      <td>So the math was simple and the step logical: L...</td>\n",
       "      <td>Lockdown,COVID-19,Needed,Opinion,Problem,lockd...</td>\n",
       "      <td>#Lockdown,#ListsOfTransformersCharacters,#Indi...</td>\n",
       "      <td>So the math was simple and the step logical: L...</td>\n",
       "      <td>Opinion: COVID-19 Lockdown Is Needed But May N...</td>\n",
       "      <td>812</td>\n",
       "      <td>[#Lockdown, #ListsOfTransformersCharacters, #I...</td>\n",
       "      <td>[Lockdown, COVID-19, Needed, Opinion, Problem,...</td>\n",
       "      <td>2020-03-26 14:29:28</td>\n",
       "      <td>negative</td>\n",
       "      <td>0.606026</td>\n",
       "      <td>negative</td>\n",
       "      <td>0.863666</td>\n",
       "      <td>IN</td>\n",
       "      <td>None</td>\n",
       "      <td>None</td>\n",
       "    </tr>\n",
       "    <tr>\n",
       "      <th>3</th>\n",
       "      <td>Chief Ministers of three states - Bengal, Biha...</td>\n",
       "      <td>Chief,Migrant,Ministers,Labourers,Lockdown,Chi...</td>\n",
       "      <td>#ChiefMinister,#Bengal,#Odisha,#Bihar,#ListsOf...</td>\n",
       "      <td>Chief Ministers of three states - Bengal, Biha...</td>\n",
       "      <td>Amid Lockdown, Chief Ministers Seek Help For M...</td>\n",
       "      <td>401</td>\n",
       "      <td>[#ChiefMinister, #Bengal, #Odisha, #Bihar, #Li...</td>\n",
       "      <td>[Chief, Migrant, Ministers, Labourers, Lockdow...</td>\n",
       "      <td>2020-03-26 14:29:28</td>\n",
       "      <td>negative</td>\n",
       "      <td>0.842977</td>\n",
       "      <td>neutral</td>\n",
       "      <td>0.734383</td>\n",
       "      <td>IN</td>\n",
       "      <td>None</td>\n",
       "      <td>None</td>\n",
       "    </tr>\n",
       "    <tr>\n",
       "      <th>4</th>\n",
       "      <td>Finance Minister, Nirmala Sitharaman, today an...</td>\n",
       "      <td>Auto,Industry,Announcement,Crisis,Situation,Ex...</td>\n",
       "      <td>#Crore,#Coronavirus,#FinanceMinister,#Lakh,#FM...</td>\n",
       "      <td>Finance Minister, Nirmala Sitharaman, today an...</td>\n",
       "      <td>Coronavirus Pandemic: Auto Industry Welcomes F...</td>\n",
       "      <td>604</td>\n",
       "      <td>[#Crore, #Coronavirus, #FinanceMinister, #Lakh...</td>\n",
       "      <td>[Auto, Industry, Announcement, Crisis, Situati...</td>\n",
       "      <td>2020-03-26 14:29:28</td>\n",
       "      <td>negative</td>\n",
       "      <td>0.849670</td>\n",
       "      <td>negative</td>\n",
       "      <td>0.470863</td>\n",
       "      <td>IN</td>\n",
       "      <td>None</td>\n",
       "      <td>None</td>\n",
       "    </tr>\n",
       "  </tbody>\n",
       "</table>\n",
       "</div>"
      ],
      "text/plain": [
       "                                            sum_head  \\\n",
       "0  However, this restriction will not apply to in...   \n",
       "1  But leg-spinner Yuzvendra Chahal is utilising ...   \n",
       "2  So the math was simple and the step logical: L...   \n",
       "3  Chief Ministers of three states - Bengal, Biha...   \n",
       "4  Finance Minister, Nirmala Sitharaman, today an...   \n",
       "\n",
       "                                     Unlist_keywords  \\\n",
       "0  flights,passenger,international,passenger flig...   \n",
       "1  Yuzvendra Chahal,Chahal,Yuzvendra,TikTok video...   \n",
       "2  Lockdown,COVID-19,Needed,Opinion,Problem,lockd...   \n",
       "3  Chief,Migrant,Ministers,Labourers,Lockdown,Chi...   \n",
       "4  Auto,Industry,Announcement,Crisis,Situation,Ex...   \n",
       "\n",
       "                                              Unlist  \\\n",
       "0  #DGCA,#DirectorateGeneralOfCivilAviation,#Coro...   \n",
       "1  #India,#Coronavirus,#OneDayInternational,#Indi...   \n",
       "2  #Lockdown,#ListsOfTransformersCharacters,#Indi...   \n",
       "3  #ChiefMinister,#Bengal,#Odisha,#Bihar,#ListsOf...   \n",
       "4  #Crore,#Coronavirus,#FinanceMinister,#Lakh,#FM...   \n",
       "\n",
       "                                             summary  \\\n",
       "0  However, this restriction will not apply to in...   \n",
       "1  But leg-spinner Yuzvendra Chahal is utilising ...   \n",
       "2  So the math was simple and the step logical: L...   \n",
       "3  Chief Ministers of three states - Bengal, Biha...   \n",
       "4  Finance Minister, Nirmala Sitharaman, today an...   \n",
       "\n",
       "                                             heading  words_count  \\\n",
       "0  Ban on international passenger flights extende...          223   \n",
       "1                                 Yuzvendra Chahal's          292   \n",
       "2  Opinion: COVID-19 Lockdown Is Needed But May N...          812   \n",
       "3  Amid Lockdown, Chief Ministers Seek Help For M...          401   \n",
       "4  Coronavirus Pandemic: Auto Industry Welcomes F...          604   \n",
       "\n",
       "                                            hashtags  \\\n",
       "0  [#DGCA, #DirectorateGeneralOfCivilAviation, #C...   \n",
       "1  [#India, #Coronavirus, #OneDayInternational, #...   \n",
       "2  [#Lockdown, #ListsOfTransformersCharacters, #I...   \n",
       "3  [#ChiefMinister, #Bengal, #Odisha, #Bihar, #Li...   \n",
       "4  [#Crore, #Coronavirus, #FinanceMinister, #Lakh...   \n",
       "\n",
       "                                            keywords        publish_time  \\\n",
       "0  [flights, passenger, international, passenger ... 2020-03-26 14:30:18   \n",
       "1  [Yuzvendra Chahal, Chahal, Yuzvendra, TikTok v... 2020-03-26 14:29:28   \n",
       "2  [Lockdown, COVID-19, Needed, Opinion, Problem,... 2020-03-26 14:29:28   \n",
       "3  [Chief, Migrant, Ministers, Labourers, Lockdow... 2020-03-26 14:29:28   \n",
       "4  [Auto, Industry, Announcement, Crisis, Situati... 2020-03-26 14:29:28   \n",
       "\n",
       "  body_polarity  body_polarity_score title_polarity  title_polarity_score  \\\n",
       "0      negative             0.988144        neutral              0.890838   \n",
       "1      positive             0.885754        neutral              0.407149   \n",
       "2      negative             0.606026       negative              0.863666   \n",
       "3      negative             0.842977        neutral              0.734383   \n",
       "4      negative             0.849670       negative              0.470863   \n",
       "\n",
       "  country_origin state_origin city_origin  \n",
       "0             IN         None        None  \n",
       "1             IN         None        None  \n",
       "2             IN         None        None  \n",
       "3             IN         None        None  \n",
       "4             IN         None        None  "
      ]
     },
     "execution_count": 60,
     "metadata": {},
     "output_type": "execute_result"
    }
   ],
   "source": [
    "df4.head()"
   ]
  },
  {
   "cell_type": "code",
   "execution_count": 61,
   "metadata": {},
   "outputs": [],
   "source": [
    "df4.drop(['keywords','hashtags','summary','heading'],axis=1,inplace=True)"
   ]
  },
  {
   "cell_type": "code",
   "execution_count": 62,
   "metadata": {
    "scrolled": false
   },
   "outputs": [
    {
     "data": {
      "text/html": [
       "<div>\n",
       "<style scoped>\n",
       "    .dataframe tbody tr th:only-of-type {\n",
       "        vertical-align: middle;\n",
       "    }\n",
       "\n",
       "    .dataframe tbody tr th {\n",
       "        vertical-align: top;\n",
       "    }\n",
       "\n",
       "    .dataframe thead th {\n",
       "        text-align: right;\n",
       "    }\n",
       "</style>\n",
       "<table border=\"1\" class=\"dataframe\">\n",
       "  <thead>\n",
       "    <tr style=\"text-align: right;\">\n",
       "      <th></th>\n",
       "      <th>sum_head</th>\n",
       "      <th>Unlist_keywords</th>\n",
       "      <th>Unlist</th>\n",
       "      <th>words_count</th>\n",
       "      <th>publish_time</th>\n",
       "      <th>body_polarity</th>\n",
       "      <th>body_polarity_score</th>\n",
       "      <th>title_polarity</th>\n",
       "      <th>title_polarity_score</th>\n",
       "      <th>country_origin</th>\n",
       "      <th>state_origin</th>\n",
       "      <th>city_origin</th>\n",
       "    </tr>\n",
       "  </thead>\n",
       "  <tbody>\n",
       "    <tr>\n",
       "      <th>0</th>\n",
       "      <td>However, this restriction will not apply to in...</td>\n",
       "      <td>flights,passenger,international,passenger flig...</td>\n",
       "      <td>#DGCA,#DirectorateGeneralOfCivilAviation,#Coro...</td>\n",
       "      <td>223</td>\n",
       "      <td>2020-03-26 14:30:18</td>\n",
       "      <td>negative</td>\n",
       "      <td>0.988144</td>\n",
       "      <td>neutral</td>\n",
       "      <td>0.890838</td>\n",
       "      <td>IN</td>\n",
       "      <td>None</td>\n",
       "      <td>None</td>\n",
       "    </tr>\n",
       "    <tr>\n",
       "      <th>1</th>\n",
       "      <td>But leg-spinner Yuzvendra Chahal is utilising ...</td>\n",
       "      <td>Yuzvendra Chahal,Chahal,Yuzvendra,TikTok video...</td>\n",
       "      <td>#India,#Coronavirus,#OneDayInternational,#Indi...</td>\n",
       "      <td>292</td>\n",
       "      <td>2020-03-26 14:29:28</td>\n",
       "      <td>positive</td>\n",
       "      <td>0.885754</td>\n",
       "      <td>neutral</td>\n",
       "      <td>0.407149</td>\n",
       "      <td>IN</td>\n",
       "      <td>None</td>\n",
       "      <td>None</td>\n",
       "    </tr>\n",
       "    <tr>\n",
       "      <th>2</th>\n",
       "      <td>So the math was simple and the step logical: L...</td>\n",
       "      <td>Lockdown,COVID-19,Needed,Opinion,Problem,lockd...</td>\n",
       "      <td>#Lockdown,#ListsOfTransformersCharacters,#Indi...</td>\n",
       "      <td>812</td>\n",
       "      <td>2020-03-26 14:29:28</td>\n",
       "      <td>negative</td>\n",
       "      <td>0.606026</td>\n",
       "      <td>negative</td>\n",
       "      <td>0.863666</td>\n",
       "      <td>IN</td>\n",
       "      <td>None</td>\n",
       "      <td>None</td>\n",
       "    </tr>\n",
       "    <tr>\n",
       "      <th>3</th>\n",
       "      <td>Chief Ministers of three states - Bengal, Biha...</td>\n",
       "      <td>Chief,Migrant,Ministers,Labourers,Lockdown,Chi...</td>\n",
       "      <td>#ChiefMinister,#Bengal,#Odisha,#Bihar,#ListsOf...</td>\n",
       "      <td>401</td>\n",
       "      <td>2020-03-26 14:29:28</td>\n",
       "      <td>negative</td>\n",
       "      <td>0.842977</td>\n",
       "      <td>neutral</td>\n",
       "      <td>0.734383</td>\n",
       "      <td>IN</td>\n",
       "      <td>None</td>\n",
       "      <td>None</td>\n",
       "    </tr>\n",
       "    <tr>\n",
       "      <th>4</th>\n",
       "      <td>Finance Minister, Nirmala Sitharaman, today an...</td>\n",
       "      <td>Auto,Industry,Announcement,Crisis,Situation,Ex...</td>\n",
       "      <td>#Crore,#Coronavirus,#FinanceMinister,#Lakh,#FM...</td>\n",
       "      <td>604</td>\n",
       "      <td>2020-03-26 14:29:28</td>\n",
       "      <td>negative</td>\n",
       "      <td>0.849670</td>\n",
       "      <td>negative</td>\n",
       "      <td>0.470863</td>\n",
       "      <td>IN</td>\n",
       "      <td>None</td>\n",
       "      <td>None</td>\n",
       "    </tr>\n",
       "  </tbody>\n",
       "</table>\n",
       "</div>"
      ],
      "text/plain": [
       "                                            sum_head  \\\n",
       "0  However, this restriction will not apply to in...   \n",
       "1  But leg-spinner Yuzvendra Chahal is utilising ...   \n",
       "2  So the math was simple and the step logical: L...   \n",
       "3  Chief Ministers of three states - Bengal, Biha...   \n",
       "4  Finance Minister, Nirmala Sitharaman, today an...   \n",
       "\n",
       "                                     Unlist_keywords  \\\n",
       "0  flights,passenger,international,passenger flig...   \n",
       "1  Yuzvendra Chahal,Chahal,Yuzvendra,TikTok video...   \n",
       "2  Lockdown,COVID-19,Needed,Opinion,Problem,lockd...   \n",
       "3  Chief,Migrant,Ministers,Labourers,Lockdown,Chi...   \n",
       "4  Auto,Industry,Announcement,Crisis,Situation,Ex...   \n",
       "\n",
       "                                              Unlist  words_count  \\\n",
       "0  #DGCA,#DirectorateGeneralOfCivilAviation,#Coro...          223   \n",
       "1  #India,#Coronavirus,#OneDayInternational,#Indi...          292   \n",
       "2  #Lockdown,#ListsOfTransformersCharacters,#Indi...          812   \n",
       "3  #ChiefMinister,#Bengal,#Odisha,#Bihar,#ListsOf...          401   \n",
       "4  #Crore,#Coronavirus,#FinanceMinister,#Lakh,#FM...          604   \n",
       "\n",
       "         publish_time body_polarity  body_polarity_score title_polarity  \\\n",
       "0 2020-03-26 14:30:18      negative             0.988144        neutral   \n",
       "1 2020-03-26 14:29:28      positive             0.885754        neutral   \n",
       "2 2020-03-26 14:29:28      negative             0.606026       negative   \n",
       "3 2020-03-26 14:29:28      negative             0.842977        neutral   \n",
       "4 2020-03-26 14:29:28      negative             0.849670       negative   \n",
       "\n",
       "   title_polarity_score country_origin state_origin city_origin  \n",
       "0              0.890838             IN         None        None  \n",
       "1              0.407149             IN         None        None  \n",
       "2              0.863666             IN         None        None  \n",
       "3              0.734383             IN         None        None  \n",
       "4              0.470863             IN         None        None  "
      ]
     },
     "execution_count": 62,
     "metadata": {},
     "output_type": "execute_result"
    }
   ],
   "source": [
    "df4.head()"
   ]
  },
  {
   "cell_type": "code",
   "execution_count": 63,
   "metadata": {},
   "outputs": [],
   "source": [
    "df_new = df4[['sum_head','Unlist','Unlist_keywords']]"
   ]
  },
  {
   "cell_type": "code",
   "execution_count": 64,
   "metadata": {},
   "outputs": [
    {
     "data": {
      "text/plain": [
       "'However, this restriction will not apply to international all-cargo operations and flights specifically approved by the DGCA. All international commercial passenger flights will remain suspended till April 14, aviation regulator DGCA announced on Thursday, amid a nationwide lockdown to prevent the spread of the novel coronavirus. The Directorate General of Civil Aviation (DGCA) on March 19 had announced that no international commercial passenger flight operations will take place in India from 1.30 am on March 23 to 5.30 am on March 29. “In continuation of circular-II dated 19.3.2020 issued on the subject cited-above, it has been decided that all scheduled international commercial passenger services shall remain closed till 1830 hrs GMT (0000 hrs of Indian Standard Time) of April 14, 2020,\" the aviation regulator said. \"However, this restriction will not apply to international all-cargo operations and flights specifically approved by the DGCA,\" it said.,Ban on international passenger flights extended till Apr 14,#DGCA,#DirectorateGeneralOfCivilAviation,#Coronavirus,#Lockdown,#India,#GMT,#GreenwichMeanTime,#Time,#MinistryOfHealthAndFamilyWelfare,#PrimeMinisterOfTheUnitedKingdom,#NarendraModi,#Reuters,flights,passenger,international,passenger flights,passenger flight,coronavirus,country,March,lockdown,DGCA,midnight,aviation,health,ministry,Prime,operations,Narendra,Minister,Narendra Modi,Reuters,Union health ministry,India,GMT,Time,Prime Minister'"
      ]
     },
     "execution_count": 64,
     "metadata": {},
     "output_type": "execute_result"
    }
   ],
   "source": [
    "df_new = df_new.apply(lambda x: ','.join(x.astype(str)), axis=1)# Store them in a pandas dataframe\n",
    "df_new[0]"
   ]
  },
  {
   "cell_type": "code",
   "execution_count": 65,
   "metadata": {},
   "outputs": [
    {
     "data": {
      "text/html": [
       "<div>\n",
       "<style scoped>\n",
       "    .dataframe tbody tr th:only-of-type {\n",
       "        vertical-align: middle;\n",
       "    }\n",
       "\n",
       "    .dataframe tbody tr th {\n",
       "        vertical-align: top;\n",
       "    }\n",
       "\n",
       "    .dataframe thead th {\n",
       "        text-align: right;\n",
       "    }\n",
       "</style>\n",
       "<table border=\"1\" class=\"dataframe\">\n",
       "  <thead>\n",
       "    <tr style=\"text-align: right;\">\n",
       "      <th></th>\n",
       "      <th>allwords</th>\n",
       "    </tr>\n",
       "  </thead>\n",
       "  <tbody>\n",
       "    <tr>\n",
       "      <th>0</th>\n",
       "      <td>However, this restriction will not apply to in...</td>\n",
       "    </tr>\n",
       "    <tr>\n",
       "      <th>1</th>\n",
       "      <td>But leg-spinner Yuzvendra Chahal is utilising ...</td>\n",
       "    </tr>\n",
       "    <tr>\n",
       "      <th>2</th>\n",
       "      <td>So the math was simple and the step logical: L...</td>\n",
       "    </tr>\n",
       "    <tr>\n",
       "      <th>3</th>\n",
       "      <td>Chief Ministers of three states - Bengal, Biha...</td>\n",
       "    </tr>\n",
       "    <tr>\n",
       "      <th>4</th>\n",
       "      <td>Finance Minister, Nirmala Sitharaman, today an...</td>\n",
       "    </tr>\n",
       "  </tbody>\n",
       "</table>\n",
       "</div>"
      ],
      "text/plain": [
       "                                            allwords\n",
       "0  However, this restriction will not apply to in...\n",
       "1  But leg-spinner Yuzvendra Chahal is utilising ...\n",
       "2  So the math was simple and the step logical: L...\n",
       "3  Chief Ministers of three states - Bengal, Biha...\n",
       "4  Finance Minister, Nirmala Sitharaman, today an..."
      ]
     },
     "execution_count": 65,
     "metadata": {},
     "output_type": "execute_result"
    }
   ],
   "source": [
    "df_new = df_new.to_frame()\n",
    "df_new.columns = ['allwords']\n",
    "df_new.head()"
   ]
  },
  {
   "cell_type": "code",
   "execution_count": 66,
   "metadata": {},
   "outputs": [],
   "source": [
    "stopwords = nltk.corpus.stopwords.words('english')\n",
    "newStopWords = ['per','due','daily','one','also','day','time','new','r' ,'home','year','month','social']\n",
    "stopwords.extend(newStopWords)\n",
    "stop_words = set(stopwords)"
   ]
  },
  {
   "cell_type": "code",
   "execution_count": 67,
   "metadata": {},
   "outputs": [
    {
     "name": "stderr",
     "output_type": "stream",
     "text": [
      "[nltk_data] Downloading package stopwords to\n",
      "[nltk_data]     C:\\Users\\DELL\\AppData\\Roaming\\nltk_data...\n",
      "[nltk_data]   Package stopwords is already up-to-date!\n"
     ]
    }
   ],
   "source": [
    "import re\n",
    "import nltk\n",
    "nltk.download('stopwords')\n",
    "\n",
    "from nltk.corpus import stopwords\n",
    "from nltk.stem import WordNetLemmatizer \n",
    "lemmatizer = WordNetLemmatizer() \n",
    "corpus = []\n",
    "\n",
    "newStopWords = ['per','due','daily','one','also','day','time','new','r' ,'home','year','month','social']\n",
    "\n",
    "for i in range(0, len(df_new)):\n",
    "    review = re.sub('[^a-zA-Z]', ' ', df_new['allwords'][i])\n",
    "    review = review.lower()\n",
    "    review = review.split()\n",
    "    \n",
    "    review = [lemmatizer.lemmatize(word) for word in review if not word in stop_words]\n",
    "    review = ' '.join(review)\n",
    "    corpus.append(review)"
   ]
  },
  {
   "cell_type": "code",
   "execution_count": 68,
   "metadata": {},
   "outputs": [
    {
     "data": {
      "text/plain": [
       "'however restriction apply international cargo operation flight specifically approved dgca international commercial passenger flight remain suspended till april aviation regulator dgca announced thursday amid nationwide lockdown prevent spread novel coronavirus directorate general civil aviation dgca march announced international commercial passenger flight operation take place india march march continuation circular ii dated issued subject cited decided scheduled international commercial passenger service shall remain closed till hr gmt hr indian standard april aviation regulator said however restriction apply international cargo operation flight specifically approved dgca said ban international passenger flight extended till apr dgca directorategeneralofcivilaviation coronavirus lockdown india gmt greenwichmeantime ministryofhealthandfamilywelfare primeministeroftheunitedkingdom narendramodi reuters flight passenger international passenger flight passenger flight coronavirus country march lockdown dgca midnight aviation health ministry prime operation narendra minister narendra modi reuters union health ministry india gmt prime minister'"
      ]
     },
     "execution_count": 68,
     "metadata": {},
     "output_type": "execute_result"
    }
   ],
   "source": [
    "corpus[0]"
   ]
  },
  {
   "cell_type": "code",
   "execution_count": 69,
   "metadata": {},
   "outputs": [],
   "source": [
    "df_clean = pd.DataFrame(corpus,columns = ['text'])"
   ]
  },
  {
   "cell_type": "code",
   "execution_count": 70,
   "metadata": {},
   "outputs": [
    {
     "data": {
      "text/html": [
       "<div>\n",
       "<style scoped>\n",
       "    .dataframe tbody tr th:only-of-type {\n",
       "        vertical-align: middle;\n",
       "    }\n",
       "\n",
       "    .dataframe tbody tr th {\n",
       "        vertical-align: top;\n",
       "    }\n",
       "\n",
       "    .dataframe thead th {\n",
       "        text-align: right;\n",
       "    }\n",
       "</style>\n",
       "<table border=\"1\" class=\"dataframe\">\n",
       "  <thead>\n",
       "    <tr style=\"text-align: right;\">\n",
       "      <th></th>\n",
       "      <th>text</th>\n",
       "    </tr>\n",
       "  </thead>\n",
       "  <tbody>\n",
       "    <tr>\n",
       "      <th>0</th>\n",
       "      <td>however restriction apply international cargo ...</td>\n",
       "    </tr>\n",
       "    <tr>\n",
       "      <th>1</th>\n",
       "      <td>leg spinner yuzvendra chahal utilising self qu...</td>\n",
       "    </tr>\n",
       "    <tr>\n",
       "      <th>2</th>\n",
       "      <td>math simple step logical lockdown three week i...</td>\n",
       "    </tr>\n",
       "    <tr>\n",
       "      <th>3</th>\n",
       "      <td>chief minister three state bengal bihar odisha...</td>\n",
       "    </tr>\n",
       "    <tr>\n",
       "      <th>4</th>\n",
       "      <td>finance minister nirmala sitharaman today anno...</td>\n",
       "    </tr>\n",
       "  </tbody>\n",
       "</table>\n",
       "</div>"
      ],
      "text/plain": [
       "                                                text\n",
       "0  however restriction apply international cargo ...\n",
       "1  leg spinner yuzvendra chahal utilising self qu...\n",
       "2  math simple step logical lockdown three week i...\n",
       "3  chief minister three state bengal bihar odisha...\n",
       "4  finance minister nirmala sitharaman today anno..."
      ]
     },
     "execution_count": 70,
     "metadata": {},
     "output_type": "execute_result"
    }
   ],
   "source": [
    "df_clean.head()"
   ]
  },
  {
   "cell_type": "code",
   "execution_count": 71,
   "metadata": {},
   "outputs": [],
   "source": [
    "sent = [row.split(' ') for row in df_clean['text']]"
   ]
  },
  {
   "cell_type": "code",
   "execution_count": 72,
   "metadata": {},
   "outputs": [],
   "source": [
    "from gensim.models import Word2Vec \n",
    "model = Word2Vec(sent, min_count=150,size= 100,workers=3, window =20, sg = 1)"
   ]
  },
  {
   "cell_type": "code",
   "execution_count": 73,
   "metadata": {},
   "outputs": [
    {
     "data": {
      "text/plain": [
       "[('outbreak', 0.9577096104621887),\n",
       " ('said', 0.947363555431366),\n",
       " ('people', 0.9336060285568237),\n",
       " ('thursday', 0.9221814274787903),\n",
       " ('spread', 0.9128092527389526)]"
      ]
     },
     "execution_count": 73,
     "metadata": {},
     "output_type": "execute_result"
    }
   ],
   "source": [
    "model.most_similar('coronavirus')[:5]"
   ]
  },
  {
   "cell_type": "code",
   "execution_count": 74,
   "metadata": {},
   "outputs": [
    {
     "data": {
      "text/plain": [
       "['coronavirus',\n",
       " 'lockdown',\n",
       " 'covid',\n",
       " 'india',\n",
       " 'pandemic',\n",
       " 'said',\n",
       " 'minister',\n",
       " 'people',\n",
       " 'virus',\n",
       " 'government',\n",
       " 'health',\n",
       " 'lakh',\n",
       " 'crore',\n",
       " 'worker',\n",
       " 'hospital',\n",
       " 'country',\n",
       " 'police',\n",
       " 'case',\n",
       " 'district',\n",
       " 'twitter']"
      ]
     },
     "execution_count": 74,
     "metadata": {},
     "output_type": "execute_result"
    }
   ],
   "source": [
    "model.wv.index2entity[:20]  ## top 20 most frequent words"
   ]
  },
  {
   "cell_type": "code",
   "execution_count": 75,
   "metadata": {},
   "outputs": [
    {
     "data": {
      "text/plain": [
       "array([-0.05369492,  0.04078616, -0.15997009,  0.1068226 , -0.08082078,\n",
       "       -0.04197881, -0.13756643,  0.13644274,  0.15166286,  0.27347744,\n",
       "        0.18582663, -0.18025225,  0.01822149, -0.13501614,  0.00717711,\n",
       "        0.10793205, -0.00265516,  0.09145804,  0.04886062,  0.05736249,\n",
       "        0.18715821,  0.02527442, -0.01368597, -0.04774541,  0.23730291,\n",
       "        0.11168937,  0.0415178 , -0.06622048, -0.07812256,  0.03563603,\n",
       "        0.15450585,  0.09717005,  0.15979166, -0.1275889 ,  0.08667097,\n",
       "       -0.07916072, -0.0091837 ,  0.02043475,  0.00417538, -0.13669135,\n",
       "       -0.0925217 ,  0.08736915, -0.01165878, -0.10297355,  0.14132099,\n",
       "       -0.12264501,  0.02710148, -0.05137715, -0.02906985, -0.09338807,\n",
       "        0.12121926,  0.01709604,  0.11905342, -0.05587057, -0.06105493,\n",
       "        0.09148908,  0.04180397, -0.04090333, -0.17465037, -0.05619402,\n",
       "        0.12201191, -0.02040153, -0.1676534 ,  0.04644614, -0.10657331,\n",
       "        0.03253121, -0.03936966, -0.00291671,  0.09708809, -0.12015799,\n",
       "       -0.22185571,  0.09874527, -0.04425021, -0.11172686,  0.09958962,\n",
       "        0.02665352,  0.10371365,  0.20856026, -0.13285226,  0.13596192,\n",
       "       -0.07093718, -0.08336258, -0.141962  ,  0.12918112, -0.01635953,\n",
       "        0.08274441, -0.09304524, -0.07103214, -0.0260448 , -0.0096199 ,\n",
       "        0.17577596,  0.31176925,  0.0112618 ,  0.03240891, -0.02248169,\n",
       "       -0.13339445, -0.02538364,  0.24235667,  0.08608662,  0.03198065],\n",
       "      dtype=float32)"
      ]
     },
     "execution_count": 75,
     "metadata": {},
     "output_type": "execute_result"
    }
   ],
   "source": [
    "model['coronavirus']"
   ]
  },
  {
   "cell_type": "code",
   "execution_count": 76,
   "metadata": {},
   "outputs": [
    {
     "name": "stdout",
     "output_type": "stream",
     "text": [
      "['thursday', 'lockdown', 'spread', 'coronavirus', 'march', 'india', 'service', 'indian', 'said', 'country', 'health', 'ministry', 'minister', 'quarantine', 'video', 'pandemic', 'twitter', 'virus', 'government', 'people', 'patient', 'worker', 'covid', 'hospital', 'infection', 'case', 'chief', 'state', 'food', 'medical', 'crore', 'relief', 'finance', 'poor', 'lakh', 'facebook', 'outbreak', 'police', 'district', 'official', 'news', 'instagram', 'delhi', 'package', 'world', 'positive', 'bank', 'r']\n"
     ]
    }
   ],
   "source": [
    "words=list(model.wv.vocab)\n",
    "print(words)"
   ]
  },
  {
   "cell_type": "code",
   "execution_count": 77,
   "metadata": {},
   "outputs": [
    {
     "data": {
      "text/html": [
       "<div>\n",
       "<style scoped>\n",
       "    .dataframe tbody tr th:only-of-type {\n",
       "        vertical-align: middle;\n",
       "    }\n",
       "\n",
       "    .dataframe tbody tr th {\n",
       "        vertical-align: top;\n",
       "    }\n",
       "\n",
       "    .dataframe thead th {\n",
       "        text-align: right;\n",
       "    }\n",
       "</style>\n",
       "<table border=\"1\" class=\"dataframe\">\n",
       "  <thead>\n",
       "    <tr style=\"text-align: right;\">\n",
       "      <th></th>\n",
       "      <th>0</th>\n",
       "      <th>1</th>\n",
       "      <th>2</th>\n",
       "      <th>3</th>\n",
       "      <th>4</th>\n",
       "      <th>5</th>\n",
       "      <th>6</th>\n",
       "      <th>7</th>\n",
       "      <th>8</th>\n",
       "      <th>9</th>\n",
       "      <th>10</th>\n",
       "      <th>11</th>\n",
       "      <th>12</th>\n",
       "      <th>13</th>\n",
       "      <th>14</th>\n",
       "      <th>15</th>\n",
       "      <th>16</th>\n",
       "      <th>17</th>\n",
       "      <th>18</th>\n",
       "      <th>19</th>\n",
       "      <th>20</th>\n",
       "      <th>21</th>\n",
       "      <th>22</th>\n",
       "      <th>23</th>\n",
       "      <th>24</th>\n",
       "      <th>25</th>\n",
       "      <th>26</th>\n",
       "      <th>27</th>\n",
       "      <th>28</th>\n",
       "      <th>29</th>\n",
       "      <th>30</th>\n",
       "      <th>31</th>\n",
       "      <th>32</th>\n",
       "      <th>33</th>\n",
       "      <th>34</th>\n",
       "      <th>35</th>\n",
       "      <th>36</th>\n",
       "      <th>37</th>\n",
       "      <th>38</th>\n",
       "      <th>39</th>\n",
       "      <th>40</th>\n",
       "      <th>41</th>\n",
       "      <th>42</th>\n",
       "      <th>43</th>\n",
       "      <th>44</th>\n",
       "      <th>45</th>\n",
       "      <th>46</th>\n",
       "      <th>47</th>\n",
       "      <th>48</th>\n",
       "      <th>49</th>\n",
       "      <th>50</th>\n",
       "      <th>51</th>\n",
       "      <th>52</th>\n",
       "      <th>53</th>\n",
       "      <th>54</th>\n",
       "      <th>55</th>\n",
       "      <th>56</th>\n",
       "      <th>57</th>\n",
       "      <th>58</th>\n",
       "      <th>59</th>\n",
       "      <th>60</th>\n",
       "      <th>61</th>\n",
       "      <th>62</th>\n",
       "      <th>63</th>\n",
       "      <th>64</th>\n",
       "      <th>65</th>\n",
       "      <th>66</th>\n",
       "      <th>67</th>\n",
       "      <th>68</th>\n",
       "      <th>69</th>\n",
       "      <th>70</th>\n",
       "      <th>71</th>\n",
       "      <th>72</th>\n",
       "      <th>73</th>\n",
       "      <th>74</th>\n",
       "      <th>75</th>\n",
       "      <th>76</th>\n",
       "      <th>77</th>\n",
       "      <th>78</th>\n",
       "      <th>79</th>\n",
       "      <th>80</th>\n",
       "      <th>81</th>\n",
       "      <th>82</th>\n",
       "      <th>83</th>\n",
       "      <th>84</th>\n",
       "      <th>85</th>\n",
       "      <th>86</th>\n",
       "      <th>87</th>\n",
       "      <th>88</th>\n",
       "      <th>89</th>\n",
       "      <th>90</th>\n",
       "      <th>91</th>\n",
       "      <th>92</th>\n",
       "      <th>93</th>\n",
       "      <th>94</th>\n",
       "      <th>95</th>\n",
       "      <th>96</th>\n",
       "      <th>97</th>\n",
       "      <th>98</th>\n",
       "      <th>99</th>\n",
       "    </tr>\n",
       "  </thead>\n",
       "  <tbody>\n",
       "    <tr>\n",
       "      <th>0</th>\n",
       "      <td>-0.071238</td>\n",
       "      <td>-0.004616</td>\n",
       "      <td>-0.113804</td>\n",
       "      <td>0.189435</td>\n",
       "      <td>-0.068512</td>\n",
       "      <td>-0.034858</td>\n",
       "      <td>-0.161109</td>\n",
       "      <td>0.181126</td>\n",
       "      <td>0.091997</td>\n",
       "      <td>0.250308</td>\n",
       "      <td>0.237252</td>\n",
       "      <td>-0.223920</td>\n",
       "      <td>0.040784</td>\n",
       "      <td>-0.085067</td>\n",
       "      <td>0.087896</td>\n",
       "      <td>0.092540</td>\n",
       "      <td>-0.064826</td>\n",
       "      <td>0.107853</td>\n",
       "      <td>0.047166</td>\n",
       "      <td>0.119569</td>\n",
       "      <td>0.234089</td>\n",
       "      <td>0.062141</td>\n",
       "      <td>0.004848</td>\n",
       "      <td>-0.006914</td>\n",
       "      <td>0.131628</td>\n",
       "      <td>0.104222</td>\n",
       "      <td>0.052188</td>\n",
       "      <td>-0.199888</td>\n",
       "      <td>-0.035243</td>\n",
       "      <td>0.010260</td>\n",
       "      <td>0.200322</td>\n",
       "      <td>0.137382</td>\n",
       "      <td>0.188445</td>\n",
       "      <td>-0.125732</td>\n",
       "      <td>0.057937</td>\n",
       "      <td>-0.105758</td>\n",
       "      <td>0.062482</td>\n",
       "      <td>-0.040384</td>\n",
       "      <td>0.021623</td>\n",
       "      <td>-0.058241</td>\n",
       "      <td>0.029586</td>\n",
       "      <td>0.063728</td>\n",
       "      <td>-0.052378</td>\n",
       "      <td>-0.099983</td>\n",
       "      <td>0.112666</td>\n",
       "      <td>-0.112349</td>\n",
       "      <td>0.039970</td>\n",
       "      <td>-0.047357</td>\n",
       "      <td>0.001948</td>\n",
       "      <td>-0.070041</td>\n",
       "      <td>0.075638</td>\n",
       "      <td>0.018925</td>\n",
       "      <td>0.159552</td>\n",
       "      <td>-0.063346</td>\n",
       "      <td>-0.060414</td>\n",
       "      <td>0.102080</td>\n",
       "      <td>0.022714</td>\n",
       "      <td>0.012666</td>\n",
       "      <td>-0.156508</td>\n",
       "      <td>-0.063367</td>\n",
       "      <td>0.088667</td>\n",
       "      <td>0.032581</td>\n",
       "      <td>-0.132751</td>\n",
       "      <td>0.003924</td>\n",
       "      <td>-0.092229</td>\n",
       "      <td>-0.009562</td>\n",
       "      <td>-0.009010</td>\n",
       "      <td>-0.017313</td>\n",
       "      <td>0.085692</td>\n",
       "      <td>-0.109959</td>\n",
       "      <td>-0.215662</td>\n",
       "      <td>0.070442</td>\n",
       "      <td>-0.016544</td>\n",
       "      <td>-0.075575</td>\n",
       "      <td>0.040653</td>\n",
       "      <td>-0.016730</td>\n",
       "      <td>0.055032</td>\n",
       "      <td>0.153060</td>\n",
       "      <td>-0.155679</td>\n",
       "      <td>0.125255</td>\n",
       "      <td>-0.086827</td>\n",
       "      <td>-0.087751</td>\n",
       "      <td>-0.089541</td>\n",
       "      <td>0.090364</td>\n",
       "      <td>-0.066757</td>\n",
       "      <td>0.074402</td>\n",
       "      <td>-0.085371</td>\n",
       "      <td>0.015440</td>\n",
       "      <td>-0.045156</td>\n",
       "      <td>0.007525</td>\n",
       "      <td>0.231021</td>\n",
       "      <td>0.248257</td>\n",
       "      <td>-0.009503</td>\n",
       "      <td>0.051790</td>\n",
       "      <td>-0.079893</td>\n",
       "      <td>-0.121594</td>\n",
       "      <td>-0.054569</td>\n",
       "      <td>0.199438</td>\n",
       "      <td>0.100627</td>\n",
       "      <td>-0.049862</td>\n",
       "    </tr>\n",
       "    <tr>\n",
       "      <th>1</th>\n",
       "      <td>-0.065397</td>\n",
       "      <td>0.067939</td>\n",
       "      <td>-0.171705</td>\n",
       "      <td>0.133187</td>\n",
       "      <td>-0.106306</td>\n",
       "      <td>0.003982</td>\n",
       "      <td>-0.093632</td>\n",
       "      <td>0.187917</td>\n",
       "      <td>0.031560</td>\n",
       "      <td>0.287308</td>\n",
       "      <td>0.168147</td>\n",
       "      <td>-0.129533</td>\n",
       "      <td>0.009423</td>\n",
       "      <td>-0.068216</td>\n",
       "      <td>-0.044722</td>\n",
       "      <td>0.123510</td>\n",
       "      <td>0.030978</td>\n",
       "      <td>0.110565</td>\n",
       "      <td>0.083577</td>\n",
       "      <td>0.102388</td>\n",
       "      <td>0.150840</td>\n",
       "      <td>0.025867</td>\n",
       "      <td>-0.111991</td>\n",
       "      <td>0.006577</td>\n",
       "      <td>0.221699</td>\n",
       "      <td>0.250629</td>\n",
       "      <td>0.042861</td>\n",
       "      <td>0.018235</td>\n",
       "      <td>-0.110298</td>\n",
       "      <td>0.083040</td>\n",
       "      <td>0.185095</td>\n",
       "      <td>0.077881</td>\n",
       "      <td>0.131981</td>\n",
       "      <td>-0.144751</td>\n",
       "      <td>0.081861</td>\n",
       "      <td>-0.166068</td>\n",
       "      <td>0.010982</td>\n",
       "      <td>-0.032392</td>\n",
       "      <td>-0.069844</td>\n",
       "      <td>-0.176119</td>\n",
       "      <td>-0.122508</td>\n",
       "      <td>0.127637</td>\n",
       "      <td>0.004186</td>\n",
       "      <td>-0.122394</td>\n",
       "      <td>0.028421</td>\n",
       "      <td>-0.109996</td>\n",
       "      <td>0.117051</td>\n",
       "      <td>-0.034264</td>\n",
       "      <td>-0.008356</td>\n",
       "      <td>-0.063407</td>\n",
       "      <td>0.169964</td>\n",
       "      <td>-0.081541</td>\n",
       "      <td>0.049595</td>\n",
       "      <td>-0.055016</td>\n",
       "      <td>0.010621</td>\n",
       "      <td>0.128858</td>\n",
       "      <td>0.096057</td>\n",
       "      <td>0.068359</td>\n",
       "      <td>-0.251461</td>\n",
       "      <td>-0.038428</td>\n",
       "      <td>0.041312</td>\n",
       "      <td>0.041899</td>\n",
       "      <td>-0.028640</td>\n",
       "      <td>0.019969</td>\n",
       "      <td>-0.044454</td>\n",
       "      <td>0.104261</td>\n",
       "      <td>-0.040721</td>\n",
       "      <td>-0.082246</td>\n",
       "      <td>0.226692</td>\n",
       "      <td>-0.057399</td>\n",
       "      <td>-0.270786</td>\n",
       "      <td>0.090349</td>\n",
       "      <td>-0.115452</td>\n",
       "      <td>-0.240119</td>\n",
       "      <td>0.127499</td>\n",
       "      <td>-0.013152</td>\n",
       "      <td>0.103193</td>\n",
       "      <td>0.169469</td>\n",
       "      <td>-0.158355</td>\n",
       "      <td>0.168133</td>\n",
       "      <td>0.003912</td>\n",
       "      <td>-0.087800</td>\n",
       "      <td>-0.177504</td>\n",
       "      <td>0.051645</td>\n",
       "      <td>-0.088062</td>\n",
       "      <td>0.150427</td>\n",
       "      <td>-0.141891</td>\n",
       "      <td>-0.099513</td>\n",
       "      <td>-0.021992</td>\n",
       "      <td>0.004693</td>\n",
       "      <td>0.231699</td>\n",
       "      <td>0.284816</td>\n",
       "      <td>-0.073253</td>\n",
       "      <td>0.098687</td>\n",
       "      <td>-0.011686</td>\n",
       "      <td>-0.107085</td>\n",
       "      <td>-0.070150</td>\n",
       "      <td>0.321267</td>\n",
       "      <td>0.079271</td>\n",
       "      <td>0.055446</td>\n",
       "    </tr>\n",
       "    <tr>\n",
       "      <th>2</th>\n",
       "      <td>-0.088952</td>\n",
       "      <td>-0.006696</td>\n",
       "      <td>-0.159232</td>\n",
       "      <td>0.066121</td>\n",
       "      <td>-0.035933</td>\n",
       "      <td>-0.037492</td>\n",
       "      <td>-0.074474</td>\n",
       "      <td>0.137972</td>\n",
       "      <td>0.167771</td>\n",
       "      <td>0.249624</td>\n",
       "      <td>0.131998</td>\n",
       "      <td>-0.124977</td>\n",
       "      <td>0.060822</td>\n",
       "      <td>-0.135676</td>\n",
       "      <td>0.001273</td>\n",
       "      <td>0.184573</td>\n",
       "      <td>0.091674</td>\n",
       "      <td>0.073966</td>\n",
       "      <td>0.082042</td>\n",
       "      <td>0.062068</td>\n",
       "      <td>0.197049</td>\n",
       "      <td>-0.006898</td>\n",
       "      <td>-0.044459</td>\n",
       "      <td>-0.024123</td>\n",
       "      <td>0.243955</td>\n",
       "      <td>0.228985</td>\n",
       "      <td>0.047066</td>\n",
       "      <td>0.046663</td>\n",
       "      <td>0.010046</td>\n",
       "      <td>0.044945</td>\n",
       "      <td>0.179772</td>\n",
       "      <td>0.030627</td>\n",
       "      <td>0.110312</td>\n",
       "      <td>-0.077348</td>\n",
       "      <td>0.049619</td>\n",
       "      <td>-0.087829</td>\n",
       "      <td>-0.022044</td>\n",
       "      <td>0.008400</td>\n",
       "      <td>-0.023971</td>\n",
       "      <td>-0.155114</td>\n",
       "      <td>-0.156188</td>\n",
       "      <td>0.034991</td>\n",
       "      <td>0.107865</td>\n",
       "      <td>-0.140528</td>\n",
       "      <td>0.056363</td>\n",
       "      <td>-0.130649</td>\n",
       "      <td>0.028435</td>\n",
       "      <td>0.016757</td>\n",
       "      <td>-0.052967</td>\n",
       "      <td>-0.139811</td>\n",
       "      <td>0.184171</td>\n",
       "      <td>-0.049324</td>\n",
       "      <td>0.066683</td>\n",
       "      <td>-0.084562</td>\n",
       "      <td>-0.007608</td>\n",
       "      <td>0.054792</td>\n",
       "      <td>0.116839</td>\n",
       "      <td>0.003336</td>\n",
       "      <td>-0.204178</td>\n",
       "      <td>-0.019912</td>\n",
       "      <td>0.075147</td>\n",
       "      <td>-0.003993</td>\n",
       "      <td>-0.127468</td>\n",
       "      <td>0.067800</td>\n",
       "      <td>-0.033175</td>\n",
       "      <td>0.087166</td>\n",
       "      <td>-0.066979</td>\n",
       "      <td>-0.025942</td>\n",
       "      <td>0.216453</td>\n",
       "      <td>-0.044960</td>\n",
       "      <td>-0.256905</td>\n",
       "      <td>0.127624</td>\n",
       "      <td>-0.064350</td>\n",
       "      <td>-0.162739</td>\n",
       "      <td>0.128096</td>\n",
       "      <td>0.007828</td>\n",
       "      <td>0.127990</td>\n",
       "      <td>0.210236</td>\n",
       "      <td>-0.141694</td>\n",
       "      <td>0.166820</td>\n",
       "      <td>0.043865</td>\n",
       "      <td>-0.113296</td>\n",
       "      <td>-0.202187</td>\n",
       "      <td>0.125227</td>\n",
       "      <td>-0.017949</td>\n",
       "      <td>0.094673</td>\n",
       "      <td>-0.195128</td>\n",
       "      <td>-0.092028</td>\n",
       "      <td>0.061052</td>\n",
       "      <td>0.009283</td>\n",
       "      <td>0.234632</td>\n",
       "      <td>0.310192</td>\n",
       "      <td>-0.015797</td>\n",
       "      <td>-0.007022</td>\n",
       "      <td>-0.044915</td>\n",
       "      <td>-0.091015</td>\n",
       "      <td>-0.046293</td>\n",
       "      <td>0.303520</td>\n",
       "      <td>0.103071</td>\n",
       "      <td>0.081128</td>\n",
       "    </tr>\n",
       "    <tr>\n",
       "      <th>3</th>\n",
       "      <td>-0.053695</td>\n",
       "      <td>0.040786</td>\n",
       "      <td>-0.159970</td>\n",
       "      <td>0.106823</td>\n",
       "      <td>-0.080821</td>\n",
       "      <td>-0.041979</td>\n",
       "      <td>-0.137566</td>\n",
       "      <td>0.136443</td>\n",
       "      <td>0.151663</td>\n",
       "      <td>0.273477</td>\n",
       "      <td>0.185827</td>\n",
       "      <td>-0.180252</td>\n",
       "      <td>0.018221</td>\n",
       "      <td>-0.135016</td>\n",
       "      <td>0.007177</td>\n",
       "      <td>0.107932</td>\n",
       "      <td>-0.002655</td>\n",
       "      <td>0.091458</td>\n",
       "      <td>0.048861</td>\n",
       "      <td>0.057362</td>\n",
       "      <td>0.187158</td>\n",
       "      <td>0.025274</td>\n",
       "      <td>-0.013686</td>\n",
       "      <td>-0.047745</td>\n",
       "      <td>0.237303</td>\n",
       "      <td>0.111689</td>\n",
       "      <td>0.041518</td>\n",
       "      <td>-0.066220</td>\n",
       "      <td>-0.078123</td>\n",
       "      <td>0.035636</td>\n",
       "      <td>0.154506</td>\n",
       "      <td>0.097170</td>\n",
       "      <td>0.159792</td>\n",
       "      <td>-0.127589</td>\n",
       "      <td>0.086671</td>\n",
       "      <td>-0.079161</td>\n",
       "      <td>-0.009184</td>\n",
       "      <td>0.020435</td>\n",
       "      <td>0.004175</td>\n",
       "      <td>-0.136691</td>\n",
       "      <td>-0.092522</td>\n",
       "      <td>0.087369</td>\n",
       "      <td>-0.011659</td>\n",
       "      <td>-0.102974</td>\n",
       "      <td>0.141321</td>\n",
       "      <td>-0.122645</td>\n",
       "      <td>0.027101</td>\n",
       "      <td>-0.051377</td>\n",
       "      <td>-0.029070</td>\n",
       "      <td>-0.093388</td>\n",
       "      <td>0.121219</td>\n",
       "      <td>0.017096</td>\n",
       "      <td>0.119053</td>\n",
       "      <td>-0.055871</td>\n",
       "      <td>-0.061055</td>\n",
       "      <td>0.091489</td>\n",
       "      <td>0.041804</td>\n",
       "      <td>-0.040903</td>\n",
       "      <td>-0.174650</td>\n",
       "      <td>-0.056194</td>\n",
       "      <td>0.122012</td>\n",
       "      <td>-0.020402</td>\n",
       "      <td>-0.167653</td>\n",
       "      <td>0.046446</td>\n",
       "      <td>-0.106573</td>\n",
       "      <td>0.032531</td>\n",
       "      <td>-0.039370</td>\n",
       "      <td>-0.002917</td>\n",
       "      <td>0.097088</td>\n",
       "      <td>-0.120158</td>\n",
       "      <td>-0.221856</td>\n",
       "      <td>0.098745</td>\n",
       "      <td>-0.044250</td>\n",
       "      <td>-0.111727</td>\n",
       "      <td>0.099590</td>\n",
       "      <td>0.026654</td>\n",
       "      <td>0.103714</td>\n",
       "      <td>0.208560</td>\n",
       "      <td>-0.132852</td>\n",
       "      <td>0.135962</td>\n",
       "      <td>-0.070937</td>\n",
       "      <td>-0.083363</td>\n",
       "      <td>-0.141962</td>\n",
       "      <td>0.129181</td>\n",
       "      <td>-0.016360</td>\n",
       "      <td>0.082744</td>\n",
       "      <td>-0.093045</td>\n",
       "      <td>-0.071032</td>\n",
       "      <td>-0.026045</td>\n",
       "      <td>-0.009620</td>\n",
       "      <td>0.175776</td>\n",
       "      <td>0.311769</td>\n",
       "      <td>0.011262</td>\n",
       "      <td>0.032409</td>\n",
       "      <td>-0.022482</td>\n",
       "      <td>-0.133394</td>\n",
       "      <td>-0.025384</td>\n",
       "      <td>0.242357</td>\n",
       "      <td>0.086087</td>\n",
       "      <td>0.031981</td>\n",
       "    </tr>\n",
       "    <tr>\n",
       "      <th>4</th>\n",
       "      <td>0.056342</td>\n",
       "      <td>0.044740</td>\n",
       "      <td>-0.133075</td>\n",
       "      <td>0.072403</td>\n",
       "      <td>-0.114422</td>\n",
       "      <td>-0.060974</td>\n",
       "      <td>-0.065745</td>\n",
       "      <td>0.178788</td>\n",
       "      <td>0.072991</td>\n",
       "      <td>0.250937</td>\n",
       "      <td>0.219901</td>\n",
       "      <td>-0.193745</td>\n",
       "      <td>-0.003697</td>\n",
       "      <td>-0.192266</td>\n",
       "      <td>0.006321</td>\n",
       "      <td>0.081498</td>\n",
       "      <td>0.002221</td>\n",
       "      <td>0.198216</td>\n",
       "      <td>0.056206</td>\n",
       "      <td>0.092358</td>\n",
       "      <td>0.176294</td>\n",
       "      <td>0.065810</td>\n",
       "      <td>-0.037047</td>\n",
       "      <td>-0.001965</td>\n",
       "      <td>0.178758</td>\n",
       "      <td>0.084078</td>\n",
       "      <td>0.014058</td>\n",
       "      <td>-0.049315</td>\n",
       "      <td>-0.120786</td>\n",
       "      <td>0.049686</td>\n",
       "      <td>0.230213</td>\n",
       "      <td>0.093580</td>\n",
       "      <td>0.139093</td>\n",
       "      <td>-0.144932</td>\n",
       "      <td>0.160709</td>\n",
       "      <td>-0.139763</td>\n",
       "      <td>-0.002925</td>\n",
       "      <td>-0.002007</td>\n",
       "      <td>-0.027532</td>\n",
       "      <td>-0.167733</td>\n",
       "      <td>-0.245435</td>\n",
       "      <td>0.081317</td>\n",
       "      <td>-0.049991</td>\n",
       "      <td>0.022004</td>\n",
       "      <td>0.175619</td>\n",
       "      <td>-0.094534</td>\n",
       "      <td>-0.033984</td>\n",
       "      <td>-0.048683</td>\n",
       "      <td>-0.080158</td>\n",
       "      <td>-0.002767</td>\n",
       "      <td>0.115446</td>\n",
       "      <td>0.076121</td>\n",
       "      <td>0.093828</td>\n",
       "      <td>-0.042909</td>\n",
       "      <td>-0.166835</td>\n",
       "      <td>0.067487</td>\n",
       "      <td>0.071553</td>\n",
       "      <td>-0.003402</td>\n",
       "      <td>-0.139325</td>\n",
       "      <td>-0.076189</td>\n",
       "      <td>0.155073</td>\n",
       "      <td>-0.129606</td>\n",
       "      <td>-0.183287</td>\n",
       "      <td>0.042664</td>\n",
       "      <td>-0.156009</td>\n",
       "      <td>-0.048357</td>\n",
       "      <td>-0.077493</td>\n",
       "      <td>0.019637</td>\n",
       "      <td>0.136226</td>\n",
       "      <td>-0.166041</td>\n",
       "      <td>-0.268034</td>\n",
       "      <td>0.059800</td>\n",
       "      <td>-0.076618</td>\n",
       "      <td>-0.142402</td>\n",
       "      <td>-0.014742</td>\n",
       "      <td>0.042405</td>\n",
       "      <td>0.158866</td>\n",
       "      <td>0.292788</td>\n",
       "      <td>-0.135365</td>\n",
       "      <td>0.054836</td>\n",
       "      <td>-0.037836</td>\n",
       "      <td>-0.095648</td>\n",
       "      <td>-0.151281</td>\n",
       "      <td>0.138182</td>\n",
       "      <td>0.005861</td>\n",
       "      <td>0.126891</td>\n",
       "      <td>-0.085199</td>\n",
       "      <td>0.041896</td>\n",
       "      <td>-0.107495</td>\n",
       "      <td>-0.056733</td>\n",
       "      <td>0.162835</td>\n",
       "      <td>0.289542</td>\n",
       "      <td>0.059519</td>\n",
       "      <td>-0.007859</td>\n",
       "      <td>-0.106354</td>\n",
       "      <td>-0.114791</td>\n",
       "      <td>-0.047027</td>\n",
       "      <td>0.268306</td>\n",
       "      <td>0.138185</td>\n",
       "      <td>0.035854</td>\n",
       "    </tr>\n",
       "  </tbody>\n",
       "</table>\n",
       "</div>"
      ],
      "text/plain": [
       "          0         1         2         3         4         5         6  \\\n",
       "0 -0.071238 -0.004616 -0.113804  0.189435 -0.068512 -0.034858 -0.161109   \n",
       "1 -0.065397  0.067939 -0.171705  0.133187 -0.106306  0.003982 -0.093632   \n",
       "2 -0.088952 -0.006696 -0.159232  0.066121 -0.035933 -0.037492 -0.074474   \n",
       "3 -0.053695  0.040786 -0.159970  0.106823 -0.080821 -0.041979 -0.137566   \n",
       "4  0.056342  0.044740 -0.133075  0.072403 -0.114422 -0.060974 -0.065745   \n",
       "\n",
       "          7         8         9        10        11        12        13  \\\n",
       "0  0.181126  0.091997  0.250308  0.237252 -0.223920  0.040784 -0.085067   \n",
       "1  0.187917  0.031560  0.287308  0.168147 -0.129533  0.009423 -0.068216   \n",
       "2  0.137972  0.167771  0.249624  0.131998 -0.124977  0.060822 -0.135676   \n",
       "3  0.136443  0.151663  0.273477  0.185827 -0.180252  0.018221 -0.135016   \n",
       "4  0.178788  0.072991  0.250937  0.219901 -0.193745 -0.003697 -0.192266   \n",
       "\n",
       "         14        15        16        17        18        19        20  \\\n",
       "0  0.087896  0.092540 -0.064826  0.107853  0.047166  0.119569  0.234089   \n",
       "1 -0.044722  0.123510  0.030978  0.110565  0.083577  0.102388  0.150840   \n",
       "2  0.001273  0.184573  0.091674  0.073966  0.082042  0.062068  0.197049   \n",
       "3  0.007177  0.107932 -0.002655  0.091458  0.048861  0.057362  0.187158   \n",
       "4  0.006321  0.081498  0.002221  0.198216  0.056206  0.092358  0.176294   \n",
       "\n",
       "         21        22        23        24        25        26        27  \\\n",
       "0  0.062141  0.004848 -0.006914  0.131628  0.104222  0.052188 -0.199888   \n",
       "1  0.025867 -0.111991  0.006577  0.221699  0.250629  0.042861  0.018235   \n",
       "2 -0.006898 -0.044459 -0.024123  0.243955  0.228985  0.047066  0.046663   \n",
       "3  0.025274 -0.013686 -0.047745  0.237303  0.111689  0.041518 -0.066220   \n",
       "4  0.065810 -0.037047 -0.001965  0.178758  0.084078  0.014058 -0.049315   \n",
       "\n",
       "         28        29        30        31        32        33        34  \\\n",
       "0 -0.035243  0.010260  0.200322  0.137382  0.188445 -0.125732  0.057937   \n",
       "1 -0.110298  0.083040  0.185095  0.077881  0.131981 -0.144751  0.081861   \n",
       "2  0.010046  0.044945  0.179772  0.030627  0.110312 -0.077348  0.049619   \n",
       "3 -0.078123  0.035636  0.154506  0.097170  0.159792 -0.127589  0.086671   \n",
       "4 -0.120786  0.049686  0.230213  0.093580  0.139093 -0.144932  0.160709   \n",
       "\n",
       "         35        36        37        38        39        40        41  \\\n",
       "0 -0.105758  0.062482 -0.040384  0.021623 -0.058241  0.029586  0.063728   \n",
       "1 -0.166068  0.010982 -0.032392 -0.069844 -0.176119 -0.122508  0.127637   \n",
       "2 -0.087829 -0.022044  0.008400 -0.023971 -0.155114 -0.156188  0.034991   \n",
       "3 -0.079161 -0.009184  0.020435  0.004175 -0.136691 -0.092522  0.087369   \n",
       "4 -0.139763 -0.002925 -0.002007 -0.027532 -0.167733 -0.245435  0.081317   \n",
       "\n",
       "         42        43        44        45        46        47        48  \\\n",
       "0 -0.052378 -0.099983  0.112666 -0.112349  0.039970 -0.047357  0.001948   \n",
       "1  0.004186 -0.122394  0.028421 -0.109996  0.117051 -0.034264 -0.008356   \n",
       "2  0.107865 -0.140528  0.056363 -0.130649  0.028435  0.016757 -0.052967   \n",
       "3 -0.011659 -0.102974  0.141321 -0.122645  0.027101 -0.051377 -0.029070   \n",
       "4 -0.049991  0.022004  0.175619 -0.094534 -0.033984 -0.048683 -0.080158   \n",
       "\n",
       "         49        50        51        52        53        54        55  \\\n",
       "0 -0.070041  0.075638  0.018925  0.159552 -0.063346 -0.060414  0.102080   \n",
       "1 -0.063407  0.169964 -0.081541  0.049595 -0.055016  0.010621  0.128858   \n",
       "2 -0.139811  0.184171 -0.049324  0.066683 -0.084562 -0.007608  0.054792   \n",
       "3 -0.093388  0.121219  0.017096  0.119053 -0.055871 -0.061055  0.091489   \n",
       "4 -0.002767  0.115446  0.076121  0.093828 -0.042909 -0.166835  0.067487   \n",
       "\n",
       "         56        57        58        59        60        61        62  \\\n",
       "0  0.022714  0.012666 -0.156508 -0.063367  0.088667  0.032581 -0.132751   \n",
       "1  0.096057  0.068359 -0.251461 -0.038428  0.041312  0.041899 -0.028640   \n",
       "2  0.116839  0.003336 -0.204178 -0.019912  0.075147 -0.003993 -0.127468   \n",
       "3  0.041804 -0.040903 -0.174650 -0.056194  0.122012 -0.020402 -0.167653   \n",
       "4  0.071553 -0.003402 -0.139325 -0.076189  0.155073 -0.129606 -0.183287   \n",
       "\n",
       "         63        64        65        66        67        68        69  \\\n",
       "0  0.003924 -0.092229 -0.009562 -0.009010 -0.017313  0.085692 -0.109959   \n",
       "1  0.019969 -0.044454  0.104261 -0.040721 -0.082246  0.226692 -0.057399   \n",
       "2  0.067800 -0.033175  0.087166 -0.066979 -0.025942  0.216453 -0.044960   \n",
       "3  0.046446 -0.106573  0.032531 -0.039370 -0.002917  0.097088 -0.120158   \n",
       "4  0.042664 -0.156009 -0.048357 -0.077493  0.019637  0.136226 -0.166041   \n",
       "\n",
       "         70        71        72        73        74        75        76  \\\n",
       "0 -0.215662  0.070442 -0.016544 -0.075575  0.040653 -0.016730  0.055032   \n",
       "1 -0.270786  0.090349 -0.115452 -0.240119  0.127499 -0.013152  0.103193   \n",
       "2 -0.256905  0.127624 -0.064350 -0.162739  0.128096  0.007828  0.127990   \n",
       "3 -0.221856  0.098745 -0.044250 -0.111727  0.099590  0.026654  0.103714   \n",
       "4 -0.268034  0.059800 -0.076618 -0.142402 -0.014742  0.042405  0.158866   \n",
       "\n",
       "         77        78        79        80        81        82        83  \\\n",
       "0  0.153060 -0.155679  0.125255 -0.086827 -0.087751 -0.089541  0.090364   \n",
       "1  0.169469 -0.158355  0.168133  0.003912 -0.087800 -0.177504  0.051645   \n",
       "2  0.210236 -0.141694  0.166820  0.043865 -0.113296 -0.202187  0.125227   \n",
       "3  0.208560 -0.132852  0.135962 -0.070937 -0.083363 -0.141962  0.129181   \n",
       "4  0.292788 -0.135365  0.054836 -0.037836 -0.095648 -0.151281  0.138182   \n",
       "\n",
       "         84        85        86        87        88        89        90  \\\n",
       "0 -0.066757  0.074402 -0.085371  0.015440 -0.045156  0.007525  0.231021   \n",
       "1 -0.088062  0.150427 -0.141891 -0.099513 -0.021992  0.004693  0.231699   \n",
       "2 -0.017949  0.094673 -0.195128 -0.092028  0.061052  0.009283  0.234632   \n",
       "3 -0.016360  0.082744 -0.093045 -0.071032 -0.026045 -0.009620  0.175776   \n",
       "4  0.005861  0.126891 -0.085199  0.041896 -0.107495 -0.056733  0.162835   \n",
       "\n",
       "         91        92        93        94        95        96        97  \\\n",
       "0  0.248257 -0.009503  0.051790 -0.079893 -0.121594 -0.054569  0.199438   \n",
       "1  0.284816 -0.073253  0.098687 -0.011686 -0.107085 -0.070150  0.321267   \n",
       "2  0.310192 -0.015797 -0.007022 -0.044915 -0.091015 -0.046293  0.303520   \n",
       "3  0.311769  0.011262  0.032409 -0.022482 -0.133394 -0.025384  0.242357   \n",
       "4  0.289542  0.059519 -0.007859 -0.106354 -0.114791 -0.047027  0.268306   \n",
       "\n",
       "         98        99  \n",
       "0  0.100627 -0.049862  \n",
       "1  0.079271  0.055446  \n",
       "2  0.103071  0.081128  \n",
       "3  0.086087  0.031981  \n",
       "4  0.138185  0.035854  "
      ]
     },
     "execution_count": 77,
     "metadata": {},
     "output_type": "execute_result"
    }
   ],
   "source": [
    "X=model[model.wv.vocab]\n",
    "df=pd.DataFrame(X)\n",
    "df.shape\n",
    "df.head()"
   ]
  },
  {
   "cell_type": "code",
   "execution_count": 78,
   "metadata": {},
   "outputs": [],
   "source": [
    "#Computing the correlation matrix\n",
    "X_corr=df.corr()\n",
    "\n",
    "#Computing eigen values and eigen vectors\n",
    "values,vectors=np.linalg.eig(X_corr)\n",
    "\n",
    "#Sorting the eigen vectors coresponding to eigen values in descending order\n",
    "args = (-values).argsort()\n",
    "values = vectors[args]\n",
    "vectors = vectors[:, args]\n",
    "\n",
    "#Taking first 2 components which explain maximum variance for projecting\n",
    "new_vectors=vectors[:,:2]\n",
    "\n",
    "#Projecting it onto new dimesion with 2 axis\n",
    "neww_X=np.dot(X,new_vectors)"
   ]
  },
  {
   "cell_type": "code",
   "execution_count": 79,
   "metadata": {},
   "outputs": [
    {
     "data": {
      "text/plain": [
       "48"
      ]
     },
     "execution_count": 79,
     "metadata": {},
     "output_type": "execute_result"
    }
   ],
   "source": [
    "len(model.wv.index2entity[:])"
   ]
  },
  {
   "cell_type": "code",
   "execution_count": 80,
   "metadata": {},
   "outputs": [
    {
     "data": {
      "image/png": "[encoded data removed]",
      "text/plain": [
       "<Figure size 1440x720 with 1 Axes>"
      ]
     },
     "metadata": {},
     "output_type": "display_data"
    }
   ],
   "source": [
    "import seaborn as sns\n",
    "sns.set_style('darkgrid')\n",
    "\n",
    "import matplotlib.pyplot as plt\n",
    "plt.figure(figsize=(20,10))\n",
    "plt.scatter(neww_X[23:,0],neww_X[23:,1],linewidths=10,color='red',label='least frequent')\n",
    "plt.scatter(neww_X[:20,0],neww_X[:20,1],linewidths=10,color='blue',label = 'most frequent')\n",
    "plt.xlabel(\"PC1\",size=15)\n",
    "plt.ylabel(\"PC2\",size=15)\n",
    "plt.legend(fancybox=True, framealpha=1, shadow=True, borderpad=1,fontsize='xx-large')\n",
    "plt.title(\"Word Embedding Space with 20 most & least frequent words \",size=20)\n",
    "vocab=list(model.wv.vocab)\n",
    "for i, word in enumerate(vocab):\n",
    "  plt.annotate(word,xy=(neww_X[i,0],neww_X[i,1]))\n",
    "# plt.savefig('most_least_words_new_stopwords_top_20.png', dpi=400, bbox_inches='tight')\n",
    "#   plt.annotate(word,xy=(neww_X[i+19,0],neww_X[i+19,1]))  "
   ]
  },
  {
   "cell_type": "markdown",
   "metadata": {},
   "source": [
    "### Words with least frequency"
   ]
  },
  {
   "cell_type": "code",
   "execution_count": 81,
   "metadata": {},
   "outputs": [
    {
     "name": "stdout",
     "output_type": "stream",
     "text": [
      "('spread', 151)\n",
      "('ministry', 153)\n",
      "('video', 152)\n",
      "('patient', 175)\n",
      "('relief', 156)\n",
      "('finance', 167)\n",
      "('poor', 157)\n",
      "('facebook', 155)\n",
      "('news', 152)\n",
      "('bank', 164)\n"
     ]
    }
   ],
   "source": [
    "for word in model.wv.vocab:\n",
    "    if(model.wv.vocab[word].count <180):\n",
    "        print((word, model.wv.vocab[word].count))\n",
    "        \n",
    "    "
   ]
  },
  {
   "cell_type": "code",
   "execution_count": 82,
   "metadata": {},
   "outputs": [
    {
     "data": {
      "text/plain": [
       "['march',\n",
       " 'quarantine',\n",
       " 'medical',\n",
       " 'food',\n",
       " 'outbreak',\n",
       " 'service',\n",
       " 'positive',\n",
       " 'official',\n",
       " 'package',\n",
       " 'world',\n",
       " 'patient',\n",
       " 'finance',\n",
       " 'bank',\n",
       " 'poor',\n",
       " 'relief',\n",
       " 'facebook',\n",
       " 'ministry',\n",
       " 'video',\n",
       " 'news',\n",
       " 'spread']"
      ]
     },
     "execution_count": 82,
     "metadata": {},
     "output_type": "execute_result"
    }
   ],
   "source": [
    "vocab1 = model.wv.index2entity[-20:]  #### Least 20 words\n",
    "vocab1"
   ]
  },
  {
   "cell_type": "markdown",
   "metadata": {},
   "source": [
    "# WordCloud "
   ]
  },
  {
   "cell_type": "code",
   "execution_count": 83,
   "metadata": {},
   "outputs": [],
   "source": [
    "from wordcloud import WordCloud"
   ]
  },
  {
   "cell_type": "code",
   "execution_count": 84,
   "metadata": {},
   "outputs": [],
   "source": [
    "wordcloud = WordCloud(background_color=\"white\", max_words=5000, contour_width=3, contour_color='steelblue')"
   ]
  },
  {
   "cell_type": "code",
   "execution_count": 85,
   "metadata": {},
   "outputs": [],
   "source": [
    "long_string = ','.join(list(corpus))"
   ]
  },
  {
   "cell_type": "code",
   "execution_count": 86,
   "metadata": {},
   "outputs": [
    {
     "data": {
      "text/plain": [
       "<wordcloud.wordcloud.WordCloud at 0x16df83dc8e0>"
      ]
     },
     "execution_count": 86,
     "metadata": {},
     "output_type": "execute_result"
    }
   ],
   "source": [
    "wordcloud.generate(long_string)"
   ]
  },
  {
   "cell_type": "code",
   "execution_count": 87,
   "metadata": {},
   "outputs": [
    {
     "data": {
      "image/png": "[encoded data removed]",
      "text/plain": [
       "<PIL.Image.Image image mode=RGB size=400x200 at 0x16DF83DC7C0>"
      ]
     },
     "execution_count": 87,
     "metadata": {},
     "output_type": "execute_result"
    }
   ],
   "source": [
    "wordcloud.to_image()"
   ]
  },
  {
   "cell_type": "markdown",
   "metadata": {},
   "source": [
    "## Top 20 frequent words using BARGRAPH"
   ]
  },
  {
   "cell_type": "code",
   "execution_count": 88,
   "metadata": {},
   "outputs": [],
   "source": [
    "from sklearn.feature_extraction.text import CountVectorizer\n",
    "count_vectorizer = CountVectorizer(stop_words='english')# Fit and transform the processed titles\n",
    "count_data = count_vectorizer.fit_transform(corpus)"
   ]
  },
  {
   "cell_type": "code",
   "execution_count": 89,
   "metadata": {},
   "outputs": [],
   "source": [
    "def plot_20_most_common_words(count_data, count_vectorizer):\n",
    "    import matplotlib.pyplot as plt\n",
    "    words = count_vectorizer.get_feature_names()\n",
    "    total_counts = np.zeros(len(words))\n",
    "    for t in count_data:\n",
    "        total_counts+=t.toarray()[0]\n",
    "    \n",
    "    count_dict = (zip(words, total_counts))\n",
    "    count_dict = sorted(count_dict, key=lambda x:x[1], reverse=True)[0:20]\n",
    "    words = [w[0] for w in count_dict]\n",
    "    counts = [w[1] for w in count_dict]\n",
    "    x_pos = np.arange(len(words)) \n",
    "    \n",
    "    plt.figure(2, figsize=(15, 15/1.6180))\n",
    "    plt.subplot(title='20 most common words')\n",
    "    sns.set_context(\"notebook\", font_scale=1.25, rc={\"lines.linewidth\": 2.5})\n",
    "    sns.barplot(x_pos, counts, palette='husl')\n",
    "    plt.xticks(x_pos, words, rotation=90) \n",
    "    plt.xlabel('words')\n",
    "    plt.ylabel('counts')\n",
    "    plt.show()"
   ]
  },
  {
   "cell_type": "code",
   "execution_count": 90,
   "metadata": {
    "scrolled": false
   },
   "outputs": [
    {
     "data": {
      "image/png": "[encoded data removed]",
      "text/plain": [
       "<Figure size 1080x667.491 with 1 Axes>"
      ]
     },
     "metadata": {},
     "output_type": "display_data"
    }
   ],
   "source": [
    "# Visualise the 20 most common words\n",
    "plot_20_most_common_words(count_data, count_vectorizer)"
   ]
  },
  {
   "cell_type": "markdown",
   "metadata": {},
   "source": [
    "# Latent Dirichlet Allocation (LDA)"
   ]
  },
  {
   "cell_type": "code",
   "execution_count": 91,
   "metadata": {},
   "outputs": [],
   "source": [
    "import gensim.corpora as corpora"
   ]
  },
  {
   "cell_type": "code",
   "execution_count": 92,
   "metadata": {},
   "outputs": [
    {
     "name": "stdout",
     "output_type": "stream",
     "text": [
      "{'amid': 0, 'announced': 1, 'apply': 2, 'approved': 3, 'apr': 4, 'april': 5, 'aviation': 6, 'ban': 7, 'cargo': 8, 'circular': 9, 'cited': 10, 'civil': 11, 'closed': 12, 'commercial': 13, 'continuation': 14, 'coronavirus': 15, 'country': 16, 'dated': 17, 'decided': 18, 'dgca': 19, 'directorate': 20, 'directorategeneralofcivilaviation': 21, 'extended': 22, 'flight': 23, 'general': 24, 'gmt': 25, 'greenwichmeantime': 26, 'health': 27, 'however': 28, 'hr': 29, 'ii': 30, 'india': 31, 'indian': 32, 'international': 33, 'issued': 34, 'lockdown': 35, 'march': 36, 'midnight': 37, 'minister': 38, 'ministry': 39, 'ministryofhealthandfamilywelfare': 40, 'modi': 41, 'narendra': 42, 'narendramodi': 43, 'nationwide': 44, 'novel': 45, 'operation': 46, 'passenger': 47, 'place': 48, 'prevent': 49, 'prime': 50, 'primeministeroftheunitedkingdom': 51, 'regulator': 52, 'remain': 53, 'restriction': 54, 'reuters': 55, 'said': 56, 'scheduled': 57, 'service': 58, 'shall': 59, 'specifically': 60, 'spread': 61, 'standard': 62, 'subject': 63, 'suspended': 64, 'take': 65, 'thursday': 66, 'till': 67, 'union': 68, 'along': 69, 'bangalore': 70, 'bcci': 71, 'boardofcontrolforcricketinindia': 72, 'captioned': 73, 'chahal': 74, 'challenger': 75, 'cheek': 76, 'cricket': 77, 'dad': 78, 'dance': 79, 'dancemove': 80, 'fan': 81, 'first': 82, 'follower': 83, 'funny': 84, 'girl': 85, 'government': 86, 'governmentofindia': 87, 'indianpremierleague': 88, 'ipl': 89, 'kohli': 90, 'last': 91, 'league': 92, 'leg': 93, 'legspin': 94, 'making': 95, 'medium': 96, 'move': 97, 'newzealand': 98, 'odi': 99, 'onedayinternational': 100, 'online': 101, 'pandemic': 102, 'play': 103, 'played': 104, 'premier': 105, 'pulling': 106, 'quarantine': 107, 'rcb': 108, 'royal': 109, 'royalchallengersbangalore': 110, 'self': 111, 'series': 112, 'side': 113, 'skipper': 114, 'socialmedia': 115, 'son': 116, 'spinner': 117, 'start': 118, 'staysafe': 119, 'tiktok': 120, 'tweeted': 121, 'twenty': 122, 'twitter': 123, 'utilising': 124, 'video': 125, 'viral': 126, 'virat': 127, 'viratkohli': 128, 'virus': 129, 'week': 130, 'went': 131, 'whitewash': 132, 'yuzvendra': 133, 'zealand': 134, 'approach': 135, 'become': 136, 'bombing': 137, 'care': 138, 'carpet': 139, 'carpetbombing': 140, 'case': 141, 'chain': 142, 'chainreaction': 143, 'changing': 144, 'cleaning': 145, 'contact': 146, 'containment': 147, 'corona': 148, 'coronacalifornia': 149, 'covid': 150, 'cure': 151, 'dealing': 152, 'depletion': 153, 'diabetesmellitus': 154, 'diabetic': 155, 'disease': 156, 'epidemiological': 157, 'epidemiology': 158, 'example': 159, 'fatality': 160, 'flu': 161, 'fluseason': 162, 'foot': 163, 'glove': 164, 'goggles': 165, 'gown': 166, 'group': 167, 'hand': 168, 'healthcare': 169, 'heart': 170, 'herd': 171, 'herdimmunity': 172, 'high': 173, 'hopefully': 174, 'hospital': 175, 'icu': 176, 'immunity': 177, 'infected': 178, 'infection': 179, 'infective': 180, 'intensive': 181, 'intensivecaremedicine': 182, 'involves': 183, 'italy': 184, 'level': 185, 'listsoftransformerscharacters': 186, 'logical': 187, 'low': 188, 'mask': 189, 'math': 190, 'may': 191, 'minute': 192, 'ndtv': 193, 'needed': 194, 'non': 195, 'older': 196, 'opinion': 197, 'patient': 198, 'people': 199, 'problem': 200, 'protection': 201, 'public': 202, 'publichealth': 203, 'quarantined': 204, 'rate': 205, 'reaction': 206, 'realitytelevision': 207, 'recipient': 208, 'recover': 209, 'resource': 210, 'resourcedepletion': 211, 'respiratory': 212, 'risk': 213, 'routine': 214, 'scrub': 215, 'seasonal': 216, 'several': 217, 'shedding': 218, 'simple': 219, 'smoker': 220, 'solve': 221, 'special': 222, 'specialty': 223, 'step': 224, 'stop': 225, 'strict': 226, 'surface': 227, 'swallow': 228, 'taking': 229, 'targeted': 230, 'tested': 231, 'thecure': 232, 'three': 233, 'time': 234, 'transplant': 235, 'travel': 236, 'two': 237, 'unprotected': 238, 'vaccine': 239, 'wash': 240, 'whereas': 241, 'within': 242, 'worker': 243, 'worldhealthorganization': 244, 'would': 245, 'accommodation': 246, 'across': 247, 'administration': 248, 'appeal': 249, 'arrangement': 250, 'ask': 251, 'asking': 252, 'assisted': 253, 'banerjee': 254, 'basic': 255, 'bear': 256, 'bengal': 257, 'bihar': 258, 'chief': 259, 'chiefminister': 260, 'city': 261, 'counter': 262, 'crisis': 263, 'crore': 264, 'disaster': 265, 'earnest': 266, 'emergencymanagement': 267, 'ensure': 268, 'food': 269, 'help': 270, 'initiative': 271, 'kindly': 272, 'kumar': 273, 'labourer': 274, 'letter': 275, 'look': 276, 'made': 277, 'make': 278, 'mamata': 279, 'mamatabanerjee': 280, 'maximum': 281, 'medical': 282, 'migrant': 283, 'mr': 284, 'naveen': 285, 'naveenpatnaik': 286, 'need': 287, 'nitish': 288, 'nitishkumar': 289, 'number': 290, 'odisha': 291, 'opportunity': 292, 'part': 293, 'patna': 294, 'patnaik': 295, 'period': 296, 'person': 297, 'please': 298, 'possible': 299, 'promised': 300, 'provide': 301, 'publictransport': 302, 'pulledrickshaw': 303, 'reach': 304, 'reimburse': 305, 'relief': 306, 'request': 307, 'rickshaw': 308, 'safety': 309, 'security': 310, 'seek': 311, 'send': 312, 'sent': 313, 'shelter': 314, 'similar': 315, 'since': 316, 'started': 317, 'state': 318, 'stranded': 319, 'stuck': 320, 'support': 321, 'taken': 322, 'tide': 323, 'transport': 324, 'u': 325, 'village': 326, 'wage': 327, 'written': 328, 'wrote': 329, 'action': 330, 'announcement': 331, 'auto': 332, 'automotive': 333, 'automotiveindustry': 334, 'beneficiary': 335, 'benefit': 336, 'ble': 337, 'caused': 338, 'certainly': 339, 'challenging': 340, 'citizen': 341, 'closure': 342, 'commodity': 343, 'concern': 344, 'construction': 345, 'cylinder': 346, 'dhan': 347, 'disabled': 348, 'earner': 349, 'entrust': 350, 'estimated': 351, 'etc': 352, 'ex': 353, 'exgratia': 354, 'existing': 355, 'expecting': 356, 'expects': 357, 'facebook': 358, 'faith': 359, 'family': 360, 'farmer': 361, 'finance': 362, 'financeminister': 363, 'financial': 364, 'fm': 365, 'fmbroadcasting': 366, 'free': 367, 'front': 368, 'gas': 369, 'gratia': 370, 'hero': 371, 'heromotocorp': 372, 'hon': 373, 'immediate': 374, 'increased': 375, 'industry': 376, 'insurance': 377, 'jan': 378, 'kisan': 379, 'lakh': 380, 'like': 381, 'load': 382, 'lose': 383, 'measure': 384, 'mnrega': 385, 'month': 386, 'motocorp': 387, 'nationalruralemploymentguaranteeact': 388, 'next': 389, 'nirmala': 390, 'oldage': 391, 'paramedic': 392, 'plan': 393, 'pm': 394, 'poor': 395, 'president': 396, 'presidentoftheunitedstates': 397, 'prolonged': 398, 'rajan': 399, 'read': 400, 'recovering': 401, 'replacement': 402, 'rice': 403, 'scheme': 404, 'section': 405, 'selfhelp': 406, 'senior': 407, 'siam': 408, 'sitharaman': 409, 'situation': 410, 'slowdown': 411, 'society': 412, 'societyforindustrialandappliedmathematics': 413, 'stimulus': 414, 'subsidy': 415, 'today': 416, 'ujwala': 417, 'vulnerable': 418, 'wadhera': 419, 'warrior': 420, 'welcome': 421, 'wheat': 422, 'widow': 423, 'woman': 424, 'yet': 425, 'yojana': 426, 'youtube': 427, 'abuse': 428, 'addiction': 429, 'alcoholic': 430, 'availability': 431, 'available': 432, 'bar': 433, 'bootlegging': 434, 'call': 435, 'calling': 436, 'centre': 437, 'counselling': 438, 'de': 439, 'department': 440, 'district': 441, 'drink': 442, 'drugwithdrawal': 443, 'enforcement': 444, 'ernakulam': 445, 'excise': 446, 'extend': 447, 'following': 448, 'insomnia': 449, 'kozhikode': 450, 'liquor': 451, 'mental': 452, 'mission': 453, 'nausea': 454, 'nearest': 455, 'offer': 456, 'office': 457, 'outbreak': 458, 'outlet': 459, 'physical': 460, 'police': 461, 'range': 462, 'retail': 463, 'rumrunning': 464, 'sale': 465, 'set': 466, 'shivering': 467, 'station': 468, 'stepped': 469, 'stress': 470, 'substance': 471, 'substanceabuse': 472, 'suffering': 473, 'symptom': 474, 'taluk': 475, 'tehsil': 476, 'thiruvananthapuram': 477, 'toll': 478, 'tollfreetelephonenumber': 479, 'treatment': 480, 'vigil': 481, 'vimukthi': 482, 'wake': 483, 'wing': 484, 'withdrawal': 485, 'account': 486, 'agricultural': 487, 'agriculturalmachinery': 488, 'agriculture': 489, 'among': 490, 'belowpovertyline': 491, 'bpl': 492, 'chemist': 493, 'confirmed': 494, 'congress': 495, 'could': 496, 'covidssharyana': 497, 'crop': 498, 'dealer': 499, 'delay': 500, 'deliver': 501, 'delivery': 502, 'essential': 503, 'extensive': 504, 'face': 505, 'favourable': 506, 'fear': 507, 'grain': 508, 'grocery': 509, 'harvest': 510, 'haryana': 511, 'helpline': 512, 'interactive': 513, 'khattar': 514, 'kind': 515, 'lal': 516, 'launched': 517, 'loss': 518, 'machinery': 519, 'manohar': 520, 'manoharlalkhattar': 521, 'map': 522, 'milk': 523, 'mustard': 524, 'ongoing': 525, 'processorregister': 526, 'procurement': 527, 'purchase': 528, 'register': 529, 'respectively': 530, 'rising': 531, 'seller': 532, 'soon': 533, 'unitedstatescongress': 534, 'vegetable': 535, 'website': 536, 'additional': 537, 'akhtar': 538, 'amount': 539, 'asked': 540, 'attitude': 541, 'authority': 542, 'behaviour': 543, 'c': 544, 'cancer': 545, 'cardiovascular': 546, 'chiefsecretary': 547, 'complained': 548, 'complaint': 549, 'directed': 550, 'director': 551, 'discharging': 552, 'displeasure': 553, 'doctor': 554, 'duty': 555, 'education': 556, 'expressing': 557, 'force': 558, 'fraternitiesandsororities': 559, 'fraternity': 560, 'global': 561, 'going': 562, 'guest': 563, 'head': 564, 'house': 565, 'hyderabad': 566, 'including': 567, 'individual': 568, 'initiate': 569, 'institute': 570, 'jawaid': 571, 'jayadeva': 572, 'karnataka': 573, 'landlord': 574, 'law': 575, 'limb': 576, 'lot': 577, 'manjunath': 578, 'n': 579, 'neck': 580, 'nurse': 581, 'obstructing': 582, 'oncology': 583, 'order': 584, 'owner': 585, 'paramedical': 586, 'paying': 587, 'pemises': 588, 'provision': 589, 'rao': 590, 'received': 591, 'relevant': 592, 'rented': 593, 'robotic': 594, 'science': 595, 'secretary': 596, 'servant': 597, 'serve': 598, 'shanmugammanjunath': 599, 'sri': 600, 'staff': 601, 'staying': 602, 'surgery': 603, 'surgical': 604, 'task': 605, 'technician': 606, 'vacate': 607, 'vishal': 608, 'welfare': 609, 'added': 610, 'allowed': 611, 'charge': 612, 'cnnnews': 613, 'contain': 614, 'control': 615, 'copy': 616, 'crowding': 617, 'daybreak': 618, 'decision': 619, 'discussion': 620, 'earlier': 621, 'evening': 622, 'get': 623, 'good': 624, 'held': 625, 'highest': 626, 'hour': 627, 'hygiene': 628, 'indiagives': 629, 'instagram': 630, 'item': 631, 'keeper': 632, 'maharashtra': 633, 'mantralaya': 634, 'marketplace': 635, 'news': 636, 'newsletter': 637, 'official': 638, 'open': 639, 'room': 640, 'say': 641, 'secretariat': 642, 'selling': 643, 'shop': 644, 'smooth': 645, 'statement': 646, 'stay': 647, 'supply': 648, 'telegram': 649, 'thackeray': 650, 'uddhav': 651, 'uddhavthackeray': 652, 'williammakepeacethackeray': 653, 'affected': 654, 'africa': 655, 'alternative': 656, 'asia': 657, 'child': 658, 'cholera': 659, 'communication': 660, 'conflict': 661, 'continue': 662, 'critical': 663, 'despite': 664, 'east': 665, 'ebola': 666, 'ebolavirusdisease': 667, 'effort': 668, 'executive': 669, 'fight': 670, 'fore': 671, 'giving': 672, 'greater': 673, 'greatest': 674, 'henrietta': 675, 'hit': 676, 'ignore': 677, 'immunisation': 678, 'immunization': 679, 'intervention': 680, 'jenkins': 681, 'learn': 682, 'learning': 683, 'life': 684, 'measles': 685, 'middle': 686, 'middleeast': 687, 'natural': 688, 'poorest': 689, 'providing': 690, 'rebuilding': 691, 'response': 692, 'robert': 693, 'saving': 694, 'scale': 695, 'school': 696, 'shut': 697, 'unicef': 698, 'vaccination': 699, 'way': 700, 'worldwide': 701, 'agarwal': 702, 'allowance': 703, 'amazon': 704, 'anil': 705, 'announces': 706, 'answered': 707, 'baijal': 708, 'begin': 709, 'briefing': 710, 'chennai': 711, 'china': 712, 'community': 713, 'company': 714, 'contracted': 715, 'corporation': 716, 'cross': 717, 'cup': 718, 'deadly': 719, 'death': 720, 'delhi': 721, 'died': 722, 'drone': 723, 'equipment': 724, 'evidence': 725, 'fifaworldcup': 726, 'forward': 727, 'g': 728, 'greaterchennaicorporation': 729, 'hard': 730, 'hubei': 731, 'icc': 732, 'ice': 733, 'icerink': 734, 'imported': 735, 'indusriver': 736, 'internationalcricketcouncil': 737, 'iran': 738, 'jammu': 739, 'joint': 740, 'kashmir': 741, 'l': 742, 'lav': 743, 'madrid': 744, 'makeshift': 745, 'many': 746, 'morgue': 747, 'morning': 748, 'mortuary': 749, 'mosquito': 750, 'moved': 751, 'normal': 752, 'old': 753, 'ordersofmagnitude': 754, 'package': 755, 'personal': 756, 'ply': 757, 'plywood': 758, 'press': 759, 'put': 760, 'query': 761, 'report': 762, 'return': 763, 'rink': 764, 'robot': 765, 'senate': 766, 'sindhu': 767, 'soar': 768, 'still': 769, 'suggestion': 770, 'telangana': 771, 'teleworking': 772, 'themove': 773, 'top': 774, 'transmission': 775, 'trillion': 776, 'turned': 777, 'unitedstatessenate': 778, 'unmannedaerialvehicle': 779, 'west': 780, 'westernasia': 781, 'world': 782, 'worst': 783, 'x': 784, 'abroad': 785, 'airport': 786, 'aisha': 787, 'arabia': 788, 'area': 789, 'attended': 790, 'balamurali': 791, 'booked': 792, 'bus': 793, 'calicutinternationalairport': 794, 'clamped': 795, 'coimbatore': 796, 'collector': 797, 'coming': 798, 'conductor': 799, 'cough': 800, 'districtcollector': 801, 'fact': 802, 'flouting': 803, 'given': 804, 'instruction': 805, 'interacting': 806, 'interaction': 807, 'jeddah': 808, 'karakurissi': 809, 'karipur': 810, 'keralastateroadtransportcorporation': 811, 'ksrtc': 812, 'landed': 813, 'later': 814, 'man': 815, 'mannarkkad': 816, 'mosque': 817, 'near': 818, 'palakkad': 819, 'pattambi': 820, 'pilgrimage': 821, 'posed': 822, 'positive': 823, 'puzzle': 824, 'question': 825, 'reported': 826, 'saudi': 827, 'saudiarabia': 828, 'shock': 829, 'shudder': 830, 'stringent': 831, 'tailor': 832, 'threatening': 833, 'visited': 834, 'wednesday': 835, 'acre': 836, 'allow': 837, 'allowing': 838, 'already': 839, 'arumugam': 840, 'ayilai': 841, 'ayyan': 842, 'banana': 843, 'belt': 844, 'check': 845, 'complaining': 846, 'consecutive': 847, 'cookingbanana': 848, 'coordinator': 849, 'distress': 850, 'drop': 851, 'empty': 852, 'far': 853, 'field': 854, 'find': 855, 'fruit': 856, 'grower': 857, 'growing': 858, 'harvested': 859, 'harvesting': 860, 'heavy': 861, 'interest': 862, 'karur': 863, 'kerala': 864, 'lalgudi': 865, 'locally': 866, 'major': 867, 'market': 868, 'might': 869, 'nadu': 870, 'nendran': 871, 'norm': 872, 'pasanatharar': 873, 'plantain': 874, 'post': 875, 'produce': 876, 'raised': 877, 'reeling': 878, 'relax': 879, 'sangam': 880, 'sangamliterature': 881, 'second': 882, 'severe': 883, 'sharp': 884, 'sivasuriyan': 885, 'stopped': 886, 'struggling': 887, 'suffer': 888, 'taker': 889, 'tamil': 890, 'tamilnadu': 891, 'thousand': 892, 'tiruchi': 893, 'tiruchirappalli': 894, 'trader': 895, 'transporting': 896, 'unsure': 897, 'v': 898, 'vaical': 899, 'variety': 900, 'veerasekaran': 901, 'vehicle': 902, 'vivasayigal': 903, 'abrar': 904, 'act': 905, 'afghanistan': 906, 'ahmad': 907, 'ahmed': 908, 'amendment': 909, 'asstt': 910, 'bad': 911, 'bangladesh': 912, 'buddhism': 913, 'buddhist': 914, 'caa': 915, 'citizenship': 916, 'co': 917, 'colonialathleticassociation': 918, 'communal': 919, 'constitution': 920, 'controversial': 921, 'criticism': 922, 'discrimination': 923, 'domain': 924, 'dr': 925, 'exam': 926, 'explain': 927, 'failed': 928, 'failing': 929, 'flurry': 930, 'hindu': 931, 'inquiry': 932, 'islamia': 933, 'jainism': 934, 'jains': 935, 'jamia': 936, 'jamiamilliaislamia': 937, 'jmiu': 938, 'led': 939, 'millia': 940, 'minority': 941, 'misunderstood': 942, 'muslim': 943, 'pakistan': 944, 'parody': 945, 'parsi': 946, 'persecution': 947, 'posted': 948, 'professor': 949, 'prompting': 950, 'publicdomain': 951, 'reappear': 952, 'relation': 953, 'religious': 954, 'religiouspersecution': 955, 'riot': 956, 'satire': 957, 'saying': 958, 'sikh': 959, 'stating': 960, 'student': 961, 'suspend': 962, 'teacher': 963, 'tweet': 964, 'unitedstatesconstitution': 965, 'university': 966, 'advantage': 967, 'aiding': 968, 'analysis': 969, 'another': 970, 'arrives': 971, 'bosch': 972, 'challenge': 973, 'cov': 974, 'detect': 975, 'detecting': 976, 'developed': 977, 'develops': 978, 'device': 979, 'diagnostic': 980, 'directly': 981, 'eliminating': 982, 'half': 983, 'measured': 984, 'medicaltest': 985, 'molecular': 986, 'performed': 987, 'point': 988, 'potentially': 989, 'rapid': 990, 'result': 991, 'robertbosch': 992, 'robertboschgmbh': 993, 'run': 994, 'sample': 995, 'sars': 996, 'sarscoronavirus': 997, 'test': 998, 'testcricket': 999, 'tool': 1000, 'understanding': 1001, 'vivalytic': 1002, 'according': 1003, 'ago': 1004, 'analytics': 1005, 'antiseptic': 1006, 'atta': 1007, 'average': 1008, 'besides': 1009, 'branded': 1010, 'category': 1011, 'cent': 1012, 'cleaner': 1013, 'commerce': 1014, 'compared': 1015, 'consumer': 1016, 'consumerbehaviour': 1017, 'cooking': 1018, 'cookingoil': 1019, 'data': 1020, 'dataanalysis': 1021, 'dec': 1022, 'degrowth': 1023, 'drove': 1024, 'e': 1025, 'ecommerce': 1026, 'fast': 1027, 'fastmovingconsumergoods': 1028, 'february': 1029, 'firm': 1030, 'floor': 1031, 'flour': 1032, 'fmcg': 1033, 'growth': 1034, 'indulgence': 1035, 'lead': 1036, 'leapfrogged': 1037, 'lentil': 1038, 'mall': 1039, 'mid': 1040, 'moving': 1041, 'nielsen': 1042, 'nov': 1043, 'offtakes': 1044, 'oil': 1045, 'overall': 1046, 'packed': 1047, 'pantry': 1048, 'petroleum': 1049, 'pick': 1050, 'platform': 1051, 'processed': 1052, 'product': 1053, 'pulse': 1054, 'push': 1055, 'pushing': 1056, 'recent': 1057, 'registered': 1058, 'rocketed': 1059, 'sanitisers': 1060, 'sanitizers': 1061, 'scare': 1062, 'sector': 1063, 'shopping': 1064, 'shown': 1065, 'significant': 1066, 'sky': 1067, 'south': 1068, 'southasia': 1069, 'staple': 1070, 'staplefood': 1071, 'stocking': 1072, 'toilet': 1073, 'value': 1074, 'weekly': 1075, 'wheatflour': 1076, 'whopping': 1077, 'witnessed': 1078, 'authackeray': 1079, 'bmc': 1080, 'bollywood': 1081, 'bought': 1082, 'brihanmumbai': 1083, 'brihanmumbaimunicipalcorporation': 1084, 'britishmotorcorporation': 1085, 'buy': 1086, 'caretaker': 1087, 'coronavirusoutbreak': 1088, 'curb': 1089, 'difficult': 1090, 'distancing': 1091, 'endeavour': 1092, 'ffp': 1093, 'friend': 1094, 'govt': 1095, 'grapple': 1096, 'gratitude': 1097, 'hrithik': 1098, 'hrithikroshan': 1099, 'ihrithik': 1100, 'municipal': 1101, 'mybmc': 1102, 'phase': 1103, 'preventive': 1104, 'procured': 1105, 'roshan': 1106, 'spaceshuttleendeavour': 1107, 'star': 1108, 'stayhomestaysafe': 1109, 'admitted': 1110, 'avoid': 1111, 'away': 1112, 'bed': 1113, 'capacity': 1114, 'chinchwad': 1115, 'college': 1116, 'contract': 1117, 'discharged': 1118, 'entry': 1119, 'exit': 1120, 'four': 1121, 'isolation': 1122, 'juncture': 1123, 'leave': 1124, 'main': 1125, 'minor': 1126, 'pimpri': 1127, 'pimprichinchwad': 1128, 'postponed': 1129, 'premise': 1130, 'rajendra': 1131, 'reason': 1132, 'relative': 1133, 'stand': 1134, 'though': 1135, 'usually': 1136, 'wable': 1137, 'want': 1138, 'ward': 1139, 'ycm': 1140, 'abdulaziz': 1141, 'access': 1142, 'adequate': 1143, 'al': 1144, 'assist': 1145, 'bank': 1146, 'began': 1147, 'best': 1148, 'bin': 1149, 'capital': 1150, 'capitalmarket': 1151, 'collective': 1152, 'collectiveaction': 1153, 'confidence': 1154, 'convened': 1155, 'coordinated': 1156, 'criticised': 1157, 'damage': 1158, 'date': 1159, 'debt': 1160, 'destruction': 1161, 'detailed': 1162, 'developing': 1163, 'developingcountry': 1164, 'economic': 1165, 'economy': 1166, 'effective': 1167, 'emergency': 1168, 'even': 1169, 'expected': 1170, 'extraordinary': 1171, 'facility': 1172, 'globalhealth': 1173, 'groupofeight': 1174, 'hold': 1175, 'huge': 1176, 'imf': 1177, 'internationalmonetaryfund': 1178, 'king': 1179, 'leader': 1180, 'looking': 1181, 'mount': 1182, 'mountain': 1183, 'must': 1184, 'nation': 1185, 'opening': 1186, 'payment': 1187, 'poorer': 1188, 'remark': 1189, 'restore': 1190, 'salman': 1191, 'salmanofsaudiarabia': 1192, 'saud': 1193, 'slow': 1194, 'summit': 1195, 'trade': 1196, 'united': 1197, 'unitedstates': 1198, 'unveiled': 1199, 'urge': 1200, 'urged': 1201, 'virtual': 1202, 'wealthy': 1203, 'well': 1204, 'without': 1205, 'worldbank': 1206, 'wuhan': 1207, 'bulletin': 1208, 'couple': 1209, 'husband': 1210, 'includes': 1211, 'medchal': 1212, 'pertaining': 1213, 'previous': 1214, 'qutbullapur': 1215, 'resident': 1216, 'rise': 1217, 'stable': 1218, 'total': 1219, 'aita': 1220, 'bay': 1221, 'begun': 1222, 'bungalow': 1223, 'buyer': 1224, 'circle': 1225, 'contagious': 1226, 'distance': 1227, 'draw': 1228, 'drawn': 1229, 'emphasised': 1230, 'escape': 1231, 'everyone': 1232, 'finding': 1233, 'flower': 1234, 'ground': 1235, 'highly': 1236, 'hobe': 1237, 'innovative': 1238, 'jugaad': 1239, 'kolkata': 1240, 'maintain': 1241, 'marking': 1242, 'meeting': 1243, 'memberofparliament': 1244, 'method': 1245, 'mp': 1246, 'mumbai': 1247, 'na': 1248, 'one': 1249, 'others': 1250, 'pic': 1251, 'railway': 1252, 'resorted': 1253, 'safe': 1254, 'scrapping': 1255, 'seeing': 1256, 'spot': 1257, 'strictly': 1258, 'trainstation': 1259, 'unprecedented': 1260, 'accustomed': 1261, 'admits': 1262, 'anesthesiologist': 1263, 'assistant': 1264, 'assistantreferee': 1265, 'associationfootball': 1266, 'asturias': 1267, 'bilbao': 1268, 'bit': 1269, 'breaking': 1270, 'cardiopulmonaryresuscitation': 1271, 'central': 1272, 'class': 1273, 'combat': 1274, 'concerned': 1275, 'departmentsoffrance': 1276, 'elastic': 1277, 'elasticity': 1278, 'encounter': 1279, 'federation': 1280, 'female': 1281, 'fernandez': 1282, 'fever': 1283, 'firstclasscricket': 1284, 'football': 1285, 'frightened': 1286, 'frontline': 1287, 'frustrated': 1288, 'full': 1289, 'game': 1290, 'helping': 1291, 'hope': 1292, 'iberdrola': 1293, 'iragartze': 1294, 'judit': 1295, 'keen': 1296, 'liga': 1297, 'manage': 1298, 'men': 1299, 'midwife': 1300, 'night': 1301, 'oviedo': 1302, 'palencia': 1303, 'primeradivisi': 1304, 'referee': 1305, 'relentless': 1306, 'relentlessrecords': 1307, 'resuscitation': 1308, 'role': 1309, 'romano': 1310, 'rush': 1311, 'salute': 1312, 'segunda': 1313, 'something': 1314, 'spain': 1315, 'spanish': 1316, 'sport': 1317, 'strenuous': 1318, 'stretched': 1319, 'superwoman': 1320, 'swapped': 1321, 'tier': 1322, 'timetable': 1323, 'turn': 1324, 'ugly': 1325, 'whistle': 1326, 'work': 1327, 'working': 1328, 'absolute': 1329, 'active': 1330, 'alleged': 1331, 'ample': 1332, 'back': 1333, 'commissioner': 1334, 'coughing': 1335, 'divisional': 1336, 'divisionalcommissioner': 1337, 'eight': 1338, 'grandchild': 1339, 'jamaat': 1340, 'kansal': 1341, 'mishandling': 1342, 'negligence': 1343, 'neighbourhood': 1344, 'north': 1345, 'ordered': 1346, 'organisation': 1347, 'pk': 1348, 'pole': 1349, 'rohit': 1350, 'samba': 1351, 'seven': 1352, 'sher': 1353, 'sibling': 1354, 'sneeze': 1355, 'sneezing': 1356, 'sopore': 1357, 'spokesperson': 1358, 'srinagar': 1359, 'superintendent': 1360, 'victim': 1361, 'writing': 1362, 'year': 1363, 'young': 1364, 'academy': 1365, 'acp': 1366, 'activity': 1367, 'annual': 1368, 'assessment': 1369, 'assignment': 1370, 'bharat': 1371, 'board': 1372, 'cbse': 1373, 'celebration': 1374, 'centralboardofsecondaryeducation': 1375, 'club': 1376, 'colleague': 1377, 'complete': 1378, 'creative': 1379, 'curriculum': 1380, 'day': 1381, 'defining': 1382, 'designing': 1383, 'different': 1384, 'easily': 1385, 'eco': 1386, 'ek': 1387, 'enrichment': 1388, 'exercise': 1389, 'formative': 1390, 'guidance': 1391, 'heritage': 1392, 'include': 1393, 'included': 1394, 'initiated': 1395, 'integrating': 1396, 'keep': 1397, 'khan': 1398, 'khanacademy': 1399, 'lecture': 1400, 'manner': 1401, 'mapping': 1402, 'mhrd': 1403, 'ministryofhumanresourcedevelopment': 1404, 'outcome': 1405, 'parent': 1406, 'pedagogical': 1407, 'planning': 1408, 'practice': 1409, 'preparation': 1410, 'productive': 1411, 'project': 1412, 'quick': 1413, 'quiz': 1414, 'reading': 1415, 'readingfc': 1416, 'related': 1417, 'scholastic': 1418, 'scholasticcorporation': 1419, 'scope': 1420, 'session': 1421, 'sewa': 1422, 'shrestha': 1423, 'spend': 1424, 'suggested': 1425, 'swachhata': 1426, 'technology': 1427, 'topic': 1428, 'track': 1429, 'tutorial': 1430, 'undertaking': 1431, 'uploading': 1432, 'use': 1433, 'utilise': 1434, 'various': 1435, 'whole': 1436, 'worksheet': 1437, 'absence': 1438, 'admins': 1439, 'appealed': 1440, 'association': 1441, 'barber': 1442, 'baseonballs': 1443, 'chandigarh': 1444, 'claimed': 1445, 'curfew': 1446, 'dog': 1447, 'doorstep': 1448, 'ensuring': 1449, 'frivolous': 1450, 'genuine': 1451, 'getting': 1452, 'go': 1453, 'haircut': 1454, 'implementing': 1455, 'jain': 1456, 'meanwhile': 1457, 'mohali': 1458, 'pakistantehreekeinsaf': 1459, 'pas': 1460, 'pass': 1461, 'permission': 1462, 'pressed': 1463, 'pti': 1464, 'punjab': 1465, 'punjabindia': 1466, 'ration': 1467, 'receive': 1468, 'seeking': 1469, 'territory': 1470, 'unionterritory': 1471, 'vendor': 1472, 'walk': 1473, 'ahmedabad': 1474, 'alliance': 1475, 'andhra': 1476, 'andhrapradesh': 1477, 'attention': 1478, 'baddi': 1479, 'body': 1480, 'brought': 1481, 'coal': 1482, 'coordination': 1483, 'daman': 1484, 'damandamananddiu': 1485, 'disruption': 1486, 'distributing': 1487, 'distribution': 1488, 'domestic': 1489, 'drew': 1490, 'drug': 1491, 'employee': 1492, 'end': 1493, 'engaged': 1494, 'expressed': 1495, 'faced': 1496, 'fundamental': 1497, 'goa': 1498, 'gujarat': 1499, 'himachal': 1500, 'himachalpradesh': 1501, 'imposed': 1502, 'indore': 1503, 'internationalphoneticalphabet': 1504, 'involved': 1505, 'ipa': 1506, 'lack': 1507, 'large': 1508, 'leading': 1509, 'limit': 1510, 'local': 1511, 'manufacturing': 1512, 'medication': 1513, 'medicine': 1514, 'mistreatment': 1515, 'movement': 1516, 'nitrogen': 1517, 'notice': 1518, 'owing': 1519, 'pharma': 1520, 'pharmaceutical': 1521, 'pharmaceuticalindustry': 1522, 'pharmacy': 1523, 'pradesh': 1524, 'professional': 1525, 'representing': 1526, 'respective': 1527, 'road': 1528, 'show': 1529, 'spreading': 1530, 'supplychain': 1531, 'towards': 1532, 'unit': 1533, 'uttar': 1534, 'uttarpradesh': 1535, 'view': 1536, 'bottle': 1537, 'chakraborty': 1538, 'clock': 1539, 'coaching': 1540, 'deployed': 1541, 'depot': 1542, 'distributed': 1543, 'division': 1544, 'eastern': 1545, 'engine': 1546, 'englishbazar': 1547, 'er': 1548, 'freight': 1549, 'important': 1550, 'iron': 1551, 'ironore': 1552, 'location': 1553, 'maintenance': 1554, 'malda': 1555, 'manufactured': 1556, 'ore': 1557, 'producing': 1558, 'protective': 1559, 'regularly': 1560, 'round': 1561, 'running': 1562, 'sanitised': 1563, 'sanitiser': 1564, 'shed': 1565, 'train': 1566, 'uninterrupted': 1567, 'zone': 1568, 'airline': 1569, 'avinor': 1570, 'beijing': 1571, 'bid': 1572, 'blunt': 1573, 'bound': 1574, 'capped': 1575, 'chinese': 1576, 'come': 1577, 'cut': 1578, 'diverted': 1579, 'drastically': 1580, 'exceed': 1581, 'inbound': 1582, 'nationalaviationauthority': 1583, 'permitted': 1584, 'route': 1585, 'urban': 1586, 'applicant': 1587, 'application': 1588, 'compromised': 1589, 'condition': 1590, 'halted': 1591, 'inter': 1592, 'limited': 1593, 'mutual': 1594, 'parishad': 1595, 'postpone': 1596, 'primary': 1597, 'primaryschool': 1598, 'proceeding': 1599, 'process': 1600, 'registration': 1601, 'rejected': 1602, 'ruby': 1603, 'shiksha': 1604, 'singh': 1605, 'submitted': 1606, 'transfer': 1607, 'upper': 1608, 'able': 1609, 'aimed': 1610, 'amarchand': 1611, 'bill': 1612, 'calculating': 1613, 'clarity': 1614, 'contribution': 1615, 'covered': 1616, 'cyril': 1617, 'earned': 1618, 'employ': 1619, 'employer': 1620, 'enterprise': 1621, 'epf': 1622, 'establishment': 1623, 'form': 1624, 'formal': 1625, 'fund': 1626, 'hiring': 1627, 'indicating': 1628, 'kalyan': 1629, 'key': 1630, 'largely': 1631, 'livelihood': 1632, 'mangaldas': 1633, 'micro': 1634, 'migrantworker': 1635, 'mohanty': 1636, 'money': 1637, 'national': 1638, 'partner': 1639, 'party': 1640, 'pf': 1641, 'proposal': 1642, 'protecting': 1643, 'provident': 1644, 'r': 1645, 'reimbursement': 1646, 'required': 1647, 'richa': 1648, 'small': 1649, 'socialsecurity': 1650, 'subscribed': 1651, 'subscriber': 1652, 'third': 1653, 'threshold': 1654, 'trn': 1655, 'whether': 1656, 'withdraw': 1657, 'actor': 1658, 'anirudh': 1659, 'anirudhravichander': 1660, 'audio': 1661, 'awareness': 1662, 'breakthechain': 1663, 'composer': 1664, 'contracting': 1665, 'danger': 1666, 'film': 1667, 'heroine': 1668, 'irresponsible': 1669, 'istayhomefor': 1670, 'jagdish': 1671, 'kanagaraj': 1672, 'keeping': 1673, 'launch': 1674, 'lokesh': 1675, 'malavika': 1676, 'master': 1677, 'message': 1678, 'mohanan': 1679, 'negligent': 1680, 'picture': 1681, 'priority': 1682, 'private': 1683, 'producer': 1684, 'ravichander': 1685, 'recently': 1686, 'release': 1687, 'shared': 1688, 'shortly': 1689, 'speech': 1690, 'stayhome': 1691, 'team': 1692, 'touch': 1693, 'upcoming': 1694, 'videotelephony': 1695, 'vijay': 1696, 'book': 1697, 'cc': 1698, 'click': 1699, 'coesme': 1700, 'confluence': 1701, 'creativecommonslicense': 1702, 'development': 1703, 'download': 1704, 'ebook': 1705, 'forum': 1706, 'iiser': 1707, 'information': 1708, 'language': 1709, 'languagesofindia': 1710, 'link': 1711, 'multiple': 1712, 'original': 1713, 'primenumber': 1714, 'published': 1715, 'pune': 1716, 'site': 1717, 'tamillanguage': 1718, 'thehindu': 1719, 'translation': 1720, 'web': 1721, 'accounting': 1722, 'adjusted': 1723, 'american': 1724, 'americanrecoveryandreinvestmentactof': 1725, 'assemble': 1726, 'assistance': 1727, 'australianlaborparty': 1728, 'boom': 1729, 'chester': 1730, 'claim': 1731, 'clearest': 1732, 'devastating': 1733, 'eclipsing': 1734, 'economist': 1735, 'employment': 1736, 'ending': 1737, 'federal': 1738, 'federalreservesystem': 1739, 'filing': 1740, 'forced': 1741, 'halt': 1742, 'hammered': 1743, 'history': 1744, 'illness': 1745, 'impact': 1746, 'initial': 1747, 'jobless': 1748, 'labor': 1749, 'laboureconomics': 1750, 'layoff': 1751, 'likely': 1752, 'longest': 1753, 'million': 1754, 'offered': 1755, 'pennsylvania': 1756, 'recession': 1757, 'record': 1758, 'reserve': 1759, 'respiratorydisease': 1760, 'rose': 1761, 'seasonally': 1762, 'sudden': 1763, 'surge': 1764, 'surged': 1765, 'survey': 1766, 'surveying': 1767, 'unemployment': 1768, 'unemploymentbenefits': 1769, 'unleashing': 1770, 'wave': 1771, 'westchesterpennsylvania': 1772, 'adding': 1773, 'aid': 1774, 'approximately': 1775, 'bayer': 1776, 'bayern': 1777, 'berlin': 1778, 'borussia': 1779, 'borussiadortmund': 1780, 'bundesliga': 1781, 'bust': 1782, 'came': 1783, 'ceo': 1784, 'champion': 1785, 'chiefexecutiveofficer': 1786, 'committee': 1787, 'create': 1788, 'dfl': 1789, 'dortmund': 1790, 'euro': 1791, 'fcbayernmunich': 1792, 'fcunionberlin': 1793, 'forego': 1794, 'german': 1795, 'germany': 1796, 'image': 1797, 'join': 1798, 'laborparty': 1799, 'least': 1800, 'leipzig': 1801, 'leverkusen': 1802, 'lip': 1803, 'loan': 1804, 'minnesotademocratic': 1805, 'munich': 1806, 'nearly': 1807, 'organising': 1808, 'participated': 1809, 'pay': 1810, 'photograph': 1811, 'player': 1812, 'potential': 1813, 'rb': 1814, 'rbleipzig': 1815, 'recommended': 1816, 'rescue': 1817, 'resume': 1818, 'revenue': 1819, 'salary': 1820, 'season': 1821, 'share': 1822, 'solidarity': 1823, 'stave': 1824, 'stranger': 1825, 'thankful': 1826, 'together': 1827, 'uefachampionsleague': 1828, 'air': 1829, 'amit': 1830, 'atmosphereofearth': 1831, 'beating': 1832, 'billion': 1833, 'blog': 1834, 'bourse': 1835, 'capa': 1836, 'chance': 1837, 'chiefeconomist': 1838, 'collection': 1839, 'consultancy': 1840, 'december': 1841, 'deficit': 1842, 'demand': 1843, 'dwindling': 1844, 'economicgrowth': 1845, 'economyofindia': 1846, 'eventuality': 1847, 'exchange': 1848, 'expenditure': 1849, 'fiscal': 1850, 'fiscalyear': 1851, 'fixedexchangeratesystem': 1852, 'foodprocessing': 1853, 'fy': 1854, 'gdp': 1855, 'governmentbudgetbalance': 1856, 'grew': 1857, 'gross': 1858, 'grossdomesticproduct': 1859, 'hospitality': 1860, 'informal': 1861, 'informalsector': 1862, 'joblessness': 1863, 'july': 1864, 'june': 1865, 'latest': 1866, 'massive': 1867, 'october': 1868, 'outshoot': 1869, 'pegged': 1870, 'percent': 1871, 'processing': 1872, 'projected': 1873, 'quarter': 1874, 'rabi': 1875, 'rabicrop': 1876, 'rationalise': 1877, 'recorded': 1878, 'released': 1879, 'sabnavis': 1880, 'september': 1881, 'shardul': 1882, 'singjania': 1883, 'tax': 1884, 'thr': 1885, 'threonine': 1886, 'tune': 1887, 'update': 1888, 'washout': 1889, 'ambulance': 1890, 'apart': 1891, 'corporal': 1892, 'dcp': 1893, 'delhipolice': 1894, 'express': 1895, 'feeling': 1896, 'flooded': 1897, 'foreigner': 1898, 'gali': 1899, 'ghoom': 1900, 'got': 1901, 'hai': 1902, 'haiderpur': 1903, 'ho': 1904, 'hungry': 1905, 'internationalsportkarateassociation': 1906, 'inundated': 1907, 'iska': 1908, 'janata': 1909, 'k': 1910, 'khatra': 1911, 'ko': 1912, 'ladki': 1913, 'mein': 1914, 'neighbour': 1915, 'officer': 1916, 'operator': 1917, 'panicked': 1918, 'pcr': 1919, 'polymerasechainreaction': 1920, 'raha': 1921, 'rahi': 1922, 'ranging': 1923, 'regarding': 1924, 'sneezed': 1925, 'store': 1926, 'theindianexpress': 1927, 'uneasy': 1928, 'address': 1929, 'advised': 1930, 'allegedly': 1931, 'announce': 1932, 'around': 1933, 'assembly': 1934, 'asteroidfamily': 1935, 'bedi': 1936, 'breaching': 1937, 'brother': 1938, 'cart': 1939, 'code': 1940, 'codeofcriminalprocedure': 1941, 'constable': 1942, 'criminal': 1943, 'crpc': 1944, 'damaging': 1945, 'enforce': 1946, 'fallout': 1947, 'fir': 1948, 'fitted': 1949, 'five': 1950, 'governor': 1951, 'gudiyatham': 1952, 'indoors': 1953, 'kandivali': 1954, 'kiran': 1955, 'kiranbedi': 1956, 'loitering': 1957, 'memberofthelegislativeassembly': 1958, 'mla': 1959, 'nationalbooktrust': 1960, 'nationalbroadcastingservicesofthailand': 1961, 'nbt': 1962, 'newdelhi': 1963, 'nuclearfallout': 1964, 'operational': 1965, 'personnel': 1966, 'procedure': 1967, 'prohibitory': 1968, 'prohibits': 1969, 'publicaddresssystem': 1970, 'puducherry': 1971, 'ramped': 1972, 'residential': 1973, 'rule': 1974, 'shutdown': 1975, 'sivaganga': 1976, 'suburb': 1977, 'system': 1978, 'trust': 1979, 'unlawfulassembly': 1980, 'used': 1981, 'using': 1982, 'vellore': 1983, 'velloredistrict': 1984, 'vidhansabha': 1985, 'violating': 1986, 'violation': 1987, 'warn': 1988, 'whatsapp': 1989, 'always': 1990, 'amsterdam': 1991, 'anupam': 1992, 'anupamkher': 1993, 'cast': 1994, 'centric': 1995, 'comedy': 1996, 'creator': 1997, 'da': 1998, 'dae': 1999, 'daniel': 2000, 'danieldaekim': 2001, 'david': 2002, 'deadline': 2003, 'deadlinehollywood': 2004, 'door': 2005, 'drama': 2006, 'eerily': 2007, 'episode': 2008, 'essay': 2009, 'fiction': 2010, 'fictional': 2011, 'focused': 2012, 'horrifying': 2013, 'kher': 2014, 'kim': 2015, 'le': 2016, 'medicaldrama': 2017, 'member': 2018, 'mirror': 2019, 'nbc': 2020, 'network': 2021, 'newamsterdam': 2022, 'newyork': 2023, 'newyorkcity': 2024, 'parking': 2025, 'postpones': 2026, 'reflects': 2027, 'renamed': 2028, 'rest': 2029, 'right': 2030, 'schulner': 2031, 'shift': 2032, 'shot': 2033, 'showsome': 2034, 'sometimes': 2035, 'supported': 2036, 'tech': 2037, 'tent': 2038, 'titled': 2039, 'vir': 2040, 'virdas': 2041, 'worse': 2042, 'writer': 2043, 'york': 2044, 'add': 2045, 'agency': 2046, 'ani': 2047, 'belgaum': 2048, 'break': 2049, 'buying': 2050, 'cloth': 2051, 'customer': 2052, 'decrease': 2053, 'demonstrating': 2054, 'didi': 2055, 'directing': 2056, 'disbursing': 2057, 'eager': 2058, 'eagerly': 2059, 'eventually': 2060, 'facing': 2061, 'follows': 2062, 'forcefully': 2063, 'gathering': 2064, 'hardship': 2065, 'hoping': 2066, 'inspection': 2067, 'instructing': 2068, 'lesson': 2069, 'metre': 2070, 'mode': 2071, 'morbidity': 2072, 'mortality': 2073, 'mostly': 2074, 'necessary': 2075, 'newsagency': 2076, 'observe': 2077, 'onlooker': 2078, 'panic': 2079, 'pathogen': 2080, 'punishing': 2081, 'queue': 2082, 'reiterated': 2083, 'requested': 2084, 'seemed': 2085, 'seen': 2086, 'space': 2087, 'street': 2088, 'toe': 2089, 'trying': 2090, 'unannounced': 2091, 'watch': 2092, 'westbengal': 2093, 'wrapped': 2094, 'accompanied': 2095, 'chalk': 2096, 'drawing': 2097, 'expert': 2098, 'teach': 2099, 'admissible': 2100, 'admissibleevidence': 2101, 'clarification': 2102, 'complain': 2103, 'dubai': 2104, 'expedite': 2105, 'expense': 2106, 'financialservices': 2107, 'healthclaim': 2108, 'healthinsurance': 2109, 'infectious': 2110, 'instance': 2111, 'insurer': 2112, 'irdai': 2113, 'moneycontrol': 2114, 'ombudsman': 2115, 'policyholder': 2116, 'provided': 2117, 'regulatory': 2118, 'rejection': 2119, 'relaxation': 2120, 'settlement': 2121, 'source': 2122, 'spike': 2123, 'terming': 2124, 'told': 2125, 'unlike': 2126, 'adjourned': 2127, 'adjournmentsinedie': 2128, 'b': 2129, 'bachelorofscience': 2130, 'bengaluru': 2131, 'better': 2132, 'branch': 2133, 'cabinet': 2134, 'colony': 2135, 'contribute': 2136, 'die': 2137, 'dollar': 2138, 'established': 2139, 'festival': 2140, 'ifsc': 2141, 'instructed': 2142, 'interested': 2143, 'internationalfinancialservicescentre': 2144, 'legislature': 2145, 'magneticinkcharacterrecognition': 2146, 'meet': 2147, 'micr': 2148, 'nationalactionparty': 2149, 'needy': 2150, 'pan': 2151, 'residence': 2152, 'sbin': 2153, 'sine': 2154, 'soudha': 2155, 'ugadi': 2156, 'vidhana': 2157, 'vidhanasoudha': 2158, 'yediyurappa': 2159, 'afternoon': 2160, 'aiadmk': 2161, 'allindiaannadravidamunnetrakazhagam': 2162, 'amma': 2163, 'arrival': 2164, 'awaits': 2165, 'breakfast': 2166, 'collectively': 2167, 'cost': 2168, 'curd': 2169, 'distribute': 2170, 'distributes': 2171, 'dream': 2172, 'feed': 2173, 'feeding': 2174, 'frail': 2175, 'functionary': 2176, 'ganesa': 2177, 'ganesha': 2178, 'heavily': 2179, 'homeless': 2180, 'homelessness': 2181, 'hunger': 2182, 'idlis': 2183, 'jawahar': 2184, 'jayalalithaa': 2185, 'kitchen': 2186, 'late': 2187, 'objective': 2188, 'organic': 2189, 'organicfarming': 2190, 'palayamkottai': 2191, 'plate': 2192, 'purchased': 2193, 'quantity': 2194, 'raja': 2195, 'samaritan': 2196, 'sambar': 2197, 'sambardeer': 2198, 'served': 2199, 'stomach': 2200, 'subsidised': 2201, 'tea': 2202, 'tirunelveli': 2203, 'token': 2204, 'unavagam': 2205, 'unavagams': 2206, 'urbandistrict': 2207, 'aim': 2208, 'alone': 2209, 'appealing': 2210, 'attire': 2211, 'avoiding': 2212, 'campaign': 2213, 'carry': 2214, 'circulated': 2215, 'dora': 2216, 'elder': 2217, 'highlighting': 2218, 'intensified': 2219, 'kick': 2220, 'konda': 2221, 'krishna': 2222, 'learnt': 2223, 'literate': 2224, 'moped': 2225, 'murthy': 2226, 'naked': 2227, 'observing': 2228, 'ortvinsarapu': 2229, 'precautionary': 2230, 'prefer': 2231, 'rampa': 2232, 'realise': 2233, 'reminding': 2234, 'roam': 2235, 'sarapu': 2236, 'shake': 2237, 'spirit': 2238, 'traditional': 2239, 'tribal': 2240, 'wearing': 2241, 'adnan': 2242, 'arrested': 2243, 'asmi': 2244, 'chhattisgarh': 2245, 'cooperate': 2246, 'eastgodavaridistrict': 2247, 'feel': 2248, 'godavari': 2249, 'godavaririver': 2250, 'guideline': 2251, 'heat': 2252, 'nayeem': 2253, 'seized': 2254, 'violator': 2255, 'anantapur': 2256, 'anantapurdistrict': 2257, 'bleach': 2258, 'bleaching': 2259, 'brahmaiah': 2260, 'chandrudu': 2261, 'channel': 2262, 'clean': 2263, 'comprehensive': 2264, 'disinfectant': 2265, 'drain': 2266, 'effect': 2267, 'emanating': 2268, 'enforcing': 2269, 'focus': 2270, 'gandham': 2271, 'garbage': 2272, 'gotukuru': 2273, 'gram': 2274, 'grampanchayat': 2275, 'guarding': 2276, 'habitation': 2277, 'happy': 2278, 'helped': 2279, 'highway': 2280, 'hindupur': 2281, 'improved': 2282, 'majority': 2283, 'mandal': 2284, 'nationalhighway': 2285, 'panchayat': 2286, 'panchayatiraj': 2287, 'plastic': 2288, 'powder': 2289, 'ramachandrapuram': 2290, 'restricting': 2291, 'sanitation': 2292, 'selfsufficiency': 2293, 'semitrailertruck': 2294, 'sewage': 2295, 'spray': 2296, 'spraying': 2297, 'stagnant': 2298, 'stench': 2299, 'sufficiency': 2300, 'throughout': 2301, 'throw': 2302, 'toil': 2303, 'tractor': 2304, 'trailer': 2305, 'villager': 2306, 'water': 2307, 'waterstagnation': 2308, 'ahead': 2309, 'aware': 2310, 'bleu': 2311, 'business': 2312, 'businessmodel': 2313, 'cancelled': 2314, 'centenary': 2315, 'championship': 2316, 'competition': 2317, 'consider': 2318, 'cycle': 2319, 'cyclesport': 2320, 'cycling': 2321, 'decide': 2322, 'depend': 2323, 'devil': 2324, 'diablo': 2325, 'el': 2326, 'enthusiast': 2327, 'eric': 2328, 'event': 2329, 'file': 2330, 'foug': 2331, 'fougeres': 2332, 'france': 2333, 'francebleu': 2334, 'french': 2335, 'gaillard': 2336, 'jump': 2337, 'km': 2338, 'known': 2339, 'minimise': 2340, 'minus': 2341, 'model': 2342, 'olympic': 2343, 'pack': 2344, 'photo': 2345, 'postponement': 2346, 'quoted': 2347, 'race': 2348, 'radio': 2349, 'radiostation': 2350, 're': 2351, 'responsible': 2352, 'rider': 2353, 'rugby': 2354, 'senft': 2355, 'soccer': 2356, 'spectator': 2357, 'spokeswoman': 2358, 'sporting': 2359, 'stage': 2360, 'summerolympics': 2361, 'ticket': 2362, 'tokyo': 2363, 'tour': 2364, 'tourdefrance': 2365, 'twelfth': 2366, 'uefaeuro': 2367, 'willhaven': 2368, 'agri': 2369, 'apmc': 2370, 'constant': 2371, 'friday': 2372, 'functioning': 2373, 'mandi': 2374, 'mandis': 2375, 'marketing': 2376, 'ministryofagricultureandruraldevelopment': 2377, 'normalise': 2378, 'operate': 2379, 'persuaded': 2380, 'proactive': 2381, 'resistance': 2382, 'smoothly': 2383, 'tomorrow': 2384, 'wholesale': 2385, 'approaching': 2386, 'fernando': 2387, 'figure': 2388, 'hopkins': 2389, 'indicate': 2390, 'jalpaiguri': 2391, 'john': 2392, 'johnshopkinsuniversity': 2393, 'laga': 2394, 'levelled': 2395, 'ligaacb': 2396, 'malaga': 2397, 'mean': 2398, 'nationally': 2399, 'originated': 2400, 'paddler': 2401, 'peak': 2402, 'ranked': 2403, 'ratio': 2404, 'sarkar': 2405, 'seem': 2406, 'simon': 2407, 'supportive': 2408, 'supposed': 2409, 'surpassed': 2410, 'table': 2411, 'tabletennis': 2412, 'takeme': 2413, 'tennis': 2414, 'term': 2415, 'th': 2416, 'ttfi': 2417, 'abu': 2418, 'abudhabi': 2419, 'agent': 2420, 'airasia': 2421, 'airnewzealand': 2422, 'airway': 2423, 'alaska': 2424, 'alaskaairgroup': 2425, 'aloft': 2426, 'americanairlines': 2427, 'apocalypse': 2428, 'asiapacific': 2429, 'australia': 2430, 'avert': 2431, 'bankruptcy': 2432, 'bargaining': 2433, 'belly': 2434, 'biggest': 2435, 'budget': 2436, 'buyback': 2437, 'cancellation': 2438, 'carrier': 2439, 'collectivebargaining': 2440, 'competitionregulator': 2441, 'corporate': 2442, 'corporateaction': 2443, 'deepening': 2444, 'delta': 2445, 'deltaairlines': 2446, 'desperate': 2447, 'dhabi': 2448, 'dividend': 2449, 'donald': 2450, 'donaldtrump': 2451, 'easing': 2452, 'equity': 2453, 'etihad': 2454, 'etihadairways': 2455, 'executivecompensation': 2456, 'fixed': 2457, 'fixedcost': 2458, 'globe': 2459, 'holding': 2460, 'iata': 2461, 'induced': 2462, 'internationalairtransportassociation': 2463, 'japan': 2464, 'joined': 2465, 'knock': 2466, 'korea': 2467, 'line': 2468, 'list': 2469, 'lowcostcarrier': 2470, 'normally': 2471, 'offering': 2472, 'operating': 2473, 'pacific': 2474, 'philippine': 2475, 'plane': 2476, 'preserve': 2477, 'promising': 2478, 'qantas': 2479, 'reduction': 2480, 'region': 2481, 'regional': 2482, 'regionalexpressairlines': 2483, 'schedule': 2484, 'sharerepurchase': 2485, 'singapore': 2486, 'singaporeairlines': 2487, 'slide': 2488, 'slump': 2489, 'southkorea': 2490, 'stock': 2491, 'sweeping': 2492, 'temasek': 2493, 'temasekholdings': 2494, 'transporter': 2495, 'travelagency': 2496, 'trump': 2497, 'unitedairlines': 2498, 'virgin': 2499, 'virginaustralia': 2500, 'vital': 2501, 'actress': 2502, 'bond': 2503, 'completely': 2504, 'declared': 2505, 'english': 2506, 'excerpt': 2507, 'explained': 2508, 'felt': 2509, 'headache': 2510, 'james': 2511, 'jamesbond': 2512, 'johnny': 2513, 'johnnyenglish': 2514, 'kurylenko': 2515, 'olga': 2516, 'olgakurylenko': 2517, 'pretty': 2518, 'publicly': 2519, 'quality': 2520, 'really': 2521, 'recapitulate': 2522, 'recovered': 2523, 'sleeping': 2524, 'sleepy': 2525, 'spending': 2526, 'spoke': 2527, 'stated': 2528, 'strike': 2529, 'strong': 2530, 'affinity': 2531, 'almost': 2532, 'containing': 2533, 'dalai': 2534, 'dalailama': 2535, 'donation': 2536, 'gaden': 2537, 'jai': 2538, 'lala': 2539, 'lama': 2540, 'leadership': 2541, 'ligand': 2542, 'moreover': 2543, 'naturally': 2544, 'phodrang': 2545, 'ram': 2546, 'respect': 2547, 'restrict': 2548, 'spiritual': 2549, 'sympathy': 2550, 'thakur': 2551, 'therefore': 2552, 'tibetan': 2553, 'tibetanpeople': 2554, 'alangudi': 2555, 'breathing': 2556, 'difficulty': 2557, 'gandhi': 2558, 'hailing': 2559, 'informed': 2560, 'mahatma': 2561, 'mahatmagandhi': 2562, 'memorial': 2563, 'observation': 2564, 'perambalur': 2565, 'pudukkottai': 2566, 'pudukottai': 2567, 'rushed': 2568, 'travelled': 2569, 'yeganathan': 2570, 'aged': 2571, 'announcing': 2572, 'arising': 2573, 'assurance': 2574, 'building': 2575, 'cap': 2576, 'dayal': 2577, 'dbt': 2578, 'deen': 2579, 'deendayalupadhyaya': 2580, 'departmentofbiotechnology': 2581, 'direct': 2582, 'divyang': 2583, 'entered': 2584, 'foodsecurity': 2585, 'gareeb': 2586, 'gave': 2587, 'instalment': 2588, 'mgnregs': 2589, 'midst': 2590, 'mineral': 2591, 'nirmana': 2592, 'payable': 2593, 'population': 2594, 'screening': 2595, 'tackle': 2596, 'testing': 2597, 'upadhyaya': 2598, 'war': 2599, 'worldwarii': 2600, 'alsace': 2601, 'bergamo': 2602, 'britain': 2603, 'europe': 2604, 'exceeding': 2605, 'globally': 2606, 'highspeedrail': 2607, 'hotspot': 2608, 'la': 2609, 'loire': 2610, 'paysdelaloire': 2611, 'speed': 2612, 'strasbourg': 2613, 'thus': 2614, 'ventilator': 2615, 'addressed': 2616, 'afflicted': 2617, 'arrive': 2618, 'barring': 2619, 'cannot': 2620, 'chidambaram': 2621, 'comparison': 2622, 'disappointment': 2623, 'expectation': 2624, 'former': 2625, 'greeted': 2626, 'infrastructure': 2627, 'mention': 2628, 'p': 2629, 'pchidambaram': 2630, 'perhaps': 2631, 'quickly': 2632, 'silent': 2633, 'silentfilm': 2634, 'strengthening': 2635, 'sure': 2636, 'talking': 2637, 'took': 2638, 'underwhelming': 2639, 'waiting': 2640, 'deputy': 2641, 'directive': 2642, 'found': 2643, 'home': 2644, 'housing': 2645, 'legal': 2646, 'living': 2647, 'matter': 2648, 'offence': 2649, 'pawar': 2650, 'playing': 2651, 'pointed': 2652, 'property': 2653, 'reckon': 2654, 'rent': 2655, 'rental': 2656, 'reporting': 2657, 'stern': 2658, 'surfaced': 2659, 'warning': 2660, 'ambient': 2661, 'ambientmusic': 2662, 'amitabha': 2663, 'bandhopadhay': 2664, 'bandhopahyaya': 2665, 'base': 2666, 'bha': 2667, 'called': 2668, 'capable': 2669, 'cardiac': 2670, 'chart': 2671, 'cheaper': 2672, 'climbed': 2673, 'combined': 2674, 'component': 2675, 'controlled': 2676, 'costing': 2677, 'crowd': 2678, 'crowdsourcing': 2679, 'develop': 2680, 'easy': 2681, 'featured': 2682, 'formed': 2683, 'graduate': 2684, 'grossly': 2685, 'harshit': 2686, 'iit': 2687, 'incharge': 2688, 'incubated': 2689, 'incubation': 2690, 'indianinstituteoftechnologykanpur': 2691, 'invasive': 2692, 'kanpur': 2693, 'kurule': 2694, 'madhya': 2695, 'madhyapradesh': 2696, 'mechanical': 2697, 'mechanicalventilation': 2698, 'medicalventilator': 2699, 'mobile': 2700, 'mobilephone': 2701, 'narayana': 2702, 'nationalinstantcriminalbackgroundchecksystem': 2703, 'nics': 2704, 'nikhil': 2705, 'nine': 2706, 'nocca': 2707, 'onslaught': 2708, 'oxygen': 2709, 'phone': 2710, 'portable': 2711, 'prepared': 2712, 'pressure': 2713, 'production': 2714, 'prototype': 2715, 'rathore': 2716, 'ready': 2717, 'robotics': 2718, 'save': 2719, 'significantly': 2720, 'sophisticated': 2721, 'sourced': 2722, 'sourcing': 2723, 'technical': 2724, 'type': 2725, 'unprepared': 2726, 'vet': 2727, 'wonderful': 2728, 'alongside': 2729, 'ambroadcasting': 2730, 'atm': 2731, 'automatedtellermachine': 2732, 'banking': 2733, 'bcs': 2734, 'bowlchampionshipseries': 2735, 'consultation': 2736, 'coordinating': 2737, 'deciding': 2738, 'decline': 2739, 'desired': 2740, 'digital': 2741, 'digitalterrestrialtelevision': 2742, 'extent': 2743, 'gupta': 2744, 'lender': 2745, 'mentioned': 2746, 'much': 2747, 'promoting': 2748, 'sbi': 2749, 'see': 2750, 'staggered': 2751, 'timing': 2752, 'transaction': 2753, 'transcations': 2754, 'usual': 2755, 'based': 2756, 'billionaire': 2757, 'blake': 2758, 'blakegriffin': 2759, 'blakelively': 2760, 'cause': 2761, 'ciara': 2762, 'contributed': 2763, 'curry': 2764, 'donate': 2765, 'donatella': 2766, 'donatellaversace': 2767, 'donates': 2768, 'epicenter': 2769, 'fallon': 2770, 'fashion': 2771, 'federer': 2772, 'founder': 2773, 'griffin': 2774, 'jimmy': 2775, 'jimmyfallon': 2776, 'lively': 2777, 'monetarily': 2778, 'prettylittlething': 2779, 'retailer': 2780, 'reynolds': 2781, 'roger': 2782, 'rogerfederer': 2783, 'russell': 2784, 'russellwilson': 2785, 'ryan': 2786, 'ryanreynolds': 2787, 'sportspersons': 2788, 'steph': 2789, 'stephencurry': 2790, 'uk': 2791, 'umar': 2792, 'versace': 2793, 'williamson': 2794, 'wilson': 2795, 'zion': 2796, 'baatein': 2797, 'bhilwara': 2798, 'cheer': 2799, 'chhodon': 2800, 'diagnosed': 2801, 'dressed': 2802, 'figuring': 2803, 'gear': 2804, 'gone': 2805, 'kal': 2806, 'ki': 2807, 'popular': 2808, 'positivity': 2809, 'practitioner': 2810, 'provider': 2811, 'rajasthan': 2812, 'singing': 2813, 'six': 2814, 'song': 2815, 'survive': 2816, 'tend': 2817, 'tirelessly': 2818, 'user': 2819, 'admission': 2820, 'ahmedadad': 2821, 'amassed': 2822, 'attempt': 2823, 'batsman': 2824, 'batting': 2825, 'becoming': 2826, 'big': 2827, 'captain': 2828, 'cheteshwar': 2829, 'cheteshwarpujara': 2830, 'cricketer': 2831, 'fate': 2832, 'final': 2833, 'fitness': 2834, 'format': 2835, 'gym': 2836, 'higher': 2837, 'income': 2838, 'indiaacricketteam': 2839, 'inspiration': 2840, 'inspired': 2841, 'jackson': 2842, 'maiden': 2843, 'pandemichaving': 2844, 'plus': 2845, 'pujara': 2846, 'questioned': 2847, 'ranji': 2848, 'ranjitrophy': 2849, 'raw': 2850, 'reaped': 2851, 'reaps': 2852, 'redefined': 2853, 'reward': 2854, 'rohitsharma': 2855, 'row': 2856, 'saurashtra': 2857, 'seasoned': 2858, 'selector': 2859, 'sharma': 2860, 'sheldon': 2861, 'sheldonjackson': 2862, 'someone': 2863, 'speaks': 2864, 'thought': 2865, 'transformation': 2866, 'trophy': 2867, 'vaughan': 2868, 'win': 2869, 'aniston': 2870, 'anticipated': 2871, 'audience': 2872, 'chat': 2873, 'courteney': 2874, 'courteneycox': 2875, 'cox': 2876, 'cult': 2877, 'cultfollowing': 2878, 'davidschwimmer': 2879, 'every': 2880, 'except': 2881, 'experience': 2882, 'fail': 2883, 'fun': 2884, 'hbo': 2885, 'iconic': 2886, 'jennifer': 2887, 'jenniferaniston': 2888, 'jimmykimmel': 2889, 'kimmel': 2890, 'kudrow': 2891, 'leblanc': 2892, 'lisa': 2893, 'lisakudrow': 2894, 'matt': 2895, 'matthew': 2896, 'matthewperry': 2897, 'mattleblanc': 2898, 'max': 2899, 'memory': 2900, 'minilogue': 2901, 'monday': 2902, 'monica': 2903, 'netflix': 2904, 'perry': 2905, 'phoebe': 2906, 'phoebehalliwell': 2907, 'rachel': 2908, 'relive': 2909, 'rerun': 2910, 'reunion': 2911, 'revisiting': 2912, 'schwimmer': 2913, 'sitcom': 2914, 'speak': 2915, 'status': 2916, 'talked': 2917, 'ten': 2918, 'tuesday': 2919, 'watching': 2920, 'abraham': 2921, 'accent': 2922, 'adhere': 2923, 'apportioned': 2924, 'axiom': 2925, 'balancedbudget': 2926, 'balancing': 2927, 'borrow': 2928, 'borrowing': 2929, 'conferring': 2930, 'equally': 2931, 'eschew': 2932, 'fish': 2933, 'gstn': 2934, 'holiness': 2935, 'impasse': 2936, 'incometax': 2937, 'institution': 2938, 'investment': 2939, 'kiifb': 2940, 'laid': 2941, 'leveraging': 2942, 'meat': 2943, 'moratorium': 2944, 'msmes': 2945, 'nutrition': 2946, 'obsession': 2947, 'optimum': 2948, 'overcome': 2949, 'policy': 2950, 'publicdistributionsystem': 2951, 'publicfinance': 2952, 'publicsector': 2953, 'publicswitchedtelephonenetwork': 2954, 'responsibility': 2955, 'scrap': 2956, 'supplying': 2957, 'textbook': 2958, 'thrust': 2959, 'triggered': 2960, 'unionbudgetofindia': 2961, 'unwritten': 2962, 'workingcapital': 2963, 'bazaar': 2964, 'bigger': 2965, 'card': 2966, 'eatery': 2967, 'entrusted': 2968, 'guard': 2969, 'issue': 2970, 'mark': 2971, 'punnainallur': 2972, 'questionmark': 2973, 'ramu': 2974, 'requirement': 2975, 'returned': 2976, 'securityguard': 2977, 'serving': 2978, 'showroom': 2979, 'snack': 2980, 'textile': 2981, 'thanjavur': 2982, 'tough': 2983, 'aviaion': 2984, 'banned': 2985, 'border': 2986, 'long': 2987, 'ministryofcivilaviation': 2988, 'specially': 2989, 'asset': 2990, 'baddebt': 2991, 'baroda': 2992, 'basis': 2993, 'basispoint': 2994, 'cash': 2995, 'cashflow': 2996, 'classification': 2997, 'corporatebond': 2998, 'corporates': 2999, 'credit': 3000, 'creditratingagency': 3001, 'default': 3002, 'dipping': 3003, 'disrupted': 3004, 'ease': 3005, 'expect': 3006, 'flow': 3007, 'fresh': 3008, 'funding': 3009, 'hazard': 3010, 'indianbank': 3011, 'institutional': 3012, 'institutionalinvestor': 3013, 'investor': 3014, 'liquid': 3015, 'liquidity': 3016, 'manager': 3017, 'marketliquidity': 3018, 'mf': 3019, 'midfielder': 3020, 'moral': 3021, 'moralhazard': 3022, 'mutualfund': 3023, 'npa': 3024, 'obligation': 3025, 'performing': 3026, 'rating': 3027, 'rbi': 3028, 'repo': 3029, 'repurchaseagreement': 3030, 'runbattedin': 3031, 'rupee': 3032, 'servicing': 3033, 'supplier': 3034, 'thefear': 3035, 'troubled': 3036, 'vadodara': 3037, 'advice': 3038, 'album': 3039, 'alia': 3040, 'aliabhatt': 3041, 'archive': 3042, 'bhatt': 3043, 'comment': 3044, 'daddy': 3045, 'dia': 3046, 'diamirza': 3047, 'dropped': 3048, 'dug': 3049, 'emoji': 3050, 'eyed': 3051, 'featuring': 3052, 'filmmaker': 3053, 'kapoor': 3054, 'love': 3055, 'mahesh': 3056, 'maheshbhatt': 3057, 'majorly': 3058, 'mirza': 3059, 'missing': 3060, 'moment': 3061, 'monochrome': 3062, 'mother': 3063, 'observind': 3064, 'photographer': 3065, 'ranbir': 3066, 'ranbirkapoor': 3067, 'razdan': 3068, 'shaheen': 3069, 'sister': 3070, 'soni': 3071, 'sonirazdan': 3072, 'sunset': 3073, 'teary': 3074, 'throwbackthursday': 3075, 'zoya': 3076, 'zoyaakhtar': 3077, 'london': 3078, 'tally': 3079, 'ujjain': 3080, 'boosted': 3081, 'charite': 3082, 'christian': 3083, 'contagion': 3084, 'contributing': 3085, 'dense': 3086, 'detection': 3087, 'drosten': 3088, 'early': 3089, 'extremely': 3090, 'factor': 3091, 'highlighted': 3092, 'koch': 3093, 'laboratory': 3094, 'landdrost': 3095, 'lower': 3096, 'mortalityrate': 3097, 'ramp': 3098, 'relatively': 3099, 'repeatedly': 3100, 'robertkochinstitute': 3101, 'skyrocket': 3102, 'stick': 3103, 'unitedstatesdollar': 3104, 'usd': 3105, 'virologist': 3106, 'virology': 3107, 'warned': 3108, 'approached': 3109, 'banner': 3110, 'campus': 3111, 'cantonment': 3112, 'disinfect': 3113, 'display': 3114, 'drive': 3115, 'fire': 3116, 'firedepartment': 3117, 'fireengine': 3118, 'fireman': 3119, 'frequency': 3120, 'gh': 3121, 'handwashing': 3122, 'hypochlorite': 3123, 'kannan': 3124, 'mgmgh': 3125, 'mixed': 3126, 'outdoor': 3127, 'outside': 3128, 'sanitise': 3129, 'sivarasu': 3130, 'sodium': 3131, 'sodiumhypochlorite': 3132, 'solution': 3133, 'sprayed': 3134, 'srirangam': 3135, 'suresh': 3136, 'truck': 3137, 'undertaken': 3138, 'van': 3139, 'collectorate': 3140, 'comply': 3141, 'either': 3142, 'email': 3143, 'grievance': 3144, 'hotel': 3145, 'identify': 3146, 'importance': 3147, 'instead': 3148, 'm': 3149, 'maheswari': 3150, 'mail': 3151, 'monitoring': 3152, 'petition': 3153, 'protect': 3154, 'pudukkottaidistrict': 3155, 'putting': 3156, 'uma': 3157, 'bathroom': 3158, 'boulevard': 3159, 'cable': 3160, 'cabletelevision': 3161, 'chathram': 3162, 'downed': 3163, 'gradually': 3164, 'inmate': 3165, 'junction': 3166, 'locker': 3167, 'natarajan': 3168, 'ngo': 3169, 'nongovernmentalorganization': 3170, 'opened': 3171, 'shutter': 3172, 'television': 3173, 'computer': 3174, 'ensured': 3175, 'parableofthegoodsamaritan': 3176, 'policeman': 3177, 'sanitary': 3178, 'saravana': 3179, 'saw': 3180, 'stood': 3181, 'tiruppur': 3182, 'traffic': 3183, 'training': 3184, 'uraiyur': 3185, 'woraiyur': 3186, 'addition': 3187, 'ailment': 3188, 'arm': 3189, 'bacteria': 3190, 'blood': 3191, 'bloodpressure': 3192, 'bonn': 3193, 'cell': 3194, 'chloride': 3195, 'consumed': 3196, 'cutting': 3197, 'diet': 3198, 'examined': 3199, 'excess': 3200, 'excessive': 3201, 'excretion': 3202, 'experimental': 3203, 'fastfood': 3204, 'frenchfries': 3205, 'fry': 3206, 'glucocorticoid': 3207, 'granulocyte': 3208, 'harmful': 3209, 'heard': 3210, 'immune': 3211, 'immunesystem': 3212, 'immunology': 3213, 'improve': 3214, 'intake': 3215, 'kidney': 3216, 'kurts': 3217, 'listeria': 3218, 'liver': 3219, 'meal': 3220, 'mouse': 3221, 'organization': 3222, 'prof': 3223, 'prove': 3224, 'raise': 3225, 'recommends': 3226, 'research': 3227, 'salt': 3228, 'sensor': 3229, 'sodiumchloride': 3230, 'spleen': 3231, 'study': 3232, 'volunteer': 3233, 'weakens': 3234, 'whitebloodcell': 3235, 'abhishek': 3236, 'abhishekbachchan': 3237, 'aditya': 3238, 'adityaroykapur': 3239, 'anilkapoor': 3240, 'anthology': 3241, 'anurag': 3242, 'anuragbasu': 3243, 'arjun': 3244, 'arjunkapoor': 3245, 'arjunsarja': 3246, 'art': 3247, 'asks': 3248, 'bachchan': 3249, 'basu': 3250, 'box': 3251, 'dangal': 3252, 'decade': 3253, 'dhawan': 3254, 'direction': 3255, 'disha': 3256, 'dutt': 3257, 'ekvillain': 3258, 'ferguson': 3259, 'fighting': 3260, 'follow': 3261, 'garden': 3262, 'hilloftara': 3263, 'htshowbiz': 3264, 'johar': 3265, 'johnabraham': 3266, 'kapur': 3267, 'karan': 3268, 'karanjohar': 3269, 'kemmu': 3270, 'khabib': 3271, 'khabibnurmagomedov': 3272, 'kitty': 3273, 'kunal': 3274, 'ludo': 3275, 'malang': 3276, 'malhotra': 3277, 'mar': 3278, 'martial': 3279, 'mixedmartialarts': 3280, 'mohit': 3281, 'mohitsuri': 3282, 'nurmagomedov': 3283, 'pacifictimezone': 3284, 'pankaj': 3285, 'pankajtripathi': 3286, 'patani': 3287, 'pdt': 3288, 'peppa': 3289, 'peppapig': 3290, 'pig': 3291, 'planb': 3292, 'pooja': 3293, 'pushed': 3294, 'rajkummar': 3295, 'rajkummarrao': 3296, 'rapidly': 3297, 'react': 3298, 'roohi': 3299, 'roy': 3300, 'russia': 3301, 'sadak': 3302, 'sanjay': 3303, 'sanjaydutt': 3304, 'sanya': 3305, 'screen': 3306, 'shaikh': 3307, 'starred': 3308, 'success': 3309, 'suri': 3310, 'sutaria': 3311, 'tara': 3312, 'thriller': 3313, 'tony': 3314, 'tonyferguson': 3315, 'tripathi': 3316, 'twin': 3317, 'varun': 3318, 'varundhawan': 3319, 'villain': 3320, 'apartment': 3321, 'bello': 3322, 'champ': 3323, 'coach': 3324, 'dutta': 3325, 'gain': 3326, 'getty': 3327, 'gettyimages': 3328, 'hail': 3329, 'infecting': 3330, 'japanese': 3331, 'japaneselanguage': 3332, 'moumita': 3333, 'mukherjee': 3334, 'reigning': 3335, 'sagarika': 3336, 'slated': 3337, 'suspension': 3338, 'armed': 3339, 'arterial': 3340, 'arunachal': 3341, 'arunachalpradesh': 3342, 'aspect': 3343, 'assam': 3344, 'bamboo': 3345, 'barricade': 3346, 'barricaded': 3347, 'barrier': 3348, 'block': 3349, 'carrying': 3350, 'chiefmedicalofficer': 3351, 'communitycentre': 3352, 'corridor': 3353, 'dhemaji': 3354, 'dhemajidistrict': 3355, 'erecting': 3356, 'ganga': 3357, 'ganges': 3358, 'golden': 3359, 'grass': 3360, 'hall': 3361, 'hemmed': 3362, 'hill': 3363, 'impacted': 3364, 'itanagar': 3365, 'jiribam': 3366, 'kameng': 3367, 'kolajan': 3368, 'laopati': 3369, 'let': 3370, 'lettercase': 3371, 'locality': 3372, 'manipur': 3373, 'matung': 3374, 'minuscule': 3375, 'nagaland': 3376, 'northeast': 3377, 'nyishi': 3378, 'nyishipeople': 3379, 'peeyang': 3380, 'refused': 3381, 'remove': 3382, 'rural': 3383, 'squad': 3384, 'thorny': 3385, 'tinsukia': 3386, 'tinsukiadistrict': 3387, 'unwanted': 3388, 'vine': 3389, 'visitor': 3390, 'westkamengdistrict': 3391, 'agreement': 3392, 'bagchi': 3393, 'bhavan': 3394, 'bhubaneswar': 3395, 'congratulated': 3396, 'enters': 3397, 'kalinga': 3398, 'lok': 3399, 'mahanadi': 3400, 'mcl': 3401, 'medialcollateralligament': 3402, 'omc': 3403, 'require': 3404, 'setting': 3405, 'seva': 3406, 'signed': 3407, 'strength': 3408, 'subroto': 3409, 'thanked': 3410, 'tripartite': 3411, 'allows': 3412, 'chronic': 3413, 'chroniccondition': 3414, 'cosmetic': 3415, 'defined': 3416, 'expedient': 3417, 'h': 3418, 'licence': 3419, 'licencee': 3420, 'located': 3421, 'memo': 3422, 'narcotic': 3423, 'physically': 3424, 'prescription': 3425, 'psychoactivedrug': 3426, 'psychotropic': 3427, 'psychotropics': 3428, 'receipt': 3429, 'regulate': 3430, 'satisfied': 3431, 'specified': 3432, 'supplied': 3433, 'bringing': 3434, 'civilsociety': 3435, 'connotation': 3436, 'dweller': 3437, 'empathy': 3438, 'epidemic': 3439, 'famine': 3440, 'figurative': 3441, 'figurativeart': 3442, 'flood': 3443, 'ganjam': 3444, 'hiv': 3445, 'holi': 3446, 'influenza': 3447, 'irony': 3448, 'konkan': 3449, 'luck': 3450, 'midnapore': 3451, 'migration': 3452, 'native': 3453, 'northern': 3454, 'paschimmedinipurdistrict': 3455, 'plague': 3456, 'ratnagiri': 3457, 'repatriation': 3458, 'resolve': 3459, 'ritual': 3460, 'scramble': 3461, 'surat': 3462, 'surrounding': 3463, 'trapped': 3464, 'trigger': 3465, 'utmost': 3466, 'uttarakhand': 3467, 'welcoming': 3468, 'aimim': 3469, 'ajit': 3470, 'allindiamajliseittehadulmuslimeen': 3471, 'army': 3472, 'attack': 3473, 'backdrop': 3474, 'bakery': 3475, 'beed': 3476, 'caning': 3477, 'clarified': 3478, 'clash': 3479, 'cm': 3480, 'common': 3481, 'cop': 3482, 'dy': 3483, 'hingoli': 3484, 'malegaon': 3485, 'mentalhealth': 3486, 'ministerofhomeaffairs': 3487, 'mufti': 3488, 'orderofcanada': 3489, 'raghuram': 3490, 'raghuramrajan': 3491, 'restrain': 3492, 'roaming': 3493, 'thedoctor': 3494, 'thrice': 3495, 'bisht': 3496, 'broken': 3497, 'bundle': 3498, 'clueless': 3499, 'cramped': 3500, 'dewan': 3501, 'dilip': 3502, 'dilipkumar': 3503, 'diwan': 3504, 'facial': 3505, 'factory': 3506, 'fake': 3507, 'flourished': 3508, 'ghaziabad': 3509, 'ghaziabaduttarpradesh': 3510, 'indiatoday': 3511, 'inside': 3512, 'investigation': 3513, 'karawal': 3514, 'lane': 3515, 'material': 3516, 'met': 3517, 'nagar': 3518, 'narrow': 3519, 'noida': 3520, 'operationcoronamasks': 3521, 'outsource': 3522, 'outsourced': 3523, 'outsourcing': 3524, 'overnight': 3525, 'piece': 3526, 'piecewise': 3527, 'pouch': 3528, 'procure': 3529, 'rai': 3530, 'rationed': 3531, 'reporter': 3532, 'sterilization': 3533, 'substandard': 3534, 'surgicalmask': 3535, 'tap': 3536, 'tip': 3537, 'tv': 3538, 'undercover': 3539, 'underground': 3540, 'unmasks': 3541, 'walked': 3542, 'worried': 3543, 'advising': 3544, 'akhilesh': 3545, 'arjuna': 3546, 'arun': 3547, 'arungovil': 3548, 'baldevrajchopra': 3549, 'bharati': 3550, 'bharti': 3551, 'chopra': 3552, 'conveyed': 3553, 'dara': 3554, 'darasingh': 3555, 'dd': 3556, 'deal': 3557, 'dear': 3558, 'doordarshan': 3559, 'draupadi': 3560, 'duryodhana': 3561, 'editor': 3562, 'epic': 3563, 'epicpoetry': 3564, 'ganguly': 3565, 'govil': 3566, 'hanuman': 3567, 'holder': 3568, 'http': 3569, 'hugely': 3570, 'identified': 3571, 'jhjw': 3572, 'ji': 3573, 'mahabharat': 3574, 'mahabharata': 3575, 'mythologcal': 3576, 'ndtvindia': 3577, 'noted': 3578, 'pandava': 3579, 'pandavas': 3580, 'paralysed': 3581, 'political': 3582, 'prakashjavdekar': 3583, 'pranasutra': 3584, 'prasar': 3585, 'prasarbharati': 3586, 'praveen': 3587, 'praveenkumar': 3588, 'qd': 3589, 'quarantining': 3590, 'raavan': 3591, 'ramanand': 3592, 'ramanandsagar': 3593, 'ramayan': 3594, 'ramayana': 3595, 'ravana': 3596, 'reduce': 3597, 'roopa': 3598, 'roopaganguly': 3599, 'sagar': 3600, 'sameer': 3601, 'sameeranjaan': 3602, 'serial': 3603, 'shashi': 3604, 'shashidigital': 3605, 'shekhar': 3606, 'sita': 3607, 'standstill': 3608, 'sunday': 3609, 'talk': 3610, 'tele': 3611, 'telecast': 3612, 'theprint': 3613, 'airindia': 3614, 'ambassador': 3615, 'arrange': 3616, 'ascertained': 3617, 'austria': 3618, 'aviv': 3619, 'baltic': 3620, 'balticsea': 3621, 'believed': 3622, 'close': 3623, 'drastic': 3624, 'evacuate': 3625, 'evacuation': 3626, 'exact': 3627, 'flew': 3628, 'flown': 3629, 'fly': 3630, 'followed': 3631, 'foreign': 3632, 'frankfurt': 3633, 'heel': 3634, 'hundred': 3635, 'igi': 3636, 'indiragandhiinternationalairport': 3637, 'israel': 3638, 'israeli': 3639, 'malka': 3640, 'passage': 3641, 'praise': 3642, 'ron': 3643, 'severely': 3644, 'tel': 3645, 'telaviv': 3646, 'thank': 3647, 'trip': 3648, 'ukraine': 3649, 'absolutely': 3650, 'accepting': 3651, 'born': 3652, 'dino': 3653, 'dinomorea': 3654, 'dinomoreafitness': 3655, 'ekta': 3656, 'ektakapoor': 3657, 'energy': 3658, 'entire': 3659, 'explains': 3660, 'father': 3661, 'greenlight': 3662, 'guideyou': 3663, 'helmet': 3664, 'hindustan': 3665, 'hindustantimes': 3666, 'introduces': 3667, 'kar': 3668, 'karisma': 3669, 'karismakapoor': 3670, 'kid': 3671, 'mentalhood': 3672, 'morea': 3673, 'mummy': 3674, 'parenting': 3675, 'preachy': 3676, 'pst': 3677, 'rarely': 3678, 'review': 3679, 'rubbish': 3680, 'single': 3681, 'sit': 3682, 'surrogacy': 3683, 'thedinomorea': 3684, 'via': 3685, 'webseries': 3686, 'aarya': 3687, 'aaryababbar': 3688, 'adhyayan': 3689, 'adorable': 3690, 'angel': 3691, 'arrived': 3692, 'atleast': 3693, 'babbar': 3694, 'baby': 3695, 'babyboy': 3696, 'balika': 3697, 'balikavadhu': 3698, 'beautiful': 3699, 'believe': 3700, 'boy': 3701, 'brighten': 3702, 'chota': 3703, 'current': 3704, 'doom': 3705, 'genuinely': 3706, 'gloom': 3707, 'im': 3708, 'knot': 3709, 'lovestory': 3710, 'mehta': 3711, 'mumtaz': 3712, 'munchkin': 3713, 'nirali': 3714, 'patch': 3715, 'purpose': 3716, 'rough': 3717, 'ruslaan': 3718, 'story': 3719, 'super': 3720, 'think': 3721, 'vadhu': 3722, 'wife': 3723, 'zara': 3724, 'agrees': 3725, 'amalendu': 3726, 'banchbo': 3727, 'chowdhury': 3728, 'complex': 3729, 'coping': 3730, 'dc': 3731, 'dress': 3732, 'fulldress': 3733, 'garia': 3734, 'geriatric': 3735, 'geriatrician': 3736, 'geriatrics': 3737, 'grounded': 3738, 'healing': 3739, 'height': 3740, 'helplines': 3741, 'kolkatapoliceforce': 3742, 'little': 3743, 'ocean': 3744, 'odd': 3745, 'pal': 3746, 'programme': 3747, 'pronam': 3748, 'submission': 3749, 'washington': 3750, 'washingtondc': 3751, 'allindiatrinamoolcongress': 3752, 'arvind': 3753, 'arvindkejriwal': 3754, 'assured': 3755, 'bengali': 3756, 'bengalilanguage': 3757, 'brien': 3758, 'confusion': 3759, 'derek': 3760, 'educate': 3761, 'emerged': 3762, 'function': 3763, 'handkerchief': 3764, 'hoarding': 3765, 'hollerado': 3766, 'kejriwal': 3767, 'lieutenant': 3768, 'lieutenantgovernor': 3769, 'masked': 3770, 'mundra': 3771, 'numbered': 3772, 'pacing': 3773, 'paint': 3774, 'politician': 3775, 'roadside': 3776, 'saree': 3777, 'sari': 3778, 'similarly': 3779, 'spooked': 3780, 'square': 3781, 'stopping': 3782, 'trademark': 3783, 'trinamool': 3784, 'white': 3785, 'word': 3786, 'anti': 3787, 'bench': 3788, 'bombay': 3789, 'bombayhighcourt': 3790, 'collect': 3791, 'court': 3792, 'dosage': 3793, 'enforced': 3794, 'filed': 3795, 'hearing': 3796, 'highcourtofjustice': 3797, 'intercityrail': 3798, 'justice': 3799, 'plea': 3800, 'representation': 3801, 'retroviral': 3802, 'sangli': 3803, 'satara': 3804, 'sought': 3805, 'tated': 3806, 'tell': 3807, 'therapy': 3808, 'unable': 3809, 'estimate': 3810, 'forecast': 3811, 'mass': 3812, 'polled': 3813, 'ranged': 3814, 'revised': 3815, 'spur': 3816, 'unitedstatesdepartmentoflabor': 3817, 'usweekly': 3818, 'ama': 3819, 'americanmotorcyclistassociation': 3820, 'applicable': 3821, 'expires': 3822, 'extends': 3823, 'extension': 3824, 'huawei': 3825, 'madhav': 3826, 'note': 3827, 'realme': 3828, 'sheth': 3829, 'smartphone': 3830, 'smartphones': 3831, 'smartwatch': 3832, 'visit': 3833, 'warranty': 3834, 'wearable': 3835, 'wearablecomputer': 3836, 'whose': 3837, 'asian': 3838, 'boost': 3839, 'currency': 3840, 'foreignexchangemarket': 3841, 'forex': 3842, 'gudi': 3843, 'gudipadwa': 3844, 'hdfc': 3845, 'light': 3846, 'live': 3847, 'padwa': 3848, 'paisa': 3849, 'pcg': 3850, 'present': 3851, 'provisional': 3852, 'raceandethnicityintheunitedstatescensus': 3853, 'rally': 3854, 'revival': 3855, 'settle': 3856, 'settled': 3857, 'strategy': 3858, 'vk': 3859, 'welcomed': 3860, 'analyst': 3861, 'augur': 3862, 'beauty': 3863, 'britannia': 3864, 'crude': 3865, 'dabur': 3866, 'dama': 3867, 'differentiating': 3868, 'emami': 3869, 'fallowdeer': 3870, 'fewer': 3871, 'freshener': 3872, 'hindustanunilever': 3873, 'household': 3874, 'implication': 3875, 'itc': 3876, 'itcentertainment': 3877, 'labour': 3878, 'larger': 3879, 'lock': 3880, 'margin': 3881, 'marico': 3882, 'miss': 3883, 'nestl': 3884, 'nestle': 3885, 'nifty': 3886, 'organised': 3887, 'packaged': 3888, 'priced': 3889, 'segment': 3890, 'shortage': 3891, 'spurt': 3892, 'strategise': 3893, 'topline': 3894, 'trading': 3895, 'unilever': 3896, 'weigh': 3897, 'beginning': 3898, 'belief': 3899, 'circumstance': 3900, 'created': 3901, 'cricketaustralia': 3902, 'cricketing': 3903, 'england': 3904, 'host': 3905, 'hosted': 3906, 'kevin': 3907, 'mcg': 3908, 'melbourne': 3909, 'melbournecricketground': 3910, 'michael': 3911, 'michaelvaughan': 3912, 'none': 3913, 'november': 3914, 'obviously': 3915, 'pre': 3916, 'qualifier': 3917, 'successfully': 3918, 'allocate': 3919, 'allocated': 3920, 'allocating': 3921, 'anand': 3922, 'govinda': 3923, 'indicated': 3924, 'lad': 3925, 'losangelesdodgers': 3926, 'mayiladuthurai': 3927, 'nagapattinam': 3928, 'nagapattinamdistrict': 3929, 'presented': 3930, 'procuring': 3931, 'purchasing': 3932, 'ramalingam': 3933, 'selvaraj': 3934, 'thanjavurdistrict': 3935, 'treating': 3936, 'bi': 3937, 'dangerous': 3938, 'disobedience': 3939, 'duo': 3940, 'hussein': 3941, 'indianpenalcode': 3942, 'khathija': 3943, 'malignant': 3944, 'malur': 3945, 'masthan': 3946, 'mohammed': 3947, 'negligently': 3948, 'penal': 3949, 'promulgated': 3950, 'roamed': 3951, 'suyab': 3952, 'thirthahalli': 3953, 'tirthahalli': 3954, 'violate': 3955, 'visiting': 3956, 'aircraft': 3957, 'bharatelectronicslimited': 3958, 'bodysuits': 3959, 'continuing': 3960, 'creates': 3961, 'defence': 3962, 'defenceminister': 3963, 'defenceresearchanddevelopmentorganisation': 3964, 'drdo': 3965, 'electronics': 3966, 'friendly': 3967, 'hindon': 3968, 'iaf': 3969, 'indianairforce': 3970, 'indiannavy': 3971, 'jaisalmer': 3972, 'jodhpur': 3973, 'leh': 3974, 'litre': 3975, 'maldives': 3976, 'manesar': 3977, 'military': 3978, 'navy': 3979, 'nodal': 3980, 'ordnance': 3981, 'ordnancefactoriesboard': 3982, 'rajnath': 3983, 'rajnathsingh': 3984, 'sanitizer': 3985, 'selfdefense': 3986, 'ship': 3987, 'standby': 3988, 'budge': 3989, 'budgebudge': 3990, 'durgapur': 3991, 'enjoys': 3992, 'improving': 3993, 'increase': 3994, 'indianoilcorporation': 3995, 'internationalolympiccommittee': 3996, 'ioc': 3997, 'kalyani': 3998, 'kalyaniwestbengal': 3999, 'liquefiedpetroleumgas': 4000, 'lpg': 4001, 'marketshare': 4002, 'optimising': 4003, 'owned': 4004, 'plant': 4005, 'refinery': 4006, 'siliguri': 4007, 'unnecessary': 4008, 'witnessing': 4009, 'yield': 4010, 'delhimetro': 4011, 'delhimetrorailcorporation': 4012, 'dmrc': 4013, 'hereby': 4014, 'metro': 4015, 'rail': 4016, 'tenure': 4017, 'annam': 4018, 'ass': 4019, 'assessing': 4020, 'bhargab': 4021, 'chitra': 4022, 'chitragupta': 4023, 'civilengineering': 4024, 'effectiveness': 4025, 'engineering': 4026, 'explores': 4027, 'formulate': 4028, 'indianinstituteoftechnologykharagpur': 4029, 'input': 4030, 'justify': 4031, 'kharagpur': 4032, 'minimizing': 4033, 'perception': 4034, 'perspective': 4035, 'preparedness': 4036, 'questionnaire': 4037, 'researcher': 4038, 'scenario': 4039, 'strategic': 4040, 'successive': 4041, 'town': 4042, 'understand': 4043, 'updated': 4044, 'vietnam': 4045, 'australian': 4046, 'backyard': 4047, 'battingorder': 4048, 'became': 4049, 'career': 4050, 'century': 4051, 'consolidated': 4052, 'cricketworldcup': 4053, 'defeating': 4054, 'edition': 4055, 'explosive': 4056, 'franchise': 4057, 'happening': 4058, 'kevinpietersen': 4059, 'lanka': 4060, 'lifted': 4061, 'lowest': 4062, 'magic': 4063, 'mumbaiindians': 4064, 'opener': 4065, 'picked': 4066, 'pietersen': 4067, 'ponting': 4068, 'position': 4069, 'ricky': 4070, 'rickyponting': 4071, 'saddest': 4072, 'score': 4073, 'spent': 4074, 'srilanka': 4075, 'theaustralian': 4076, 'title': 4077, 'tournament': 4078, 'angelo': 4079, 'author': 4080, 'avail': 4081, 'baking': 4082, 'blanched': 4083, 'blanching': 4084, 'blender': 4085, 'bread': 4086, 'chef': 4087, 'cookbook': 4088, 'dana': 4089, 'dietician': 4090, 'dietitian': 4091, 'dish': 4092, 'dished': 4093, 'egg': 4094, 'extra': 4095, 'freezer': 4096, 'frittata': 4097, 'frozen': 4098, 'genius': 4099, 'glossaryofpolicydebateterms': 4100, 'great': 4101, 'harris': 4102, 'healthy': 4103, 'instant': 4104, 'lauren': 4105, 'layer': 4106, 'oven': 4107, 'pincus': 4108, 'pot': 4109, 'precooked': 4110, 'prep': 4111, 'protein': 4112, 'quiche': 4113, 'rd': 4114, 'revealed': 4115, 'sandwich': 4116, 'separately': 4117, 'sheet': 4118, 'shorten': 4119, 'smoothie': 4120, 'smoothy': 4121, 'soup': 4122, 'spoiling': 4123, 'stacking': 4124, 'sticking': 4125, 'suggests': 4126, 'thebreakfastclub': 4127, 'thinking': 4128, 'trick': 4129, 'wrapping': 4130, 'yogurt': 4131, 'anyone': 4132, 'arecaceae': 4133, 'associated': 4134, 'associatedpress': 4135, 'attendee': 4136, 'austin': 4137, 'austintexas': 4138, 'belong': 4139, 'borak': 4140, 'comfort': 4141, 'conferencing': 4142, 'donating': 4143, 'happyhour': 4144, 'hosting': 4145, 'internet': 4146, 'interview': 4147, 'localfood': 4148, 'meditation': 4149, 'ordinary': 4150, 'palm': 4151, 'pneumonia': 4152, 'respite': 4153, 'reverseflash': 4154, 'separate': 4155, 'smallbusiness': 4156, 'staunch': 4157, 'texas': 4158, 'uncertainty': 4159, 'woodiwiss': 4160, 'yoga': 4161, 'zoom': 4162, 'absent': 4163, 'aiims': 4164, 'allindiainstitutesofmedicalsciences': 4165, 'amenity': 4166, 'arranged': 4167, 'availed': 4168, 'battle': 4169, 'biometric': 4170, 'biometrics': 4171, 'commute': 4172, 'deduct': 4173, 'delayed': 4174, 'emi': 4175, 'especially': 4176, 'hurdle': 4177, 'mammoth': 4178, 'meted': 4179, 'ministryofhomeaffairs': 4180, 'proper': 4181, 'stigma': 4182, 'awanish': 4183, 'awasthi': 4184, 'booking': 4185, 'challans': 4186, 'collected': 4187, 'fine': 4188, 'firstinformationreport': 4189, 'implement': 4190, 'imposing': 4191, 'internationalparalympiccommittee': 4192, 'ipc': 4193, 'uttarpradeshpolice': 4194, 'violaters': 4195, 'connection': 4196, 'cover': 4197, 'entitled': 4198, 'give': 4199, 'kg': 4200, 'mantri': 4201, 'particularly': 4202, 'pradhan': 4203, 'ruralarea': 4204, 'ujjwala': 4205, 'abide': 4206, 'alex': 4207, 'app': 4208, 'arnold': 4209, 'arnoldschwarzenegger': 4210, 'arrest': 4211, 'bieber': 4212, 'blogpost': 4213, 'blow': 4214, 'carelessness': 4215, 'celebs': 4216, 'chairman': 4217, 'dealt': 4218, 'employed': 4219, 'justin': 4220, 'justinbieber': 4221, 'mahindra': 4222, 'mahindragroup': 4223, 'onlinevideoplatform': 4224, 'prevailing': 4225, 'rihanna': 4226, 'schwarzenegger': 4227, 'sharing': 4228, 'thewho': 4229, 'tycoon': 4230, 'zhu': 4231, 'accountability': 4232, 'charger': 4233, 'gesture': 4234, 'grappling': 4235, 'headset': 4236, 'honor': 4237, 'prokaryoticsmallribosomalsubunit': 4238, 'reportedly': 4239, 'seamless': 4240, 'serialcode': 4241, 'smartwatches': 4242, 'temporarily': 4243, 'aashiqui': 4244, 'acclaimed': 4245, 'aliaabhatt': 4246, 'anuragkashyap': 4247, 'anushka': 4248, 'anushkasharma': 4249, 'brutality': 4250, 'caption': 4251, 'celebrity': 4252, 'chadha': 4253, 'educated': 4254, 'emojis': 4255, 'helmed': 4256, 'hug': 4257, 'initially': 4258, 'kamra': 4259, 'kashyap': 4260, 'kritika': 4261, 'left': 4262, 'manta': 4263, 'mantaecuador': 4264, 'movie': 4265, 'policebrutality': 4266, 'ray': 4267, 'richachadda': 4268, 'saraansh': 4269, 'scared': 4270, 'sitting': 4271, 'throwback': 4272, 'vision': 4273, 'xrayvision': 4274, 'zakhm': 4275, 'athlete': 4276, 'athletics': 4277, 'bergamasco': 4278, 'bfi': 4279, 'boxing': 4280, 'britishfilminstitute': 4281, 'committed': 4282, 'continuity': 4283, 'deferred': 4284, 'elena': 4285, 'georgia': 4286, 'georgian': 4287, 'graham': 4288, 'grahamreid': 4289, 'greco': 4290, 'grecoromanwrestling': 4291, 'hockey': 4292, 'hockeyindia': 4293, 'import': 4294, 'job': 4295, 'know': 4296, 'longer': 4297, 'marijne': 4298, 'mega': 4299, 'norman': 4300, 'olympicgames': 4301, 'olympics': 4302, 'pistol': 4303, 'prasood': 4304, 'raging': 4305, 'reid': 4306, 'rifle': 4307, 'roman': 4308, 'sai': 4309, 'santiago': 4310, 'shako': 4311, 'shooting': 4312, 'shootingsports': 4313, 'sjoerd': 4314, 'spoken': 4315, 'sportofathletics': 4316, 'sportsauthority': 4317, 'thanks': 4318, 'unfinished': 4319, 'vn': 4320, 'wfi': 4321, 'wrestling': 4322, 'advance': 4323, 'ailing': 4324, 'amend': 4325, 'broadly': 4326, 'compensation': 4327, 'debit': 4328, 'debitcard': 4329, 'dialecticalbehaviortherapy': 4330, 'disability': 4331, 'divyangs': 4332, 'epfo': 4333, 'financially': 4334, 'healthprofessional': 4335, 'pensioner': 4336, 'refundable': 4337, 'regulation': 4338, 'shield': 4339, 'ujjawala': 4340, 'upto': 4341, 'wager': 4342, 'whichever': 4343, 'worth': 4344, 'yojna': 4345, 'accepted': 4346, 'adarsh': 4347, 'bajaj': 4348, 'bigbazaar': 4349, 'clg': 4350, 'connect': 4351, 'convinced': 4352, 'delivering': 4353, 'edible': 4354, 'grofers': 4355, 'hawker': 4356, 'hesitation': 4357, 'interval': 4358, 'jaipur': 4359, 'kirana': 4360, 'kiranagharana': 4361, 'lessened': 4362, 'liaison': 4363, 'mart': 4364, 'motivated': 4365, 'permit': 4366, 'popularize': 4367, 'rahul': 4368, 'reduced': 4369, 'regular': 4370, 'reliance': 4371, 'representative': 4372, 'sanganer': 4373, 'sending': 4374, 'tie': 4375, 'tied': 4376, 'venture': 4377, 'adopt': 4378, 'agreed': 4379, 'airtel': 4380, 'amazonvideo': 4381, 'au': 4382, 'bhartiairtel': 4383, 'bitrates': 4384, 'burden': 4385, 'cellular': 4386, 'cellularnetwork': 4387, 'choose': 4388, 'coai': 4389, 'com': 4390, 'connectcoai': 4391, 'content': 4392, 'daylockdown': 4393, 'defaulting': 4394, 'digitalhealth': 4395, 'distanceeducation': 4396, 'exceptional': 4397, 'fightcovid': 4398, 'google': 4399, 'hd': 4400, 'hotstar': 4401, 'idea': 4402, 'immediately': 4403, 'indiafightscoronavirus': 4404, 'infra': 4405, 'jio': 4406, 'letsfightcovid': 4407, 'mathews': 4408, 'otts': 4409, 'pp': 4410, 'qb': 4411, 'remote': 4412, 'represents': 4413, 'responsibly': 4414, 'robustness': 4415, 'robuststatistics': 4416, 'sd': 4417, 'sony': 4418, 'streaming': 4419, 'switching': 4420, 'telcom': 4421, 'telecom': 4422, 'telecommunication': 4423, 'telecommunicationsnetwork': 4424, 'trivial': 4425, 'ultra': 4426, 'unanimously': 4427, 'usage': 4428, 'viacom': 4429, 'vodafone': 4430, 'weareinthistogether': 4431, 'accelerating': 4432, 'ball': 4433, 'boult': 4434, 'conference': 4435, 'conferencecall': 4436, 'crossed': 4437, 'filetransferprotocol': 4438, 'finger': 4439, 'ftp': 4440, 'governing': 4441, 'happen': 4442, 'hopeful': 4443, 'pitch': 4444, 'sourav': 4445, 'souravganguly': 4446, 'swingbowling': 4447, 'swinging': 4448, 'thing': 4449, 'trent': 4450, 'trentboult': 4451, 'aayog': 4452, 'chairperson': 4453, 'necessitated': 4454, 'niti': 4455, 'nitiaayog': 4456, 'primeminister': 4457, 'rajiv': 4458, 'resultant': 4459, 'shape': 4460, 'speaking': 4461, 'st': 4462, 'vice': 4463, 'america': 4464, 'analysing': 4465, 'arabian': 4466, 'arabianpeninsula': 4467, 'artificial': 4468, 'artificialintelligence': 4469, 'canada': 4470, 'celsius': 4471, 'collaborative': 4472, 'debate': 4473, 'degree': 4474, 'epicentre': 4475, 'hemisphere': 4476, 'humid': 4477, 'humidity': 4478, 'hypothesize': 4479, 'intelligence': 4480, 'massachusetts': 4481, 'massachusettsinstituteoftechnology': 4482, 'mers': 4483, 'middleeastrespiratorysyndrome': 4484, 'mit': 4485, 'ncov': 4486, 'northamerica': 4487, 'northernhemisphere': 4488, 'observed': 4489, 'paper': 4490, 'peninsula': 4491, 'rekindle': 4492, 'slower': 4493, 'southern': 4494, 'southernhemisphere': 4495, 'speculation': 4496, 'studied': 4497, 'summer': 4498, 'temperature': 4499, 'thedoctors': 4500, 'thelimited': 4501, 'tropical': 4502, 'warm': 4503, 'british': 4504, 'daughter': 4505, 'fix': 4506, 'indirect': 4507, 'sealed': 4508, 'theresidents': 4509, 'traveller': 4510, 'blocked': 4511, 'designated': 4512, 'domalguda': 4513, 'doubled': 4514, 'gripped': 4515, 'leaving': 4516, 'neighborhood': 4517, 'neighboring': 4518, 'outsider': 4519, 'past': 4520, 'raising': 4521, 'shifted': 4522, 'stone': 4523, 'tree': 4524, 'asha': 4525, 'aside': 4526, 'cushion': 4527, 'garib': 4528, 'karamcharis': 4529, 'menace': 4530, 'safai': 4531, 'specialist': 4532, 'wastecollector': 4533, 'wellness': 4534, 'adani': 4535, 'capitalgood': 4536, 'cea': 4537, 'clearing': 4538, 'depending': 4539, 'discovered': 4540, 'environment': 4541, 'exceeds': 4542, 'frenchalternativeenergiesandatomicenergycommission': 4543, 'generated': 4544, 'generating': 4545, 'generation': 4546, 'generator': 4547, 'gigawatts': 4548, 'iex': 4549, 'industrial': 4550, 'nhpc': 4551, 'ntpc': 4552, 'ntpclimited': 4553, 'plummet': 4554, 'power': 4555, 'price': 4556, 'sell': 4557, 'tata': 4558, 'tatapower': 4559, 'utility': 4560, 'watt': 4561, 'worsen': 4562, 'backup': 4563, 'communicationprotocol': 4564, 'constituted': 4565, 'constituting': 4566, 'deployment': 4567, 'emerge': 4568, 'examining': 4569, 'forwarded': 4570, 'human': 4571, 'humanresourcemanagement': 4572, 'machine': 4573, 'management': 4574, 'manpower': 4575, 'memorandum': 4576, 'mobilisng': 4577, 'philosophypoliticsandeconomics': 4578, 'ppe': 4579, 'protocol': 4580, 'requisite': 4581, 'respond': 4582, 'sub': 4583, 'supervised': 4584, 'worked': 4585, 'beat': 4586, 'dancing': 4587, 'engage': 4588, 'engaging': 4589, 'informative': 4590, 'misinformation': 4591, 'quirky': 4592, 'relying': 4593, 'rumour': 4594, 'youngster': 4595, 'advocate': 4596, 'advocategeneral': 4597, 'affidavit': 4598, 'bra': 4599, 'exposed': 4600, 'goans': 4601, 'ill': 4602, 'listofstartrekcharacters': 4603, 'logistics': 4604, 'mechanism': 4605, 'opposition': 4606, 'petitioner': 4607, 'pleading': 4608, 'poverty': 4609, 'sa': 4610, 'scarcity': 4611, 'short': 4612, 'sonak': 4613, 'staffed': 4614, 'struggle': 4615, 'thevillagesflorida': 4616, 'undersigned': 4617, 'afford': 4618, 'awry': 4619, 'birthday': 4620, 'california': 4621, 'chung': 4622, 'chunghannie': 4623, 'fianc': 4624, 'fiance': 4625, 'hannah': 4626, 'infiltrait': 4627, 'jsn': 4628, 'netizen': 4629, 'netizens': 4630, 'posting': 4631, 'prompted': 4632, 'sing': 4633, 'southerncalifornia': 4634, 'surprise': 4635, 'ab': 4636, 'age': 4637, 'antilockbrakingsystem': 4638, 'demise': 4639, 'elderly': 4640, 'hovering': 4641, 'newsouthwales': 4642, 'reached': 4643, 'risen': 4644, 'touched': 4645, 'victoria': 4646, 'wale': 4647, 'additonal': 4648, 'breathed': 4649, 'busy': 4650, 'changed': 4651, 'clear': 4652, 'combatstressreaction': 4653, 'cyberabad': 4654, 'forefront': 4655, 'issuing': 4656, 'listen': 4657, 'listening': 4658, 'madhapur': 4659, 'manning': 4660, 'policecommissioner': 4661, 'reminder': 4662, 'seal': 4663, 'serious': 4664, 'stark': 4665, 'tension': 4666, 'threat': 4667, 'unwilling': 4668, 'venkateshwarlu': 4669, 'bandhopadhyaya': 4670, 'candidate': 4671, 'commendable': 4672, 'commitment': 4673, 'doctorofphilosophy': 4674, 'drrpnishank': 4675, 'educational': 4676, 'eminent': 4677, 'empower': 4678, 'gate': 4679, 'graduateaptitudetestinengineering': 4680, 'guide': 4681, 'hrd': 4682, 'increasing': 4683, 'masterofengineering': 4684, 'mtech': 4685, 'newinternationalversion': 4686, 'nishank': 4687, 'niv': 4688, 'phd': 4689, 'pokhriyal': 4690, 'ramesh': 4691, 'true': 4692, 'verification': 4693, 'affiliated': 4694, 'bachelor': 4695, 'bachelorofcommerce': 4696, 'bcom': 4697, 'commence': 4698, 'conducted': 4699, 'examination': 4700, 'idol': 4701, 'msbshse': 4702, 'prescribed': 4703, 'ug': 4704, 'undergraduate': 4705, 'universityofmumbai': 4706, 'varsity': 4707, 'hike': 4708, 'mgnrega': 4709, 'nrega': 4710, 'slew': 4711, 'aluminium': 4712, 'aluminum': 4713, 'attached': 4714, 'attending': 4715, 'automatic': 4716, 'bakshi': 4717, 'bio': 4718, 'biodegradablewaste': 4719, 'calm': 4720, 'casualty': 4721, 'chime': 4722, 'cleaned': 4723, 'cleansing': 4724, 'climate': 4725, 'composure': 4726, 'contrast': 4727, 'count': 4728, 'disposal': 4729, 'dispose': 4730, 'ent': 4731, 'enter': 4732, 'entrance': 4733, 'exposure': 4734, 'glucose': 4735, 'gmsh': 4736, 'honey': 4737, 'intern': 4738, 'internal': 4739, 'internalmedicine': 4740, 'jaswinder': 4741, 'kit': 4742, 'lost': 4743, 'multi': 4744, 'nursing': 4745, 'otorhinolaryngology': 4746, 'particular': 4747, 'path': 4748, 'perpetual': 4749, 'preparing': 4750, 'presumptive': 4751, 'satbir': 4752, 'sawhney': 4753, 'smile': 4754, 'starkly': 4755, 'thermometer': 4756, 'tubularbells': 4757, 'waste': 4758, 'acute': 4759, 'affordable': 4760, 'akash': 4761, 'ambu': 4762, 'amidst': 4763, 'anesthesia': 4764, 'anesthesiology': 4765, 'artificialventilation': 4766, 'attendant': 4767, 'bag': 4768, 'bagvalvemask': 4769, 'becomes': 4770, 'brookings': 4771, 'brookingsinstitution': 4772, 'chauhan': 4773, 'concentrated': 4774, 'consisting': 4775, 'dhar': 4776, 'engineer': 4777, 'enough': 4778, 'error': 4779, 'eshan': 4780, 'exorbitant': 4781, 'exposing': 4782, 'fortify': 4783, 'furthermore': 4784, 'gaddamwar': 4785, 'geographicalindicationsandtraditionalspecialitiesintheeuropeanunion': 4786, 'gyrodrive': 4787, 'humanerror': 4788, 'impossible': 4789, 'injury': 4790, 'labelled': 4791, 'lung': 4792, 'majortrauma': 4793, 'manual': 4794, 'manually': 4795, 'mechanic': 4796, 'name': 4797, 'often': 4798, 'operated': 4799, 'patented': 4800, 'pgi': 4801, 'pgimer': 4802, 'pumping': 4803, 'rajeev': 4804, 'rc': 4805, 'receiving': 4806, 'rely': 4807, 'respiration': 4808, 'tank': 4809, 'theautomatic': 4810, 'trauma': 4811, 'ventilating': 4812, 'ventilation': 4813, 'akil': 4814, 'discus': 4815, 'elaborating': 4816, 'excluded': 4817, 'gurgaon': 4818, 'gurgaondistrict': 4819, 'handling': 4820, 'helper': 4821, 'maintainence': 4822, 'mobilealabama': 4823, 'mohammad': 4824, 'rwas': 4825, 'appreciated': 4826, 'bipin': 4827, 'chaired': 4828, 'civilian': 4829, 'evacuating': 4830, 'indianarmy': 4831, 'mod': 4832, 'psus': 4833, 'rawat': 4834, 'advise': 4835, 'animal': 4836, 'breeding': 4837, 'caution': 4838, 'chloroxylenol': 4839, 'dettol': 4840, 'dogtraining': 4841, 'hong': 4842, 'hongkong': 4843, 'husbandry': 4844, 'independent': 4845, 'indoor': 4846, 'isaacnewton': 4847, 'kissing': 4848, 'kong': 4849, 'lover': 4850, 'mouth': 4851, 'newton': 4852, 'pet': 4853, 'pose': 4854, 'roof': 4855, 'rooftop': 4856, 'sidhu': 4857, 'suggest': 4858, 'tick': 4859, 'trainer': 4860, 'veterinary': 4861, 'veterinarymedicine': 4862, 'adapting': 4863, 'collaboration': 4864, 'confirming': 4865, 'contingency': 4866, 'contingencyplan': 4867, 'efficient': 4868, 'embedded': 4869, 'emphasising': 4870, 'evolves': 4871, 'experienced': 4872, 'freelancer': 4873, 'frequent': 4874, 'gearing': 4875, 'gig': 4876, 'highlight': 4877, 'indeed': 4878, 'psychologicalresilience': 4879, 'recruitment': 4880, 'resilience': 4881, 'sizable': 4882, 'smbs': 4883, 'surveyed': 4884, 'technological': 4885, 'temporarywork': 4886, 'workforce': 4887, 'accomodating': 4888, 'aggregator': 4889, 'autopsy': 4890, 'bhaskar': 4891, 'brahmavara': 4892, 'chikkaballapur': 4893, 'cold': 4894, 'commits': 4895, 'counseling': 4896, 'dakshina': 4897, 'dakshinakannada': 4898, 'davanagere': 4899, 'dharwad': 4900, 'diary': 4901, 'earmarked': 4902, 'electronic': 4903, 'enablad': 4904, 'fodder': 4905, 'gasoline': 4906, 'gopalakrishna': 4907, 'gulbarga': 4908, 'hanging': 4909, 'kalaburagi': 4910, 'kannada': 4911, 'kodagu': 4912, 'kodagudistrict': 4913, 'laworder': 4914, 'lodge': 4915, 'manipal': 4916, 'mediapersons': 4917, 'mysore': 4918, 'mysuru': 4919, 'petrol': 4920, 'postmortem': 4921, 'print': 4922, 'psychotherapy': 4923, 'storage': 4924, 'suicide': 4925, 'suicidenote': 4926, 'tourist': 4927, 'transportation': 4928, 'udupi': 4929, 'udupidistrict': 4930, 'uppoor': 4931, 'uttara': 4932, 'uttarakannada': 4933, 'warehousing': 4934, 'asserting': 4935, 'communist': 4936, 'communistpartyofchina': 4937, 'congressman': 4938, 'divingregulator': 4939, 'frank': 4940, 'ghebreyesus': 4941, 'greg': 4942, 'jinping': 4943, 'marco': 4944, 'marcorubio': 4945, 'mccaul': 4946, 'michaelmccaul': 4947, 'monumental': 4948, 'mouthpiece': 4949, 'propaganda': 4950, 'province': 4951, 'ranking': 4952, 'rankingmember': 4953, 'republican': 4954, 'republicanparty': 4955, 'rubio': 4956, 'senator': 4957, 'sided': 4958, 'steube': 4959, 'un': 4960, 'unfair': 4961, 'unhappy': 4962, 'unitednations': 4963, 'unitedstateshousecommitteeonforeignaffairs': 4964, 'whitehouse': 4965, 'xi': 4966, 'xijinping': 4967, 'accommodating': 4968, 'anticipating': 4969, 'bareilly': 4970, 'biggovernment': 4971, 'built': 4972, 'ce': 4973, 'census': 4974, 'chawal': 4975, 'closely': 4976, 'comprising': 4977, 'countless': 4978, 'damoh': 4979, 'deepak': 4980, 'diya': 4981, 'economicmigrant': 4982, 'electricity': 4983, 'flee': 4984, 'geared': 4985, 'gorakhpur': 4986, 'harrowing': 4987, 'hutment': 4988, 'intra': 4989, 'journey': 4990, 'karz': 4991, 'lacking': 4992, 'limbo': 4993, 'lokur': 4994, 'madan': 4995, 'mainly': 4996, 'managed': 4997, 'manuallabour': 4998, 'mile': 4999, 'ostensibly': 5000, 'overcrowded': 5001, 'peculiar': 5002, 'possibly': 5003, 'practically': 5004, 'raghunandan': 5005, 'ramsinghi': 5006, 'saharsa': 5007, 'sarvodaya': 5008, 'scientist': 5009, 'sociologist': 5010, 'srivastava': 5011, 'sum': 5012, 'supreme': 5013, 'supremecourtoftheunitedstates': 5014, 'thali': 5015, 'tile': 5016, 'underwent': 5017, 'unveils': 5018, 'urbanisation': 5019, 'urbanization': 5020, 'utilised': 5021, 'activated': 5022, 'advisory': 5023, 'allocation': 5024, 'assigning': 5025, 'backhaul': 5026, 'businesscontinuity': 5027, 'certain': 5028, 'classified': 5029, 'confident': 5030, 'datacenter': 5031, 'enable': 5032, 'enabled': 5033, 'flagship': 5034, 'handle': 5035, 'ltd': 5036, 'minimal': 5037, 'mitigation': 5038, 'nature': 5039, 'pattern': 5040, 'pending': 5041, 'realises': 5042, 'remains': 5043, 'spectrum': 5044, 'undisrupted': 5045, 'uptime': 5046, 'vil': 5047, 'villarrealcf': 5048, 'voice': 5049, 'wide': 5050, 'xiaomi': 5051, 'answering': 5052, 'backbone': 5053, 'bamrah': 5054, 'bapio': 5055, 'boris': 5056, 'borisjohnson': 5057, 'britishscienceassociation': 5058, 'chair': 5059, 'chancellor': 5060, 'dead': 5061, 'discriminatory': 5062, 'downing': 5063, 'downingstreet': 5064, 'easter': 5065, 'funded': 5066, 'governmentoftheunitedkingdom': 5067, 'ihs': 5068, 'indianahistoricalsociety': 5069, 'j': 5070, 'johnson': 5071, 'kingdom': 5072, 'lobbying': 5073, 'nationalhealthservice': 5074, 'nationalinsurance': 5075, 'never': 5076, 'nh': 5077, 'origin': 5078, 'overseas': 5079, 'overseasfilipinos': 5080, 'overstrained': 5081, 'parag': 5082, 'pension': 5083, 'physician': 5084, 'retired': 5085, 'singhal': 5086, 'strain': 5087, 'superannuation': 5088, 'surcharge': 5089, 'travelvisa': 5090, 'unitedkingdom': 5091, 'visa': 5092, 'bearing': 5093, 'brunt': 5094, 'owes': 5095, 'rahulgandhi': 5096, 'comovingandproperdistances': 5097, 'countrywide': 5098, 'detail': 5099, 'hasten': 5100, 'humanitarian': 5101, 'jharkhand': 5102, 'ordinarily': 5103, 'so': 5104, 'urging': 5105, 'writes': 5106, 'accordingly': 5107, 'bihari': 5108, 'corporatesocialresponsibility': 5109, 'csr': 5110, 'dhal': 5111, 'fortnight': 5112, 'functional': 5113, 'kiims': 5114, 'kims': 5115, 'largest': 5116, 'md': 5117, 'mou': 5118, 'nikunja': 5119, 'panda': 5120, 'planned': 5121, 'secretaryofstateforhealthandsocialcare': 5122, 'synergy': 5123, 'vyneel': 5124, 'charging': 5125, 'hindi': 5126, 'hussain': 5127, 'imran': 5128, 'mrp': 5129, 'popularrepublicanmovement': 5130, 'shopkeeper': 5131, 'zonal': 5132, 'assume': 5133, 'automobile': 5134, 'conclude': 5135, 'considerable': 5136, 'considers': 5137, 'countermeasure': 5138, 'creating': 5139, 'deteriorating': 5140, 'downgrade': 5141, 'downgrading': 5142, 'downside': 5143, 'duration': 5144, 'emea': 5145, 'esg': 5146, 'europethemiddleeastandafrica': 5147, 'falling': 5148, 'incidence': 5149, 'jaguar': 5150, 'jaguarlandrover': 5151, 'land': 5152, 'magnitude': 5153, 'marketsentiment': 5154, 'meaningfully': 5155, 'moody': 5156, 'motor': 5157, 'nielsenratings': 5158, 'oems': 5159, 'originalequipmentmanufacturer': 5160, 'outlook': 5161, 'pace': 5162, 'profile': 5163, 'rationale': 5164, 'reasonable': 5165, 'recovery': 5166, 'rover': 5167, 'sentiment': 5168, 'severity': 5169, 'tatamotors': 5170, 'theoutlook': 5171, 'unsecured': 5172, 'unsecureddebt': 5173, 'warns': 5174, 'weakness': 5175, 'widening': 5176, 'compete': 5177, 'kilometre': 5178, 'bizarre': 5179, 'charles': 5180, 'charlesprinceofwales': 5181, 'clicked': 5182, 'incident': 5183, 'prince': 5184, 'reddit': 5185, 'repeated': 5186, 'scotland': 5187, 'stare': 5188, 'staring': 5189, 'aadmi': 5190, 'aam': 5191, 'aamaadmiparty': 5192, 'assuring': 5193, 'balasaheb': 5194, 'bharatiyajanataparty': 5195, 'bjp': 5196, 'bureaucrat': 5197, 'demeanour': 5198, 'deskhmukh': 5199, 'establish': 5200, 'nationalistcongressparty': 5201, 'ncp': 5202, 'praised': 5203, 'rapport': 5204, 'sena': 5205, 'shiv': 5206, 'shivsena': 5207, 'thorat': 5208, 'aggravate': 5209, 'axis': 5210, 'axisbank': 5211, 'bankinginindia': 5212, 'bb': 5213, 'consumerconfidence': 5214, 'downward': 5215, 'fitch': 5216, 'icici': 5217, 'icicibank': 5218, 'issuer': 5219, 'negative': 5220, 'notch': 5221, 'revising': 5222, 'sovereign': 5223, 'susceptible': 5224, 'underwriting': 5225, 'ups': 5226, 'viability': 5227, 'weak': 5228, 'worry': 5229, 'checked': 5230, 'deploy': 5231, 'managing': 5232, 'mobilise': 5233, 'resourcemanagement': 5234, 'aruna': 5235, 'chess': 5236, 'option': 5237, 'partial': 5238, 'suitable': 5239, 'tab': 5240, 'travelwarning': 5241, 'viswanathan': 5242, 'viswanathananand': 5243, 'anantapura': 5244, 'bethasudhakar': 5245, 'bundesautobahn': 5246, 'chikkaballapura': 5247, 'chikkaballapuradistrict': 5248, 'currently': 5249, 'educationminister': 5250, 'mecca': 5251, 'midday': 5252, 'nanjangud': 5253, 'nd': 5254, 'puttaparthi': 5255, 'qualityassurance': 5256, 'sudhakar': 5257, 'aloo': 5258, 'baked': 5259, 'basically': 5260, 'bell': 5261, 'bellpepper': 5262, 'black': 5263, 'blackpepper': 5264, 'bring': 5265, 'cake': 5266, 'carrot': 5267, 'chamelsauce': 5268, 'chilipepper': 5269, 'chilli': 5270, 'cilantro': 5271, 'copper': 5272, 'coriander': 5273, 'corn': 5274, 'cornkernel': 5275, 'cream': 5276, 'creamy': 5277, 'crust': 5278, 'desi': 5279, 'dk': 5280, 'dorlingkindersley': 5281, 'everywhere': 5282, 'exotic': 5283, 'fiber': 5284, 'fibre': 5285, 'fit': 5286, 'flake': 5287, 'gratin': 5288, 'green': 5289, 'inflammation': 5290, 'kernel': 5291, 'leaf': 5292, 'listofrecurringthesimpsonscharacters': 5293, 'loved': 5294, 'maida': 5295, 'maidaflour': 5296, 'manganese': 5297, 'manjula': 5298, 'mood': 5299, 'olive': 5300, 'oliveoil': 5301, 'pea': 5302, 'pepper': 5303, 'perfectly': 5304, 'potassium': 5305, 'potato': 5306, 'publishing': 5307, 'recipe': 5308, 'sabzi': 5309, 'sauce': 5310, 'scalloped': 5311, 'soulful': 5312, 'twist': 5313, 'uplift': 5314, 'veggie': 5315, 'vitamin': 5316, 'vitaminc': 5317, 'vlog': 5318, 'vlogger': 5319, 'bhadra': 5320, 'bhadrariver': 5321, 'caterer': 5322, 'chosen': 5323, 'crowded': 5324, 'drinking': 5325, 'drinkingwater': 5326, 'indianinstituteoftechnologymadras': 5327, 'instrument': 5328, 'madras': 5329, 'mess': 5330, 'properly': 5331, 'regret': 5332, 'slot': 5333, 'vacated': 5334, 'willing': 5335, 'affair': 5336, 'fabric': 5337, 'manufacturer': 5338, 'meltblown': 5339, 'nonwovenfabric': 5340, 'notified': 5341, 'pawan': 5342, 'prevailed': 5343, 'woven': 5344, 'ability': 5345, 'apparel': 5346, 'artisan': 5347, 'brand': 5348, 'bravely': 5349, 'cancel': 5350, 'cascade': 5351, 'charity': 5352, 'concrete': 5353, 'counted': 5354, 'couturier': 5355, 'creativity': 5356, 'designer': 5357, 'detailing': 5358, 'dev': 5359, 'due': 5360, 'ekaya': 5361, 'fashiondesign': 5362, 'freeze': 5363, 'future': 5364, 'gadkari': 5365, 'garment': 5366, 'hautecouture': 5367, 'heartfelt': 5368, 'indefinite': 5369, 'insight': 5370, 'irani': 5371, 'kaarigars': 5372, 'label': 5373, 'mahua': 5374, 'moitra': 5375, 'monetary': 5376, 'mukesh': 5377, 'nil': 5378, 'nitin': 5379, 'nitingadkari': 5380, 'paid': 5381, 'regardless': 5382, 'repercussion': 5383, 'responder': 5384, 'sabyasachi': 5385, 'saturday': 5386, 'smriti': 5387, 'smritiirani': 5388, 'statutory': 5389, 'stoppage': 5390, 'temporary': 5391, 'weaver': 5392, 'certificate': 5393, 'eligibility': 5394, 'secondary': 5395, 'sslc': 5396, 'subsequent': 5397, 'communique': 5398, 'exactly': 5399, 'isolated': 5400, 'male': 5401, 'treated': 5402, 'chafb': 5403, 'command': 5404, 'continues': 5405, 'crisismanagement': 5406, 'enhance': 5407, 'greatly': 5408, 'headquarters': 5409, 'prompt': 5410, 'suspected': 5411, 'timely': 5412, 'undertake': 5413, 'clamouring': 5414, 'fair': 5415, 'intention': 5416, 'lump': 5417, 'middleclass': 5418, 'neither': 5419, 'partyofdemocraticsocialism': 5420, 'pd': 5421, 'pledge': 5422, 'sonia': 5423, 'soniagandhi': 5424, 'suited': 5425, 'unitedstatessecretaryofagriculture': 5426, 'unlikely': 5427, 'weakest': 5428, 'aspirant': 5429, 'authentic': 5430, 'cheap': 5431, 'claiming': 5432, 'competitive': 5433, 'designed': 5434, 'enroll': 5435, 'fairly': 5436, 'fee': 5437, 'googlesearch': 5438, 'grammar': 5439, 'guntur': 5440, 'ia': 5441, 'iitmadras': 5442, 'indianadministrativeservice': 5443, 'marginalised': 5444, 'nominal': 5445, 'page': 5446, 'portal': 5447, 'prelim': 5448, 'program': 5449, 'promise': 5450, 'quora': 5451, 'real': 5452, 'refund': 5453, 'reputed': 5454, 'ring': 5455, 'rudra': 5456, 'scam': 5457, 'search': 5458, 'unionpublicservicecommission': 5459, 'upsc': 5460, 'wooe': 5461, 'demanded': 5462, 'developer': 5463, 'intend': 5464, 'utilize': 5465, 'aggarwal': 5466, 'clue': 5467, 'dismissed': 5468, 'dismissing': 5469, 'done': 5470, 'doomsday': 5471, 'earmark': 5472, 'earmarking': 5473, 'gangakhedkar': 5474, 'icmr': 5475, 'indiancouncilofmedicalresearch': 5476, 'internationalrelations': 5477, 'michigan': 5478, 'prediction': 5479, 'predictor': 5480, 'presser': 5481, 'reflected': 5482, 'staggering': 5483, 'successful': 5484, 'trace': 5485, 'concessional': 5486, 'cured': 5487, 'deserted': 5488, 'diplomaticmission': 5489, 'distressed': 5490, 'eliminate': 5491, 'embassy': 5492, 'landing': 5493, 'malaysia': 5494, 'tracker': 5495, 'trend': 5496, 'wise': 5497, 'accessibility': 5498, 'arc': 5499, 'arclamp': 5500, 'bigg': 5501, 'biggboss': 5502, 'bos': 5503, 'cat': 5504, 'childhood': 5505, 'choice': 5506, 'crossfit': 5507, 'documentary': 5508, 'edit': 5509, 'equip': 5510, 'ever': 5511, 'fifa': 5512, 'frenchopen': 5513, 'garros': 5514, 'guitar': 5515, 'gv': 5516, 'gvprakashkumar': 5517, 'kollywood': 5518, 'mani': 5519, 'maniratnam': 5520, 'masterchef': 5521, 'passion': 5522, 'pilot': 5523, 'placed': 5524, 'playstation': 5525, 'ponniyin': 5526, 'ponniyinselvan': 5527, 'prakash': 5528, 'ratnam': 5529, 'roland': 5530, 'salutation': 5531, 'selvan': 5532, 'standing': 5533, 'sun': 5534, 'surreal': 5535, 'surrealism': 5536, 'suryanamaskara': 5537, 'tamilcinema': 5538, 'telugu': 5539, 'telugulanguage': 5540, 'upma': 5541, 'vishnu': 5542, 'vishnuvishal': 5543, 'workout': 5544, 'bigbasket': 5545, 'blue': 5546, 'conumer': 5547, 'dairy': 5548, 'dart': 5549, 'delhivery': 5550, 'diagnostics': 5551, 'dtdc': 5552, 'dunzo': 5553, 'easyday': 5554, 'eats': 5555, 'faaso': 5556, 'flipkart': 5557, 'foodpanda': 5558, 'healthians': 5559, 'honsa': 5560, 'hut': 5561, 'iifco': 5562, 'jabong': 5563, 'jubilant': 5564, 'lab': 5565, 'licious': 5566, 'listing': 5567, 'medlife': 5568, 'mg': 5569, 'milkbaasket': 5570, 'myntra': 5571, 'ninjacart': 5572, 'nutrimoo': 5573, 'pharmeasy': 5574, 'pizza': 5575, 'pizzahut': 5576, 'pvt': 5577, 'satvacart': 5578, 'snapdeal': 5579, 'spencer': 5580, 'supermarket': 5581, 'supermart': 5582, 'swiggy': 5583, 'uber': 5584, 'urbanclap': 5585, 'withdrawing': 5586, 'wow': 5587, 'zomato': 5588, 'adityanath': 5589, 'administrative': 5590, 'allegation': 5591, 'contemplating': 5592, 'cripple': 5593, 'crippling': 5594, 'directs': 5595, 'eatable': 5596, 'gomti': 5597, 'gomtinagar': 5598, 'grocerystore': 5599, 'handedness': 5600, 'khuldabad': 5601, 'lucknow': 5602, 'mahanagar': 5603, 'noon': 5604, 'prominent': 5605, 'reviewed': 5606, 'shortlisted': 5607, 'sitapur': 5608, 'smoothen': 5609, 'sold': 5610, 'stem': 5611, 'stooped': 5612, 'varanasi': 5613, 'yogi': 5614, 'yogiadityanath': 5615, 'bombaystockexchange': 5616, 'bse': 5617, 'commoditymarket': 5618, 'cpai': 5619, 'derivative': 5620, 'icex': 5621, 'listofcommoditiesexchanges': 5622, 'mcx': 5623, 'nationalstockexchangeofindia': 5624, 'nse': 5625, 'pursuant': 5626, 'revise': 5627, 'sebi': 5628, 'worded': 5629, 'benchmark': 5630, 'biocon': 5631, 'cipla': 5632, 'expiry': 5633, 'f': 5634, 'fall': 5635, 'federalbank': 5636, 'fiis': 5637, 'fin': 5638, 'financialcrisisof': 5639, 'futurescontract': 5640, 'index': 5641, 'interestrate': 5642, 'longs': 5643, 'mahindramahindra': 5644, 'psu': 5645, 'realty': 5646, 'sensitive': 5647, 'shah': 5648, 'skidded': 5649, 'spotmarket': 5650, 'aayush': 5651, 'ahil': 5652, 'arpita': 5653, 'ayat': 5654, 'bhai': 5655, 'celebrates': 5656, 'farmhouse': 5657, 'interrupted': 5658, 'mumbaimirror': 5659, 'nephew': 5660, 'niece': 5661, 'panvel': 5662, 'picking': 5663, 'pipeline': 5664, 'pipelinetransport': 5665, 'prabhu': 5666, 'practicing': 5667, 'radhe': 5668, 'regime': 5669, 'salmankhan': 5670, 'shoot': 5671, 'trended': 5672, 'wanted': 5673, 'admiral': 5674, 'airchiefmarshal': 5675, 'ajay': 5676, 'briefed': 5677, 'entity': 5678, 'marshal': 5679, 'publicsectorundertakingsinindia': 5680, 'suit': 5681, 'apollo': 5682, 'apollohospitals': 5683, 'checker': 5684, 'determine': 5685, 'diagnosis': 5686, 'gender': 5687, 'informs': 5688, 'instituteforoperationsresearchandthemanagementsciences': 5689, 'listed': 5690, 'meter': 5691, 'moderate': 5692, 'parameter': 5693, 'birth': 5694, 'celebrated': 5695, 'chaitra': 5696, 'chandraghata': 5697, 'courage': 5698, 'dedicated': 5699, 'durga': 5700, 'goddess': 5701, 'kaalratri': 5702, 'katyayani': 5703, 'kushmanda': 5704, 'lord': 5705, 'mahagauri': 5706, 'navami': 5707, 'navaratri': 5708, 'navratri': 5709, 'ninth': 5710, 'ofcourse': 5711, 'puja': 5712, 'rama': 5713, 'ramanavami': 5714, 'referred': 5715, 'shailputri': 5716, 'shakti': 5717, 'siddhidaatri': 5718, 'skandamata': 5719, 'ty': 5720, 'wish': 5721, 'yan': 5722, 'equipped': 5723, 'fully': 5724, 'giant': 5725, 'asserted': 5726, 'calamity': 5727, 'cameo': 5728, 'chaman': 5729, 'character': 5730, 'difference': 5731, 'edge': 5732, 'gaye': 5733, 'interacted': 5734, 'introspection': 5735, 'knew': 5736, 'lucky': 5737, 'mangal': 5738, 'manu': 5739, 'mirzapur': 5740, 'obama': 5741, 'oye': 5742, 'phas': 5743, 'philosophical': 5744, 'revealing': 5745, 'rishi': 5746, 'saavdhan': 5747, 'script': 5748, 'selfawareness': 5749, 'shubh': 5750, 'sort': 5751, 'zyada': 5752, 'advanced': 5753, 'bovinespongiformencephalopathy': 5754, 'broader': 5755, 'broadest': 5756, 'bsesensex': 5757, 'buoyant': 5758, 'carnage': 5759, 'ended': 5760, 'happened': 5761, 'jumping': 5762, 'kept': 5763, 'midcap': 5764, 'msci': 5765, 'nikkei': 5766, 'paris': 5767, 'participant': 5768, 'performance': 5769, 'rallied': 5770, 'sectorally': 5771, 'sensex': 5772, 'smallcap': 5773, 'thenikkei': 5774, 'varied': 5775, 'wrap': 5776, 'backing': 5777, 'broadside': 5778, 'chamber': 5779, 'democratic': 5780, 'guarantee': 5781, 'healthsystem': 5782, 'iw': 5783, 'kfw': 5784, 'legislative': 5785, 'lending': 5786, 'parliament': 5787, 'possibility': 5788, 'predicted': 5789, 'presidentoftheeuropeanparliament': 5790, 'racing': 5791, 'scattered': 5792, 'schaeuble': 5793, 'shrink': 5794, 'sparsely': 5795, 'stabilisation': 5796, 'stake': 5797, 'uble': 5798, 'voted': 5799, 'whereby': 5800, 'wolfgang': 5801, 'wolfgangsch': 5802, 'aaya': 5803, 'amazonprime': 5804, 'anthropomorphism': 5805, 'anybody': 5806, 'barcelona': 5807, 'bhajan': 5808, 'cardi': 5809, 'cardib': 5810, 'casanova': 5811, 'chanchal': 5812, 'comedian': 5813, 'considered': 5814, 'core': 5815, 'creepy': 5816, 'everybody': 5817, 'giacomocasanova': 5818, 'humanity': 5819, 'insists': 5820, 'killed': 5821, 'kittho': 5822, 'personification': 5823, 'pervert': 5824, 'petrifaction': 5825, 'petrified': 5826, 'produced': 5827, 'richard': 5828, 'shownaveen': 5829, 'adherence': 5830, 'circulating': 5831, 'congregation': 5832, 'fakenews': 5833, 'passed': 5834, 'prohibiting': 5835, 'socialdemocraticpartyofswitzerland': 5836, 'sps': 5837, 'tn': 5838, 'ventured': 5839, 'violated': 5840, 'aiboc': 5841, 'allahabad': 5842, 'allahabadbank': 5843, 'amalgamated': 5844, 'amalgamation': 5845, 'andhrabank': 5846, 'canara': 5847, 'canarabank': 5848, 'comparable': 5849, 'competing': 5850, 'confederation': 5851, 'considering': 5852, 'consolidation': 5853, 'corporationbank': 5854, 'creation': 5855, 'defer': 5856, 'dena': 5857, 'denabank': 5858, 'effectively': 5859, 'extending': 5860, 'merger': 5861, 'nothing': 5862, 'presume': 5863, 'psb': 5864, 'psbs': 5865, 'publicsecuritybureau': 5866, 'punjabnationalbank': 5867, 'smaller': 5868, 'syndicate': 5869, 'syndicatebank': 5870, 'throwing': 5871, 'unioncouncilofministers': 5872, 'vijaya': 5873, 'vijayabank': 5874, 'woe': 5875, 'wrong': 5876, 'adhanom': 5877, 'anything': 5878, 'decreased': 5879, 'detected': 5880, 'eradicate': 5881, 'extreme': 5882, 'relaxed': 5883, 'tedros': 5884, 'treat': 5885, 'yesterday': 5886, 'actually': 5887, 'behind': 5888, 'bhansali': 5889, 'boyfriend': 5890, 'busted': 5891, 'continued': 5892, 'edward': 5893, 'hurt': 5894, 'juhu': 5895, 'kathiawadi': 5896, 'kathiawar': 5897, 'leela': 5898, 'myth': 5899, 'nobody': 5900, 'rajamouli': 5901, 's': 5902, 'sanjayleelabhansali': 5903, 'selfie': 5904, 'selfies': 5905, 'ssrajamouli': 5906, 'swanky': 5907, 'vanity': 5908, 'apparent': 5909, 'appear': 5910, 'assault': 5911, 'attempting': 5912, 'belfast': 5913, 'bodily': 5914, 'charged': 5915, 'commit': 5916, 'commonassault': 5917, 'coughed': 5918, 'deliberately': 5919, 'dublin': 5920, 'grievous': 5921, 'grievousbodilyharm': 5922, 'harm': 5923, 'ireland': 5924, 'laughing': 5925, 'magistrate': 5926, 'northernireland': 5927, 'policeserviceofnorthernireland': 5928, 'prank': 5929, 'psni': 5930, 'ran': 5931, 'simonharris': 5932, 'spokesman': 5933, 'hypothecatedtax': 5934, 'alcohol': 5935, 'allthat': 5936, 'cashier': 5937, 'electronicmedia': 5938, 'restaurant': 5939, 'socialdistance': 5940, 'suppresses': 5941, 'teller': 5942, 'yes': 5943, 'adg': 5944, 'agra': 5945, 'baghpat': 5946, 'callcentre': 5947, 'contacting': 5948, 'emergencyservice': 5949, 'jaunpur': 5950, 'jaunpuruttarpradesh': 5951, 'jawan': 5952, 'kheri': 5953, 'lakhimpur': 5954, 'lakhimpurkheridistrict': 5955, 'moradabad': 5956, 'overtime': 5957, 'pilibhit': 5958, 'prasesh': 5959, 'prv': 5960, 'prvengine': 5961, 'shamli': 5962, 'aligarh': 5963, 'aligarhuttarpradesh': 5964, 'alms': 5965, 'ambivalence': 5966, 'ansari': 5967, 'attender': 5968, 'baton': 5969, 'buddha': 5970, 'dahi': 5971, 'diploma': 5972, 'fat': 5973, 'gautam': 5974, 'gautambudhnagardistrict': 5975, 'glass': 5976, 'hemant': 5977, 'iceberg': 5978, 'mahendra': 5979, 'manufacture': 5980, 'minda': 5981, 'motorcycle': 5982, 'navratra': 5983, 'paranthas': 5984, 'paratha': 5985, 'pctpl': 5986, 'pickle': 5987, 'pickling': 5988, 'polyvinylchloride': 5989, 'pump': 5990, 'pvc': 5991, 'rat': 5992, 'sez': 5993, 'sim': 5994, 'specialeconomiczone': 5995, 'stack': 5996, 'subscriberidentitymodule': 5997, 'surajpur': 5998, 'thismorning': 5999, 'appearance': 6000, 'atlanta': 6001, 'brave': 6002, 'described': 6003, 'double': 6004, 'eighth': 6005, 'espn': 6006, 'farewell': 6007, 'grand': 6008, 'grandslam': 6009, 'hang': 6010, 'hingis': 6011, 'leander': 6012, 'leanderpaes': 6013, 'martina': 6014, 'martinahingis': 6015, 'paes': 6016, 'racket': 6017, 'retirement': 6018, 'rio': 6019, 'serveandvolley': 6020, 'slam': 6021, 'veteran': 6022, 'volley': 6023, 'achieving': 6024, 'modiministry': 6025, 'pronab': 6026, 'sen': 6027, 'statistician': 6028, 'supplysideeconomics': 6029, 'target': 6030, 'unfortunately': 6031, 'workingclass': 6032, 'actual': 6033, 'afp': 6034, 'compiled': 6035, 'continent': 6036, 'hospitalisation': 6037, 'topped': 6038, 'bookworm': 6039, 'chapter': 6040, 'closet': 6041, 'divyanka': 6042, 'divyankatripathidahiya': 6043, 'electronica': 6044, 'element': 6045, 'finish': 6046, 'glimpse': 6047, 'indefinable': 6048, 'influence': 6049, 'jazz': 6050, 'khanna': 6051, 'listofmortalkombatcharacters': 6052, 'nitara': 6053, 'nitinsawhney': 6054, 'perfect': 6055, 'shweta': 6056, 'shwetatiwari': 6057, 'sidharth': 6058, 'sidharthmalhotra': 6059, 'sorting': 6060, 'tiwari': 6061, 'twinkle': 6062, 'twinklekhanna': 6063, 'appreciate': 6064, 'autorickshaw': 6065, 'coveed': 6066, 'craft': 6067, 'crafting': 6068, 'creativetime': 6069, 'declaration': 6070, 'dimension': 6071, 'donated': 6072, 'entrepreneur': 6073, 'irreplaceable': 6074, 'joy': 6075, 'lakshmi': 6076, 'lakshmimenon': 6077, 'loka': 6078, 'menon': 6079, 'origami': 6080, 'orphanage': 6081, 'papercraft': 6082, 'papermodel': 6083, 'plot': 6084, 'reaffirmed': 6085, 'socialentrepreneurship': 6086, 'togetherness': 6087, 'grocer': 6088, 'homebound': 6089, 'restock': 6090, 'withdrawn': 6091, 'ac': 6092, 'aka': 6093, 'collaborated': 6094, 'collage': 6095, 'completes': 6096, 'cooped': 6097, 'determined': 6098, 'ego': 6099, 'electriccurrent': 6100, 'electronicmusic': 6101, 'forte': 6102, 'freshair': 6103, 'idegoandsuperego': 6104, 'independentmusic': 6105, 'indie': 6106, 'jane': 6107, 'kasinath': 6108, 'kev': 6109, 'melody': 6110, 'modern': 6111, 'music': 6112, 'musician': 6113, 'paul': 6114, 'pop': 6115, 'popmusic': 6116, 'poster': 6117, 'postmodernism': 6118, 'psychology': 6119, 'quarantino': 6120, 'sarah': 6121, 'sarahjanesmith': 6122, 'seventh': 6123, 'somnath': 6124, 'somnathtemple': 6125, 'unofficially': 6126, 'wheeze': 6127, 'wheezing': 6128, 'calculation': 6129, 'collated': 6130, 'derived': 6131, 'estimating': 6132, 'happens': 6133, 'incubationperiod': 6134, 'logic': 6135, 'median': 6136, 'onset': 6137, 'scientific': 6138, 'socialise': 6139, 'swine': 6140, 'swineinfluenza': 6141, 'constituency': 6142, 'mlas': 6143, 'mlc': 6144, 'mlcs': 6145, 'rashtra': 6146, 'ruling': 6147, 'samithi': 6148, 'telanganarashtrasamithi': 6149, 'trs': 6150, 'westernaustralianlegislativecouncil': 6151, 'ai': 6152, 'assigned': 6153, 'bhuvnesh': 6154, 'd': 6155, 'humanoid': 6156, 'humanoidrobot': 6157, 'internetofthings': 6158, 'iot': 6159, 'meena': 6160, 'mishra': 6161, 'sm': 6162, 'tray': 6163, 'trial': 6164, 'us': 6165, 'accelerate': 6166, 'alternativeeducation': 6167, 'capacitybuilding': 6168, 'catalysis': 6169, 'catalytic': 6170, 'disrupt': 6171, 'partnership': 6172, 'prepare': 6173, 'psychosocial': 6174, 'reopening': 6175, 'riskanalysis': 6176, 'riskmanagement': 6177, 'safely': 6178, 'supporting': 6179, 'anarock': 6180, 'brokerage': 6181, 'brokeragefirm': 6182, 'dip': 6183, 'fell': 6184, 'january': 6185, 'medicaltourism': 6186, 'metropolitan': 6187, 'mmr': 6188, 'mumbaimetropolitanregion': 6189, 'ncr': 6190, 'puri': 6191, 'babu': 6192, 'battling': 6193, 'cantonrailway': 6194, 'charan': 6195, 'footstep': 6196, 'garu': 6197, 'jagan': 6198, 'kcr': 6199, 'kowloon': 6200, 'maheshbabu': 6201, 'mohan': 6202, 'pawankalyan': 6203, 'ramcharan': 6204, 'reddy': 6205, 'superstar': 6206, 'ysjaganmohanreddy': 6207, 'affect': 6208, 'censor': 6209, 'centralboardoffilmcertification': 6210, 'desh': 6211, 'explaining': 6212, 'ghar': 6213, 'haan': 6214, 'hardest': 6215, 'joshi': 6216, 'lyricist': 6217, 'pen': 6218, 'poem': 6219, 'poet': 6220, 'prasoon': 6221, 'prasoonjoshi': 6222, 'rahega': 6223, 'acronym': 6224, 'anxiety': 6225, 'apple': 6226, 'applemusic': 6227, 'bright': 6228, 'ck': 6229, 'compulsivedisorder': 6230, 'couch': 6231, 'cuddle': 6232, 'curse': 6233, 'cyrus': 6234, 'degeneres': 6235, 'demi': 6236, 'demilovato': 6237, 'ellen': 6238, 'ellendegeneres': 6239, 'enjoy': 6240, 'facetime': 6241, 'inspiring': 6242, 'jeremy': 6243, 'jeremyscott': 6244, 'lovato': 6245, 'lowe': 6246, 'mansion': 6247, 'miley': 6248, 'mileycyrus': 6249, 'mind': 6250, 'minded': 6251, 'nice': 6252, 'obsessive': 6253, 'ocd': 6254, 'os': 6255, 'panicattack': 6256, 'poaceae': 6257, 'psychiatrist': 6258, 'rainy': 6259, 'rita': 6260, 'ritaora': 6261, 'scott': 6262, 'smoothness': 6263, 'suffered': 6264, 'weather': 6265, 'zane': 6266, 'zanelowe': 6267, 'counterpart': 6268, 'requesting': 6269, 'semi': 6270, 'skilled': 6271, 'unskilled': 6272, 'aerospace': 6273, 'boosting': 6274, 'car': 6275, 'cleared': 6276, 'context': 6277, 'coverall': 6278, 'determinant': 6279, 'discussed': 6280, 'exploring': 6281, 'flagcarrier': 6282, 'footing': 6283, 'indianrailways': 6284, 'integral': 6285, 'integralcoachfactory': 6286, 'locomotive': 6287, 'modii': 6288, 'panel': 6289, 'railwayboard': 6290, 'sar': 6291, 'scaling': 6292, 'stretcher': 6293, 'tasked': 6294, 'workshop': 6295, 'artist': 6296, 'bahrain': 6297, 'capture': 6298, 'cheeky': 6299, 'consciousness': 6300, 'contemporary': 6301, 'crisp': 6302, 'damodaran': 6303, 'depicts': 6304, 'design': 6305, 'dissent': 6306, 'dissenting': 6307, 'eventful': 6308, 'frame': 6309, 'graphic': 6310, 'graphicarts': 6311, 'graphicdesign': 6312, 'habit': 6313, 'imperative': 6314, 'imperativemood': 6315, 'intended': 6316, 'irreverent': 6317, 'literacy': 6318, 'malayalam': 6319, 'malayali': 6320, 'malayalis': 6321, 'opinionated': 6322, 'pathanamthitta': 6323, 'progressive': 6324, 'progressiverock': 6325, 'provides': 6326, 'pun': 6327, 'resonance': 6328, 'revolting': 6329, 'satirical': 6330, 'socialjustice': 6331, 'spark': 6332, 'strip': 6333, 'typographic': 6334, 'typography': 6335, 'umd': 6336, 'universalmediadisc': 6337, 'unnikrishna': 6338, 'visual': 6339, 'visualarts': 6340, 'visually': 6341, 'visuals': 6342, 'balcony': 6343, 'fightagainstcorona': 6344, 'kapil': 6345, 'kapilsharma': 6346, 'listofwatchmencharacters': 6347, 'mika': 6348, 'mikasingh': 6349, 'noble': 6350, 'sponsor': 6351, 'acting': 6352, 'advait': 6353, 'antiviral': 6354, 'antiviraldrug': 6355, 'batra': 6356, 'biorxiv': 6357, 'bioscience': 6358, 'dependency': 6359, 'diabetes': 6360, 'diabetesmellitustype': 6361, 'dozen': 6362, 'fda': 6363, 'foodanddrugadministration': 6364, 'francisco': 6365, 'gene': 6366, 'gina': 6367, 'hypertension': 6368, 'identification': 6369, 'interact': 6370, 'investigated': 6371, 'jyoti': 6372, 'mediating': 6373, 'nguyen': 6374, 'offlabeluse': 6375, 'proteininteraction': 6376, 'quantitative': 6377, 'san': 6378, 'sanfrancisco': 6379, 'scientificcommunity': 6380, 'srivats': 6381, 'subramanian': 6382, 'targeting': 6383, 'therapeutic': 6384, 'ucsf': 6385, 'universityofcaliforniasanfrancisco': 6386, 'venkataramanan': 6387, 'accolade': 6388, 'bharatiya': 6389, 'deserves': 6390, 'nationalist': 6391, 'whenthe': 6392, 'commanding': 6393, 'completion': 6394, 'dornier': 6395, 'dornierflugzeugwerke': 6396, 'gmc': 6397, 'hansa': 6398, 'hod': 6399, 'in': 6400, 'microbiology': 6401, 'mylab': 6402, 'officercommanding': 6403, 'rane': 6404, 'rodrigues': 6405, 'savio': 6406, 'traveled': 6407, 'undergo': 6408, 'undergoing': 6409, 'vishwajeet': 6410, 'waynehorvitz': 6411, 'agenda': 6412, 'ali': 6413, 'alternately': 6414, 'beas': 6415, 'beasriver': 6416, 'chenab': 6417, 'chenabriver': 6418, 'commission': 6419, 'electric': 6420, 'hydro': 6421, 'hydroelectricity': 6422, 'indus': 6423, 'induswaterstreaty': 6424, 'invited': 6425, 'islamabad': 6426, 'jhelum': 6427, 'lahore': 6428, 'meher': 6429, 'permanent': 6430, 'proposed': 6431, 'saxena': 6432, 'sutlej': 6433, 'syed': 6434, 'treaty': 6435, 'complexity': 6436, 'fisherman': 6437, 'focussed': 6438, 'hassan': 6439, 'hassanrouhani': 6440, 'holiday': 6441, 'imposes': 6442, 'intercity': 6443, 'iranian': 6444, 'islamic': 6445, 'islamicrepublic': 6446, 'jahanpour': 6447, 'jammuandkashmir': 6448, 'kianoush': 6449, 'ladakh': 6450, 'muraleedharan': 6451, 'nowruz': 6452, 'persian': 6453, 'religiousstudies': 6454, 'republic': 6455, 'rouhani': 6456, 'slapped': 6457, 'steadily': 6458, 'supremeleaderofiran': 6459, 'try': 6460, 'wost': 6461, 'zolfaghari': 6462, 'ameliorate': 6463, 'broad': 6464, 'collaborate': 6465, 'cooperation': 6466, 'deferment': 6467, 'existential': 6468, 'existentialism': 6469, 'hazmat': 6470, 'hazmatsuit': 6471, 'immense': 6472, 'indiannationalcongress': 6473, 'laying': 6474, 'liability': 6475, 'memberofthescottishparliament': 6476, 'msp': 6477, 'noting': 6478, 'pain': 6479, 'rationstamp': 6480, 'retrenching': 6481, 'socialprotection': 6482, 'subjected': 6483, 'suggesting': 6484, 'urgent': 6485, 'caregiver': 6486, 'disseminating': 6487, 'equipping': 6488, 'implementation': 6489, 'prevention': 6490, 'printing': 6491, 'socialstigma': 6492, 'stayed': 6493, 'translating': 6494, 'airpollution': 6495, 'borne': 6496, 'description': 6497, 'dimensional': 6498, 'ergonomic': 6499, 'feature': 6500, 'gizmochina': 6501, 'humanfactorsandergonomics': 6502, 'indication': 6503, 'introduced': 6504, 'patent': 6505, 'pollution': 6506, 'precaution': 6507, 'skeleton': 6508, 'spotted': 6509, 'strengthen': 6510, 'themask': 6511, 'upgraded': 6512, 'afghan': 6513, 'ak': 6514, 'alert': 6515, 'alqaeda': 6516, 'ashraf': 6517, 'ashrafghani': 6518, 'associate': 6519, 'attacked': 6520, 'attacker': 6521, 'beefed': 6522, 'behest': 6523, 'blackstar': 6524, 'bomb': 6525, 'camp': 6526, 'chose': 6527, 'commander': 6528, 'comprises': 6529, 'consul': 6530, 'consulate': 6531, 'controlling': 6532, 'counterterrorism': 6533, 'cremating': 6534, 'cremation': 6535, 'crosshairs': 6536, 'deep': 6537, 'driving': 6538, 'escaped': 6539, 'exploded': 6540, 'federalintelligenceservice': 6541, 'firewall': 6542, 'ghani': 6543, 'grieving': 6544, 'gurdwara': 6545, 'guru': 6546, 'gurudwara': 6547, 'guruharrai': 6548, 'haqqani': 6549, 'haqqaninetwork': 6550, 'har': 6551, 'hitting': 6552, 'injured': 6553, 'intel': 6554, 'islamicstateofiraqandthelevant': 6555, 'jaish': 6556, 'jaishemohammed': 6557, 'jalalabad': 6558, 'jem': 6559, 'jihad': 6560, 'kabul': 6561, 'kandahar': 6562, 'khost': 6563, 'kill': 6564, 'kunar': 6565, 'kunarprovince': 6566, 'lashkar': 6567, 'lashkaretaiba': 6568, 'listofwarriorscharacters': 6569, 'miniscule': 6570, 'motive': 6571, 'named': 6572, 'nangarhar': 6573, 'nangarharprovince': 6574, 'nearby': 6575, 'nuristan': 6576, 'nuristanprovince': 6577, 'pakistani': 6578, 'probably': 6579, 'qaeda': 6580, 'quetta': 6581, 'reaching': 6582, 'recognition': 6583, 'relocation': 6584, 'rescued': 6585, 'resurgence': 6586, 'reticle': 6587, 'shor': 6588, 'shura': 6589, 'sirajuddin': 6590, 'sirajuddinhaqqani': 6591, 'soft': 6592, 'struck': 6593, 'sword': 6594, 'taliban': 6595, 'tayyeba': 6596, 'terror': 6597, 'terrorist': 6598, 'tribe': 6599, 'troop': 6600, 'violence': 6601, 'western': 6602, 'worshipper': 6603, 'zardan': 6604, 'cleric': 6605, 'gurjar': 6606, 'inform': 6607, 'kishore': 6608, 'nand': 6609, 'subscribe': 6610, 'abandoning': 6611, 'accused': 6612, 'amending': 6613, 'converted': 6614, 'dal': 6615, 'gob': 6616, 'janatadal': 6617, 'kishor': 6618, 'kumarji': 6619, 'listofarresteddevelopmentcharacters': 6620, 'locked': 6621, 'outcry': 6622, 'prashant': 6623, 'returning': 6624, 'shame': 6625, 'tone': 6626, 'fairplay': 6627, 'grace': 6628, 'herald': 6629, 'kane': 6630, 'kanewilliamson': 6631, 'lauding': 6632, 'lauds': 6633, 'newzealandnationalcricketteam': 6634, 'perform': 6635, 'sportsman': 6636, 'superover': 6637, 'thenewzealandherald': 6638, 'thrown': 6639, 'truly': 6640, 'truth': 6641, 'ad': 6642, 'adversely': 6643, 'advertising': 6644, 'affecting': 6645, 'blackrock': 6646, 'bounce': 6647, 'cowen': 6648, 'downturn': 6649, 'dry': 6650, 'earningsbeforeinterestandtaxes': 6651, 'earningsbeforeinteresttaxesdepreciationandamortization': 6652, 'ebitda': 6653, 'engagement': 6654, 'generally': 6655, 'greenfield': 6656, 'greenfieldmassachusetts': 6657, 'messaging': 6658, 'messenger': 6659, 'net': 6660, 'wipe': 6661, 'ashwin': 6662, 'buttler': 6663, 'divided': 6664, 'flash': 6665, 'flashpoint': 6666, 'joke': 6667, 'jos': 6668, 'josbuttler': 6669, 'mankading': 6670, 'pavilion': 6671, 'podcast': 6672, 'rajasthanroyals': 6673, 'ravi': 6674, 'ravichandran': 6675, 'ravichandranashwin': 6676, 'runout': 6677, 'shortened': 6678, 'skysports': 6679, 'swearing': 6680, 'attacking': 6681, 'biscuit': 6682, 'chowk': 6683, 'deterrent': 6684, 'dwelling': 6685, 'ghazipur': 6686, 'greaternoida': 6687, 'helpful': 6688, 'holed': 6689, 'imposition': 6690, 'indiscriminately': 6691, 'jhuggis': 6692, 'makoob': 6693, 'murti': 6694, 'rahman': 6695, 'roti': 6696, 'slaughter': 6697, 'slaughterhouse': 6698, 'stepping': 6699, 'alerted': 6700, 'berth': 6701, 'bhatkal': 6702, 'departed': 6703, 'gov': 6704, 'mangalore': 6705, 'mobileapp': 6706, 'mohfw': 6707, 'pdf': 6708, 'telemedicine': 6709, 'www': 6710, 'brinjal': 6711, 'cabbage': 6712, 'cauliflower': 6713, 'chainstore': 6714, 'dasari': 6715, 'eggplant': 6716, 'emptiness': 6717, 'encourage': 6718, 'entrepreneurship': 6719, 'everyday': 6720, 'ganapathy': 6721, 'gourd': 6722, 'hoard': 6723, 'jaggery': 6724, 'maasi': 6725, 'madurai': 6726, 'maize': 6727, 'meghna': 6728, 'meghnariver': 6729, 'nyat': 6730, 'onion': 6731, 'owns': 6732, 'paddy': 6733, 'pigeonpea': 6734, 'red': 6735, 'saraswathy': 6736, 'senthil': 6737, 'slows': 6738, 'sunnybee': 6739, 'tamilcalendar': 6740, 'tomato': 6741, 'vijayakumar': 6742, 'ant': 6743, 'antonio': 6744, 'congo': 6745, 'council': 6746, 'deeply': 6747, 'democraticrepublicofthecongo': 6748, 'diplomat': 6749, 'diplomatic': 6750, 'entertain': 6751, 'guterres': 6752, 'han': 6753, 'hanchinese': 6754, 'libya': 6755, 'negotiation': 6756, 'nioguterres': 6757, 'northkorea': 6758, 'rage': 6759, 'resolution': 6760, 'secretarygeneraloftheunitednations': 6761, 'somalia': 6762, 'stricken': 6763, 'syria': 6764, 'unitednationssecuritycouncil': 6765, 'veto': 6766, 'videoconference': 6767, 'vote': 6768, 'wielding': 6769, 'amusia': 6770, 'ananya': 6771, 'angpanday': 6772, 'antic': 6773, 'blissfully': 6774, 'colouring': 6775, 'deaf': 6776, 'george': 6777, 'gill': 6778, 'panday': 6779, 'shehnaaz': 6780, 'shuklakaran': 6781, 'unaware': 6782, 'yash': 6783, 'anubhav': 6784, 'anubhavsinha': 6785, 'beaten': 6786, 'californiastateassemblydistricts': 6787, 'dying': 6788, 'ox': 6789, 'retweeted': 6790, 'scooter': 6791, 'sinha': 6792, 'sjrn': 6793, 'thane': 6794, 'thanedistrict': 6795, 'antimicrobial': 6796, 'bean': 6797, 'beetroot': 6798, 'boil': 6799, 'broccoli': 6800, 'cinnamon': 6801, 'clove': 6802, 'colder': 6803, 'consumption': 6804, 'container': 6805, 'cool': 6806, 'cucumber': 6807, 'dairyproduct': 6808, 'eat': 6809, 'enzyme': 6810, 'freezing': 6811, 'fridge': 6812, 'garlic': 6813, 'greenbean': 6814, 'inhabitat': 6815, 'oxidase': 6816, 'papertowel': 6817, 'phenol': 6818, 'plasticbag': 6819, 'polyphenol': 6820, 'polyphenols': 6821, 'rather': 6822, 'refrigerator': 6823, 'ripening': 6824, 'rotten': 6825, 'shelf': 6826, 'shelflife': 6827, 'stored': 6828, 'storing': 6829, 'towel': 6830, 'tweakindia': 6831, 'vegetableoil': 6832, 'vinegar': 6833, 'wweraw': 6834, 'abc': 6835, 'aerodrome': 6836, 'airstrip': 6837, 'americanbroadcastingcompany': 6838, 'beach': 6839, 'cater': 6840, 'cheerful': 6841, 'cruise': 6842, 'cruiser': 6843, 'cutest': 6844, 'docking': 6845, 'endangered': 6846, 'endangeredspecies': 6847, 'ferried': 6848, 'gama': 6849, 'herbivore': 6850, 'island': 6851, 'marsupial': 6852, 'medicalevacuation': 6853, 'nocturnal': 6854, 'nocturnality': 6855, 'perth': 6856, 'predator': 6857, 'presently': 6858, 'quokka': 6859, 'quokkas': 6860, 'rottnest': 6861, 'rottnestisland': 6862, 'sandy': 6863, 'size': 6864, 'specie': 6865, 'sufficient': 6866, 'vasco': 6867, 'vascodagama': 6868, 'aerosol': 6869, 'airborne': 6870, 'airborneforces': 6871, 'biyani': 6872, 'bloodbank': 6873, 'blooddonation': 6874, 'bloodtransfusion': 6875, 'cdc': 6876, 'centersfordiseasecontrolandprevention': 6877, 'cotton': 6878, 'disposable': 6879, 'disposableproduct': 6880, 'kem': 6881, 'materialrequirementsplanning': 6882, 'ministryofeducation': 6883, 'nair': 6884, 'newengland': 6885, 'nose': 6886, 'personalprotectiveequipment': 6887, 'platelet': 6888, 'polypropylene': 6889, 'reman': 6890, 'safeguard': 6891, 'scarf': 6892, 'sevenhillsnewsouthwales': 6893, 'shatabdi': 6894, 'shatabdiexpress': 6895, 'socialwork': 6896, 'stainless': 6897, 'stainlesssteel': 6898, 'steel': 6899, 'stressed': 6900, 'string': 6901, 'stringinstrument': 6902, 'teennick': 6903, 'transfusion': 6904, 'transfusionmedicine': 6905, 'zoonosis': 6906, 'circuit': 6907, 'evolution': 6908, 'fim': 6909, 'grandprixmotorcycleracing': 6910, 'honda': 6911, 'irta': 6912, 'isugrandprixoffigureskating': 6913, 'jerez': 6914, 'jerezdelafrontera': 6915, 'marc': 6916, 'marcm': 6917, 'marquez': 6918, 'motogp': 6919, 'mugello': 6920, 'mugellocircuit': 6921, 'prix': 6922, 'qatar': 6923, 'rationinternationaledemotocyclisme': 6924, 'rquez': 6925, 'tulkarm': 6926, 'weekend': 6927, 'abhinav': 6928, 'abhinavbindra': 6929, 'airgun': 6930, 'bindra': 6931, 'canadian': 6932, 'decorated': 6933, 'delaying': 6934, 'duly': 6935, 'equal': 6936, 'equalopportunity': 6937, 'favour': 6938, 'gold': 6939, 'legend': 6940, 'overwhelmingly': 6941, 'planet': 6942, 'postponing': 6943, 'rejig': 6944, 'resilient': 6945, 'slammed': 6946, 'summerparalympics': 6947, 'unhappiness': 6948, 'bajajauto': 6949, 'barometer': 6950, 'dole': 6951, 'hul': 6952, 'indianrupee': 6953, 'kotak': 6954, 'kotakmahindrabank': 6955, 'maruti': 6956, 'marutisuzuki': 6957, 'relianceindustries': 6958, 'seoul': 6959, 'shanghai': 6960, 'specific': 6961, 'speedy': 6962, 'straight': 6963, 'suzuki': 6964, 'techmahindra': 6965, 'volatility': 6966, 'winner': 6967, 'akhileshyadav': 6968, 'ballia': 6969, 'chaudhary': 6970, 'defection': 6971, 'dikshit': 6972, 'disqualification': 6973, 'elected': 6974, 'election': 6975, 'estranged': 6976, 'firozabad': 6977, 'govind': 6978, 'hriday': 6979, 'jaswantnagar': 6980, 'loksabha': 6981, 'narayan': 6982, 'politics': 6983, 'professionalwrestling': 6984, 'regard': 6985, 'sabha': 6986, 'samajwadi': 6987, 'samajwadiparty': 6988, 'shivpal': 6989, 'sp': 6990, 'speaker': 6991, 'uncle': 6992, 'withdraws': 6993, 'yadav': 6994, 'ackman': 6995, 'approx': 6996, 'bailout': 6997, 'bet': 6998, 'billackman': 6999, 'bn': 7000, 'boeing': 7001, 'bondcreditrating': 7002, 'completed': 7003, 'grade': 7004, 'hedge': 7005, 'hedgefund': 7006, 'hell': 7007, 'netted': 7008, 'nightmare': 7009, 'pershing': 7010, 'pershingsquare': 7011, 'premium': 7012, 'proceeds': 7013, 'stockmarket': 7014, 'totalling': 7015, 'cafe': 7016, 'decree': 7017, 'hinted': 7018, 'inconvenience': 7019, 'mayor': 7020, 'moscow': 7021, 'muscovite': 7022, 'park': 7023, 'putin': 7024, 'russian': 7025, 'sergei': 7026, 'sergeysobyanin': 7027, 'sobyanin': 7028, 'starting': 7029, 'televised': 7030, 'vladimir': 7031, 'vladimirputin': 7032, 'activist': 7033, 'baramati': 7034, 'blatant': 7035, 'compel': 7036, 'foodgrains': 7037, 'fuel': 7038, 'hesitate': 7039, 'hitching': 7040, 'impediment': 7041, 'ittehadul': 7042, 'majlis': 7043, 'motorcyclist': 7044, 'mumineen': 7045, 'palghar': 7046, 'palghardistrict': 7047, 'sauntering': 7048, 'seriously': 7049, 'simply': 7050, 'slum': 7051, 'tolerated': 7052, 'unitedstatesarmy': 7053, 'vasai': 7054, 'veiled': 7055, 'bottleneck': 7056, 'bulk': 7057, 'commenced': 7058, 'consumerprotection': 7059, 'distillery': 7060, 'mill': 7061, 'ml': 7062, 'output': 7063, 'sugar': 7064, 'bowler': 7065, 'chest': 7066, 'crowdfunding': 7067, 'dm': 7068, 'fastbowling': 7069, 'iain': 7070, 'myriad': 7071, 'nz': 7072, 'odis': 7073, 'pound': 7074, 'resort': 7075, 'skype': 7076, 'spare': 7077, 'stuff': 7078, 'bastar': 7079, 'bastardistrict': 7080, 'hamlet': 7081, 'kanker': 7082, 'kankerchhattisgarh': 7083, 'raipur': 7084, 'tribals': 7085, 'academic': 7086, 'accredited': 7087, 'aligarhmuslimuniversity': 7088, 'amu': 7089, 'dsw': 7090, 'dswinc': 7091, 'economically': 7092, 'jawaharlal': 7093, 'mansoor': 7094, 'nehru': 7095, 'polio': 7096, 'poliomyelitis': 7097, 'pox': 7098, 'smallpox': 7099, 'tariq': 7100, 'teaching': 7101, 'weaker': 7102, 'cue': 7103, 'dispensation': 7104, 'foodgrain': 7105, 'frontliners': 7106, 'govts': 7107, 'involving': 7108, 'looked': 7109, 'prochesta': 7110, 'rolled': 7111, 'supplement': 7112, 'tmc': 7113, 'unorganised': 7114, 'appliance': 7115, 'cctv': 7116, 'closedcircuittelevision': 7117, 'cng': 7118, 'compressednaturalgas': 7119, 'conditioner': 7120, 'dishtv': 7121, 'electrician': 7122, 'exempted': 7123, 'exempting': 7124, 'exempts': 7125, 'gurugram': 7126, 'internetserviceprovider': 7127, 'lift': 7128, 'notification': 7129, 'plumber': 7130, 'repair': 7131, 'sanitarysewer': 7132, 'sewerage': 7133, 'allotment': 7134, 'clerk': 7135, 'course': 7136, 'crp': 7137, 'expiration': 7138, 'ibps': 7139, 'modified': 7140, 'mt': 7141, 'po': 7142, 'selection': 7143, 'validity': 7144, 'viii': 7145, 'arya': 7146, 'aryan': 7147, 'circadianrhythm': 7148, 'clinical': 7149, 'clinicalpsychology': 7150, 'coursera': 7151, 'crib': 7152, 'depression': 7153, 'entertained': 7154, 'fatigue': 7155, 'hobby': 7156, 'khatri': 7157, 'knownplaintextattack': 7158, 'kras': 7159, 'mansi': 7160, 'mansipeople': 7161, 'muscle': 7162, 'namaskar': 7163, 'nostalgia': 7164, 'physicalexercise': 7165, 'psychologist': 7166, 'relaxationtechnique': 7167, 'samriddhi': 7168, 'sleep': 7169, 'surya': 7170, 'technique': 7171, 'hossein': 7172, 'andrew': 7173, 'cook': 7174, 'foresee': 7175, 'herrmann': 7176, 'mikahilov': 7177, 'nieva': 7178, 'nrai': 7179, 'oleg': 7180, 'pavel': 7181, 'primeministerofjapan': 7182, 'rafaelle': 7183, 'retain': 7184, 'smirnov': 7185, 'translates': 7186, 'volker': 7187, 'animalfancy': 7188, 'bajra': 7189, 'bird': 7190, 'busterminus': 7191, 'columbidae': 7192, 'crease': 7193, 'eleusinecoracana': 7194, 'exclusive': 7195, 'fancier': 7196, 'feeder': 7197, 'flax': 7198, 'generous': 7199, 'helianthus': 7200, 'hemp': 7201, 'hempseed': 7202, 'homing': 7203, 'homingpigeon': 7204, 'kilogram': 7205, 'linseed': 7206, 'loft': 7207, 'mint': 7208, 'mix': 7209, 'mixture': 7210, 'mungbean': 7211, 'pearlmillet': 7212, 'pigeon': 7213, 'pigeonkeeping': 7214, 'pigeonracing': 7215, 'ragi': 7216, 'rajinikanth': 7217, 'seed': 7218, 'soyabean': 7219, 'soybean': 7220, 'sunflower': 7221, 'svs': 7222, 'terminus': 7223, 'turning': 7224, 'vasantha': 7225, 'beef': 7226, 'chicken': 7227, 'deficiency': 7228, 'demurrage': 7229, 'dhall': 7230, 'dindigul': 7231, 'distributor': 7232, 'dread': 7233, 'fisher': 7234, 'foresaw': 7235, 'hobbled': 7236, 'imminent': 7237, 'importer': 7238, 'lambandmutton': 7239, 'loomed': 7240, 'merchant': 7241, 'mung': 7242, 'mutton': 7243, 'oldest': 7244, 'orid': 7245, 'parcel': 7246, 'pottuvelu': 7247, 'sanal': 7248, 'shipment': 7249, 'spectre': 7250, 'steep': 7251, 'theni': 7252, 'transported': 7253, 'trucked': 7254, 'aanand': 7255, 'aanandlrai': 7256, 'ayushmann': 7257, 'ayushmannkhurrana': 7258, 'foundation': 7259, 'guild': 7260, 'khurrana': 7261, 'kiara': 7262, 'listofthelionkingcharacters': 7263, 'motwane': 7264, 'navi': 7265, 'navimumbai': 7266, 'nitesh': 7267, 'pannu': 7268, 'pledged': 7269, 'preet': 7270, 'rakul': 7271, 'rakulpreetsingh': 7272, 'sanjaygupta': 7273, 'sudhir': 7274, 'sudhirmishra': 7275, 'taapsee': 7276, 'taapseepannu': 7277, 'vikramaditya': 7278, 'vikramadityamotwane': 7279, 'westernindia': 7280, 'akantony': 7281, 'alappuzha': 7282, 'allotted': 7283, 'antony': 7284, 'divert': 7285, 'infrared': 7286, 'lawmaker': 7287, 'legislator': 7288, 'markantony': 7289, 'mplad': 7290, 'mplads': 7291, 'rajya': 7292, 'rajyasabha': 7293, 'sanction': 7294, 'sanctioned': 7295, 'shashitharoor': 7296, 'tharoor': 7297, 'vista': 7298, 'wayanad': 7299, 'wayanaddistrict': 7300, 'andaman': 7301, 'chiefsecretaryforadministration': 7302, 'divulge': 7303, 'ecotourism': 7304, 'islander': 7305, 'jetty': 7306, 'listofwatersports': 7307, 'mainland': 7308, 'nicobar': 7309, 'nicobarislands': 7310, 'prior': 7311, 'sanghi': 7312, 'southandamandistrict': 7313, 'territorial': 7314, 'tourism': 7315, 'ut': 7316, 'vistara': 7317, 'applies': 7318, 'assures': 7319, 'attendance': 7320, 'casual': 7321, 'compliance': 7322, 'contractual': 7323, 'disadvantaged': 7324, 'emotionally': 7325, 'ethic': 7326, 'inc': 7327, 'jeweller': 7328, 'jewellery': 7329, 'kalyanaraman': 7330, 'profitability': 7331, 't': 7332, 'aircraftlease': 7333, 'catch': 7334, 'corendon': 7335, 'crunch': 7336, 'indianairlines': 7337, 'lean': 7338, 'lease': 7339, 'leased': 7340, 'profitable': 7341, 'spicejet': 7342, 'turkey': 7343, 'turkish': 7344, 'weakening': 7345, 'wet': 7346, 'airspace': 7347, 'averting': 7348, 'avoids': 7349, 'backed': 7350, 'convertible': 7351, 'debenture': 7352, 'idbi': 7353, 'ncds': 7354, 'principal': 7355, 'redemption': 7356, 'refinance': 7357, 'refinancing': 7358, 'secured': 7359, 'secures': 7360, 'thesource': 7361, 'trustee': 7362, 'trusteeship': 7363, 'advertisement': 7364, 'agm': 7365, 'agms': 7366, 'august': 7367, 'closing': 7368, 'exempt': 7369, 'exemption': 7370, 'granted': 7371, 'hence': 7372, 'newspaper': 7373, 'publication': 7374, 'shareholding': 7375, 'stakeholder': 7376, 'beard': 7377, 'blessing': 7378, 'cooked': 7379, 'dinner': 7380, 'espncricinfo': 7381, 'guy': 7382, 'incredible': 7383, 'justinlanger': 7384, 'langer': 7385, 'listacricket': 7386, 'nirvana': 7387, 'optimistic': 7388, 'over': 7389, 'personally': 7390, 'southafrica': 7391, 'approval': 7392, 'cosara': 7393, 'eligible': 7394, 'esomeprazole': 7395, 'gastroesophageal': 7396, 'gastroesophagealrefluxdisease': 7397, 'generic': 7398, 'headline': 7399, 'installement': 7400, 'installment': 7401, 'lockdow': 7402, 'nod': 7403, 'oral': 7404, 'payout': 7405, 'reflux': 7406, 'usfda': 7407, 'automated': 7408, 'commonly': 7409, 'creditd': 7410, 'goenka': 7411, 'igatpuri': 7412, 'mahndra': 7413, 'mm': 7414, 'overwhelmed': 7415, 'pouring': 7416, 'pronged': 7417, 'simplify': 7418, 'spec': 7419, 'valve': 7420, 'version': 7421, 'bass': 7422, 'bassguitar': 7423, 'billy': 7424, 'billygibbons': 7425, 'bohemian': 7426, 'bohemianrhapsody': 7427, 'brian': 7428, 'brianmay': 7429, 'cesar': 7430, 'cosmokramer': 7431, 'discover': 7432, 'distanced': 7433, 'ed': 7434, 'edsheeran': 7435, 'epiphone': 7436, 'fender': 7437, 'fendermusicalinstrumentscorporation': 7438, 'gibbon': 7439, 'gibson': 7440, 'greenday': 7441, 'gueikian': 7442, 'guitarist': 7443, 'guitarsolo': 7444, 'handful': 7445, 'hawaii': 7446, 'haynes': 7447, 'homemade': 7448, 'instructor': 7449, 'kramer': 7450, 'ledzeppelin': 7451, 'legendary': 7452, 'maker': 7453, 'mendes': 7454, 'noise': 7455, 'rhapsody': 7456, 'shawn': 7457, 'shawnmendes': 7458, 'sheeran': 7459, 'slash': 7460, 'socially': 7461, 'solo': 7462, 'ukulele': 7463, 'unite': 7464, 'unites': 7465, 'warren': 7466, 'warrenhaynes': 7467, 'zeppelin': 7468, 'zz': 7469, 'zztop': 7470, 'ayra': 7471, 'eating': 7472, 'endearing': 7473, 'fed': 7474, 'foodie': 7475, 'grueling': 7476, 'kgf': 7477, 'married': 7478, 'occasion': 7479, 'pandit': 7480, 'radhika': 7481, 'radhikapandit': 7482, 'raveena': 7483, 'raveenatandon': 7484, 'shirt': 7485, 'tandon': 7486, 'tshirt': 7487, 'unexpected': 7488, 'venturing': 7489, 'alive': 7490, 'anger': 7491, 'apar': 7492, 'bomber': 7493, 'brutal': 7494, 'carried': 7495, 'condolence': 7496, 'deadliest': 7497, 'fired': 7498, 'horrific': 7499, 'isi': 7500, 'islamism': 7501, 'islamist': 7502, 'khalsa': 7503, 'lone': 7504, 'mercy': 7505, 'prayer': 7506, 'recall': 7507, 'recalling': 7508, 'showed': 7509, 'sparked': 7510, 'stormed': 7511, 'suicideattack': 7512, 'tolo': 7513, 'vinay': 7514, 'bold': 7515, 'caste': 7516, 'clinic': 7517, 'congratulating': 7518, 'creed': 7519, 'integrated': 7520, 'jamaicandollar': 7521, 'jmd': 7522, 'kavach': 7523, 'reassure': 7524, 'sangita': 7525, 'sangitamadhavannair': 7526, 'shobana': 7527, 'backseat': 7528, 'else': 7529, 'everything': 7530, 'imp': 7531, 'imperialunits': 7532, 'jaffer': 7533, 'patience': 7534, 'resembles': 7535, 'sense': 7536, 'uncertain': 7537, 'wasim': 7538, 'wasimjaffer': 7539, 'yearns': 7540, 'dean': 7541, 'disinfection': 7542, 'medicalcollege': 7543, 'preferably': 7544, 'reformedbaptists': 7545, 'rotation': 7546, 'stretch': 7547, 'belgium': 7548, 'doorknob': 7549, 'furniture': 7550, 'negativity': 7551, 'pothuru': 7552, 'preventing': 7553, 'publish': 7554, 'reader': 7555, 'rediff': 7556, 'rediffcom': 7557, 'teaspoon': 7558, 'turmeric': 7559, 'venkata': 7560, 'biopicover': 7561, 'cease': 7562, 'organiser': 7563, 'wicketkeeper': 7564, 'yuvraj': 7565, 'yuvrajsingh': 7566, 'biographicalfilm': 7567, 'biopic': 7568, 'calender': 7569, 'eye': 7570, 'fox': 7571, 'jeopardy': 7572, 'langerother': 7573, 'ok': 7574, 'okay': 7575, 'reality': 7576, 'ruined': 7577, 'wrath': 7578, 'againt': 7579, 'avaneesh': 7580, 'checking': 7581, 'cleanliness': 7582, 'informer': 7583, 'pradhans': 7584, 'principalsecretary': 7585, 'suspect': 7586, 'tracing': 7587, 'accident': 7588, 'compensated': 7589, 'document': 7590, 'modality': 7591, 'curtail': 7592, 'danish': 7593, 'denmark': 7594, 'batoncharge': 7595, 'cardiacarrest': 7596, 'deceased': 7597, 'denied': 7598, 'deny': 7599, 'diarrhea': 7600, 'diarrhoea': 7601, 'howrah': 7602, 'howrahdistrict': 7603, 'losing': 7604, 'misreporting': 7605, 'mortem': 7606, 'rajgunge': 7607, 'raju': 7608, 'sankrail': 7609, 'swami': 7610, 'tanmay': 7611, 'anonymity': 7612, 'confirmatory': 7613, 'crematorium': 7614, 'crematory': 7615, 'hearse': 7616, 'implies': 7617, 'nayak': 7618, 'notifies': 7619, 'rajivgandhi': 7620, 'trained': 7621, 'takeaway': 7622, 'amongst': 7623, 'bharatsancharnigamlimited': 7624, 'bsnl': 7625, 'connectivity': 7626, 'easterntimezone': 7627, 'et': 7628, 'mahanagartelephonenigamlimited': 7629, 'mtnl': 7630, 'responding': 7631, 'saviour': 7632, 'standardoperatingprocedure': 7633, 'telco': 7634, 'telecomregulatoryauthorityofindia': 7635, 'telephonecompany': 7636, 'trai': 7637, 'tsps': 7638, 'appleinc': 7639, 'apps': 7640, 'center': 7641, 'centerstage': 7642, 'datasecurity': 7643, 'dodgy': 7644, 'entertainment': 7645, 'glory': 7646, 'jetblue': 7647, 'marketcapitalization': 7648, 'mere': 7649, 'messiah': 7650, 'misery': 7651, 'pally': 7652, 'privacy': 7653, 'proven': 7654, 'recode': 7655, 'stronger': 7656, 'thetech': 7657, 'thriving': 7658, 'upon': 7659, 'window': 7660, 'collateral': 7661, 'pmjdy': 7662, 'shgs': 7663, 'sustain': 7664, 'ace': 7665, 'flyingace': 7666, 'historic': 7667, 'precedence': 7668, 'kartet': 7669, 'mathematics': 7670, 'originally': 7671, 'pedagogy': 7672, 'tet': 7673, 'theoffice': 7674, 'wear': 7675, 'adrak': 7676, 'antiinflammatory': 7677, 'antioxidant': 7678, 'beverage': 7679, 'bolstering': 7680, 'calorie': 7681, 'cardamom': 7682, 'chai': 7683, 'congestion': 7684, 'coughmedicine': 7685, 'cumin': 7686, 'curcumin': 7687, 'decoction': 7688, 'detox': 7689, 'detoxification': 7690, 'digestion': 7691, 'essentialoil': 7692, 'excellent': 7693, 'flavourful': 7694, 'ginger': 7695, 'greentea': 7696, 'haling': 7697, 'hint': 7698, 'humannose': 7699, 'humble': 7700, 'inflammatory': 7701, 'lemon': 7702, 'menstrual': 7703, 'microbial': 7704, 'nasal': 7705, 'nasalcongestion': 7706, 'nonsteroidalantiinflammatorydrug': 7707, 'nsaid': 7708, 'potent': 7709, 'potion': 7710, 'radical': 7711, 'remedy': 7712, 'ripple': 7713, 'steroidal': 7714, 'substitute': 7715, 'suppressant': 7716, 'volatile': 7717, 'barrel': 7718, 'bpd': 7719, 'brent': 7720, 'collapse': 7721, 'exporting': 7722, 'fourth': 7723, 'goldman': 7724, 'goldmansachs': 7725, 'gunbarrel': 7726, 'hikikomori': 7727, 'increasingly': 7728, 'mn': 7729, 'offsetting': 7730, 'overwhelm': 7731, 'plunge': 7732, 'rebound': 7733, 'reversed': 7734, 'sachs': 7735, 'scrambling': 7736, 'sharper': 7737, 'shore': 7738, 'wall': 7739, 'wallstreet': 7740, 'chandrashekhar': 7741, 'cumulative': 7742, 'pl': 7743, 'surveillance': 7744, 'transit': 7745, 'yr': 7746, 'catching': 7747, 'conversation': 7748, 'eaves': 7749, 'freedom': 7750, 'goal': 7751, 'graduating': 7752, 'maybe': 7753, 'meetups': 7754, 'missed': 7755, 'rediscover': 7756, 'reflect': 7757, 'scaffolding': 7758, 'toward': 7759, 'weakened': 7760, 'connected': 7761, 'covdi': 7762, 'earliest': 7763, 'emergencymedicaltechnician': 7764, 'emri': 7765, 'emt': 7766, 'ferry': 7767, 'gvk': 7768, 'kanniyakumari': 7769, 'kanyakumari': 7770, 'ranjith': 7771, 'tenkasi': 7772, 'thoothukudi': 7773, 'viswanath': 7774, 'andrewcuomo': 7775, 'antibody': 7776, 'apoorva': 7777, 'banked': 7778, 'bankedturn': 7779, 'bloodplasma': 7780, 'bloodtest': 7781, 'bout': 7782, 'commoncold': 7783, 'cousin': 7784, 'cuomo': 7785, 'erasmus': 7786, 'erasmusuniversityrotterdam': 7787, 'florian': 7788, 'galveston': 7789, 'galvestontexas': 7790, 'icahn': 7791, 'ieexplained': 7792, 'immuneresponse': 7793, 'immunoglobulin': 7794, 'immunoglobuling': 7795, 'immunoglobulinm': 7796, 'koopmans': 7797, 'krammer': 7798, 'lasting': 7799, 'macaque': 7800, 'mandavilli': 7801, 'marion': 7802, 'marionkansas': 7803, 'memorybcell': 7804, 'menachery': 7805, 'microbiologist': 7806, 'mild': 7807, 'milder': 7808, 'monkey': 7809, 'mountsinai': 7810, 'neutralizing': 7811, 'plasma': 7812, 'pressing': 7813, 'reinfected': 7814, 'resist': 7815, 'rotterdam': 7816, 'serum': 7817, 'severeacuterespiratorysyndrome': 7818, 'sinai': 7819, 'surpasses': 7820, 'tjallingkoopmans': 7821, 'unitedstatesdepartmentofstate': 7822, 'vineet': 7823, 'antiaircraftwarfare': 7824, 'babydoll': 7825, 'deleted': 7826, 'deletes': 7827, 'doll': 7828, 'dushyant': 7829, 'flak': 7830, 'kanika': 7831, 'lengthy': 7832, 'raje': 7833, 'sanjaygandhi': 7834, 'sgpgims': 7835, 'sign': 7836, 'singer': 7837, 'vasundhara': 7838, 'vasundhararaje': 7839, 'abdullah': 7840, 'ahmadshahofpahang': 7841, 'aminah': 7842, 'azizah': 7843, 'comptroller': 7844, 'controlorder': 7845, 'fadil': 7846, 'implemented': 7847, 'iskandariah': 7848, 'mahathir': 7849, 'mahathirmohamad': 7850, 'maimunah': 7851, 'malaysian': 7852, 'mohamad': 7853, 'muhyiddin': 7854, 'muhyiddinyassin': 7855, 'palace': 7856, 'queen': 7857, 'royalhousehold': 7858, 'shamsuddin': 7859, 'sultan': 7860, 'xinhua': 7861, 'yangdipertuanagong': 7862, 'yassin': 7863, 'aceshowbiz': 7864, 'aliabadi': 7865, 'angeles': 7866, 'delivered': 7867, 'disappearing': 7868, 'emergencydepartment': 7869, 'gather': 7870, 'gynaecologist': 7871, 'intensivecareunit': 7872, 'jenner': 7873, 'kylie': 7874, 'kyliejenner': 7875, 'kylieminogue': 7876, 'los': 7877, 'losangeles': 7878, 'medic': 7879, 'onto': 7880, 'outfit': 7881, 'speechless': 7882, 'stormi': 7883, 'thai': 7884, 'thailand': 7885, 'universe': 7886, 'amazing': 7887, 'bowling': 7888, 'destructive': 7889, 'iainobrien': 7890, 'min': 7891, 'pacer': 7892, 'rosie': 7893, 'sachin': 7894, 'sausage': 7895, 'sehwag': 7896, 'tendulkar': 7897, 'vid': 7898, 'accessed': 7899, 'archived': 7900, 'broadening': 7901, 'cec': 7902, 'discipline': 7903, 'drikpicturelibrary': 7904, 'dth': 7905, 'grant': 7906, 'horizon': 7907, 'ict': 7908, 'informationandcommunicationstechnology': 7909, 'interface': 7910, 'journal': 7911, 'learner': 7912, 'library': 7913, 'massiveopenonlinecourse': 7914, 'module': 7915, 'moocs': 7916, 'opt': 7917, 'pathshala': 7918, 'peer': 7919, 'peerreview': 7920, 'pg': 7921, 'promotes': 7922, 'rajnish': 7923, 'repository': 7924, 'satellitetelevision': 7925, 'shodhganga': 7926, 'swayam': 7927, 'swayamprabha': 7928, 'ugc': 7929, 'universitygrantscommission': 7930, 'unlimited': 7931, 'aboard': 7932, 'alan': 7933, 'alantaylor': 7934, 'applauded': 7935, 'blame': 7936, 'chris': 7937, 'chrishemsworth': 7938, 'credited': 7939, 'dark': 7940, 'duckling': 7941, 'en': 7942, 'envogue': 7943, 'god': 7944, 'gq': 7945, 'helm': 7946, 'hemsworth': 7947, 'hired': 7948, 'marvel': 7949, 'marvelcomics': 7950, 'marvelstudios': 7951, 'patty': 7952, 'pattyjenkins': 7953, 'replace': 7954, 'rival': 7955, 'scathing': 7956, 'studio': 7957, 'taika': 7958, 'taikareform': 7959, 'taikawaititi': 7960, 'taylor': 7961, 'theuglyduckling': 7962, 'thor': 7963, 'ultimately': 7964, 'uproxx': 7965, 'vanityfair': 7966, 'vogue': 7967, 'waititi': 7968, 'wonder': 7969, 'wonderwoman': 7970, 'wordbut': 7971, 'wrenching': 7972, 'apte': 7973, 'badshah': 7974, 'championing': 7975, 'grateful': 7976, 'haasan': 7977, 'hirani': 7978, 'ikamalhaasan': 7979, 'jackie': 7980, 'jackieshroff': 7981, 'jacqueline': 7982, 'jacquelinefernandez': 7983, 'kamal': 7984, 'kamalhaasan': 7985, 'kamalhassan': 7986, 'lara': 7987, 'laradutta': 7988, 'lent': 7989, 'padishah': 7990, 'radhikaapte': 7991, 'rajkumar': 7992, 'rajkumarhirani': 7993, 'shroff': 7994, 'watchfilmmaker': 7995, 'integratedcircuit': 7996, 'msi': 7997, 'smg': 7998, 'angelina': 7999, 'angelinajolie': 8000, 'gyn': 8001, 'hollywood': 8002, 'jolie': 8003, 'maleficent': 8004, 'ob': 8005, 'obstetricsandgynaecology': 8006, 'resolute': 8007, 'underprivileged': 8008, 'attari': 8009, 'certified': 8010, 'commented': 8011, 'flying': 8012, 'gul': 8013, 'gulpanag': 8014, 'harashima': 8015, 'hashtag': 8016, 'imply': 8017, 'lieutenantgeneral': 8018, 'nihal': 8019, 'panag': 8020, 'privilege': 8021, 'privileged': 8022, 'reply': 8023, 'trolled': 8024, 'additionally': 8025, 'bucket': 8026, 'ceremony': 8027, 'delectable': 8028, 'exchanged': 8029, 'farfalle': 8030, 'flyer': 8031, 'gotta': 8032, 'hat': 8033, 'italian': 8034, 'joe': 8035, 'joejonas': 8036, 'jonas': 8037, 'lasvegas': 8038, 'outhouse': 8039, 'pasta': 8040, 'pregnancy': 8041, 'privy': 8042, 'quipped': 8043, 'secret': 8044, 'sighting': 8045, 'sophie': 8046, 'sophieturner': 8047, 'tossing': 8048, 'turner': 8049, 'upload': 8050, 'vega': 8051, 'vow': 8052, 'wedding': 8053, 'berry': 8054, 'cautioned': 8055, 'cautioning': 8056, 'dependent': 8057, 'disaggregated': 8058, 'finished': 8059, 'foodindustry': 8060, 'packaging': 8061, 'salesman': 8062, 'wholesaler': 8063, 'alleges': 8064, 'fatal': 8065, 'proved': 8066, 'thrashed': 8067, 'youth': 8068, 'airbusa': 8069, 'aisle': 8070, 'allianceair': 8071, 'cr': 8072, 'goair': 8073, 'heavier': 8074, 'incur': 8075, 'indigo': 8076, 'lumba': 8077, 'tonne': 8078, 'vicepresidentoftheunitedstates': 8079, 'adam': 8080, 'afraid': 8081, 'allthingsmustpass': 8082, 'bob': 8083, 'bobmarley': 8084, 'bryan': 8085, 'bryanadams': 8086, 'chord': 8087, 'constantly': 8088, 'cope': 8089, 'eversince': 8090, 'fathomed': 8091, 'georgeharrison': 8092, 'harrison': 8093, 'haunt': 8094, 'johnlennon': 8095, 'joydivision': 8096, 'lennon': 8097, 'lyric': 8098, 'marley': 8099, 'mystic': 8100, 'oblige': 8101, 'otherwise': 8102, 'philanthropist': 8103, 'philanthropy': 8104, 'pleaded': 8105, 'regales': 8106, 'rendering': 8107, 'rolling': 8108, 'songwriter': 8109, 'therollingstones': 8110, 'vegan': 8111, 'veganism': 8112, 'wetmarket': 8113, 'agedness': 8114, 'agustawestland': 8115, 'bail': 8116, 'bureau': 8117, 'cbi': 8118, 'centralbureauofinvestigation': 8119, 'chopper': 8120, 'citing': 8121, 'constitute': 8122, 'custody': 8123, 'decongest': 8124, 'delhihighcourt': 8125, 'enforcementdirectorate': 8126, 'entailing': 8127, 'extradited': 8128, 'extradition': 8129, 'hc': 8130, 'interim': 8131, 'jail': 8132, 'judicial': 8133, 'lodged': 8134, 'michel': 8135, 'middleman': 8136, 'parole': 8137, 'prisoner': 8138, 'probed': 8139, 'releasing': 8140, 'tihar': 8141, 'tiharjail': 8142, 'undertrials': 8143, 'veryimportantperson': 8144, 'vvip': 8145, 'geo': 8146, 'geotagging': 8147, 'highcourtofjudicatureathyderabad': 8148, 'monitoringof': 8149, 'ocal': 8150, 'ordinate': 8151, 'passport': 8152, 'patrolling': 8153, 'pil': 8154, 'publicinterestlaw': 8155, 'rajivgandhiinternationalairport': 8156, 'shamshabad': 8157, 'tagged': 8158, 'tagging': 8159, 'traced': 8160, 'tscop': 8161, 'updating': 8162, 'arkalgud': 8163, 'belonging': 8164, 'belur': 8165, 'dodda': 8166, 'forest': 8167, 'fortune': 8168, 'fortunetelling': 8169, 'hakki': 8170, 'hassandistrict': 8171, 'hooraja': 8172, 'magge': 8173, 'neighbouring': 8174, 'nomadic': 8175, 'pikki': 8176, 'sidda': 8177, 'srirampura': 8178, 'sudagadu': 8179, 'monthly': 8180, 'soared': 8181, 'blip': 8182, 'defeat': 8183, 'definitely': 8184, 'dominant': 8185, 'exhaustion': 8186, 'grab': 8187, 'lining': 8188, 'match': 8189, 'protea': 8190, 'shortcoming': 8191, 'showing': 8192, 'silver': 8193, 'southafricanationalcricketteam': 8194, 'younger': 8195, 'appropriate': 8196, 'bangar': 8197, 'brijesh': 8198, 'coma': 8199, 'dialysis': 8200, 'failure': 8201, 'jhunjhunu': 8202, 'kidneyfailure': 8203, 'occurred': 8204, 'stroke': 8205, 'acquire': 8206, 'android': 8207, 'appstore': 8208, 'assessed': 8209, 'beta': 8210, 'bluetooth': 8211, 'cowin': 8212, 'googleplay': 8213, 'informationtechnology': 8214, 'io': 8215, 'meity': 8216, 'ministryofelectronicsandinformationtechnology': 8217, 'softwarereleaselifecycle': 8218, 'surroundings': 8219, 'tracking': 8220, 'administrativecentre': 8221, 'antenna': 8222, 'athens': 8223, 'bridge': 8224, 'bulgaria': 8225, 'civildefense': 8226, 'cluster': 8227, 'deli': 8228, 'ehinos': 8229, 'ert': 8230, 'ethnos': 8231, 'greece': 8232, 'greek': 8233, 'greeklanguage': 8234, 'hellenicbroadcastingcorporation': 8235, 'huseyin': 8236, 'knowing': 8237, 'kozani': 8238, 'manolis': 8239, 'netherlands': 8240, 'pomak': 8241, 'pomaks': 8242, 'prefecture': 8243, 'prefecturesofjapan': 8244, 'ridvan': 8245, 'shipyard': 8246, 'slav': 8247, 'slavic': 8248, 'tsepelis': 8249, 'xanthi': 8250, 'attend': 8251, 'cloud': 8252, 'cloudcomputing': 8253, 'desktop': 8254, 'expresstechnology': 8255, 'invitee': 8256, 'laptop': 8257, 'microphone': 8258, 'mute': 8259, 'muteness': 8260, 'software': 8261, 'tablet': 8262, 'tabletcomputer': 8263, 'webcam': 8264, 'dial': 8265, 'lapse': 8266, 'mapmyindia': 8267, 'pin': 8268, 'pointing': 8269, 'select': 8270, 'tag': 8271, 'thefirm': 8272, 'lathicharge': 8273, 'plenty': 8274, 'useful': 8275, 'apc': 8276, 'armouredpersonnelcarrier': 8277, 'awaneesh': 8278, 'chairmanship': 8279, 'gurdwaras': 8280, 'handcart': 8281, 'lunch': 8282, 'muzaffarnagar': 8283, 'systematically': 8284, 'buddh': 8285, 'domino': 8286, 'faasos': 8287, 'satva': 8288, 'encouraging': 8289, 'extinguish': 8290, 'alibaba': 8291, 'alibabagroup': 8292, 'annuity': 8293, 'balance': 8294, 'balancesheet': 8295, 'bezos': 8296, 'cambodia': 8297, 'cnbc': 8298, 'deepinder': 8299, 'dine': 8300, 'elon': 8301, 'elonmusk': 8302, 'exponentially': 8303, 'goyal': 8304, 'indonesia': 8305, 'jack': 8306, 'jackma': 8307, 'jeff': 8308, 'jeffbezos': 8309, 'lao': 8310, 'lebanon': 8311, 'linkedin': 8312, 'markzuckerberg': 8313, 'membership': 8314, 'microsoft': 8315, 'mongolia': 8316, 'musk': 8317, 'myanmar': 8318, 'nadella': 8319, 'nepal': 8320, 'pooled': 8321, 'portugal': 8322, 'satya': 8323, 'satyanadella': 8324, 'tesla': 8325, 'teslainc': 8326, 'tim': 8327, 'timcook': 8328, 'uae': 8329, 'unitedarabemirates': 8330, 'zuckerberg': 8331, 'aprril': 8332, 'facetoface': 8333, 'probable': 8334, 'bvisa': 8335, 'clinicaltrial': 8336, 'consideration': 8337, 'consulting': 8338, 'dhs': 8339, 'expiring': 8340, 'favorably': 8341, 'favourably': 8342, 'federalgovernmentoftheunitedstates': 8343, 'homeland': 8344, 'investigational': 8345, 'readily': 8346, 'telecommuting': 8347, 'telework': 8348, 'unitedstatescitizenshipandimmigrationservices': 8349, 'uscis': 8350, 'aa': 8351, 'addict': 8352, 'alcoholabuse': 8353, 'alcoholicsanonymous': 8354, 'anonymous': 8355, 'autonomous': 8356, 'creep': 8357, 'decentralized': 8358, 'forcing': 8359, 'heightening': 8360, 'meaning': 8361, 'mexico': 8362, 'mexicocity': 8363, 'nairobi': 8364, 'needle': 8365, 'psychiatry': 8366, 'quit': 8367, 'ramping': 8368, 'relapse': 8369, 'shuts': 8370, 'shuttered': 8371, 'stanford': 8372, 'stanforduniversity': 8373, 'twelvestepprogram': 8374, 'earn': 8375, 'argument': 8376, 'durgesh': 8377, 'ensued': 8378, 'heated': 8379, 'killing': 8380, 'latter': 8381, 'laxmi': 8382, 'object': 8383, 'outing': 8384, 'rajesh': 8385, 'samta': 8386, 'shouted': 8387, 'steppingout': 8388, 'advancepayment': 8389, 'arabinda': 8390, 'batch': 8391, 'cadre': 8392, 'cnn': 8393, 'icrisat': 8394, 'internationalcropsresearchinstituteforthesemiaridtropics': 8395, 'kharif': 8396, 'kharifcrop': 8397, 'padhee': 8398, 'slowed': 8399, 'usha': 8400, 'wholeheartedly': 8401, 'aaradhya': 8402, 'aishwarya': 8403, 'aishwaryarai': 8404, 'amitabh': 8405, 'amitabhbachchan': 8406, 'bigb': 8407, 'cheering': 8408, 'clapping': 8409, 'fighter': 8410, 'hashtags': 8411, 'jalsa': 8412, 'jaya': 8413, 'jayabachchan': 8414, 'marine': 8415, 'marinedrivemumbai': 8416, 'nanda': 8417, 'nandabayin': 8418, 'perspiration': 8419, 'practise': 8420, 'reminded': 8421, 'simpler': 8422, 'sweating': 8423, 'timeframe': 8424, 'dispelled': 8425, 'doc': 8426, 'indirectly': 8427, 'mahallah': 8428, 'mohalla': 8429, 'brentcrude': 8430, 'declined': 8431, 'futuresexchange': 8432, 'intermediate': 8433, 'intraday': 8434, 'motilal': 8435, 'oswal': 8436, 'sideways': 8437, 'slip': 8438, 'trimmed': 8439, 'westtexasintermediate': 8440, 'bouncing': 8441, 'colgate': 8442, 'colgatepalmolive': 8443, 'considerably': 8444, 'coupled': 8445, 'crisil': 8446, 'electoraldistrict': 8447, 'gained': 8448, 'godrej': 8449, 'godrejgroup': 8450, 'moderation': 8451, 'monsoon': 8452, 'palmolive': 8453, 'reservoir': 8454, 'riding': 8455, 'sitharama': 8456, 'steady': 8457, 'visibility': 8458, 'closer': 8459, 'commencing': 8460, 'condensed': 8461, 'continually': 8462, 'evaluate': 8463, 'iccworldcupqualifier': 8464, 'itinerary': 8465, 'monitor': 8466, 'monitored': 8467, 'nissan': 8468, 'qualifying': 8469, 'remaining': 8470, 'tetley': 8471, 'consulted': 8472, 'handed': 8473, 'kgea': 8474, 'shadakshari': 8475, 'ashabhosle': 8476, 'bhonsle': 8477, 'earth': 8478, 'indianstandardtime': 8479, 'ist': 8480, 'lauded': 8481, 'rishikapoor': 8482, 'themessage': 8483, 'twitterati': 8484, 'baldwin': 8485, 'courtesy': 8486, 'evidently': 8487, 'flaunt': 8488, 'hailey': 8489, 'hometown': 8490, 'yummy': 8491, 'artillery': 8492, 'binance': 8493, 'blockchain': 8494, 'compassion': 8495, 'crypto': 8496, 'cryptoagainstcovid': 8497, 'cryptocurrencies': 8498, 'cryptocurrency': 8499, 'fundraiser': 8500, 'helen': 8501, 'limitation': 8502, 'paramilitary': 8503, 'paramilitaryforcesofindia': 8504, 'powered': 8505, 'renminbi': 8506, 'rmb': 8507, 'xrp': 8508, 'mclr': 8509, 'mismatch': 8510, 'msme': 8511, 'repayment': 8512, 'ayurveda': 8513, 'ayurvedic': 8514, 'businessstandard': 8515, 'canned': 8516, 'canning': 8517, 'clothing': 8518, 'courier': 8519, 'distinction': 8520, 'faridabad': 8521, 'multinational': 8522, 'multinationalcorporation': 8523, 'paytm': 8524, 'productivity': 8525, 'qualified': 8526, 'qualify': 8527, 'scaleinvariantfeaturetransform': 8528, 'sift': 8529, 'tizzy': 8530, 'unclear': 8531, 'warehouse': 8532, 'amtrak': 8533, 'childcare': 8534, 'deploying': 8535, 'intends': 8536, 'medicaid': 8537, 'medicare': 8538, 'nationalguardoftheunitedstates': 8539, 'nationalsecurity': 8540, 'nonprofit': 8541, 'nonprofitorganization': 8542, 'outstanding': 8543, 'presidencyofdonaldtrump': 8544, 'sharesoutstanding': 8545, 'stamp': 8546, 'supplementalnutritionassistanceprogram': 8547, 'thedeal': 8548, 'triple': 8549, 'reacting': 8550, 'boiler': 8551, 'compressed': 8552, 'compressedair': 8553, 'crackle': 8554, 'deposit': 8555, 'droplet': 8556, 'generates': 8557, 'kmph': 8558, 'kmphtv': 8559, 'mechanically': 8560, 'mucus': 8561, 'particle': 8562, 'respiratorytract': 8563, 'saliva': 8564, 'throat': 8565, 'tract': 8566, 'abha': 8567, 'bottomline': 8568, 'chore': 8569, 'easiest': 8570, 'importantly': 8571, 'kalra': 8572, 'ladieseuropeantour': 8573, 'meddle': 8574, 'relationship': 8575, 'russianlanguage': 8576, 'sanjeev': 8577, 'slack': 8578, 'telling': 8579, 'veer': 8580, 'workfromhome': 8581, 'achieve': 8582, 'ambitious': 8583, 'ambitiously': 8584, 'calculus': 8585, 'cambridge': 8586, 'coding': 8587, 'confined': 8588, 'contest': 8589, 'culminate': 8590, 'emulate': 8591, 'expression': 8592, 'gandhinagar': 8593, 'gravity': 8594, 'greatplagueoflondon': 8595, 'grow': 8596, 'iitgn': 8597, 'isaac': 8598, 'jumped': 8599, 'motivate': 8600, 'optic': 8601, 'prize': 8602, 'proportion': 8603, 'proud': 8604, 'showcase': 8605, 'sir': 8606, 'skill': 8607, 'strives': 8608, 'talent': 8609, 'theproject': 8610, 'trinity': 8611, 'trinitycollegecambridge': 8612, 'voluntary': 8613, 'wondrous': 8614, 'agartala': 8615, 'apex': 8616, 'bikreta': 8617, 'biplab': 8618, 'deb': 8619, 'dey': 8620, 'electronicpaper': 8621, 'flagged': 8622, 'harassment': 8623, 'kantartns': 8624, 'lifesupport': 8625, 'patrika': 8626, 'samity': 8627, 'subal': 8628, 'tripura': 8629, 'vernacular': 8630, 'abhi': 8631, 'aired': 8632, 'altbalaji': 8633, 'bhagya': 8634, 'bhi': 8635, 'captioning': 8636, 'eps': 8637, 'fav': 8638, 'filmproducer': 8639, 'goodwill': 8640, 'humsafar': 8641, 'iamramkapoor': 8642, 'karle': 8643, 'karletubhimohabat': 8644, 'kumkum': 8645, 'kumkumbhagya': 8646, 'kundali': 8647, 'kundalibhagya': 8648, 'mohobbat': 8649, 'pragya': 8650, 'preeta': 8651, 'ramkapoor': 8652, 'sakshi': 8653, 'sakshitanwar': 8654, 'stalled': 8655, 'tanwar': 8656, 'tipsy': 8657, 'tonight': 8658, 'tu': 8659, 'ur': 8660, 'zee': 8661, 'zeetv': 8662, 'aiming': 8663, 'alternate': 8664, 'banker': 8665, 'centralbank': 8666, 'declining': 8667, 'disbursal': 8668, 'disclosed': 8669, 'familiar': 8670, 'focusing': 8671, 'bemina': 8672, 'castigated': 8673, 'forthwith': 8674, 'furnished': 8675, 'handled': 8676, 'informing': 8677, 'mir': 8678, 'pulmonology': 8679, 'skim': 8680, 'civic': 8681, 'hamper': 8682, 'journalist': 8683, 'kamalnath': 8684, 'municipalgovernanceinindia': 8685, 'nath': 8686, 'restraint': 8687, 'tolerate': 8688, 'travelling': 8689, 'wherein': 8690, 'anxious': 8691, 'boycott': 8692, 'ghatkopar': 8693, 'homecoming': 8694, 'waved': 8695, 'bowring': 8696, 'chestpain': 8697, 'fracture': 8698, 'gauribidanur': 8699, 'hip': 8700, 'hipfracture': 8701, 'sriramulu': 8702, 'succumbed': 8703, 'murder': 8704, 'gramin': 8705, 'kishan': 8706, 'preferred': 8707, 'overturning': 8708, 'edgar': 8709, 'su': 8710, 'anushkashetty': 8711, 'baker': 8712, 'bakes': 8713, 'bakingpowder': 8714, 'bandwagon': 8715, 'batter': 8716, 'bewakoof': 8717, 'bowl': 8718, 'cheerleader': 8719, 'chocolate': 8720, 'cute': 8721, 'delighted': 8722, 'joining': 8723, 'listofhindifilmfamilies': 8724, 'omelette': 8725, 'ordering': 8726, 'painting': 8727, 'pari': 8728, 'poetry': 8729, 'sara': 8730, 'shenanigan': 8731, 'shetty': 8732, 'shilpa': 8733, 'shilpashetty': 8734, 'somewhere': 8735, 'whipped': 8736, 'adult': 8737, 'disclaimer': 8738, 'involve': 8739, 'kaushal': 8740, 'motivation': 8741, 'rope': 8742, 'skipping': 8743, 'skippingrope': 8744, 'vicky': 8745, 'argar': 8746, 'buckingham': 8747, 'buckinghampalace': 8748, 'camilla': 8749, 'castle': 8750, 'criterion': 8751, 'elizabeth': 8752, 'elizabethii': 8753, 'heir': 8754, 'isolating': 8755, 'junior': 8756, 'medicalhistory': 8757, 'monarch': 8758, 'monarchy': 8759, 'philip': 8760, 'princephilipdukeofedinburgh': 8761, 'skynews': 8762, 'throne': 8763, 'windsor': 8764, 'windsorcastle': 8765, 'background': 8766, 'boomerang': 8767, 'contestant': 8768, 'dreamy': 8769, 'hardik': 8770, 'hardikpandya': 8771, 'hewlettpackard': 8772, 'hp': 8773, 'hush': 8774, 'krunal': 8775, 'nata': 8776, 'natasa': 8777, 'natasastankovic': 8778, 'nats': 8779, 'natsholdings': 8780, 'newyear': 8781, 'pandya': 8782, 'pandyandynasty': 8783, 'pankhuri': 8784, 'pooch': 8785, 'romance': 8786, 'romancefilm': 8787, 'selflessly': 8788, 'shaped': 8789, 'stankovi': 8790, 'stankovic': 8791, 'yacht': 8792, 'ap': 8793, 'jaihind': 8794, 'kapilsharmak': 8795, 'pmrelieffund': 8796, 'turbulent': 8797, 'abovementioned': 8798, 'additionality': 8799, 'amended': 8800, 'chana': 8801, 'goi': 8802, 'includepandemic': 8803, 'moong': 8804, 'ofcentre': 8805, 'poorfamily': 8806, 'recoverable': 8807, 'schemeapproximately': 8808, 'text': 8809, 'todisruption': 8810, 'toor': 8811, 'urad': 8812, 'vi': 8813, 'vignamungo': 8814, 'whicheveris': 8815, 'misconduct': 8816, 'shrivastava': 8817, 'staffer': 8818, 'autumn': 8819, 'insulated': 8820, 'suitcase': 8821, 'winter': 8822, 'anna': 8823, 'mantra': 8824, 'sop': 8825, 'stratum': 8826, 'bocw': 8827, 'hiking': 8828, 'lk': 8829, 'preference': 8830, 'ccea': 8831, 'councilforthecurriculumexaminationsassessment': 8832, 'headed': 8833, 'kilo': 8834, 'nfsa': 8835, 'quota': 8836, 'addressing': 8837, 'impacting': 8838, 'causing': 8839, 'sooner': 8840, 'boredom': 8841, 'convey': 8842, 'dhoni': 8843, 'jadeja': 8844, 'kl': 8845, 'klrahul': 8846, 'msdhoni': 8847, 'ravindra': 8848, 'ravindrajadeja': 8849, 'starsports': 8850, 'victorious': 8851, 'combating': 8852, 'anbuselvan': 8853, 'contributes': 8854, 'cuddalore': 8855, 'cuddaloredistrict': 8856, 'mlalad': 8857, 'pandian': 8858, 'polymerase': 8859, 'presence': 8860, 'reversetranscriptionpolymerasechainreaction': 8861, 'rt': 8862, 'sampath': 8863, 'invite': 8864, 'quotation': 8865, 'boring': 8866, 'learningthere': 8867, 'podcasts': 8868, 'recognizing': 8869, 'smart': 8870, 'studentsit': 8871, 'studying': 8872, 'clergyman': 8873, 'francis': 8874, 'holy': 8875, 'holysee': 8876, 'hospitalised': 8877, 'il': 8878, 'lastampa': 8879, 'livestreamed': 8880, 'martha': 8881, 'messagro': 8882, 'museum': 8883, 'nerve': 8884, 'pontiff': 8885, 'pope': 8886, 'popefrancis': 8887, 'rome': 8888, 'saint': 8889, 'sciatica': 8890, 'spends': 8891, 'stampa': 8892, 'streamingmedia': 8893, 'unnamed': 8894, 'vatican': 8895, 'vaticanlibrary': 8896, 'vaticanmuseums': 8897, 'briton': 8898, 'exec': 8899, 'firesafety': 8900, 'foreignnational': 8901, 'gims': 8902, 'heading': 8903, 'linked': 8904, 'sanitized': 8905, 'speciality': 8906, 'downloading': 8907, 'formerly': 8908, 'juggernaut': 8909, 'literary': 8910, 'literaryfestival': 8911, 'promote': 8912, 'candy': 8913, 'commenting': 8914, 'emailed': 8915, 'mandated': 8916, 'mitigate': 8917, 'publicsecurity': 8918, 'wrigley': 8919, 'amns': 8920, 'annually': 8921, 'apprised': 8922, 'arcelormittal': 8923, 'blast': 8924, 'blastfurnace': 8925, 'dhenkanal': 8926, 'dhenkanalindia': 8927, 'discussing': 8928, 'firebrick': 8929, 'furnace': 8930, 'jamshedpur': 8931, 'jindalsteelandpower': 8932, 'jspl': 8933, 'jsw': 8934, 'kalinganagar': 8935, 'khopoli': 8936, 'nippon': 8937, 'nipponsteelsumitomometal': 8938, 'refractory': 8939, 'rinl': 8940, 'sahibabad': 8941, 'sail': 8942, 'steelauthorityofindia': 8943, 'tatasteel': 8944, 'antimalarial': 8945, 'behave': 8946, 'blockage': 8947, 'malaria': 8948, 'panicking': 8949, 'pursuing': 8950, 'saurabh': 8951, 'volunteered': 8952, 'wetwipe': 8953, 'benefitted': 8954, 'afridi': 8955, 'allrounder': 8956, 'bajrang': 8957, 'change': 8958, 'chardikala': 8959, 'defense': 8960, 'harbhajan': 8961, 'harbhajansingh': 8962, 'naam': 8963, 'necessity': 8964, 'offspin': 8965, 'osd': 8966, 'punia': 8967, 'rounder': 8968, 'sania': 8969, 'saniamirza': 8970, 'shahid': 8971, 'shahidafridi': 8972, 'shikhar': 8973, 'shikhardhawan': 8974, 'wrestler': 8975, 'orderedcovid': 8976, 'annoying': 8977, 'celebrate': 8978, 'nakuul': 8979, 'navroz': 8980, 'nyc': 8981, 'ott': 8982, 'overthetopmediaservices': 8983, 'samisha': 8984, 'sanaya': 8985, 'sanayairani': 8986, 'shortfilm': 8987, 'starring': 8988, 'stream': 8989, 'dabangg': 8990, 'disinformation': 8991, 'havoc': 8992, 'oath': 8993, 'odia': 8994, 'odialanguage': 8995, 'thewanted': 8996, 'wreak': 8997, 'altercation': 8998, 'antagonist': 8999, 'appears': 9000, 'avenger': 9001, 'belongs': 9002, 'belova': 9003, 'blackwidow': 9004, 'brief': 9005, 'buckybarnes': 9006, 'captainamerica': 9007, 'comic': 9008, 'easteregg': 9009, 'endgame': 9010, 'fagbenle': 9011, 'familial': 9012, 'florence': 9013, 'guardian': 9014, 'identity': 9015, 'ironmaiden': 9016, 'ironman': 9017, 'johansson': 9018, 'leak': 9019, 'loose': 9020, 'mantle': 9021, 'melina': 9022, 'melinaperez': 9023, 'natasha': 9024, 'ot': 9025, 'postcreditsscene': 9026, 'prequel': 9027, 'pugh': 9028, 'rachelweisz': 9029, 'redguardian': 9030, 'romanoff': 9031, 'ross': 9032, 'scarlett': 9033, 'scarlettjohansson': 9034, 'scene': 9035, 'screenrant': 9036, 'secretly': 9037, 'sequence': 9038, 'soldier': 9039, 'storyline': 9040, 'taskmaster': 9041, 'thaddeus': 9042, 'thereby': 9043, 'thunderbolt': 9044, 'thunderboltross': 9045, 'upaccording': 9046, 'weisz': 9047, 'widely': 9048, 'yelena': 9049, 'bhargav': 9050, 'chartered': 9051, 'pediatric': 9052, 'resides': 9053, 'ambit': 9054, 'capitalgainstax': 9055, 'dalton': 9056, 'dictate': 9057, 'fpi': 9058, 'greedy': 9059, 'humanitarianaid': 9060, 'influenced': 9061, 'ltcg': 9062, 'markettrend': 9063, 'selfish': 9064, 'structure': 9065, 'trim': 9066, 'basket': 9067, 'bhartienterprises': 9068, 'enthuse': 9069, 'gail': 9070, 'gainer': 9071, 'gauge': 9072, 'indusind': 9073, 'infratel': 9074, 'larsen': 9075, 'larsentoubro': 9076, 'toubro': 9077, 'traded': 9078, 'ukrainianpremierleague': 9079, 'upl': 9080, 'availing': 9081, 'employing': 9082, 'enrolled': 9083, 'relaxes': 9084, 'chandrapur': 9085, 'chandrapurdistrict': 9086, 'exhausted': 9087, 'inspector': 9088, 'jambh': 9089, 'nagpur': 9090, 'narrated': 9091, 'nishikant': 9092, 'ordeal': 9093, 'ramteke': 9094, 'saoli': 9095, 'shelke': 9096, 'shivaji': 9097, 'sindewahi': 9098, 'walking': 9099, 'achieved': 9100, 'allenglandopenbadmintonchampionships': 9101, 'badminton': 9102, 'badmintonworldfederation': 9103, 'birmingham': 9104, 'bwf': 9105, 'bwfgrandprixgoldandgrandprix': 9106, 'feat': 9107, 'nozomi': 9108, 'nozomiokuhara': 9109, 'okuhara': 9110, 'personality': 9111, 'pradeshcm': 9112, 'pv': 9113, 'pvsindhu': 9114, 'shuttler': 9115, 'sixth': 9116, 'telanganacmo': 9117, 'youngest': 9118, 'confirmation': 9119, 'educationalentranceexamination': 9120, 'jeecup': 9121, 'jointentranceexamination': 9122, 'modification': 9123, 'modify': 9124, 'nic': 9125, 'polytechnic': 9126, 'sic': 9127, 'upjee': 9128, 'abled': 9129, 'alleviating': 9130, 'maha': 9131, 'surviving': 9132, 'ana': 9133, 'beneath': 9134, 'chambal': 9135, 'chambalriver': 9136, 'dar': 9137, 'darshan': 9138, 'gangdhar': 9139, 'interstate': 9140, 'interstatehighwaysystem': 9141, 'jhalawar': 9142, 'jhalawardistrict': 9143, 'kalyansingh': 9144, 'kanwar': 9145, 'kota': 9146, 'kotarajasthan': 9147, 'mangled': 9148, 'neemuch': 9149, 'overbridge': 9150, 'personalluxurycar': 9151, 'plunged': 9152, 'rain': 9153, 'rajgarh': 9154, 'rajgarhdistrict': 9155, 'river': 9156, 'seema': 9157, 'temple': 9158, 'tibetanempire': 9159, 'tried': 9160, 'tufan': 9161, 'bhopal': 9162, 'breathlessness': 9163, 'deteriorated': 9164, 'gwalior': 9165, 'jabalpur': 9166, 'metrogoldwynmayer': 9167, 'mgm': 9168, 'shivpuri': 9169, 'shortnessofbreath': 9170, 'wee': 9171, 'crime': 9172, 'cyber': 9173, 'cybercrime': 9174, 'dalgate': 9175, 'freerangingdog': 9176, 'hungary': 9177, 'jockey': 9178, 'kazakhstan': 9179, 'leaked': 9180, 'radiopersonality': 9181, 'refuting': 9182, 'reveal': 9183, 'selfreportstudy': 9184, 'stray': 9185, 'taiwan': 9186, 'maharsahtra': 9187, 'aashvast': 9188, 'andhadhun': 9189, 'ardhanirmit': 9190, 'bachchon': 9191, 'chahoonga': 9192, 'charitra': 9193, 'donor': 9194, 'hain': 9195, 'imagesharing': 9196, 'imaratein': 9197, 'janana': 9198, 'jeevan': 9199, 'ke': 9200, 'khayal': 9201, 'khyal': 9202, 'koi': 9203, 'lie': 9204, 'log': 9205, 'marate': 9206, 'mitra': 9207, 'nahin': 9208, 'paane': 9209, 'palpable': 9210, 'performer': 9211, 'relatable': 9212, 'roz': 9213, 'ruffle': 9214, 'sab': 9215, 'shararatein': 9216, 'sharte': 9217, 'tumhaare': 9218, 'tumse': 9219, 'vickydonor': 9220, 'yahaan': 9221, 'zindagi': 9222, 'cine': 9223, 'coronavrius': 9224, 'deepika': 9225, 'deepikapadukone': 9226, 'ishaan': 9227, 'khaali': 9228, 'khatter': 9229, 'maqbool': 9230, 'padukone': 9231, 'peeli': 9232, 'reveals': 9233, 'shakun': 9234, 'applause': 9235, 'caught': 9236, 'fatima': 9237, 'indianpoliceservice': 9238, 'ip': 9239, 'shopper': 9240, 'tabarak': 9241, 'tape': 9242, 'throng': 9243, 'winning': 9244, 'babyboomers': 9245, 'bleak': 9246, 'boomer': 9247, 'respondent': 9248, 'slightly': 9249, 'vast': 9250, 'visible': 9251, 'yougov': 9252, 'shukla': 9253, 'aapke': 9254, 'aur': 9255, 'band': 9256, 'bashing': 9257, 'bombarding': 9258, 'dijiye': 9259, 'farah': 9260, 'farahkhan': 9261, 'humare': 9262, 'kaif': 9263, 'katrina': 9264, 'katrinakaif': 9265, 'kijiye': 9266, 'reham': 9267, 'sonam': 9268, 'sonamkapoor': 9269, 'tabu': 9270, 'toh': 9271, 'unfollow': 9272, 'unnecessarily': 9273, 'upar': 9274, 'equivalent': 9275, 'underscored': 9276, 'chittoor': 9277, 'chittoorandhrapradesh': 9278, 'identifying': 9279, 'kadapa': 9280, 'kurnool': 9281, 'nellore': 9282, 'prakasam': 9283, 'prakasamdistrict': 9284, 'returnee': 9285, 'returnees': 9286, 'srikakulam': 9287, 'tripled': 9288, 'visakhapatnam': 9289, 'vizianagaram': 9290, 'westgodavaridistrict': 9291, 'fifaworldcuptrophy': 9292, 'iccworldtwenty': 9293, 'soften': 9294, 'adjusting': 9295, 'afc': 9296, 'ageconcern': 9297, 'ageing': 9298, 'asianfootballconfederation': 9299, 'evergreen': 9300, 'grahamarnold': 9301, 'heliocourier': 9302, 'jamesjohnson': 9303, 'medal': 9304, 'organizer': 9305, 'participate': 9306, 'shatter': 9307, 'angle': 9308, 'baycare': 9309, 'biomedicalwaste': 9310, 'bundeswehr': 9311, 'casalpalocco': 9312, 'controlledaccesshighway': 9313, 'cuba': 9314, 'cytopathology': 9315, 'daegu': 9316, 'dongsan': 9317, 'drivein': 9318, 'florida': 9319, 'fondant': 9320, 'fondanticing': 9321, 'freeway': 9322, 'havana': 9323, 'incalifornia': 9324, 'janeiro': 9325, 'marble': 9326, 'organized': 9327, 'outskirt': 9328, 'raymond': 9329, 'raymondjamesstadium': 9330, 'riodejaneiro': 9331, 'rocinha': 9332, 'saarbracken': 9333, 'smear': 9334, 'soap': 9335, 'stadium': 9336, 'tampa': 9337, 'tampaflorida': 9338, 'toiletpaper': 9339, 'anushree': 9340, 'charitable': 9341, 'commuter': 9342, 'dissuade': 9343, 'fadnavis': 9344, 'kashmirvalley': 9345, 'maintaining': 9346, 'pavement': 9347, 'prayagraj': 9348, 'questioning': 9349, 'ranchi': 9350, 'subhav': 9351, 'tyre': 9352, 'vaishali': 9353, 'valley': 9354, 'ann': 9355, 'covering': 9356, 'cancelling': 9357, 'communicating': 9358, 'filled': 9359, 'hughes': 9360, 'itthe': 9361, 'jobjust': 9362, 'keymake': 9363, 'mandatory': 9364, 'pajama': 9365, 'remotely': 9366, 'wfh': 9367, 'accurate': 9368, 'betterment': 9369, 'concluding': 9370, 'defaulter': 9371, 'dehradun': 9372, 'deviation': 9373, 'hide': 9374, 'hiding': 9375, 'kashmiri': 9376, 'khuehami': 9377, 'procrastination': 9378, 'secure': 9379, 'shocking': 9380, 'sincerely': 9381, 'sober': 9382, 'surpass': 9383, 'termed': 9384, 'unfortunate': 9385, 'voluntarily': 9386, 'accordance': 9387, 'calendar': 9388, 'draft': 9389, 'homeministry': 9390, 'nationalcouncilofeducationalresearchandtraining': 9391, 'nationalinstituteofopenschooling': 9392, 'ncert': 9393, 'nios': 9394, 'nta': 9395, 'relating': 9396, 'schooling': 9397, 'subordinate': 9398, 'asamiya': 9399, 'bangla': 9400, 'biography': 9401, 'bodo': 9402, 'bodopeople': 9403, 'forget': 9404, 'genre': 9405, 'guajarati': 9406, 'handbook': 9407, 'kokborok': 9408, 'marathi': 9409, 'marathilanguage': 9410, 'mizo': 9411, 'mizopeople': 9412, 'nepali': 9413, 'nepalilanguage': 9414, 'popularscience': 9415, 'premchand': 9416, 'punjabi': 9417, 'punjabilanguage': 9418, 'rabindranathtagore': 9419, 'sanskrit': 9420, 'satkam': 9421, 'stayhomeindiawithbooks': 9422, 'tagore': 9423, 'tatva': 9424, 'urdu': 9425, 'accomplished': 9426, 'broadcasting': 9427, 'correct': 9428, 'harder': 9429, 'javadekar': 9430, 'meaningful': 9431, 'pib': 9432, 'portfolio': 9433, 'stressing': 9434, 'ajaydevgn': 9435, 'akkineninagarjuna': 9436, 'awaited': 9437, 'aww': 9438, 'chiranjeevi': 9439, 'cub': 9440, 'debut': 9441, 'devgn': 9442, 'inactive': 9443, 'kajal': 9444, 'kajalaggarwal': 9445, 'lion': 9446, 'marked': 9447, 'megastar': 9448, 'mohanlal': 9449, 'motion': 9450, 'nagarjuna': 9451, 'ntr': 9452, 'ntramarao': 9453, 'raadhika': 9454, 'ranam': 9455, 'roudram': 9456, 'rrr': 9457, 'rudhiram': 9458, 'sarathkumar': 9459, 'sometime': 9460, 'telegana': 9461, 'arisen': 9462, 'chetan': 9463, 'chetansharma': 9464, 'detain': 9465, 'ians': 9466, 'indoasiannewsservice': 9467, 'kapildev': 9468, 'manimajra': 9469, 'predates': 9470, 'punjabcricketassociationisbindrastadium': 9471, 'rank': 9472, 'sportscomplex': 9473, 'urgency': 9474, 'venue': 9475, 'witness': 9476, 'yograj': 9477, 'yograjsingh': 9478, 'commissioning': 9479, 'environmental': 9480, 'exceeded': 9481, 'fleet': 9482, 'fossilfuelpowerstation': 9483, 'globalwarming': 9484, 'greenpeace': 9485, 'gw': 9486, 'plantdevelopment': 9487, 'shrank': 9488, 'sierra': 9489, 'sierraclub': 9490, 'warming': 9491, 'countryside': 9492, 'informally': 9493, 'redeploy': 9494, 'remittance': 9495, 'shutting': 9496, 'corpus': 9497, 'pradjhan': 9498, 'diesel': 9499, 'dieselengine': 9500, 'patil': 9501, 'ashley': 9502, 'chooses': 9503, 'diaper': 9504, 'external': 9505, 'kindness': 9506, 'legging': 9507, 'neighbor': 9508, 'plussizemodel': 9509, 'kamothe': 9510, 'mumbaipolice': 9511, 'deoband': 9512, 'forty': 9513, 'matoo': 9514, 'tracked': 9515, 'carandbike': 9516, 'compact': 9517, 'compactspace': 9518, 'convert': 9519, 'feedback': 9520, 'responded': 9521, 'situated': 9522, 'believing': 9523, 'dachepalli': 9524, 'goutham': 9525, 'inquired': 9526, 'looming': 9527, 'mekapati': 9528, 'refrain': 9529, 'sawang': 9530, 'agr': 9531, 'andrettiautosport': 9532, 'concentrate': 9533, 'dot': 9534, 'duopoly': 9535, 'hefty': 9536, 'monopoly': 9537, 'tatateleservices': 9538, 'teleservices': 9539, 'tricky': 9540, 'trouble': 9541, 'accelerates': 9542, 'automaker': 9543, 'bhargava': 9544, 'build': 9545, 'carmaker': 9546, 'closedown': 9547, 'evaluating': 9548, 'generalmotors': 9549, 'indiana': 9550, 'indo': 9551, 'initiating': 9552, 'mobilesuitgundam': 9553, 'officially': 9554, 'signonandsignoff': 9555, 'timeline': 9556, 'yorkfactory': 9557, 'alt': 9558, 'bearer': 9559, 'bhatia': 9560, 'brilliant': 9561, 'canteen': 9562, 'cardoz': 9563, 'chaat': 9564, 'chang': 9565, 'chefdecuisine': 9566, 'chickentikka': 9567, 'cuisine': 9568, 'culinary': 9569, 'dave': 9570, 'davidchang': 9571, 'doting': 9572, 'feast': 9573, 'flag': 9574, 'floyd': 9575, 'floydcardoz': 9576, 'fortunate': 9577, 'goan': 9578, 'heaven': 9579, 'husbamd': 9580, 'imagine': 9581, 'indiancuisine': 9582, 'jersey': 9583, 'keller': 9584, 'kenji': 9585, 'kenjilopezalt': 9586, 'khushandoj': 9587, 'khushbu': 9588, 'loving': 9589, 'masala': 9590, 'michelin': 9591, 'michelinguide': 9592, 'mithai': 9593, 'mountainside': 9594, 'mountainsidenewjersey': 9595, 'mourns': 9596, 'newjersey': 9597, 'nurturing': 9598, 'oqqrgdyrns': 9599, 'partie': 9600, 'passing': 9601, 'pez': 9602, 'pioneer': 9603, 'restaurateur': 9604, 'rip': 9605, 'root': 9606, 'routinginformationprotocol': 9607, 'saran': 9608, 'showcased': 9609, 'southasianethnicgroups': 9610, 'southasiansweets': 9611, 'spicemix': 9612, 'tabla': 9613, 'tbc': 9614, 'thomas': 9615, 'thomaskeller': 9616, 'tikka': 9617, 'tobeannounced': 9618, 'topchefmaster': 9619, 'tragic': 9620, 'trail': 9621, 'w': 9622, 'ayaan': 9623, 'bake': 9624, 'emraan': 9625, 'emraanhashmi': 9626, 'enjoyed': 9627, 'greeting': 9628, 'hashmi': 9629, 'mom': 9630, 'parveen': 9631, 'qeustionale': 9632, 'aprilicc': 9633, 'augusticc': 9634, 'careful': 9635, 'conjunction': 9636, 'driven': 9637, 'eap': 9638, 'evaluation': 9639, 'finland': 9640, 'forever': 9641, 'julyicc': 9642, 'juneall': 9643, 'juneicc': 9644, 'junk': 9645, 'junkfood': 9646, 'kuwait': 9647, 'lash': 9648, 'mayicc': 9649, 'mithali': 9650, 'mithaliraj': 9651, 'namibia': 9652, 'octobericc': 9653, 'png': 9654, 'prudent': 9655, 'qualifie': 9656, 'raj': 9657, 'swisschallengeleague': 9658, 'tbcicc': 9659, 'tbcthe': 9660, 'threatthe': 9661, 'uganda': 9662, 'wait': 9663, 'widespread': 9664, 'yearicc': 9665, 'conceded': 9666, 'disappointing': 9667, 'primeministerofindia': 9668, 'scary': 9669, 'shankar': 9670, 'sunrisers': 9671, 'sunrisershyderabad': 9672, 'whatever': 9673, 'wildfire': 9674, 'countryman': 9675, 'ozzuhcheey': 9676, 'sachintendulkar': 9677, 'aggravates': 9678, 'arrears': 9679, 'bharatheavyelectricals': 9680, 'bhel': 9681, 'bhelsia': 9682, 'categorised': 9683, 'demonetisation': 9684, 'disastrous': 9685, 'disstress': 9686, 'fabrication': 9687, 'goodsandservicestax': 9688, 'gst': 9689, 'irrespective': 9690, 'legaltender': 9691, 'organisatio': 9692, 'promoter': 9693, 'rajappa': 9694, 'warranting': 9695, 'alzheimer': 9696, 'alzheimersdisease': 9697, 'capability': 9698, 'centralprocessingunit': 9699, 'computing': 9700, 'cpu': 9701, 'crowdsourced': 9702, 'exaflop': 9703, 'flop': 9704, 'folding': 9705, 'forbes': 9706, 'gpu': 9707, 'graphicsprocessingunit': 9708, 'hardware': 9709, 'homenetwork': 9710, 'ibm': 9711, 'installing': 9712, 'lend': 9713, 'networkten': 9714, 'opensourcemodel': 9715, 'operatingsystem': 9716, 'parkinson': 9717, 'parkinsonsdisease': 9718, 'petaflops': 9719, 'supercomputer': 9720, 'tom': 9721, 'afederaldesona': 9722, 'aliasgar': 9723, 'anupampkher': 9724, 'asgar': 9725, 'blond': 9726, 'blonde': 9727, 'candid': 9728, 'casuals': 9729, 'comicrelief': 9730, 'embroidery': 9731, 'forehead': 9732, 'gliding': 9733, 'hair': 9734, 'jaao': 9735, 'kingaliasgar': 9736, 'nani': 9737, 'necklace': 9738, 'neena': 9739, 'neenagupta': 9740, 'parineeti': 9741, 'parineetichopra': 9742, 'penitenciar': 9743, 'phir': 9744, 'platinum': 9745, 'reacted': 9746, 'sadness': 9747, 'showa': 9748, 'silky': 9749, 'soaring': 9750, 'sona': 9751, 'style': 9752, 'subah': 9753, 'thekapilsharmashow': 9754, 'thesedays': 9755, 'thevirdas': 9756, 'upset': 9757, 'uthkar': 9758, 'wig': 9759, 'busiest': 9760, 'businessprocessoutsourcing': 9761, 'client': 9762, 'desktopcomputer': 9763, 'finalgood': 9764, 'hire': 9765, 'ites': 9766, 'succession': 9767, 'successionplanning': 9768, 'amounted': 9769, 'bbmp': 9770, 'bruhatbengalurumahanagarapalike': 9771, 'submit': 9772, 'arkansas': 9773, 'bach': 9774, 'conglomerate': 9775, 'consequence': 9776, 'crouser': 9777, 'defend': 9778, 'denying': 9779, 'diamond': 9780, 'doyle': 9781, 'elite': 9782, 'expensive': 9783, 'flux': 9784, 'foreseeable': 9785, 'generalelectric': 9786, 'heightened': 9787, 'iaafdiamondleague': 9788, 'interesting': 9789, 'jonny': 9790, 'lawyer': 9791, 'leverage': 9792, 'logicalconsequence': 9793, 'madill': 9794, 'madilloklahoma': 9795, 'negotiate': 9796, 'negotiates': 9797, 'nike': 9798, 'nikeinc': 9799, 'olympian': 9800, 'opposite': 9801, 'oregon': 9802, 'problematic': 9803, 'reinvigorated': 9804, 'sheridan': 9805, 'sponsorship': 9806, 'thomasbach': 9807, 'valuable': 9808, 'acknowledging': 9809, 'actively': 9810, 'behalf': 9811, 'contactless': 9812, 'contactlesspayment': 9813, 'curtailed': 9814, 'lockdownzomato': 9815, 'unserviceable': 9816, 'angioplasty': 9817, 'aspiring': 9818, 'bellevue': 9819, 'bellevuehospital': 9820, 'bombshell': 9821, 'convicted': 9822, 'correctional': 9823, 'disgraced': 9824, 'expose': 9825, 'farrow': 9826, 'forcibly': 9827, 'haleyi': 9828, 'harvey': 9829, 'harveyweinstein': 9830, 'jodi': 9831, 'kantor': 9832, 'megan': 9833, 'metoo': 9834, 'metoomovement': 9835, 'mimi': 9836, 'oralsex': 9837, 'oscar': 9838, 'ousted': 9839, 'predation': 9840, 'predatory': 9841, 'prison': 9842, 'productionassistant': 9843, 'pulp': 9844, 'pulpfiction': 9845, 'rape': 9846, 'raping': 9847, 'rikers': 9848, 'rikersisland': 9849, 'ronan': 9850, 'ronanfarrow': 9851, 'sex': 9852, 'sexual': 9853, 'sexualassault': 9854, 'shakespeare': 9855, 'thenewyorker': 9856, 'thenewyorktimes': 9857, 'twohey': 9858, 'weinstein': 9859, 'wende': 9860, 'williamshakespeare': 9861, 'yorker': 9862, 'governmentofdelhi': 9863, 'homelessshelter': 9864, 'shahdara': 9865, 'dhadkan': 9866, 'dye': 9867, 'hinduism': 9868, 'hungama': 9869, 'ideally': 9870, 'kundra': 9871, 'sabbir': 9872, 'ssk': 9873, 'viaan': 9874, 'consciously': 9875, 'consultant': 9876, 'experiencing': 9877, 'jessani': 9878, 'laxman': 9879, 'raghu': 9880, 'surgeon': 9881, 'touching': 9882, 'aptitude': 9883, 'bidding': 9884, 'cen': 9885, 'centralized': 9886, 'conduct': 9887, 'conducting': 9888, 'eca': 9889, 'electronicassessment': 9890, 'europeancommitteeforstandardization': 9891, 'fibaworldchampionshipforwomen': 9892, 'floated': 9893, 'ministerial': 9894, 'ministryofrailways': 9895, 'mulling': 9896, 'piyush': 9897, 'rrb': 9898, 'rrbs': 9899, 'rrc': 9900, 'tender': 9901, 'tendering': 9902, 'typing': 9903, 'dubbed': 9904, 'tranche': 9905, 'aided': 9906, 'alike': 9907, 'bacterial': 9908, 'constructing': 9909, 'convolutional': 9910, 'convolutionalneuralnetwork': 9911, 'covidx': 9912, 'darwin': 9913, 'darwinai': 9914, 'darwinnorthernterritory': 9915, 'dataset': 9916, 'deeplearning': 9917, 'diagnose': 9918, 'faster': 9919, 'leveraged': 9920, 'neural': 9921, 'openaccess': 9922, 'pathogenicbacteria': 9923, 'practical': 9924, 'revolutionary': 9925, 'startup': 9926, 'waterloo': 9927, 'waterlooontario': 9928, 'wonga': 9929, 'wongacom': 9930, 'xray': 9931, 'bhopaldistrict': 9932, 'chhatarpur': 9933, 'controlroom': 9934, 'indoredistrict': 9935, 'jabalpurdistrict': 9936, 'jatav': 9937, 'theage': 9938, 'ujjaindistrict': 9939, 'nxt': 9940, 'aditi': 9941, 'adityabirlagroup': 9942, 'adityavikrambirla': 9943, 'agrotech': 9944, 'alloy': 9945, 'binoy': 9946, 'birla': 9947, 'cement': 9948, 'chiefoperatingofficer': 9949, 'despatch': 9950, 'dolomite': 9951, 'electricarcfurnace': 9952, 'esma': 9953, 'ferro': 9954, 'hindalco': 9955, 'hindalcoindustries': 9956, 'ime': 9957, 'induction': 9958, 'inputmethod': 9959, 'jajpur': 9960, 'jindal': 9961, 'limestone': 9962, 'logistical': 9963, 'navypettyofficersschoolofmechanics': 9964, 'satna': 9965, 'sea': 9966, 'somet': 9967, 'southindia': 9968, 'sponge': 9969, 'vedanta': 9970, 'virtually': 9971, 'waterway': 9972, 'apocalyptic': 9973, 'babyboom': 9974, 'beatles': 9975, 'birthcontrol': 9976, 'chloroquin': 9977, 'cohabitation': 9978, 'condom': 9979, 'contraceptive': 9980, 'demanding': 9981, 'distraction': 9982, 'dysfunction': 9983, 'erectile': 9984, 'erectiledysfunction': 9985, 'gaurav': 9986, 'hydroxychloroquine': 9987, 'intimacy': 9988, 'loyal': 9989, 'marriage': 9990, 'nawaz': 9991, 'nikita': 9992, 'palpitation': 9993, 'pill': 9994, 'quaranteens': 9995, 'quite': 9996, 'sang': 9997, 'sildenafil': 9998, 'sirgangaramhospital': 9999, 'sulfate': 10000, 'surfing': 10001, 'thebeatles': 10002, 'viagra': 10003, 'abundant': 10004, 'accorded': 10005, 'affiliation': 10006, 'appendix': 10007, 'applying': 10008, 'bye': 10009, 'competent': 10010, 'fulfillment': 10011, 'jee': 10012, 'switch': 10013, 'upgradation': 10014, 'vide': 10015, 'acknowledged': 10016, 'aging': 10017, 'alicante': 10018, 'besieged': 10019, 'biased': 10020, 'blackhole': 10021, 'catalonia': 10022, 'chamart': 10023, 'convoy': 10024, 'counterproductive': 10025, 'deluged': 10026, 'elpa': 10027, 'euclideanvector': 10028, 'gerontology': 10029, 'hole': 10030, 'horror': 10031, 'horrorfilm': 10032, 'inadequate': 10033, 'investigating': 10034, 'nea': 10035, 'neadelaconcepci': 10036, 'neglect': 10037, 'neglected': 10038, 'overtook': 10039, 'pa': 10040, 'prosecutor': 10041, 'provinceofalicante': 10042, 'rocking': 10043, 'selfimage': 10044, 'sociology': 10045, 'telephone': 10046, 'twodimensionalnuclearmagneticresonancespectroscopy': 10047, 'vector': 10048, 'westerneurope': 10049, 'andhrapradeshcm': 10050, 'disrupting': 10051, 'gambhir': 10052, 'gautamgambhir': 10053, 'grinding': 10054, 'hsbc': 10055, 'qwwzmxnw': 10056, 'centralfloridaexpresswayauthority': 10057, 'ecommercepaymentsystem': 10058, 'accessible': 10059, 'affirm': 10060, 'anturkar': 10061, 'bhushan': 10062, 'chiefjustice': 10063, 'cj': 10064, 'comprise': 10065, 'desai': 10066, 'dharmadhikari': 10067, 'dwarkadas': 10068, 'exemplary': 10069, 'gayatri': 10070, 'iyer': 10071, 'janak': 10072, 'janaka': 10073, 'litigant': 10074, 'litigation': 10075, 'manifold': 10076, 'mihir': 10077, 'peril': 10078, 'pils': 10079, 'presenting': 10080, 'prioritise': 10081, 'rajani': 10082, 'administrator': 10083, 'adviser': 10084, 'arizonacorporationcommission': 10085, 'badnore': 10086, 'beniwal': 10087, 'convenience': 10088, 'dgp': 10089, 'efficiency': 10090, 'happiness': 10091, 'homesecretary': 10092, 'juice': 10093, 'kangra': 10094, 'kangrahimachalpradesh': 10095, 'lake': 10096, 'manoj': 10097, 'mc': 10098, 'militarycross': 10099, 'panchkula': 10100, 'parida': 10101, 'presided': 10102, 'prevented': 10103, 'salon': 10104, 'saloon': 10105, 'sedan': 10106, 'ssps': 10107, 'stroll': 10108, 'sukhna': 10109, 'tricity': 10110, 'tricitypoland': 10111, 'vip': 10112, 'vpsingh': 10113, 'bea': 10114, 'beloved': 10115, 'bookscan': 10116, 'carvalho': 10117, 'classic': 10118, 'fitzgerald': 10119, 'fscottfitzgerald': 10120, 'gabriel': 10121, 'gabrielgarc': 10122, 'garcia': 10123, 'gatsby': 10124, 'hilary': 10125, 'hilarymantel': 10126, 'infinite': 10127, 'infinitejest': 10128, 'jar': 10129, 'jest': 10130, 'leo': 10131, 'leotolstoy': 10132, 'mantel': 10133, 'morrison': 10134, 'nielsenbookscan': 10135, 'noticed': 10136, 'plath': 10137, 'solitude': 10138, 'sylvia': 10139, 'sylviaplath': 10140, 'thebelljar': 10141, 'thegreatgatsby': 10142, 'theguardian': 10143, 'tolstoy': 10144, 'toni': 10145, 'tonimorrison': 10146, 'waterstones': 10147, 'beyond': 10148, 'concluded': 10149, 'federcalcio': 10150, 'figc': 10151, 'footballfederationaustralia': 10152, 'footballing': 10153, 'gabriele': 10154, 'gravina': 10155, 'gravinainpuglia': 10156, 'italianfootballfederation': 10157, 'juventus': 10158, 'juventusfc': 10159, 'marte': 10160, 'serie': 10161, 'seriea': 10162, 'tradeunion': 10163, 'uefa': 10164, 'unpleasant': 10165, 'altered': 10166, 'arab': 10167, 'coffee': 10168, 'cooperative': 10169, 'emirate': 10170, 'gaming': 10171, 'gulf': 10172, 'gulfcooperationcouncil': 10173, 'interior': 10174, 'interiorministry': 10175, 'medina': 10176, 'oman': 10177, 'onlinegame': 10178, 'rhythm': 10179, 'riyadh': 10180, 'suspending': 10181, 'tightened': 10182, 'tightens': 10183, 'umrah': 10184, 'balanced': 10185, 'cleanhands': 10186, 'efficacy': 10187, 'fetus': 10188, 'foetus': 10189, 'gynaecology': 10190, 'invitrofertilisation': 10191, 'ivf': 10192, 'lancet': 10193, 'pregnant': 10194, 'thelancet': 10195, 'transmissible': 10196, 'trimester': 10197, 'ultrasound': 10198, 'unborn': 10199, 'basketball': 10200, 'borough': 10201, 'bourbon': 10202, 'bourbonstreet': 10203, 'bray': 10204, 'brianadams': 10205, 'carolina': 10206, 'coast': 10207, 'compression': 10208, 'contactsport': 10209, 'crush': 10210, 'curbing': 10211, 'deepened': 10212, 'descended': 10213, 'economyoftheunitedstates': 10214, 'elsewhere': 10215, 'federalemergencymanagementagency': 10216, 'fema': 10217, 'gee': 10218, 'glimmer': 10219, 'gras': 10220, 'greatrecession': 10221, 'gulfcoastoftheunitedstates': 10222, 'hospitalization': 10223, 'hurricane': 10224, 'iowa': 10225, 'louisiana': 10226, 'louisianastateuniversity': 10227, 'mardi': 10228, 'mardigras': 10229, 'metropolis': 10230, 'mississippi': 10231, 'mississippiriver': 10232, 'neworleans': 10233, 'northcarolina': 10234, 'oak': 10235, 'ominous': 10236, 'orleans': 10237, 'parade': 10238, 'plusandminussigns': 10239, 'port': 10240, 'progress': 10241, 'quercusdouglasii': 10242, 'rebecca': 10243, 'rebekah': 10244, 'roughly': 10245, 'tentative': 10246, 'tightly': 10247, 'tropicalcyclone': 10248, 'tumbling': 10249, 'worsens': 10250, 'arriving': 10251, 'hyderpora': 10252, 'samir': 10253, 'cong': 10254, 'lay': 10255, 'lt': 10256, 'nellithope': 10257, 'orleanpet': 10258, 'bestseller': 10259, 'nbtindia': 10260, 'stayin': 10261, 'auction': 10262, 'bbc': 10263, 'ben': 10264, 'benstokes': 10265, 'county': 10266, 'ecb': 10267, 'englandandwalescricketboard': 10268, 'glenn': 10269, 'glennmaxwell': 10270, 'indianpremierleaguepersonnelchanges': 10271, 'inevitable': 10272, 'listof': 10273, 'maxwell': 10274, 'pilate': 10275, 'stokes': 10276, 'recommend': 10277, 'absurd': 10278, 'ava': 10279, 'coronaviruschallenge': 10280, 'gayshawnmendes': 10281, 'generationz': 10282, 'imitating': 10283, 'influencer': 10284, 'intelligencequotient': 10285, 'iq': 10286, 'karma': 10287, 'kingdomofava': 10288, 'larz': 10289, 'lfg': 10290, 'licked': 10291, 'licking': 10292, 'louise': 10293, 'naturalselection': 10294, 'nbltrs': 10295, 'nimesh': 10296, 'pardes': 10297, 'pardesseleh': 10298, 'qanon': 10299, 'seat': 10300, 'seleh': 10301, 'thund': 10302, 'toiletseat': 10303, 'z': 10304, 'casino': 10305, 'cisce': 10306, 'councilfortheindianschoolcertificateexaminations': 10307, 'gbshse': 10308, 'ssc': 10309, 'swimming': 10310, 'tenthgrade': 10311, 'thisweek': 10312, 'vandana': 10313, 'clamshell': 10314, 'con': 10315, 'conservativeparty': 10316, 'designlanguage': 10317, 'exchangerate': 10318, 'fascinating': 10319, 'finalised': 10320, 'flip': 10321, 'foldable': 10322, 'galaxy': 10323, 'hinge': 10324, 'lenovo': 10325, 'manipeninsula': 10326, 'megapixel': 10327, 'mobility': 10328, 'motorola': 10329, 'motorolamobility': 10330, 'oled': 10331, 'philosophy': 10332, 'pixel': 10333, 'prashanth': 10334, 'qualcommsnapdragon': 10335, 'razr': 10336, 'reboot': 10337, 'samsung': 10338, 'samsunggalaxy': 10339, 'snapdragon': 10340, 'untested': 10341, 'adequately': 10342, 'dispel': 10343, 'maujpur': 10344, 'stocked': 10345, 'chip': 10346, 'islam': 10347, 'obesity': 10348, 'viralload': 10349, 'administrativedivisionsofnewyork': 10350, 'adopted': 10351, 'albeit': 10352, 'bheempalli': 10353, 'devipatnam': 10354, 'dreaded': 10355, 'erected': 10356, 'faraway': 10357, 'fence': 10358, 'fencing': 10359, 'frost': 10360, 'ignorantly': 10361, 'laagarayi': 10362, 'lothupalem': 10363, 'placard': 10364, 'pothavaram': 10365, 'precisely': 10366, 'prisonbreak': 10367, 'rajavommangi': 10368, 'rampachodavaram': 10369, 'robertfrost': 10370, 'valmiki': 10371, 'alikhamenei': 10372, 'ayatollah': 10373, 'blaming': 10374, 'hampering': 10375, 'jointcomprehensiveplanofaction': 10376, 'khamenei': 10377, 'nuclear': 10378, 'sovereignwealthfund': 10379, 'tehran': 10380, 'wealth': 10381, 'bhavnagar': 10382, 'climb': 10383, 'indra': 10384, 'jayanti': 10385, 'kutch': 10386, 'kutchdistrict': 10387, 'rajkot': 10388, 'secretaryofstate': 10389, 'adopting': 10390, 'alphabet': 10391, 'appletv': 10392, 'bytedance': 10393, 'casting': 10394, 'chromecast': 10395, 'columbia': 10396, 'encourages': 10397, 'fume': 10398, 'gilani': 10399, 'holdout': 10400, 'integrate': 10401, 'iphone': 10402, 'mat': 10403, 'nadia': 10404, 'pc': 10405, 'personalcomputer': 10406, 'prop': 10407, 'rugbyunionpositions': 10408, 'subscription': 10409, 'surging': 10410, 'sync': 10411, 'thesetup': 10412, 'vancouver': 10413, 'versus': 10414, 'volpe': 10415, 'webcast': 10416, 'bat': 10417, 'fledged': 10418, 'gavaskar': 10419, 'offs': 10420, 'sunil': 10421, 'sunilgavaskar': 10422, 'supernova': 10423, 'unearth': 10424, 'expansion': 10425, 'organise': 10426, 'parallel': 10427, 'playoff': 10428, 'allergy': 10429, 'bochum': 10430, 'carboard': 10431, 'cardboard': 10432, 'fullest': 10433, 'hamilton': 10434, 'hamiltonmontana': 10435, 'hitch': 10436, 'montana': 10437, 'nbcnews': 10438, 'out': 10439, 'packing': 10440, 'princeton': 10441, 'princetonuniversity': 10442, 'recurring': 10443, 'ride': 10444, 'ruhr': 10445, 'ruhruniversitybochum': 10446, 'torres': 10447, 'universit': 10448, 'utensil': 10449, 'viable': 10450, 'washing': 10451, 'devise': 10452, 'economics': 10453, 'examine': 10454, 'kellogg': 10455, 'northwesternuniversity': 10456, 'tertiarysectoroftheeconomy': 10457, 'bijnor': 10458, 'bijnordistrict': 10459, 'britishrailwaymilktankwagon': 10460, 'hid': 10461, 'kicked': 10462, 'najibabad': 10463, 'risking': 10464, 'tanker': 10465, 'favouritism': 10466, 'distancethe': 10467, 'unified': 10468, 'chattisgarh': 10469, 'migrated': 10470, 'mizoram': 10471, 'attracting': 10472, 'broadcast': 10473, 'broadway': 10474, 'broadwaytheatre': 10475, 'cbs': 10476, 'escapism': 10477, 'escapist': 10478, 'esports': 10479, 'euphoria': 10480, 'fi': 10481, 'fierce': 10482, 'finale': 10483, 'flocking': 10484, 'foxbroadcastingcompany': 10485, 'hbonow': 10486, 'ncis': 10487, 'sci': 10488, 'sciencefiction': 10489, 'scored': 10490, 'survivor': 10491, 'thegooddoctor': 10492, 'thisisus': 10493, 'topical': 10494, 'topicalmedication': 10495, 'tugging': 10496, 'unseen': 10497, 'viewer': 10498, 'watched': 10499, 'westworld': 10500, 'centralbusinessdistrict': 10501, 'centralmarketkualalumpur': 10502, 'frequented': 10503, 'kasaragod': 10504, 'kasargod': 10505, 'mangaluru': 10506, 'poojary': 10507, 'pujari': 10508, 'srinivasa': 10509, 'aayushi': 10510, 'adapted': 10511, 'archana': 10512, 'bookosmia': 10513, 'corner': 10514, 'culture': 10515, 'curate': 10516, 'currentaffairs': 10517, 'humility': 10518, 'nidhi': 10519, 'parvati': 10520, 'persistence': 10521, 'powerful': 10522, 'teamwork': 10523, 'assert': 10524, 'astrologer': 10525, 'astrological': 10526, 'astrology': 10527, 'defied': 10528, 'defying': 10529, 'escorted': 10530, 'hilly': 10531, 'kattakkada': 10532, 'realised': 10533, 'referring': 10534, 'rid': 10535, 'wheeler': 10536, 'boarded': 10537, 'cinematic': 10538, 'fashionable': 10539, 'marvelcinematicuniverse': 10540, 'oh': 10541, 'pattyandselma': 10542, 'ragnar': 10543, 'ragnarok': 10544, 'reception': 10545, 'reinventing': 10546, 'rottentomatoes': 10547, 'thunder': 10548, 'zealander': 10549, 'arora': 10550, 'choreographer': 10551, 'clearly': 10552, 'clip': 10553, 'crucial': 10554, 'diljit': 10555, 'diljitdosanjh': 10556, 'dosanjh': 10557, 'evident': 10558, 'malaika': 10559, 'malaikaarora': 10560, 'mentioning': 10561, 'photomanipulation': 10562, 'photoshopping': 10563, 'seemingly': 10564, 'bankruptcyintheunitedstates': 10565, 'ibc': 10566, 'intercontinentalbroadcastingcorporation': 10567, 'taxpayer': 10568, 'sajjan': 10569, 'admired': 10570, 'firmly': 10571, 'revered': 10572, 'aggressive': 10573, 'ahram': 10574, 'alahram': 10575, 'approve': 10576, 'cairo': 10577, 'checkpoint': 10578, 'crash': 10579, 'egypt': 10580, 'egyptian': 10581, 'giza': 10582, 'hairpin': 10583, 'hairpinturn': 10584, 'injuring': 10585, 'lined': 10586, 'maintained': 10587, 'microbuses': 10588, 'nightly': 10589, 'poorly': 10590, 'provincesofthephilippines': 10591, 'ringroad': 10592, 'smashed': 10593, 'camera': 10594, 'dilwale': 10595, 'doin': 10596, 'hey': 10597, 'instafam': 10598, 'kajol': 10599, 'mukerji': 10600, 'priceless': 10601, 'printed': 10602, 'romantic': 10603, 'tanhaji': 10604, 'tanishaa': 10605, 'tanishaamukerji': 10606, 'unsung': 10607, 'waveandsmile': 10608, 'waving': 10609, 'architecture': 10610, 'azure': 10611, 'collaborativesoftware': 10612, 'diverse': 10613, 'frankly': 10614, 'unchartered': 10615, 'amir': 10616, 'amirkhan': 10617, 'blogging': 10618, 'boxer': 10619, 'cristiano': 10620, 'cristianoronaldo': 10621, 'franc': 10622, 'lionel': 10623, 'lionelmessi': 10624, 'messi': 10625, 'microblogging': 10626, 'mirka': 10627, 'nhsuk': 10628, 'portuguese': 10629, 'posing': 10630, 'ronaldo': 10631, 'storey': 10632, 'swiss': 10633, 'swissfranc': 10634, 'switzerland': 10635, 'criticized': 10636, 'lathi': 10637, 'onwards': 10638, 'outrage': 10639, 'punjabpolice': 10640, 'sanitising': 10641, 'stickfighting': 10642, 'tyari': 10643, 'vigilant': 10644, 'agreeing': 10645, 'allege': 10646, 'coat': 10647, 'lecturer': 10648, 'promoted': 10649, 'refuse': 10650, 'rohtak': 10651, 'whitecoat': 10652, 'answer': 10653, 'declare': 10654, 'evaluated': 10655, 'indefinitely': 10656, 'jac': 10657, 'jewishantifascistcommittee': 10658, 'dibrugarh': 10659, 'expanding': 10660, 'quote': 10661, 'lokcdown': 10662}\n"
     ]
    }
   ],
   "source": [
    "dictionary = corpora.Dictionary(sent)\n",
    "# Print dictionary\n",
    "print(dictionary.token2id)"
   ]
  },
  {
   "cell_type": "code",
   "execution_count": 93,
   "metadata": {},
   "outputs": [
    {
     "name": "stdout",
     "output_type": "stream",
     "text": [
      "[(0, 1), (1, 2), (2, 2), (3, 2), (4, 1), (5, 2), (6, 4), (7, 1), (8, 2), (9, 1), (10, 1), (11, 1), (12, 1), (13, 3), (14, 1), (15, 3), (16, 1), (17, 1), (18, 1), (19, 6), (20, 1), (21, 1), (22, 1), (23, 8), (24, 1), (25, 3), (26, 1), (27, 2), (28, 2), (29, 2), (30, 1), (31, 3), (32, 1), (33, 7), (34, 1), (35, 3), (36, 4), (37, 1), (38, 2), (39, 2), (40, 1), (41, 1), (42, 2), (43, 1), (44, 1), (45, 1), (46, 4), (47, 7), (48, 1), (49, 1), (50, 2), (51, 1), (52, 2), (53, 2), (54, 2), (55, 2), (56, 2), (57, 1), (58, 1), (59, 1), (60, 2), (61, 1), (62, 1), (63, 1), (64, 1), (65, 1), (66, 1), (67, 3), (68, 1)]\n"
     ]
    }
   ],
   "source": [
    "## Create Term document frequency (corpus)\n",
    "# Term Document Frequency\n",
    "corpus = [dictionary.doc2bow(text) for text in sent]\n",
    "# Print corpus for first document\n",
    "print(corpus[0])"
   ]
  },
  {
   "cell_type": "code",
   "execution_count": 94,
   "metadata": {},
   "outputs": [
    {
     "data": {
      "text/plain": [
       "[[('amid', 1),\n",
       "  ('announced', 2),\n",
       "  ('apply', 2),\n",
       "  ('approved', 2),\n",
       "  ('apr', 1),\n",
       "  ('april', 2),\n",
       "  ('aviation', 4),\n",
       "  ('ban', 1),\n",
       "  ('cargo', 2),\n",
       "  ('circular', 1),\n",
       "  ('cited', 1),\n",
       "  ('civil', 1),\n",
       "  ('closed', 1),\n",
       "  ('commercial', 3),\n",
       "  ('continuation', 1),\n",
       "  ('coronavirus', 3),\n",
       "  ('country', 1),\n",
       "  ('dated', 1),\n",
       "  ('decided', 1),\n",
       "  ('dgca', 6),\n",
       "  ('directorate', 1),\n",
       "  ('directorategeneralofcivilaviation', 1),\n",
       "  ('extended', 1),\n",
       "  ('flight', 8),\n",
       "  ('general', 1),\n",
       "  ('gmt', 3),\n",
       "  ('greenwichmeantime', 1),\n",
       "  ('health', 2),\n",
       "  ('however', 2),\n",
       "  ('hr', 2),\n",
       "  ('ii', 1),\n",
       "  ('india', 3),\n",
       "  ('indian', 1),\n",
       "  ('international', 7),\n",
       "  ('issued', 1),\n",
       "  ('lockdown', 3),\n",
       "  ('march', 4),\n",
       "  ('midnight', 1),\n",
       "  ('minister', 2),\n",
       "  ('ministry', 2),\n",
       "  ('ministryofhealthandfamilywelfare', 1),\n",
       "  ('modi', 1),\n",
       "  ('narendra', 2),\n",
       "  ('narendramodi', 1),\n",
       "  ('nationwide', 1),\n",
       "  ('novel', 1),\n",
       "  ('operation', 4),\n",
       "  ('passenger', 7),\n",
       "  ('place', 1),\n",
       "  ('prevent', 1),\n",
       "  ('prime', 2),\n",
       "  ('primeministeroftheunitedkingdom', 1),\n",
       "  ('regulator', 2),\n",
       "  ('remain', 2),\n",
       "  ('restriction', 2),\n",
       "  ('reuters', 2),\n",
       "  ('said', 2),\n",
       "  ('scheduled', 1),\n",
       "  ('service', 1),\n",
       "  ('shall', 1),\n",
       "  ('specifically', 2),\n",
       "  ('spread', 1),\n",
       "  ('standard', 1),\n",
       "  ('subject', 1),\n",
       "  ('suspended', 1),\n",
       "  ('take', 1),\n",
       "  ('thursday', 1),\n",
       "  ('till', 3),\n",
       "  ('union', 1)]]"
      ]
     },
     "execution_count": 94,
     "metadata": {},
     "output_type": "execute_result"
    }
   ],
   "source": [
    "[[(dictionary[id], freq) for id, freq in cp] for cp in corpus[:1]]"
   ]
  },
  {
   "cell_type": "markdown",
   "metadata": {},
   "source": [
    "## BASELINE MODEL"
   ]
  },
  {
   "cell_type": "code",
   "execution_count": 95,
   "metadata": {},
   "outputs": [],
   "source": [
    "import gensim\n",
    "\n",
    "NUM_TOPICS = 8\n",
    "ldamodel = gensim.models.ldamodel.LdaModel(corpus, num_topics = NUM_TOPICS, id2word=dictionary,random_state=100,passes=10)\n",
    "# Saving trained model\n",
    "ldamodel.save('LDA_NYT')\n",
    "# Loading trained model\n",
    "ldamodel = gensim.models.ldamodel.LdaModel.load('LDA_NYT')\n"
   ]
  },
  {
   "cell_type": "code",
   "execution_count": 96,
   "metadata": {},
   "outputs": [
    {
     "data": {
      "text/plain": [
       "[(0,\n",
       "  '0.019*\"coronavirus\" + 0.009*\"india\" + 0.009*\"pandemic\" + 0.009*\"covid\" + 0.008*\"world\" + 0.008*\"lockdown\" + 0.007*\"cup\" + 0.006*\"said\" + 0.005*\"health\" + 0.004*\"cricket\"'),\n",
       " (1,\n",
       "  '0.017*\"coronavirus\" + 0.011*\"lockdown\" + 0.009*\"pandemic\" + 0.007*\"covid\" + 0.007*\"india\" + 0.006*\"twitter\" + 0.005*\"virus\" + 0.005*\"indian\" + 0.005*\"people\" + 0.004*\"wage\"'),\n",
       " (2,\n",
       "  '0.021*\"coronavirus\" + 0.016*\"lockdown\" + 0.011*\"minister\" + 0.009*\"said\" + 0.008*\"chief\" + 0.008*\"covid\" + 0.007*\"people\" + 0.006*\"pandemic\" + 0.006*\"bengal\" + 0.006*\"health\"'),\n",
       " (3,\n",
       "  '0.018*\"coronavirus\" + 0.014*\"lockdown\" + 0.008*\"police\" + 0.006*\"said\" + 0.005*\"essential\" + 0.005*\"covid\" + 0.005*\"india\" + 0.005*\"people\" + 0.005*\"pandemic\" + 0.005*\"delivery\"'),\n",
       " (4,\n",
       "  '0.023*\"coronavirus\" + 0.012*\"lockdown\" + 0.011*\"minister\" + 0.010*\"crore\" + 0.010*\"worker\" + 0.010*\"lakh\" + 0.010*\"pandemic\" + 0.009*\"india\" + 0.009*\"covid\" + 0.008*\"said\"'),\n",
       " (5,\n",
       "  '0.019*\"coronavirus\" + 0.012*\"lockdown\" + 0.011*\"minister\" + 0.009*\"video\" + 0.007*\"instagram\" + 0.007*\"chief\" + 0.006*\"people\" + 0.006*\"pandemic\" + 0.005*\"fund\" + 0.005*\"covid\"'),\n",
       " (6,\n",
       "  '0.017*\"coronavirus\" + 0.013*\"lockdown\" + 0.013*\"india\" + 0.009*\"said\" + 0.008*\"covid\" + 0.007*\"people\" + 0.006*\"pandemic\" + 0.005*\"district\" + 0.004*\"minister\" + 0.004*\"case\"'),\n",
       " (7,\n",
       "  '0.020*\"coronavirus\" + 0.014*\"covid\" + 0.011*\"hospital\" + 0.009*\"positive\" + 0.009*\"case\" + 0.008*\"india\" + 0.008*\"lockdown\" + 0.007*\"patient\" + 0.006*\"quarantine\" + 0.006*\"police\"')]"
      ]
     },
     "execution_count": 96,
     "metadata": {},
     "output_type": "execute_result"
    }
   ],
   "source": [
    "ldamodel.print_topics(-1)"
   ]
  },
  {
   "cell_type": "code",
   "execution_count": 97,
   "metadata": {},
   "outputs": [
    {
     "name": "stdout",
     "output_type": "stream",
     "text": [
      "\n",
      "Coherence Score:  0.34299139492915115\n"
     ]
    }
   ],
   "source": [
    "from gensim.models import CoherenceModel# Compute Coherence Score\n",
    "coherence_model_lda = CoherenceModel(model=ldamodel, texts=sent, dictionary=dictionary, coherence='c_v')\n",
    "coherence_lda = coherence_model_lda.get_coherence()\n",
    "print('\\nCoherence Score: ', coherence_lda)"
   ]
  },
  {
   "cell_type": "code",
   "execution_count": 98,
   "metadata": {},
   "outputs": [],
   "source": [
    "# supporting function\n",
    "def compute_coherence_values(corpus, dictionary, k, a, b):\n",
    "    \n",
    "    lda_model = gensim.models.LdaMulticore(corpus=corpus,\n",
    "                                           id2word=dictionary,\n",
    "                                           num_topics=10, \n",
    "                                           random_state=100,\n",
    "                                           chunksize=100,\n",
    "                                           passes=10,\n",
    "                                           alpha=a,\n",
    "                                           eta=b,\n",
    "                                           per_word_topics=True)\n",
    "    \n",
    "    coherence_model_lda = CoherenceModel(model=ldamodel, texts=sent, dictionary=dictionary, coherence='c_v')\n",
    "    \n",
    "    return coherence_model_lda.get_coherence()"
   ]
  },
  {
   "cell_type": "code",
   "execution_count": 99,
   "metadata": {
    "collapsed": true
   },
   "outputs": [
    {
     "name": "stderr",
     "output_type": "stream",
     "text": [
      "  9%|██████████▊                                                                                                               | 48/540 [16:41<2:53:04, 21.11s/it]"
     ]
    },
    {
     "ename": "KeyboardInterrupt",
     "evalue": "",
     "output_type": "error",
     "traceback": [
      "\u001b[1;31m---------------------------------------------------------------------------\u001b[0m",
      "\u001b[1;31mKeyboardInterrupt\u001b[0m                         Traceback (most recent call last)",
      "\u001b[1;32m<ipython-input-99-7d74088fbd23>\u001b[0m in \u001b[0;36m<module>\u001b[1;34m\u001b[0m\n\u001b[0;32m     47\u001b[0m                 \u001b[1;32mfor\u001b[0m \u001b[0mb\u001b[0m \u001b[1;32min\u001b[0m \u001b[0mbeta\u001b[0m\u001b[1;33m:\u001b[0m\u001b[1;33m\u001b[0m\u001b[1;33m\u001b[0m\u001b[0m\n\u001b[0;32m     48\u001b[0m                     \u001b[1;31m# get the coherence score for the given parameters\u001b[0m\u001b[1;33m\u001b[0m\u001b[1;33m\u001b[0m\u001b[1;33m\u001b[0m\u001b[0m\n\u001b[1;32m---> 49\u001b[1;33m                     cv = compute_coherence_values(corpus=corpus_sets[i], dictionary=dictionary, \n\u001b[0m\u001b[0;32m     50\u001b[0m                                                   k=k, a=a, b=b)\n\u001b[0;32m     51\u001b[0m                     \u001b[1;31m# Save the model results\u001b[0m\u001b[1;33m\u001b[0m\u001b[1;33m\u001b[0m\u001b[1;33m\u001b[0m\u001b[0m\n",
      "\u001b[1;32m<ipython-input-98-048a6ee22420>\u001b[0m in \u001b[0;36mcompute_coherence_values\u001b[1;34m(corpus, dictionary, k, a, b)\u001b[0m\n\u001b[0;32m     14\u001b[0m     \u001b[0mcoherence_model_lda\u001b[0m \u001b[1;33m=\u001b[0m \u001b[0mCoherenceModel\u001b[0m\u001b[1;33m(\u001b[0m\u001b[0mmodel\u001b[0m\u001b[1;33m=\u001b[0m\u001b[0mldamodel\u001b[0m\u001b[1;33m,\u001b[0m \u001b[0mtexts\u001b[0m\u001b[1;33m=\u001b[0m\u001b[0msent\u001b[0m\u001b[1;33m,\u001b[0m \u001b[0mdictionary\u001b[0m\u001b[1;33m=\u001b[0m\u001b[0mdictionary\u001b[0m\u001b[1;33m,\u001b[0m \u001b[0mcoherence\u001b[0m\u001b[1;33m=\u001b[0m\u001b[1;34m'c_v'\u001b[0m\u001b[1;33m)\u001b[0m\u001b[1;33m\u001b[0m\u001b[1;33m\u001b[0m\u001b[0m\n\u001b[0;32m     15\u001b[0m \u001b[1;33m\u001b[0m\u001b[0m\n\u001b[1;32m---> 16\u001b[1;33m     \u001b[1;32mreturn\u001b[0m \u001b[0mcoherence_model_lda\u001b[0m\u001b[1;33m.\u001b[0m\u001b[0mget_coherence\u001b[0m\u001b[1;33m(\u001b[0m\u001b[1;33m)\u001b[0m\u001b[1;33m\u001b[0m\u001b[1;33m\u001b[0m\u001b[0m\n\u001b[0m",
      "\u001b[1;32mc:\\users\\dell\\appdata\\local\\programs\\python\\python38\\lib\\site-packages\\gensim\\models\\coherencemodel.py\u001b[0m in \u001b[0;36mget_coherence\u001b[1;34m(self)\u001b[0m\n\u001b[0;32m    607\u001b[0m \u001b[1;33m\u001b[0m\u001b[0m\n\u001b[0;32m    608\u001b[0m         \"\"\"\n\u001b[1;32m--> 609\u001b[1;33m         \u001b[0mconfirmed_measures\u001b[0m \u001b[1;33m=\u001b[0m \u001b[0mself\u001b[0m\u001b[1;33m.\u001b[0m\u001b[0mget_coherence_per_topic\u001b[0m\u001b[1;33m(\u001b[0m\u001b[1;33m)\u001b[0m\u001b[1;33m\u001b[0m\u001b[1;33m\u001b[0m\u001b[0m\n\u001b[0m\u001b[0;32m    610\u001b[0m         \u001b[1;32mreturn\u001b[0m \u001b[0mself\u001b[0m\u001b[1;33m.\u001b[0m\u001b[0maggregate_measures\u001b[0m\u001b[1;33m(\u001b[0m\u001b[0mconfirmed_measures\u001b[0m\u001b[1;33m)\u001b[0m\u001b[1;33m\u001b[0m\u001b[1;33m\u001b[0m\u001b[0m\n\u001b[0;32m    611\u001b[0m \u001b[1;33m\u001b[0m\u001b[0m\n",
      "\u001b[1;32mc:\\users\\dell\\appdata\\local\\programs\\python\\python38\\lib\\site-packages\\gensim\\models\\coherencemodel.py\u001b[0m in \u001b[0;36mget_coherence_per_topic\u001b[1;34m(self, segmented_topics, with_std, with_support)\u001b[0m\n\u001b[0;32m    567\u001b[0m             \u001b[0msegmented_topics\u001b[0m \u001b[1;33m=\u001b[0m \u001b[0mmeasure\u001b[0m\u001b[1;33m.\u001b[0m\u001b[0mseg\u001b[0m\u001b[1;33m(\u001b[0m\u001b[0mself\u001b[0m\u001b[1;33m.\u001b[0m\u001b[0mtopics\u001b[0m\u001b[1;33m)\u001b[0m\u001b[1;33m\u001b[0m\u001b[1;33m\u001b[0m\u001b[0m\n\u001b[0;32m    568\u001b[0m         \u001b[1;32mif\u001b[0m \u001b[0mself\u001b[0m\u001b[1;33m.\u001b[0m\u001b[0m_accumulator\u001b[0m \u001b[1;32mis\u001b[0m \u001b[1;32mNone\u001b[0m\u001b[1;33m:\u001b[0m\u001b[1;33m\u001b[0m\u001b[1;33m\u001b[0m\u001b[0m\n\u001b[1;32m--> 569\u001b[1;33m             \u001b[0mself\u001b[0m\u001b[1;33m.\u001b[0m\u001b[0mestimate_probabilities\u001b[0m\u001b[1;33m(\u001b[0m\u001b[0msegmented_topics\u001b[0m\u001b[1;33m)\u001b[0m\u001b[1;33m\u001b[0m\u001b[1;33m\u001b[0m\u001b[0m\n\u001b[0m\u001b[0;32m    570\u001b[0m \u001b[1;33m\u001b[0m\u001b[0m\n\u001b[0;32m    571\u001b[0m         \u001b[0mkwargs\u001b[0m \u001b[1;33m=\u001b[0m \u001b[0mdict\u001b[0m\u001b[1;33m(\u001b[0m\u001b[0mwith_std\u001b[0m\u001b[1;33m=\u001b[0m\u001b[0mwith_std\u001b[0m\u001b[1;33m,\u001b[0m \u001b[0mwith_support\u001b[0m\u001b[1;33m=\u001b[0m\u001b[0mwith_support\u001b[0m\u001b[1;33m)\u001b[0m\u001b[1;33m\u001b[0m\u001b[1;33m\u001b[0m\u001b[0m\n",
      "\u001b[1;32mc:\\users\\dell\\appdata\\local\\programs\\python\\python38\\lib\\site-packages\\gensim\\models\\coherencemodel.py\u001b[0m in \u001b[0;36mestimate_probabilities\u001b[1;34m(self, segmented_topics)\u001b[0m\n\u001b[0;32m    539\u001b[0m                 \u001b[0mkwargs\u001b[0m\u001b[1;33m[\u001b[0m\u001b[1;34m'model'\u001b[0m\u001b[1;33m]\u001b[0m \u001b[1;33m=\u001b[0m \u001b[0mself\u001b[0m\u001b[1;33m.\u001b[0m\u001b[0mkeyed_vectors\u001b[0m\u001b[1;33m\u001b[0m\u001b[1;33m\u001b[0m\u001b[0m\n\u001b[0;32m    540\u001b[0m \u001b[1;33m\u001b[0m\u001b[0m\n\u001b[1;32m--> 541\u001b[1;33m             \u001b[0mself\u001b[0m\u001b[1;33m.\u001b[0m\u001b[0m_accumulator\u001b[0m \u001b[1;33m=\u001b[0m \u001b[0mself\u001b[0m\u001b[1;33m.\u001b[0m\u001b[0mmeasure\u001b[0m\u001b[1;33m.\u001b[0m\u001b[0mprob\u001b[0m\u001b[1;33m(\u001b[0m\u001b[1;33m**\u001b[0m\u001b[0mkwargs\u001b[0m\u001b[1;33m)\u001b[0m\u001b[1;33m\u001b[0m\u001b[1;33m\u001b[0m\u001b[0m\n\u001b[0m\u001b[0;32m    542\u001b[0m \u001b[1;33m\u001b[0m\u001b[0m\n\u001b[0;32m    543\u001b[0m         \u001b[1;32mreturn\u001b[0m \u001b[0mself\u001b[0m\u001b[1;33m.\u001b[0m\u001b[0m_accumulator\u001b[0m\u001b[1;33m\u001b[0m\u001b[1;33m\u001b[0m\u001b[0m\n",
      "\u001b[1;32mc:\\users\\dell\\appdata\\local\\programs\\python\\python38\\lib\\site-packages\\gensim\\topic_coherence\\probability_estimation.py\u001b[0m in \u001b[0;36mp_boolean_sliding_window\u001b[1;34m(texts, segmented_topics, dictionary, window_size, processes)\u001b[0m\n\u001b[0;32m    154\u001b[0m         \u001b[0maccumulator\u001b[0m \u001b[1;33m=\u001b[0m \u001b[0mParallelWordOccurrenceAccumulator\u001b[0m\u001b[1;33m(\u001b[0m\u001b[0mprocesses\u001b[0m\u001b[1;33m,\u001b[0m \u001b[0mtop_ids\u001b[0m\u001b[1;33m,\u001b[0m \u001b[0mdictionary\u001b[0m\u001b[1;33m)\u001b[0m\u001b[1;33m\u001b[0m\u001b[1;33m\u001b[0m\u001b[0m\n\u001b[0;32m    155\u001b[0m     \u001b[0mlogger\u001b[0m\u001b[1;33m.\u001b[0m\u001b[0minfo\u001b[0m\u001b[1;33m(\u001b[0m\u001b[1;34m\"using %s to estimate probabilities from sliding windows\"\u001b[0m\u001b[1;33m,\u001b[0m \u001b[0maccumulator\u001b[0m\u001b[1;33m)\u001b[0m\u001b[1;33m\u001b[0m\u001b[1;33m\u001b[0m\u001b[0m\n\u001b[1;32m--> 156\u001b[1;33m     \u001b[1;32mreturn\u001b[0m \u001b[0maccumulator\u001b[0m\u001b[1;33m.\u001b[0m\u001b[0maccumulate\u001b[0m\u001b[1;33m(\u001b[0m\u001b[0mtexts\u001b[0m\u001b[1;33m,\u001b[0m \u001b[0mwindow_size\u001b[0m\u001b[1;33m)\u001b[0m\u001b[1;33m\u001b[0m\u001b[1;33m\u001b[0m\u001b[0m\n\u001b[0m\u001b[0;32m    157\u001b[0m \u001b[1;33m\u001b[0m\u001b[0m\n\u001b[0;32m    158\u001b[0m \u001b[1;33m\u001b[0m\u001b[0m\n",
      "\u001b[1;32mc:\\users\\dell\\appdata\\local\\programs\\python\\python38\\lib\\site-packages\\gensim\\topic_coherence\\text_analysis.py\u001b[0m in \u001b[0;36maccumulate\u001b[1;34m(self, texts, window_size)\u001b[0m\n\u001b[0;32m    442\u001b[0m \u001b[1;33m\u001b[0m\u001b[0m\n\u001b[0;32m    443\u001b[0m     \u001b[1;32mdef\u001b[0m \u001b[0maccumulate\u001b[0m\u001b[1;33m(\u001b[0m\u001b[0mself\u001b[0m\u001b[1;33m,\u001b[0m \u001b[0mtexts\u001b[0m\u001b[1;33m,\u001b[0m \u001b[0mwindow_size\u001b[0m\u001b[1;33m)\u001b[0m\u001b[1;33m:\u001b[0m\u001b[1;33m\u001b[0m\u001b[1;33m\u001b[0m\u001b[0m\n\u001b[1;32m--> 444\u001b[1;33m         \u001b[0mworkers\u001b[0m\u001b[1;33m,\u001b[0m \u001b[0minput_q\u001b[0m\u001b[1;33m,\u001b[0m \u001b[0moutput_q\u001b[0m \u001b[1;33m=\u001b[0m \u001b[0mself\u001b[0m\u001b[1;33m.\u001b[0m\u001b[0mstart_workers\u001b[0m\u001b[1;33m(\u001b[0m\u001b[0mwindow_size\u001b[0m\u001b[1;33m)\u001b[0m\u001b[1;33m\u001b[0m\u001b[1;33m\u001b[0m\u001b[0m\n\u001b[0m\u001b[0;32m    445\u001b[0m         \u001b[1;32mtry\u001b[0m\u001b[1;33m:\u001b[0m\u001b[1;33m\u001b[0m\u001b[1;33m\u001b[0m\u001b[0m\n\u001b[0;32m    446\u001b[0m             \u001b[0mself\u001b[0m\u001b[1;33m.\u001b[0m\u001b[0mqueue_all_texts\u001b[0m\u001b[1;33m(\u001b[0m\u001b[0minput_q\u001b[0m\u001b[1;33m,\u001b[0m \u001b[0mtexts\u001b[0m\u001b[1;33m,\u001b[0m \u001b[0mwindow_size\u001b[0m\u001b[1;33m)\u001b[0m\u001b[1;33m\u001b[0m\u001b[1;33m\u001b[0m\u001b[0m\n",
      "\u001b[1;32mc:\\users\\dell\\appdata\\local\\programs\\python\\python38\\lib\\site-packages\\gensim\\topic_coherence\\text_analysis.py\u001b[0m in \u001b[0;36mstart_workers\u001b[1;34m(self, window_size)\u001b[0m\n\u001b[0;32m    476\u001b[0m             \u001b[0maccumulator\u001b[0m \u001b[1;33m=\u001b[0m \u001b[0mPatchedWordOccurrenceAccumulator\u001b[0m\u001b[1;33m(\u001b[0m\u001b[0mself\u001b[0m\u001b[1;33m.\u001b[0m\u001b[0mrelevant_ids\u001b[0m\u001b[1;33m,\u001b[0m \u001b[0mself\u001b[0m\u001b[1;33m.\u001b[0m\u001b[0mdictionary\u001b[0m\u001b[1;33m)\u001b[0m\u001b[1;33m\u001b[0m\u001b[1;33m\u001b[0m\u001b[0m\n\u001b[0;32m    477\u001b[0m             \u001b[0mworker\u001b[0m \u001b[1;33m=\u001b[0m \u001b[0mAccumulatingWorker\u001b[0m\u001b[1;33m(\u001b[0m\u001b[0minput_q\u001b[0m\u001b[1;33m,\u001b[0m \u001b[0moutput_q\u001b[0m\u001b[1;33m,\u001b[0m \u001b[0maccumulator\u001b[0m\u001b[1;33m,\u001b[0m \u001b[0mwindow_size\u001b[0m\u001b[1;33m)\u001b[0m\u001b[1;33m\u001b[0m\u001b[1;33m\u001b[0m\u001b[0m\n\u001b[1;32m--> 478\u001b[1;33m             \u001b[0mworker\u001b[0m\u001b[1;33m.\u001b[0m\u001b[0mstart\u001b[0m\u001b[1;33m(\u001b[0m\u001b[1;33m)\u001b[0m\u001b[1;33m\u001b[0m\u001b[1;33m\u001b[0m\u001b[0m\n\u001b[0m\u001b[0;32m    479\u001b[0m             \u001b[0mworkers\u001b[0m\u001b[1;33m.\u001b[0m\u001b[0mappend\u001b[0m\u001b[1;33m(\u001b[0m\u001b[0mworker\u001b[0m\u001b[1;33m)\u001b[0m\u001b[1;33m\u001b[0m\u001b[1;33m\u001b[0m\u001b[0m\n\u001b[0;32m    480\u001b[0m \u001b[1;33m\u001b[0m\u001b[0m\n",
      "\u001b[1;32mc:\\users\\dell\\appdata\\local\\programs\\python\\python38\\lib\\multiprocessing\\process.py\u001b[0m in \u001b[0;36mstart\u001b[1;34m(self)\u001b[0m\n\u001b[0;32m    119\u001b[0m                \u001b[1;34m'daemonic processes are not allowed to have children'\u001b[0m\u001b[1;33m\u001b[0m\u001b[1;33m\u001b[0m\u001b[0m\n\u001b[0;32m    120\u001b[0m         \u001b[0m_cleanup\u001b[0m\u001b[1;33m(\u001b[0m\u001b[1;33m)\u001b[0m\u001b[1;33m\u001b[0m\u001b[1;33m\u001b[0m\u001b[0m\n\u001b[1;32m--> 121\u001b[1;33m         \u001b[0mself\u001b[0m\u001b[1;33m.\u001b[0m\u001b[0m_popen\u001b[0m \u001b[1;33m=\u001b[0m \u001b[0mself\u001b[0m\u001b[1;33m.\u001b[0m\u001b[0m_Popen\u001b[0m\u001b[1;33m(\u001b[0m\u001b[0mself\u001b[0m\u001b[1;33m)\u001b[0m\u001b[1;33m\u001b[0m\u001b[1;33m\u001b[0m\u001b[0m\n\u001b[0m\u001b[0;32m    122\u001b[0m         \u001b[0mself\u001b[0m\u001b[1;33m.\u001b[0m\u001b[0m_sentinel\u001b[0m \u001b[1;33m=\u001b[0m \u001b[0mself\u001b[0m\u001b[1;33m.\u001b[0m\u001b[0m_popen\u001b[0m\u001b[1;33m.\u001b[0m\u001b[0msentinel\u001b[0m\u001b[1;33m\u001b[0m\u001b[1;33m\u001b[0m\u001b[0m\n\u001b[0;32m    123\u001b[0m         \u001b[1;31m# Avoid a refcycle if the target function holds an indirect\u001b[0m\u001b[1;33m\u001b[0m\u001b[1;33m\u001b[0m\u001b[1;33m\u001b[0m\u001b[0m\n",
      "\u001b[1;32mc:\\users\\dell\\appdata\\local\\programs\\python\\python38\\lib\\multiprocessing\\context.py\u001b[0m in \u001b[0;36m_Popen\u001b[1;34m(process_obj)\u001b[0m\n\u001b[0;32m    222\u001b[0m     \u001b[1;33m@\u001b[0m\u001b[0mstaticmethod\u001b[0m\u001b[1;33m\u001b[0m\u001b[1;33m\u001b[0m\u001b[0m\n\u001b[0;32m    223\u001b[0m     \u001b[1;32mdef\u001b[0m \u001b[0m_Popen\u001b[0m\u001b[1;33m(\u001b[0m\u001b[0mprocess_obj\u001b[0m\u001b[1;33m)\u001b[0m\u001b[1;33m:\u001b[0m\u001b[1;33m\u001b[0m\u001b[1;33m\u001b[0m\u001b[0m\n\u001b[1;32m--> 224\u001b[1;33m         \u001b[1;32mreturn\u001b[0m \u001b[0m_default_context\u001b[0m\u001b[1;33m.\u001b[0m\u001b[0mget_context\u001b[0m\u001b[1;33m(\u001b[0m\u001b[1;33m)\u001b[0m\u001b[1;33m.\u001b[0m\u001b[0mProcess\u001b[0m\u001b[1;33m.\u001b[0m\u001b[0m_Popen\u001b[0m\u001b[1;33m(\u001b[0m\u001b[0mprocess_obj\u001b[0m\u001b[1;33m)\u001b[0m\u001b[1;33m\u001b[0m\u001b[1;33m\u001b[0m\u001b[0m\n\u001b[0m\u001b[0;32m    225\u001b[0m \u001b[1;33m\u001b[0m\u001b[0m\n\u001b[0;32m    226\u001b[0m \u001b[1;32mclass\u001b[0m \u001b[0mDefaultContext\u001b[0m\u001b[1;33m(\u001b[0m\u001b[0mBaseContext\u001b[0m\u001b[1;33m)\u001b[0m\u001b[1;33m:\u001b[0m\u001b[1;33m\u001b[0m\u001b[1;33m\u001b[0m\u001b[0m\n",
      "\u001b[1;32mc:\\users\\dell\\appdata\\local\\programs\\python\\python38\\lib\\multiprocessing\\context.py\u001b[0m in \u001b[0;36m_Popen\u001b[1;34m(process_obj)\u001b[0m\n\u001b[0;32m    324\u001b[0m         \u001b[1;32mdef\u001b[0m \u001b[0m_Popen\u001b[0m\u001b[1;33m(\u001b[0m\u001b[0mprocess_obj\u001b[0m\u001b[1;33m)\u001b[0m\u001b[1;33m:\u001b[0m\u001b[1;33m\u001b[0m\u001b[1;33m\u001b[0m\u001b[0m\n\u001b[0;32m    325\u001b[0m             \u001b[1;32mfrom\u001b[0m \u001b[1;33m.\u001b[0m\u001b[0mpopen_spawn_win32\u001b[0m \u001b[1;32mimport\u001b[0m \u001b[0mPopen\u001b[0m\u001b[1;33m\u001b[0m\u001b[1;33m\u001b[0m\u001b[0m\n\u001b[1;32m--> 326\u001b[1;33m             \u001b[1;32mreturn\u001b[0m \u001b[0mPopen\u001b[0m\u001b[1;33m(\u001b[0m\u001b[0mprocess_obj\u001b[0m\u001b[1;33m)\u001b[0m\u001b[1;33m\u001b[0m\u001b[1;33m\u001b[0m\u001b[0m\n\u001b[0m\u001b[0;32m    327\u001b[0m \u001b[1;33m\u001b[0m\u001b[0m\n\u001b[0;32m    328\u001b[0m     \u001b[1;32mclass\u001b[0m \u001b[0mSpawnContext\u001b[0m\u001b[1;33m(\u001b[0m\u001b[0mBaseContext\u001b[0m\u001b[1;33m)\u001b[0m\u001b[1;33m:\u001b[0m\u001b[1;33m\u001b[0m\u001b[1;33m\u001b[0m\u001b[0m\n",
      "\u001b[1;32mc:\\users\\dell\\appdata\\local\\programs\\python\\python38\\lib\\multiprocessing\\popen_spawn_win32.py\u001b[0m in \u001b[0;36m__init__\u001b[1;34m(self, process_obj)\u001b[0m\n\u001b[0;32m     91\u001b[0m             \u001b[1;32mtry\u001b[0m\u001b[1;33m:\u001b[0m\u001b[1;33m\u001b[0m\u001b[1;33m\u001b[0m\u001b[0m\n\u001b[0;32m     92\u001b[0m                 \u001b[0mreduction\u001b[0m\u001b[1;33m.\u001b[0m\u001b[0mdump\u001b[0m\u001b[1;33m(\u001b[0m\u001b[0mprep_data\u001b[0m\u001b[1;33m,\u001b[0m \u001b[0mto_child\u001b[0m\u001b[1;33m)\u001b[0m\u001b[1;33m\u001b[0m\u001b[1;33m\u001b[0m\u001b[0m\n\u001b[1;32m---> 93\u001b[1;33m                 \u001b[0mreduction\u001b[0m\u001b[1;33m.\u001b[0m\u001b[0mdump\u001b[0m\u001b[1;33m(\u001b[0m\u001b[0mprocess_obj\u001b[0m\u001b[1;33m,\u001b[0m \u001b[0mto_child\u001b[0m\u001b[1;33m)\u001b[0m\u001b[1;33m\u001b[0m\u001b[1;33m\u001b[0m\u001b[0m\n\u001b[0m\u001b[0;32m     94\u001b[0m             \u001b[1;32mfinally\u001b[0m\u001b[1;33m:\u001b[0m\u001b[1;33m\u001b[0m\u001b[1;33m\u001b[0m\u001b[0m\n\u001b[0;32m     95\u001b[0m                 \u001b[0mset_spawning_popen\u001b[0m\u001b[1;33m(\u001b[0m\u001b[1;32mNone\u001b[0m\u001b[1;33m)\u001b[0m\u001b[1;33m\u001b[0m\u001b[1;33m\u001b[0m\u001b[0m\n",
      "\u001b[1;32mc:\\users\\dell\\appdata\\local\\programs\\python\\python38\\lib\\multiprocessing\\reduction.py\u001b[0m in \u001b[0;36mdump\u001b[1;34m(obj, file, protocol)\u001b[0m\n\u001b[0;32m     58\u001b[0m \u001b[1;32mdef\u001b[0m \u001b[0mdump\u001b[0m\u001b[1;33m(\u001b[0m\u001b[0mobj\u001b[0m\u001b[1;33m,\u001b[0m \u001b[0mfile\u001b[0m\u001b[1;33m,\u001b[0m \u001b[0mprotocol\u001b[0m\u001b[1;33m=\u001b[0m\u001b[1;32mNone\u001b[0m\u001b[1;33m)\u001b[0m\u001b[1;33m:\u001b[0m\u001b[1;33m\u001b[0m\u001b[1;33m\u001b[0m\u001b[0m\n\u001b[0;32m     59\u001b[0m     \u001b[1;34m'''Replacement for pickle.dump() using ForkingPickler.'''\u001b[0m\u001b[1;33m\u001b[0m\u001b[1;33m\u001b[0m\u001b[0m\n\u001b[1;32m---> 60\u001b[1;33m     \u001b[0mForkingPickler\u001b[0m\u001b[1;33m(\u001b[0m\u001b[0mfile\u001b[0m\u001b[1;33m,\u001b[0m \u001b[0mprotocol\u001b[0m\u001b[1;33m)\u001b[0m\u001b[1;33m.\u001b[0m\u001b[0mdump\u001b[0m\u001b[1;33m(\u001b[0m\u001b[0mobj\u001b[0m\u001b[1;33m)\u001b[0m\u001b[1;33m\u001b[0m\u001b[1;33m\u001b[0m\u001b[0m\n\u001b[0m\u001b[0;32m     61\u001b[0m \u001b[1;33m\u001b[0m\u001b[0m\n\u001b[0;32m     62\u001b[0m \u001b[1;31m#\u001b[0m\u001b[1;33m\u001b[0m\u001b[1;33m\u001b[0m\u001b[1;33m\u001b[0m\u001b[0m\n",
      "\u001b[1;31mKeyboardInterrupt\u001b[0m: "
     ]
    }
   ],
   "source": [
    "import numpy as np\n",
    "import tqdm\n",
    "grid = {}\n",
    "grid['Validation_Set'] = {}\n",
    "\n",
    "# Topics range\n",
    "min_topics = 2\n",
    "max_topics = 11\n",
    "step_size = 1\n",
    "topics_range = range(min_topics, max_topics, step_size)\n",
    "\n",
    "# Alpha parameter\n",
    "alpha = list(np.arange(0.01, 1, 0.3))\n",
    "alpha.append('symmetric')\n",
    "alpha.append('asymmetric')\n",
    "\n",
    "# Beta parameter\n",
    "beta = list(np.arange(0.01, 1, 0.3))\n",
    "beta.append('symmetric')\n",
    "\n",
    "# Validation sets\n",
    "num_of_docs = len(corpus)\n",
    "corpus_sets = [# gensim.utils.ClippedCorpus(corpus, num_of_docs*0.25), \n",
    "               # gensim.utils.ClippedCorpus(corpus, num_of_docs*0.5), \n",
    "               gensim.utils.ClippedCorpus(corpus, int(num_of_docs*0.75)), \n",
    "               corpus]\n",
    "\n",
    "corpus_title = ['75% Corpus', '100% Corpus']\n",
    "\n",
    "model_results = {'Validation_Set': [],\n",
    "                 'Topics': [],\n",
    "                 'Alpha': [],\n",
    "                 'Beta': [],\n",
    "                 'Coherence': []\n",
    "                }\n",
    "# Can take a long time to run\n",
    "if 1 == 1:\n",
    "    pbar = tqdm.tqdm(total=540)\n",
    "    \n",
    "    # iterate through validation corpuses\n",
    "    for i in range(len(corpus_sets)):\n",
    "        # iterate through number of topics\n",
    "        for k in topics_range:\n",
    "            # iterate through alpha values\n",
    "            for a in alpha:\n",
    "                # iterare through beta values\n",
    "                for b in beta:\n",
    "                    # get the coherence score for the given parameters\n",
    "                    cv = compute_coherence_values(corpus=corpus_sets[i], dictionary=dictionary, \n",
    "                                                  k=k, a=a, b=b)\n",
    "                    # Save the model results\n",
    "                    model_results['Validation_Set'].append(corpus_title[i])\n",
    "                    model_results['Topics'].append(k)\n",
    "                    model_results['Alpha'].append(a)\n",
    "                    model_results['Beta'].append(b)\n",
    "                    model_results['Coherence'].append(cv)\n",
    "                    \n",
    "                    pbar.update(1)\n",
    "    pd.DataFrame(model_results).to_csv('lda_tuning_results.csv', index=False)\n",
    "    pbar.close()"
   ]
  },
  {
   "cell_type": "markdown",
   "metadata": {},
   "source": [
    "## Final Model"
   ]
  },
  {
   "cell_type": "code",
   "execution_count": 100,
   "metadata": {},
   "outputs": [],
   "source": [
    "lda_model = gensim.models.LdaMulticore(corpus=corpus,\n",
    "                                           id2word=dictionary,\n",
    "                                           num_topics=20, \n",
    "                                           random_state=100,\n",
    "                                           chunksize=100,\n",
    "                                           passes=10,\n",
    "                                           alpha=0.01,\n",
    "                                           eta=0.9)"
   ]
  },
  {
   "cell_type": "code",
   "execution_count": 101,
   "metadata": {},
   "outputs": [
    {
     "name": "stdout",
     "output_type": "stream",
     "text": [
      "\n",
      "Coherence Score:  0.44025964996567246\n"
     ]
    }
   ],
   "source": [
    "from gensim.models import CoherenceModel# Compute Coherence Score\n",
    "coherence_model_lda = CoherenceModel(model=lda_model, texts=sent, dictionary=dictionary, coherence='c_v')\n",
    "coherence_lda = coherence_model_lda.get_coherence()\n",
    "print('\\nCoherence Score: ', coherence_lda)"
   ]
  },
  {
   "cell_type": "markdown",
   "metadata": {},
   "source": [
    "## Visual Interpretation"
   ]
  },
  {
   "cell_type": "code",
   "execution_count": null,
   "metadata": {},
   "outputs": [],
   "source": [
    "import pyLDAvis\n",
    "import pyLDAvis.gensim "
   ]
  },
  {
   "cell_type": "code",
   "execution_count": null,
   "metadata": {},
   "outputs": [],
   "source": [
    "# pyLDAvis.enable_notebook()\n",
    "# plot = pyLDAvis.gensim.prepare(lda_model, corpus, dictionary)\n",
    "# # Save pyLDA plot as html file\n",
    "# pyLDAvis.save_html(plot, 'LDA_NYT.html')\n",
    "# plot"
   ]
  },
  {
   "cell_type": "code",
   "execution_count": null,
   "metadata": {},
   "outputs": [],
   "source": []
  }
 ],
 "metadata": {
  "kernelspec": {
   "display_name": "Python 3",
   "language": "python",
   "name": "python3"
  },
  "language_info": {
   "codemirror_mode": {
    "name": "ipython",
    "version": 3
   },
   "file_extension": ".py",
   "mimetype": "text/x-python",
   "name": "python",
   "nbconvert_exporter": "python",
   "pygments_lexer": "ipython3",
   "version": "3.8.3"
  }
 },
 "nbformat": 4,
 "nbformat_minor": 4
}
